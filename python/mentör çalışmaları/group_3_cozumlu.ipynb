{
 "cells": [
  {
   "cell_type": "markdown",
   "metadata": {
    "id": "risp8cVPLSn7"
   },
   "source": [
    "1-Bir stringde eğer en az iki kere 'zip' geçiyorsa ikinci kez geçen zip in indexini döndüren, eğer en az iki kere geçmiyorsa -1 döndüren fonksiyon yazalım."
   ]
  },
  {
   "cell_type": "code",
   "execution_count": 2,
   "metadata": {
    "colab": {
     "base_uri": "https://localhost:8080/"
    },
    "id": "OQ-1HlX0LNS6",
    "outputId": "7f2dead0-25e1-4134-f515-7d890b0fac2c"
   },
   "outputs": [
    {
     "name": "stdout",
     "output_type": "stream",
     "text": [
      "30\n",
      "-1\n",
      "-1\n"
     ]
    }
   ],
   "source": [
    "def zip(yazi):\n",
    "    a =yazi.count(\"zip\")\n",
    "    if a<2:\n",
    "        return -1\n",
    "    elif a>=2:\n",
    "        return yazi.index(\"zip\", yazi.index(\"zip\")+3)\n",
    "print(zip(\"pythonda zip kullanımı varmış,zipi araştırıp öğrendim.\"))\n",
    "print(zip(\"burada -1 döndürecek\"))\n",
    "print(zip(\"zip yine -1 döndürecek\"))"
   ]
  },
  {
   "cell_type": "markdown",
   "metadata": {
    "id": "8MXYpyQOL4eu"
   },
   "source": [
    "```\n",
    "2. liste ve boolean alan, \"Ping\"lerin arasına \"Pong\" yazan, boolean True ise sona da koyan False varsa sonuna koymayan bir fonksiyon yazalım\n",
    "print(yerlestir([\"Ping\",\"Ping\"],True)) -->['Ping', 'Pong', 'Ping', 'Pong']\n",
    "print(yerlestir([\"Ping\",\"Ping\",\"Ping\",\"Ping\",\"Ping\",\"Ping\"],False)) -->['Ping', 'Pong', 'Ping', 'Pong', 'Ping', 'Pong', 'Ping', 'Pong', 'Ping', 'Pong', 'Ping']\n",
    "```\n",
    "\n",
    "\n",
    "\n"
   ]
  },
  {
   "cell_type": "code",
   "execution_count": 6,
   "metadata": {
    "colab": {
     "base_uri": "https://localhost:8080/"
    },
    "id": "Z0mx2RHsMjdl",
    "outputId": "03d35667-c289-4584-b2dd-fd9d1d27bd53"
   },
   "outputs": [
    {
     "name": "stdout",
     "output_type": "stream",
     "text": [
      "['Ping', 'Pong', 'Ping']\n",
      "['Ping', 'Pong', 'Ping', 'Pong', 'Ping', 'Pong', 'Ping', 'Pong', 'Ping', 'Pong', 'Ping', 'Pong']\n"
     ]
    }
   ],
   "source": [
    "def yerlestir(liste, boolean):\n",
    "    for i in range(1,len(liste)*2-1,2):\n",
    "        liste.insert(i,\"Pong\")\n",
    "    if boolean == True:\n",
    "        liste.append(\"Pong\") \n",
    "    return liste\n",
    "  \n",
    "print(yerlestir([\"Ping\",\"Ping\"],False))\n",
    "print(yerlestir([\"Ping\",\"Ping\",\"Ping\",\"Ping\",\"Ping\",\"Ping\"],True))"
   ]
  },
  {
   "cell_type": "markdown",
   "metadata": {
    "id": "FpU6uS04Oqp6"
   },
   "source": [
    "```\n",
    "3. Sayının eklemeli devamlılığını bulan fonksiyon yazalım\n",
    " \n",
    "eklemeli_devamlılık(1679583) -->3\n",
    " \n",
    "1+6+7+9+5+8+3=39\n",
    " \n",
    "3+9=12\n",
    " \n",
    "1+2=3\n",
    " \n",
    "Tek basamaklı sayıya ulaşmak için 3 tekrar gerekiyor\n",
    "```\n",
    "\n"
   ]
  },
  {
   "cell_type": "code",
   "execution_count": 7,
   "metadata": {
    "id": "1exXdAsMMgka"
   },
   "outputs": [
    {
     "name": "stdout",
     "output_type": "stream",
     "text": [
      "3\n",
      "2\n"
     ]
    }
   ],
   "source": [
    "def eklemeli_devamlılık(sayi):\n",
    "    islem = 0\n",
    "    while len(str(sayi))>1:\n",
    "        sayi=sum([int(i) for i in str(sayi)])\n",
    "        islem+=1\n",
    "    return islem\n",
    "\n",
    "print(eklemeli_devamlılık(1679583))\n",
    "print(eklemeli_devamlılık(123456))"
   ]
  },
  {
   "cell_type": "markdown",
   "metadata": {
    "id": "erecTLeIO1cb"
   },
   "source": [
    "```\n",
    "You will be given an array of numbers. You have to sort the odd numbers in ascending order while leaving the even numbers at their original positions.\n",
    "\n",
    "Example:\n",
    "\n",
    "[7, 1] => [1, 7]\n",
    "\n",
    "[5, 8, 6, 3, 4] => [3, 8, 6, 5, 4]\n",
    "\n",
    "[9, 8, 7, 6, 5, 4, 3, 2, 1, 0] => [1, 8, 3, 6, 5, 4, 7, 2, 9, 0]\n",
    "\n",
    "```\n",
    "\n",
    "\n"
   ]
  },
  {
   "cell_type": "code",
   "execution_count": 8,
   "metadata": {
    "colab": {
     "base_uri": "https://localhost:8080/"
    },
    "id": "JNXTN-b8R17A",
    "outputId": "ef319902-782a-4d9b-97ce-13a869fc7477"
   },
   "outputs": [
    {
     "name": "stdout",
     "output_type": "stream",
     "text": [
      "[1, 7]\n",
      "[3, 8, 6, 5, 4]\n",
      "[1, 8, 3, 6, 5, 4, 7, 2, 9, 0]\n"
     ]
    }
   ],
   "source": [
    "def odd_even(arr):\n",
    "    odd=[]\n",
    "    numbers_n=[]\n",
    "    for i in arr:\n",
    "        if i%2==1:\n",
    "            odd.append(i)\n",
    "    odd.sort(reverse=True)\n",
    "    for i in arr:\n",
    "        if i%2==1:\n",
    "            numbers_n.append(odd[-1])\n",
    "            odd.pop()\n",
    "        else:\n",
    "            numbers_n.append(i)\n",
    "    return numbers_n\n",
    "print(odd_even([7, 1]))\n",
    "print(odd_even([5, 8, 6, 3, 4]))\n",
    "print(odd_even([9, 8, 7, 6, 5, 4, 3, 2, 1, 0]))"
   ]
  },
  {
   "cell_type": "markdown",
   "metadata": {
    "id": "9mrkRWwbSr9o"
   },
   "source": [
    "```\n",
    "5- Ornek olarak verilen stringin her bir karakteri sirasiyla buyuk harf haline gelecek ve sonuc bir liste seklinde olacak. Ornek 1:\n",
    "\n",
    "test = \"iki kelime\"\n",
    "\n",
    "sonuc = ['Iki kelime', 'iKi kelime', 'ikI kelime', 'iki Kelime', 'iki kElime', 'iki keLime', 'iki kelIme', 'iki keliMe', 'iki kelimE']\n",
    "```\n"
   ]
  },
  {
   "cell_type": "code",
   "execution_count": 9,
   "metadata": {
    "colab": {
     "base_uri": "https://localhost:8080/"
    },
    "id": "pdvzyXqFSt9X",
    "outputId": "b8a97738-7354-4d02-89a8-eaed6faa8506"
   },
   "outputs": [
    {
     "name": "stdout",
     "output_type": "stream",
     "text": [
      "['Hep beraber basaracagız', 'hEp beraber basaracagız', 'heP beraber basaracagız', 'hep Beraber basaracagız', 'hep bEraber basaracagız', 'hep beRaber basaracagız', 'hep berAber basaracagız', 'hep beraBer basaracagız', 'hep berabEr basaracagız', 'hep berabeR basaracagız', 'hep beraber Basaracagız', 'hep beraber bAsaracagız', 'hep beraber baSaracagız', 'hep beraber basAracagız', 'hep beraber basaRacagız', 'hep beraber basarAcagız', 'hep beraber basaraCagız', 'hep beraber basaracAgız', 'hep beraber basaracaGız', 'hep beraber basaracagIz', 'hep beraber basaracagıZ']\n"
     ]
    }
   ],
   "source": [
    "test=\"hep beraber basaracagız\"\n",
    "liste=[]\n",
    "for k in range(len(test)):\n",
    "  if test[k].isalpha():\n",
    "    liste.append(test[:k]+test[k].upper()+test[k+1:])\n",
    "print(liste)"
   ]
  },
  {
   "cell_type": "markdown",
   "metadata": {
    "id": "3HUQvEZ0K0Sy"
   },
   "source": [
    "``` \n",
    "6.\n",
    "morse_codes = {\n",
    "  'A': '.-', 'B': '-...', 'C': '-.-.', 'D': '-..', 'E': '.', 'F': '..-.',\n",
    "  'G': '--.', 'H': '....', 'I': '..', 'J': '.---', 'K': '-.-', 'L': '.-..',\n",
    "  'M': '--', 'N': '-.', 'O': '---', 'P': '.--.', 'Q': '--.-', 'R': '.-.',\n",
    "  'S': '...', 'T': '-', 'U': '..-', 'V': '...-', 'W': '.--', 'X': '-..-',\n",
    "  'Y': '-.--', 'Z': '--..', ' ': ' ', '0': '-----',\n",
    "  '1': '.----', '2': '..---', '3': '...--', '4': '....-', '5': '.....',\n",
    "  '6': '-....', '7': '--...', '8': '---..', '9': '----.',\n",
    "  '&': '.-...', \"'\": '.----.', '@': '.--.-.', ')': '-.--.-', '(': '-.--.',\n",
    "  ':': '---...', ',': '--..--', '=': '-...-', '!': '-.-.--', '.': '.-.-.-',\n",
    "  '-': '-....-', '+': '.-.-.', '\"': '.-..-.', '?': '..--..', '/': '-..-.'\n",
    "}\n",
    "\n",
    "```\n",
    "Arasında boşluk bırakılarak girilen morse kodunu ifadeye, ifadeyi morsea çeviren kod yazalım.\n"
   ]
  },
  {
   "cell_type": "code",
   "execution_count": 10,
   "metadata": {
    "colab": {
     "base_uri": "https://localhost:8080/"
    },
    "id": "QPYTGrbuK07V",
    "outputId": "d3d434a3-b112-4cec-bcf3-feb5b94e49ec"
   },
   "outputs": [
    {
     "name": "stdout",
     "output_type": "stream",
     "text": [
      "merhaba\n",
      "-- . .-. .... .- -... .- \n"
     ]
    }
   ],
   "source": [
    "morse_codes = {\n",
    "  'A': '.-', 'B': '-...', 'C': '-.-.', 'D': '-..', 'E': '.', 'F': '..-.',\n",
    "  'G': '--.', 'H': '....', 'I': '..', 'J': '.---', 'K': '-.-', 'L': '.-..',\n",
    "  'M': '--', 'N': '-.', 'O': '---', 'P': '.--.', 'Q': '--.-', 'R': '.-.',\n",
    "  'S': '...', 'T': '-', 'U': '..-', 'V': '...-', 'W': '.--', 'X': '-..-',\n",
    "  'Y': '-.--', 'Z': '--..', ' ': ' ', '0': '-----',\n",
    "  '1': '.----', '2': '..---', '3': '...--', '4': '....-', '5': '.....',\n",
    "  '6': '-....', '7': '--...', '8': '---..', '9': '----.',\n",
    "  '&': '.-...', \"'\": '.----.', '@': '.--.-.', ')': '-.--.-', '(': '-.--.',\n",
    "  ':': '---...', ',': '--..--', '=': '-...-', '!': '-.-.--', '.': '.-.-.-',\n",
    "  '-': '-....-', '+': '.-.-.', '\"': '.-..-.', '?': '..--..', '/': '-..-.'\n",
    "}\n",
    "ifade=input().upper().split()\n",
    "yeni=\"\"\n",
    "for i in ifade:\n",
    "  if i in morse_codes.values():\n",
    "    for k, v in morse_codes.items():\n",
    "      if i==v:\n",
    "        yeni+=k+\" \"\n",
    "  else:\n",
    "    for k in i:\n",
    "      yeni += morse_codes[k]+\" \"\n",
    "\n",
    "print(yeni)"
   ]
  },
  {
   "cell_type": "markdown",
   "metadata": {
    "id": "hHahYznzQV97"
   },
   "source": [
    "```\n",
    "7- Once upon a time, on a way through the old wild mountainous west,…\n",
    "… a man was given directions to go from one point to another. The directions were \"NORTH\", \"SOUTH\", \"WEST\", \"EAST\". Clearly \"NORTH\" and \"SOUTH\" are opposite, \"WEST\" and \"EAST\" too.\n",
    "\n",
    "Going to one direction and coming back the opposite direction right away is a needless effort. Since this is the wild west, with dreadfull weather and not much water, it's important to save yourself some energy, otherwise you might die of thirst!\n",
    "\n",
    "How I crossed a mountainous desert the smart way.\n",
    "The directions given to the man are, for example, the following (depending on the language):\n",
    "\n",
    "[\"NORTH\", \"SOUTH\", \"SOUTH\", \"EAST\", \"WEST\", \"NORTH\", \"WEST\"].\n",
    "or\n",
    "{ \"NORTH\", \"SOUTH\", \"SOUTH\", \"EAST\", \"WEST\", \"NORTH\", \"WEST\" };\n",
    "or\n",
    "[North, South, South, East, West, North, West]\n",
    "You can immediatly see that going \"NORTH\" and immediately \"SOUTH\" is not reasonable, better stay to the same place! So the task is to give to the man a simplified version of the plan. A better plan in this case is simply:\n",
    "\n",
    "[\"WEST\"]\n",
    "or\n",
    "{ \"WEST\" }\n",
    "or\n",
    "[West]\n",
    "Other examples:\n",
    "In [\"NORTH\", \"SOUTH\", \"EAST\", \"WEST\"], the direction \"NORTH\" + \"SOUTH\" is going north and coming back right away.\n",
    "\n",
    "The path becomes [\"EAST\", \"WEST\"], now \"EAST\" and \"WEST\" annihilate each other, therefore, the final result is [] (nil in Clojure).\n",
    "\n",
    "In [\"NORTH\", \"EAST\", \"WEST\", \"SOUTH\", \"WEST\", \"WEST\"], \"NORTH\" and \"SOUTH\" are not directly opposite but they become directly opposite after the reduction of \"EAST\" and \"WEST\" so the whole path is reducible to [\"WEST\", \"WEST\"].\n",
    "\n",
    "Task\n",
    "Write a function dirReduc which will take an array of strings and returns an array of strings with the needless directions removed (W<->E or S<->N side by side).\n",
    "\n",
    "The Haskell version takes a list of directions with data Direction = North | East | West | South.\n",
    "The Clojure version returns nil when the path is reduced to nothing.\n",
    "The Rust version takes a slice of enum Direction {North, East, West, South}.\n",
    "See more examples in \"Sample Tests:\"\n",
    "Notes\n",
    "Not all paths can be made simpler. The path [\"NORTH\", \"WEST\", \"SOUTH\", \"EAST\"] is not reducible. \"NORTH\" and \"WEST\", \"WEST\" and \"SOUTH\", \"SOUTH\" and \"EAST\" are not directly opposite of each other and can't become such. Hence the result path is itself : [\"NORTH\", \"WEST\", \"SOUTH\", \"EAST\"].\n",
    "```\n"
   ]
  },
  {
   "cell_type": "code",
   "execution_count": 12,
   "metadata": {
    "colab": {
     "base_uri": "https://localhost:8080/"
    },
    "id": "jh0h6h6SQX8X",
    "outputId": "454244e9-dc99-49b0-f2e7-26455b2768c8"
   },
   "outputs": [
    {
     "data": {
      "text/plain": [
       "['WEST']"
      ]
     },
     "execution_count": 12,
     "metadata": {},
     "output_type": "execute_result"
    }
   ],
   "source": [
    "def yon(l):\n",
    "    s={\"NORTH\":\"SOUTH\",\"SOUTH\":\"NORTH\",\"EAST\":\"WEST\",\"WEST\":\"EAST\"}\n",
    "    i=0 \n",
    "    while i<len(l)-1:\n",
    "        if s[l[i]]==l[i+1]:\n",
    "            del l[i:i+2]\n",
    "            i=0\n",
    "        else:\n",
    "            i+=1\n",
    "    return l           \n",
    "        \n",
    "yon([\"NORTH\", \"SOUTH\", \"SOUTH\", \"EAST\", \"WEST\", \"NORTH\", \"WEST\"])"
   ]
  }
 ],
 "metadata": {
  "colab": {
   "name": "group_3_cozumlu.ipynb",
   "provenance": []
  },
  "kernelspec": {
   "display_name": "Python 3",
   "language": "python",
   "name": "python3"
  },
  "language_info": {
   "codemirror_mode": {
    "name": "ipython",
    "version": 3
   },
   "file_extension": ".py",
   "mimetype": "text/x-python",
   "name": "python",
   "nbconvert_exporter": "python",
   "pygments_lexer": "ipython3",
   "version": "3.8.5"
  }
 },
 "nbformat": 4,
 "nbformat_minor": 1
}
