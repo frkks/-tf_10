{
 "cells": [
  {
   "cell_type": "code",
   "execution_count": 1,
   "id": "a01897eb-10e8-478a-8661-fcb6e133f00f",
   "metadata": {},
   "outputs": [
    {
     "name": "stdout",
     "output_type": "stream",
     "text": [
      "Requirement already satisfied: gitpython in c:\\users\\yfhp\\appdata\\local\\programs\\python\\python39\\lib\\site-packages (3.1.24)\n",
      "Requirement already satisfied: typing-extensions>=3.7.4.3 in c:\\users\\yfhp\\appdata\\local\\programs\\python\\python39\\lib\\site-packages (from gitpython) (4.0.1)\n",
      "Requirement already satisfied: gitdb<5,>=4.0.1 in c:\\users\\yfhp\\appdata\\local\\programs\\python\\python39\\lib\\site-packages (from gitpython) (4.0.9)\n",
      "Requirement already satisfied: smmap<6,>=3.0.1 in c:\\users\\yfhp\\appdata\\local\\programs\\python\\python39\\lib\\site-packages (from gitdb<5,>=4.0.1->gitpython) (5.0.0)\n",
      "Note: you may need to restart the kernel to use updated packages.\n"
     ]
    }
   ],
   "source": [
    "pip install gitpython"
   ]
  },
  {
   "cell_type": "code",
   "execution_count": 2,
   "id": "c6f37971-549e-46a2-91fe-51a40732b828",
   "metadata": {},
   "outputs": [],
   "source": [
    "import git"
   ]
  },
  {
   "cell_type": "code",
   "execution_count": 3,
   "id": "beff07ea-632b-4e7e-ac4b-2c4cc2361086",
   "metadata": {},
   "outputs": [],
   "source": [
    "from git import Repo"
   ]
  },
  {
   "cell_type": "code",
   "execution_count": 5,
   "id": "8194e248-e73c-45e9-854b-7b1b994615fc",
   "metadata": {},
   "outputs": [
    {
     "data": {
      "text/plain": [
       "<git.repo.base.Repo 'C:\\\\Users\\\\YFHP\\\\Desktop\\\\ITF DERS\\\\python çalışmalar\\\\mentör çalışmaları\\\\29.12.2021\\\\Workshop\\\\.git'>"
      ]
     },
     "execution_count": 5,
     "metadata": {},
     "output_type": "execute_result"
    }
   ],
   "source": [
    "Repo.clone_from(\"https://github.com/frkks/29.12.21.git\", 'C:/Users/YFHP/Desktop/ITF DERS/python çalışmalar/mentör çalışmaları/29.12.2021/Workshop')"
   ]
  },
  {
   "cell_type": "code",
   "execution_count": 7,
   "id": "be525d34-bbf8-4085-8b81-76c695d948b5",
   "metadata": {},
   "outputs": [],
   "source": [
    "repo = git.Repo(\"C:/Users/YFHP/Desktop/ITF DERS/python çalışmalar/mentör çalışmaları/29.12.2021/Workshop\")"
   ]
  },
  {
   "cell_type": "code",
   "execution_count": 6,
   "id": "f4e70222-9b6c-4cfc-ab1c-58be3df75584",
   "metadata": {},
   "outputs": [
    {
     "data": {
      "text/plain": [
       "'C:\\\\Users\\\\YFHP\\\\Desktop\\\\ITF DERS\\\\python çalışmalar\\\\mentör çalışmaları'"
      ]
     },
     "execution_count": 6,
     "metadata": {},
     "output_type": "execute_result"
    }
   ],
   "source": [
    "pwd"
   ]
  },
  {
   "cell_type": "code",
   "execution_count": 8,
   "id": "b677a1e0-851d-400b-b2db-97aa9fe54afb",
   "metadata": {},
   "outputs": [
    {
     "data": {
      "text/plain": [
       "'* main'"
      ]
     },
     "execution_count": 8,
     "metadata": {},
     "output_type": "execute_result"
    }
   ],
   "source": [
    "repo.git.branch()"
   ]
  },
  {
   "cell_type": "code",
   "execution_count": 10,
   "id": "cec4277e-b909-4f7d-bc89-1138af3b1bf7",
   "metadata": {},
   "outputs": [
    {
     "data": {
      "text/plain": [
       "\"On branch main\\nYour branch is up to date with 'origin/main'.\\n\\nnothing to commit, working tree clean\""
      ]
     },
     "execution_count": 10,
     "metadata": {},
     "output_type": "execute_result"
    }
   ],
   "source": [
    "repo.git.status()"
   ]
  },
  {
   "cell_type": "code",
   "execution_count": 18,
   "id": "0da09722-19c0-42ba-ad57-91ccd18dfff2",
   "metadata": {},
   "outputs": [
    {
     "data": {
      "text/plain": [
       "'origin\\thttps://github.com/frkks/29.12.21.git (fetch)\\norigin\\thttps://github.com/frkks/29.12.21.git (push)'"
      ]
     },
     "execution_count": 18,
     "metadata": {},
     "output_type": "execute_result"
    }
   ],
   "source": [
    "repo.git.execute(\"git remote -v\")"
   ]
  },
  {
   "cell_type": "code",
   "execution_count": 19,
   "id": "97758614-33e6-4872-ba08-6c2805be574c",
   "metadata": {},
   "outputs": [
    {
     "data": {
      "text/plain": [
       "'diff.astextplain.textconv=astextplain\\nfilter.lfs.clean=git-lfs clean -- %f\\nfilter.lfs.smudge=git-lfs smudge -- %f\\nfilter.lfs.process=git-lfs filter-process\\nfilter.lfs.required=true\\nhttp.sslbackend=openssl\\nhttp.sslcainfo=C:/Program Files/Git/mingw64/ssl/certs/ca-bundle.crt\\ncore.autocrlf=true\\ncore.fscache=true\\ncore.symlinks=false\\npull.rebase=false\\ncredential.helper=manager-core\\ncredential.https://dev.azure.com.usehttppath=true\\ninit.defaultbranch=master\\nuser.name=faruk\\nuser.email=frkks47@gmail.com\\ncore.editor=vim\\ncore.repositoryformatversion=0\\ncore.filemode=false\\ncore.bare=false\\ncore.logallrefupdates=true\\ncore.symlinks=false\\ncore.ignorecase=true\\nremote.origin.url=https://github.com/frkks/29.12.21.git\\nremote.origin.fetch=+refs/heads/*:refs/remotes/origin/*\\nbranch.main.remote=origin\\nbranch.main.merge=refs/heads/main'"
      ]
     },
     "execution_count": 19,
     "metadata": {},
     "output_type": "execute_result"
    }
   ],
   "source": [
    "repo.git.execute(\"git config --list\")"
   ]
  },
  {
   "cell_type": "code",
   "execution_count": 21,
   "id": "0821723d-1af9-4ae0-8ad4-475cd67e334f",
   "metadata": {},
   "outputs": [
    {
     "data": {
      "text/plain": [
       "''"
      ]
     },
     "execution_count": 21,
     "metadata": {},
     "output_type": "execute_result"
    }
   ],
   "source": [
    "repo.git.add(\".\")"
   ]
  },
  {
   "cell_type": "code",
   "execution_count": 22,
   "id": "bf0e5e44-e120-4ccd-9b23-f3f2b6182a89",
   "metadata": {},
   "outputs": [
    {
     "ename": "GitCommandError",
     "evalue": "Cmd('git') failed due to: exit code(1)\n  cmdline: git commit -m test.txt oluşturuldu\n  stdout: 'On branch main\nYour branch is up to date with 'origin/main'.\n\nnothing to commit, working tree clean'",
     "output_type": "error",
     "traceback": [
      "\u001b[1;31m---------------------------------------------------------------------------\u001b[0m",
      "\u001b[1;31mGitCommandError\u001b[0m                           Traceback (most recent call last)",
      "\u001b[1;32m~\\AppData\\Local\\Temp/ipykernel_21760/1431603872.py\u001b[0m in \u001b[0;36m<module>\u001b[1;34m\u001b[0m\n\u001b[1;32m----> 1\u001b[1;33m \u001b[0mrepo\u001b[0m\u001b[1;33m.\u001b[0m\u001b[0mgit\u001b[0m\u001b[1;33m.\u001b[0m\u001b[0mcommit\u001b[0m\u001b[1;33m(\u001b[0m\u001b[0mm\u001b[0m \u001b[1;33m=\u001b[0m \u001b[1;34m\"test.txt oluşturuldu\"\u001b[0m\u001b[1;33m)\u001b[0m\u001b[1;33m\u001b[0m\u001b[1;33m\u001b[0m\u001b[0m\n\u001b[0m",
      "\u001b[1;32m~\\AppData\\Local\\Programs\\Python\\Python39\\lib\\site-packages\\git\\cmd.py\u001b[0m in \u001b[0;36m<lambda>\u001b[1;34m(*args, **kwargs)\u001b[0m\n\u001b[0;32m    636\u001b[0m         \u001b[1;32mif\u001b[0m \u001b[0mname\u001b[0m\u001b[1;33m[\u001b[0m\u001b[1;36m0\u001b[0m\u001b[1;33m]\u001b[0m \u001b[1;33m==\u001b[0m \u001b[1;34m'_'\u001b[0m\u001b[1;33m:\u001b[0m\u001b[1;33m\u001b[0m\u001b[1;33m\u001b[0m\u001b[0m\n\u001b[0;32m    637\u001b[0m             \u001b[1;32mreturn\u001b[0m \u001b[0mLazyMixin\u001b[0m\u001b[1;33m.\u001b[0m\u001b[0m__getattr__\u001b[0m\u001b[1;33m(\u001b[0m\u001b[0mself\u001b[0m\u001b[1;33m,\u001b[0m \u001b[0mname\u001b[0m\u001b[1;33m)\u001b[0m\u001b[1;33m\u001b[0m\u001b[1;33m\u001b[0m\u001b[0m\n\u001b[1;32m--> 638\u001b[1;33m         \u001b[1;32mreturn\u001b[0m \u001b[1;32mlambda\u001b[0m \u001b[1;33m*\u001b[0m\u001b[0margs\u001b[0m\u001b[1;33m,\u001b[0m \u001b[1;33m**\u001b[0m\u001b[0mkwargs\u001b[0m\u001b[1;33m:\u001b[0m \u001b[0mself\u001b[0m\u001b[1;33m.\u001b[0m\u001b[0m_call_process\u001b[0m\u001b[1;33m(\u001b[0m\u001b[0mname\u001b[0m\u001b[1;33m,\u001b[0m \u001b[1;33m*\u001b[0m\u001b[0margs\u001b[0m\u001b[1;33m,\u001b[0m \u001b[1;33m**\u001b[0m\u001b[0mkwargs\u001b[0m\u001b[1;33m)\u001b[0m\u001b[1;33m\u001b[0m\u001b[1;33m\u001b[0m\u001b[0m\n\u001b[0m\u001b[0;32m    639\u001b[0m \u001b[1;33m\u001b[0m\u001b[0m\n\u001b[0;32m    640\u001b[0m     \u001b[1;32mdef\u001b[0m \u001b[0mset_persistent_git_options\u001b[0m\u001b[1;33m(\u001b[0m\u001b[0mself\u001b[0m\u001b[1;33m,\u001b[0m \u001b[1;33m**\u001b[0m\u001b[0mkwargs\u001b[0m\u001b[1;33m:\u001b[0m \u001b[0mAny\u001b[0m\u001b[1;33m)\u001b[0m \u001b[1;33m->\u001b[0m \u001b[1;32mNone\u001b[0m\u001b[1;33m:\u001b[0m\u001b[1;33m\u001b[0m\u001b[1;33m\u001b[0m\u001b[0m\n",
      "\u001b[1;32m~\\AppData\\Local\\Programs\\Python\\Python39\\lib\\site-packages\\git\\cmd.py\u001b[0m in \u001b[0;36m_call_process\u001b[1;34m(self, method, *args, **kwargs)\u001b[0m\n\u001b[0;32m   1181\u001b[0m         \u001b[0mcall\u001b[0m\u001b[1;33m.\u001b[0m\u001b[0mextend\u001b[0m\u001b[1;33m(\u001b[0m\u001b[0margs_list\u001b[0m\u001b[1;33m)\u001b[0m\u001b[1;33m\u001b[0m\u001b[1;33m\u001b[0m\u001b[0m\n\u001b[0;32m   1182\u001b[0m \u001b[1;33m\u001b[0m\u001b[0m\n\u001b[1;32m-> 1183\u001b[1;33m         \u001b[1;32mreturn\u001b[0m \u001b[0mself\u001b[0m\u001b[1;33m.\u001b[0m\u001b[0mexecute\u001b[0m\u001b[1;33m(\u001b[0m\u001b[0mcall\u001b[0m\u001b[1;33m,\u001b[0m \u001b[1;33m**\u001b[0m\u001b[0mexec_kwargs\u001b[0m\u001b[1;33m)\u001b[0m\u001b[1;33m\u001b[0m\u001b[1;33m\u001b[0m\u001b[0m\n\u001b[0m\u001b[0;32m   1184\u001b[0m \u001b[1;33m\u001b[0m\u001b[0m\n\u001b[0;32m   1185\u001b[0m     \u001b[1;32mdef\u001b[0m \u001b[0m_parse_object_header\u001b[0m\u001b[1;33m(\u001b[0m\u001b[0mself\u001b[0m\u001b[1;33m,\u001b[0m \u001b[0mheader_line\u001b[0m\u001b[1;33m:\u001b[0m \u001b[0mstr\u001b[0m\u001b[1;33m)\u001b[0m \u001b[1;33m->\u001b[0m \u001b[0mTuple\u001b[0m\u001b[1;33m[\u001b[0m\u001b[0mstr\u001b[0m\u001b[1;33m,\u001b[0m \u001b[0mstr\u001b[0m\u001b[1;33m,\u001b[0m \u001b[0mint\u001b[0m\u001b[1;33m]\u001b[0m\u001b[1;33m:\u001b[0m\u001b[1;33m\u001b[0m\u001b[1;33m\u001b[0m\u001b[0m\n",
      "\u001b[1;32m~\\AppData\\Local\\Programs\\Python\\Python39\\lib\\site-packages\\git\\cmd.py\u001b[0m in \u001b[0;36mexecute\u001b[1;34m(self, command, istream, with_extended_output, with_exceptions, as_process, output_stream, stdout_as_string, kill_after_timeout, with_stdout, universal_newlines, shell, env, max_chunk_size, **subprocess_kwargs)\u001b[0m\n\u001b[0;32m    981\u001b[0m \u001b[1;33m\u001b[0m\u001b[0m\n\u001b[0;32m    982\u001b[0m         \u001b[1;32mif\u001b[0m \u001b[0mwith_exceptions\u001b[0m \u001b[1;32mand\u001b[0m \u001b[0mstatus\u001b[0m \u001b[1;33m!=\u001b[0m \u001b[1;36m0\u001b[0m\u001b[1;33m:\u001b[0m\u001b[1;33m\u001b[0m\u001b[1;33m\u001b[0m\u001b[0m\n\u001b[1;32m--> 983\u001b[1;33m             \u001b[1;32mraise\u001b[0m \u001b[0mGitCommandError\u001b[0m\u001b[1;33m(\u001b[0m\u001b[0mredacted_command\u001b[0m\u001b[1;33m,\u001b[0m \u001b[0mstatus\u001b[0m\u001b[1;33m,\u001b[0m \u001b[0mstderr_value\u001b[0m\u001b[1;33m,\u001b[0m \u001b[0mstdout_value\u001b[0m\u001b[1;33m)\u001b[0m\u001b[1;33m\u001b[0m\u001b[1;33m\u001b[0m\u001b[0m\n\u001b[0m\u001b[0;32m    984\u001b[0m \u001b[1;33m\u001b[0m\u001b[0m\n\u001b[0;32m    985\u001b[0m         \u001b[1;32mif\u001b[0m \u001b[0misinstance\u001b[0m\u001b[1;33m(\u001b[0m\u001b[0mstdout_value\u001b[0m\u001b[1;33m,\u001b[0m \u001b[0mbytes\u001b[0m\u001b[1;33m)\u001b[0m \u001b[1;32mand\u001b[0m \u001b[0mstdout_as_string\u001b[0m\u001b[1;33m:\u001b[0m  \u001b[1;31m# could also be output_stream\u001b[0m\u001b[1;33m\u001b[0m\u001b[1;33m\u001b[0m\u001b[0m\n",
      "\u001b[1;31mGitCommandError\u001b[0m: Cmd('git') failed due to: exit code(1)\n  cmdline: git commit -m test.txt oluşturuldu\n  stdout: 'On branch main\nYour branch is up to date with 'origin/main'.\n\nnothing to commit, working tree clean'"
     ]
    }
   ],
   "source": [
    "repo.git.commit(m = \"test.txt oluşturuldu\")"
   ]
  },
  {
   "cell_type": "code",
   "execution_count": null,
   "id": "f5ccef26-b89a-4130-9522-24f0811a1bb2",
   "metadata": {},
   "outputs": [],
   "source": []
  }
 ],
 "metadata": {
  "kernelspec": {
   "display_name": "Python 3 (ipykernel)",
   "language": "python",
   "name": "python3"
  },
  "language_info": {
   "codemirror_mode": {
    "name": "ipython",
    "version": 3
   },
   "file_extension": ".py",
   "mimetype": "text/x-python",
   "name": "python",
   "nbconvert_exporter": "python",
   "pygments_lexer": "ipython3",
   "version": "3.9.7"
  }
 },
 "nbformat": 4,
 "nbformat_minor": 5
}
