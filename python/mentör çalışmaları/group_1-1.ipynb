{
 "cells": [
  {
   "cell_type": "markdown",
   "metadata": {},
   "source": [
    "```\n",
    "1 Sansürlü kelimeyi düzeltelim\n",
    "(\"pyth*n\", \"o\") ---> python\n",
    "(\"*r*b*m* p*rk *tt*m\",\"aaaıaei\")  --> arabamı park ettim\n",
    "```\n"
   ]
  },
  {
   "cell_type": "code",
   "execution_count": 43,
   "metadata": {},
   "outputs": [
    {
     "name": "stdout",
     "output_type": "stream",
     "text": [
      "python\n",
      "arabamı park ettim\n"
     ]
    }
   ],
   "source": [
    "def sansür(sansürlü,sesli):\n",
    "    n=0\n",
    "    for i in sansürlü:\n",
    "        if i ==\"*\":\n",
    "            sansürlü=sansürlü.replace(\"*\",sesli[n],1)\n",
    "            n+=1\n",
    "    return sansürlü     \n",
    "print(sansür(\"pyth*n\", \"o\"))\n",
    "print(sansür(\"*r*b*m* p*rk *tt*m\",\"aaaıaei\"))"
   ]
  },
  {
   "cell_type": "markdown",
   "metadata": {},
   "source": [
    "```\n",
    "2. Girdisi string olan ifadenin içerisindeki harflerin türkçe alfabesindeki yerlerini bulup, hepsinin değerlerini toplayıp sonuç çiftse True tekse False yazdıran bir fonksiyon yazınız.\n",
    "print(kelime_cift_mi(\"Bilgisayar\")) -->True\n",
    "```\n"
   ]
  },
  {
   "cell_type": "code",
   "execution_count": 45,
   "metadata": {},
   "outputs": [
    {
     "name": "stdout",
     "output_type": "stream",
     "text": [
      "True\n",
      "False\n"
     ]
    }
   ],
   "source": [
    "def kelime_çift_mi(cümle):\n",
    "    kucuk = \"abcçdefgğhıijklmnoöprsştuüvyz\"\n",
    "    buyuk = 'ABCÇDEFGĞHIİJKLMNOÖPRSŞTUÜVYZ'\n",
    "    toplam=0\n",
    "    for i in cümle:\n",
    "        if i in kucuk:\n",
    "            toplam += kucuk.index(i)+1\n",
    "        elif i in buyuk:\n",
    "            toplam += buyuk.index(i)+1  \n",
    "          \n",
    "    return toplam % 2 ==0\n",
    "   \n",
    "\n",
    "print(kelime_çift_mi(\"İ\"))\n",
    "print(kelime_çift_mi(\"I\"))"
   ]
  },
  {
   "cell_type": "markdown",
   "metadata": {
    "id": "yUnkroayPGvn"
   },
   "source": [
    "\n",
    "```\n",
    " 3. Write a program to prompt the user for hours and rate per hour using input to compute gross pay. Pay should be the normal rate for hours up to 40 and time-and-a-half for the hourly rate for all hours worked above 40 hours. \n",
    "```\n",
    "\n"
   ]
  },
  {
   "cell_type": "code",
   "execution_count": null,
   "metadata": {},
   "outputs": [],
   "source": [
    "h = float(input('Enter hours: '))\n",
    "r = float(input('Enter rate: '))\n",
    "if h > 40:\n",
    "    p = 40*r + (h-40)*1.5*r\n",
    "else:\n",
    "    p = h * r\n",
    "print(p)"
   ]
  },
  {
   "cell_type": "code",
   "execution_count": 6,
   "metadata": {},
   "outputs": [],
   "source": [
    "def computepay(h,r):\n",
    "    if h > 40:\n",
    "        p = 40*r + (h-40)*1.5*r\n",
    "    else:\n",
    "        p = h * r\n",
    "    print(p) "
   ]
  },
  {
   "cell_type": "code",
   "execution_count": 7,
   "metadata": {
    "scrolled": false
   },
   "outputs": [
    {
     "name": "stdout",
     "output_type": "stream",
     "text": [
      "237.5\n",
      "None\n"
     ]
    }
   ],
   "source": [
    "print(computepay(45,5))"
   ]
  },
  {
   "cell_type": "code",
   "execution_count": 8,
   "metadata": {},
   "outputs": [
    {
     "name": "stdout",
     "output_type": "stream",
     "text": [
      "3\n",
      "None\n"
     ]
    }
   ],
   "source": [
    "print(print(3))"
   ]
  },
  {
   "cell_type": "code",
   "execution_count": 46,
   "metadata": {},
   "outputs": [],
   "source": [
    "def computepay(h,r):\n",
    "    if h > 40:\n",
    "        p = 40*r + (h-40)*1.5*r\n",
    "    else:\n",
    "        p = h * r\n",
    "    return p "
   ]
  },
  {
   "cell_type": "code",
   "execution_count": 47,
   "metadata": {},
   "outputs": [
    {
     "name": "stdout",
     "output_type": "stream",
     "text": [
      "237.5\n"
     ]
    }
   ],
   "source": [
    "print(computepay(45,5))"
   ]
  },
  {
   "cell_type": "markdown",
   "metadata": {
    "id": "agUSmN0iPGqB"
   },
   "source": [
    "```\n",
    "4. Sayının faktöriyelini hesaplayalım.\n",
    "```\n",
    "\n",
    "\n"
   ]
  },
  {
   "cell_type": "code",
   "execution_count": 48,
   "metadata": {},
   "outputs": [],
   "source": [
    "def factorial(sayi):\n",
    "    sonuc = 1\n",
    "    for i in range(1, sayi+1):\n",
    "        sonuc *= i\n",
    "    return sonuc"
   ]
  },
  {
   "cell_type": "code",
   "execution_count": 55,
   "metadata": {},
   "outputs": [
    {
     "data": {
      "text/plain": [
       "120"
      ]
     },
     "execution_count": 55,
     "metadata": {},
     "output_type": "execute_result"
    }
   ],
   "source": [
    "factorial(5)"
   ]
  },
  {
   "cell_type": "code",
   "execution_count": 56,
   "metadata": {},
   "outputs": [],
   "source": [
    "def factorial(sayi):\n",
    "    sonuc = 1\n",
    "    i = 1\n",
    "    while i <= sayi:\n",
    "        sonuc *= i\n",
    "        i += 1\n",
    "    return sonuc"
   ]
  },
  {
   "cell_type": "code",
   "execution_count": 61,
   "metadata": {},
   "outputs": [
    {
     "data": {
      "text/plain": [
       "24"
      ]
     },
     "execution_count": 61,
     "metadata": {},
     "output_type": "execute_result"
    }
   ],
   "source": [
    "factorial(4)"
   ]
  },
  {
   "cell_type": "markdown",
   "metadata": {
    "id": "tPWXxyrEPGmw"
   },
   "source": [
    "```\n",
    "5. Sayı ve string paramestresi alan, sayıyı geriye doğru aralarında * olacak şekilde yazdıran, sonuna verilen stringi büyük harflerle ekleyen ve en sona ! işareti koyan bir program yazalım\n",
    " ÖRNEK\n",
    "(3,\"go\")--> \"3*2*1*GO!\"\n",
    "```\n",
    "\n"
   ]
  },
  {
   "cell_type": "code",
   "execution_count": 62,
   "metadata": {},
   "outputs": [],
   "source": [
    "def geri_say(n, yazi):\n",
    "    sonuc = ''\n",
    "    for i in range(n,0,-1):\n",
    "        sonuc += str(i) + '*'\n",
    "    sonuc += yazi.upper() + '!'\n",
    "    return sonuc\n",
    "        "
   ]
  },
  {
   "cell_type": "code",
   "execution_count": 63,
   "metadata": {},
   "outputs": [
    {
     "data": {
      "text/plain": [
       "'5*4*3*2*1*ALI!'"
      ]
     },
     "execution_count": 63,
     "metadata": {},
     "output_type": "execute_result"
    }
   ],
   "source": [
    "geri_say(5, 'ali')"
   ]
  },
  {
   "cell_type": "markdown",
   "metadata": {
    "id": "X0np6sCFPGjA"
   },
   "source": [
    "```\n",
    "6. Arif ve Raife listede yanyana duruyorlasa True döndüren durmuyorlarsa False döndüren bir fonksiyon yazalım.\n",
    "print(yan_yana_mı([\"Arif\",\"Raife\",\"Nihal\"])) --> True\n",
    "print(yan_yana_mı([\"Arif\",\"Nihal\",\"Raife\"])) --> False\n",
    "```\n",
    "\n"
   ]
  },
  {
   "cell_type": "code",
   "execution_count": 64,
   "metadata": {},
   "outputs": [],
   "source": [
    "def yan_yana_mı(liste):\n",
    "    return liste.index('Arif') == liste.index('Raife') + 1 or liste.index('Arif') == liste.index('Raife') -1 "
   ]
  },
  {
   "cell_type": "code",
   "execution_count": 65,
   "metadata": {},
   "outputs": [
    {
     "name": "stdout",
     "output_type": "stream",
     "text": [
      "True\n"
     ]
    }
   ],
   "source": [
    "print(yan_yana_mı([\"Arif\",\"Raife\",\"Nihal\"]))"
   ]
  },
  {
   "cell_type": "code",
   "execution_count": 66,
   "metadata": {
    "scrolled": true
   },
   "outputs": [
    {
     "name": "stdout",
     "output_type": "stream",
     "text": [
      "False\n"
     ]
    }
   ],
   "source": [
    "print(yan_yana_mı([\"Arif\",\"Nihal\",\"Raife\"]))"
   ]
  },
  {
   "cell_type": "markdown",
   "metadata": {
    "id": "o8RAQ9ZpPGcN"
   },
   "source": [
    "```\n",
    "7. Listedeki her elemanı kendi indexi ile çarpıp toplamı veren bir kod yazalım.\n",
    "[1,2,3,4,5,6,7,8,9,10] --> 330\n",
    "```\n",
    "\n",
    "\n",
    "\n"
   ]
  },
  {
   "cell_type": "code",
   "execution_count": 69,
   "metadata": {},
   "outputs": [],
   "source": [
    "def carpıp_topla(liste):\n",
    "    toplam = 0\n",
    "    for i in range(len(liste)):\n",
    "        toplam += liste[i] * i\n",
    "    return toplam"
   ]
  },
  {
   "cell_type": "code",
   "execution_count": 70,
   "metadata": {},
   "outputs": [
    {
     "data": {
      "text/plain": [
       "330"
      ]
     },
     "execution_count": 70,
     "metadata": {},
     "output_type": "execute_result"
    }
   ],
   "source": [
    "carpıp_topla([1,2,3,4,5,6,7,8,9,10])"
   ]
  },
  {
   "cell_type": "code",
   "execution_count": 71,
   "metadata": {},
   "outputs": [
    {
     "data": {
      "text/plain": [
       "[(0, 1),\n",
       " (1, 3),\n",
       " (2, 7),\n",
       " (3, 9),\n",
       " (4, 27),\n",
       " (5, 6),\n",
       " (6, 7),\n",
       " (7, 8),\n",
       " (8, 9),\n",
       " (9, 10)]"
      ]
     },
     "execution_count": 71,
     "metadata": {},
     "output_type": "execute_result"
    }
   ],
   "source": [
    "liste = [1,3,7,9,27,6,7,8,9,10]\n",
    "list(enumerate(liste))"
   ]
  },
  {
   "cell_type": "code",
   "execution_count": 72,
   "metadata": {},
   "outputs": [],
   "source": [
    "def carpıp_topla(liste):\n",
    "    toplam = 0\n",
    "    for i, j in enumerate(liste):\n",
    "        toplam += i*j\n",
    "    return toplam"
   ]
  },
  {
   "cell_type": "code",
   "execution_count": 73,
   "metadata": {},
   "outputs": [
    {
     "data": {
      "text/plain": [
       "330"
      ]
     },
     "execution_count": 73,
     "metadata": {},
     "output_type": "execute_result"
    }
   ],
   "source": [
    "carpıp_topla([1,2,3,4,5,6,7,8,9,10])"
   ]
  },
  {
   "cell_type": "markdown",
   "metadata": {
    "id": "6eFw-Cy2PGYg"
   },
   "source": [
    "```\n",
    "8. Cümledeki sayı ve harflerin sayısını bulan bir fonksiyon yazalım\n",
    "print(harf_sayi_sayisi(\"10'a kadar saysam ve sonrasında hayat bayram olsa.\")) --> Harfler: 39, Sayılar: 2\n",
    "\n",
    "```\n",
    "\n",
    "\n"
   ]
  },
  {
   "cell_type": "code",
   "execution_count": 74,
   "metadata": {},
   "outputs": [],
   "source": [
    "def harf_sayi_sayisi(cümle):\n",
    "    h = 0\n",
    "    s = 0\n",
    "    for i in cümle:\n",
    "        if i.isalpha():\n",
    "            h += 1\n",
    "        elif i.isdigit():\n",
    "            s += 1\n",
    "    return f'Harf sayısı: {h}, rakam sayısı: {s}'"
   ]
  },
  {
   "cell_type": "code",
   "execution_count": 75,
   "metadata": {},
   "outputs": [
    {
     "data": {
      "text/plain": [
       "'Harf sayısı: 39, rakam sayısı: 2'"
      ]
     },
     "execution_count": 75,
     "metadata": {},
     "output_type": "execute_result"
    }
   ],
   "source": [
    "harf_sayi_sayisi(\"10'a kadar saysam ve sonrasında hayat bayram olsa.\")"
   ]
  },
  {
   "cell_type": "markdown",
   "metadata": {
    "id": "txt134wgPGVZ"
   },
   "source": [
    "```\n",
    "9.Stringin içindeki en büyük ve en küçük sayıyı veren fonksiyon yazalım.\n",
    "print(büyük_kücük(\"3 2 4 6 -1 12\")) --> 12 -1\n",
    "```\n",
    "\n"
   ]
  },
  {
   "cell_type": "code",
   "execution_count": 76,
   "metadata": {},
   "outputs": [
    {
     "name": "stdout",
     "output_type": "stream",
     "text": [
      "<map object at 0x00000264F7AA9970>\n"
     ]
    },
    {
     "data": {
      "text/plain": [
       "12"
      ]
     },
     "execution_count": 76,
     "metadata": {},
     "output_type": "execute_result"
    }
   ],
   "source": [
    "a = map(int, \"3 2 4 6 -1 12\".split())\n",
    "print(a)\n",
    "max(a)"
   ]
  },
  {
   "cell_type": "code",
   "execution_count": 77,
   "metadata": {},
   "outputs": [],
   "source": [
    "def büyük_kücük(deger):\n",
    "    a = list(map(int, deger.split()))\n",
    "    return f'max sayı: {max(a)}, min sayı: {min(a)}'"
   ]
  },
  {
   "cell_type": "markdown",
   "metadata": {
    "id": "RhGJCDaNPGIS"
   },
   "source": [
    "```\n",
    "10. Harfler ve boşluklardan oluşan stringin içindeki kelime nin uzunluğu beş veya dah fazla ise o kelimeyi ters çeviren bir fonksiyon yazalım.\n",
    "print(ters_döndür(\"Ah bir data scientist olabilsem:)\")) --> Ah bir data tsitneics ):meslibalo\n",
    "```\n",
    "\n"
   ]
  },
  {
   "cell_type": "code",
   "execution_count": 78,
   "metadata": {},
   "outputs": [],
   "source": [
    "def ters_döndür(cümle):\n",
    "    liste = cümle.split()\n",
    "    yeni = ''\n",
    "    for i in liste:\n",
    "        if len(i) >= 5:\n",
    "            yeni += i[::-1] + ' '\n",
    "        else:\n",
    "            yeni += i + ' '\n",
    "    return yeni.strip()"
   ]
  },
  {
   "cell_type": "code",
   "execution_count": 42,
   "metadata": {},
   "outputs": [
    {
     "data": {
      "text/plain": [
       "'Ah bir data tsitneics ):meslibalo'"
      ]
     },
     "execution_count": 42,
     "metadata": {},
     "output_type": "execute_result"
    }
   ],
   "source": [
    "ters_döndür(\"Ah bir data scientist olabilsem:)\")"
   ]
  }
 ],
 "metadata": {
  "colab": {
   "name": "group_1.ipynb",
   "provenance": []
  },
  "kernelspec": {
   "display_name": "Python 3",
   "language": "python",
   "name": "python3"
  },
  "language_info": {
   "codemirror_mode": {
    "name": "ipython",
    "version": 3
   },
   "file_extension": ".py",
   "mimetype": "text/x-python",
   "name": "python",
   "nbconvert_exporter": "python",
   "pygments_lexer": "ipython3",
   "version": "3.8.5"
  }
 },
 "nbformat": 4,
 "nbformat_minor": 1
}
