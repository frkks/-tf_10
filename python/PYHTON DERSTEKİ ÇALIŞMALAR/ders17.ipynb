{
 "cells": [
  {
   "cell_type": "code",
   "execution_count": 1,
   "id": "29b81e99-8570-458a-9908-1d675980e97d",
   "metadata": {},
   "outputs": [
    {
     "data": {
      "text/plain": [
       "<function __main__.<lambda>(x)>"
      ]
     },
     "execution_count": 1,
     "metadata": {},
     "output_type": "execute_result"
    }
   ],
   "source": [
    "lambda x : \"odd\" if x%2 != 0 else \"even\""
   ]
  },
  {
   "cell_type": "code",
   "execution_count": 9,
   "id": "1631cd75-d75e-4bb1-9b02-8654eba2da14",
   "metadata": {},
   "outputs": [
    {
     "name": "stdout",
     "output_type": "stream",
     "text": [
      "4\n"
     ]
    }
   ],
   "source": [
    "print((lambda x : x**2)(2))"
   ]
  },
  {
   "cell_type": "code",
   "execution_count": 3,
   "id": "6f150447-1d99-4e63-94ee-e0c0d1814251",
   "metadata": {},
   "outputs": [
    {
     "data": {
      "text/plain": [
       "<function __main__.<lambda>(x)>"
      ]
     },
     "execution_count": 3,
     "metadata": {},
     "output_type": "execute_result"
    }
   ],
   "source": [
    "lambda x : \"odd\" if x%2 != 0 else \"even\""
   ]
  },
  {
   "cell_type": "code",
   "execution_count": 4,
   "id": "ec5ca13f-e60c-45fd-bfe8-c63c8d10c383",
   "metadata": {},
   "outputs": [
    {
     "data": {
      "text/plain": [
       "'even'"
      ]
     },
     "execution_count": 4,
     "metadata": {},
     "output_type": "execute_result"
    }
   ],
   "source": [
    "(lambda x : \"odd\" if x%2 != 0 else \"even\")(2)"
   ]
  },
  {
   "cell_type": "code",
   "execution_count": 7,
   "id": "9d9ec5be-a0cb-452d-87e2-53253082fdea",
   "metadata": {},
   "outputs": [
    {
     "data": {
      "text/plain": [
       "'odd'"
      ]
     },
     "execution_count": 7,
     "metadata": {},
     "output_type": "execute_result"
    }
   ],
   "source": [
    "(lambda x : \"odd\" if x%2 != 0 else \"even\")(3)"
   ]
  },
  {
   "cell_type": "code",
   "execution_count": 10,
   "id": "b9048590-9b91-4b5f-9bab-4cd4ffb54e3c",
   "metadata": {},
   "outputs": [
    {
     "data": {
      "text/plain": [
       "'ila'"
      ]
     },
     "execution_count": 10,
     "metadata": {},
     "output_type": "execute_result"
    }
   ],
   "source": [
    "(lambda x : x[::-1])(\"ali\")"
   ]
  },
  {
   "cell_type": "code",
   "execution_count": 17,
   "id": "2e5f47a4-f7c5-42ef-b162-4ef2fd48decf",
   "metadata": {},
   "outputs": [
    {
     "data": {
      "text/plain": [
       "[3, 2, 1]"
      ]
     },
     "execution_count": 17,
     "metadata": {},
     "output_type": "execute_result"
    }
   ],
   "source": [
    "(lambda x  : x[::-1])([1,2,3])"
   ]
  },
  {
   "cell_type": "code",
   "execution_count": 26,
   "id": "4c4756e3-5c34-4054-a1a4-499c73383f81",
   "metadata": {},
   "outputs": [
    {
     "name": "stdout",
     "output_type": "stream",
     "text": [
      "1 : odd\n",
      "2 : even\n",
      "3 : odd\n",
      "4 : even\n",
      "5 : odd\n",
      "6 : even\n"
     ]
    }
   ],
   "source": [
    "sayılar = [1,2,3,4,5,6]\n",
    "for a in sayılar :\n",
    "    print(a, \":\", (lambda x : \"odd\" if x%2 != 0 else \"even\")(a))\n"
   ]
  },
  {
   "cell_type": "code",
   "execution_count": 33,
   "id": "ac1eab5c-7812-48b9-bd4e-684fce6959ae",
   "metadata": {},
   "outputs": [
    {
     "name": "stdout",
     "output_type": "stream",
     "text": [
      "1 : odd\n",
      "2 : even\n",
      "3 : odd\n",
      "4 : even\n",
      "5 : odd\n",
      "6 : even\n"
     ]
    }
   ],
   "source": [
    "liste = [1,2,3,4,5,6]\n",
    "for i in liste :\n",
    "    print(i, \":\" , (lambda x : \"odd\" if x  % 2 != 0 else \"even\")(i))"
   ]
  },
  {
   "cell_type": "code",
   "execution_count": 29,
   "id": "3a0393d9-cf0b-4749-9cd9-d61486dfebe6",
   "metadata": {},
   "outputs": [],
   "source": [
    "finder = lambda x : \"odd\" if x%2 != 0 else \"even\""
   ]
  },
  {
   "cell_type": "code",
   "execution_count": 31,
   "id": "7cf5663d-6b3c-498b-a79e-72706a6f74e1",
   "metadata": {},
   "outputs": [
    {
     "name": "stdout",
     "output_type": "stream",
     "text": [
      "odd\n"
     ]
    }
   ],
   "source": [
    "print(finder(5))"
   ]
  },
  {
   "cell_type": "code",
   "execution_count": 35,
   "id": "8ee9ddad-c68b-4013-8ddf-1a0f22df3b33",
   "metadata": {},
   "outputs": [
    {
     "data": {
      "text/plain": [
       "[5, 4, 3, 2, 1]"
      ]
     },
     "execution_count": 35,
     "metadata": {},
     "output_type": "execute_result"
    }
   ],
   "source": [
    "reverser = lambda x : x[::-1]\n",
    "reverser([1,2,3,4,5])"
   ]
  },
  {
   "cell_type": "code",
   "execution_count": 36,
   "id": "52ab28c7-e82b-41e4-9eb1-5b53d8a2c86d",
   "metadata": {},
   "outputs": [],
   "source": [
    "fonksiyon = lambda x : x**2\n",
    "iterable = [1,2,3]"
   ]
  },
  {
   "cell_type": "code",
   "execution_count": 38,
   "id": "1b0fe287-f368-4bd3-be16-2fd0510a00c3",
   "metadata": {},
   "outputs": [
    {
     "name": "stdout",
     "output_type": "stream",
     "text": [
      "1 4 9\n",
      "<map object at 0x000002BE63BF46A0>\n"
     ]
    }
   ],
   "source": [
    "sonuc = map(fonksiyon, iterable)\n",
    "print(* sonuc)\n",
    "print(sonuc)"
   ]
  },
  {
   "cell_type": "code",
   "execution_count": 40,
   "id": "a295d21e-4b2f-422b-b586-b786e9e062fd",
   "metadata": {},
   "outputs": [
    {
     "name": "stdout",
     "output_type": "stream",
     "text": [
      "odd even odd\n",
      "[]\n"
     ]
    }
   ],
   "source": [
    "fonksiyon = lambda x : \"odd\" if x%2 != 0 else \"even\"\n",
    "iterable = [1,2,3]\n",
    "sonuc = map(fonksiyon, iterable)\n",
    "print(* sonuc)\n",
    "print(list(sonuc))"
   ]
  },
  {
   "cell_type": "code",
   "execution_count": 41,
   "id": "5e0ba280-7685-477f-8c8b-3c0ac4258a06",
   "metadata": {},
   "outputs": [],
   "source": [
    "def kare(b) :\n",
    "    return b ** 2"
   ]
  },
  {
   "cell_type": "code",
   "execution_count": 42,
   "id": "e98a1b41-1f74-42fb-a590-ab780a7b0db6",
   "metadata": {},
   "outputs": [
    {
     "name": "stdout",
     "output_type": "stream",
     "text": [
      "[1, 4, 9]\n"
     ]
    }
   ],
   "source": [
    "sonuc2 = map(kare, iterable)\n",
    "print(list(sonuc2))"
   ]
  },
  {
   "cell_type": "code",
   "execution_count": 44,
   "id": "c47f2098-6b20-42ad-b28b-d56bc7fdb15b",
   "metadata": {},
   "outputs": [
    {
     "data": {
      "text/plain": [
       "'ali'"
      ]
     },
     "execution_count": 44,
     "metadata": {},
     "output_type": "execute_result"
    }
   ],
   "source": [
    "topla = lambda x, y, z : x+y+z\n",
    "topla(\"a\", \"l\",\"i\")"
   ]
  },
  {
   "cell_type": "code",
   "execution_count": 45,
   "id": "255933ec-067c-4638-bd89-b4ac275af6ca",
   "metadata": {},
   "outputs": [],
   "source": [
    "num1 = [9,6,7,4]\n",
    "num2 = [3,6,5,8]"
   ]
  },
  {
   "cell_type": "code",
   "execution_count": 46,
   "id": "325003ed-6d09-4549-8ff4-f211248b9476",
   "metadata": {},
   "outputs": [],
   "source": [
    "func = lambda x, y : (x + y) / 2"
   ]
  },
  {
   "cell_type": "code",
   "execution_count": 47,
   "id": "eac44bcf-945f-40fc-a9de-ec9635bfcbf4",
   "metadata": {},
   "outputs": [
    {
     "name": "stdout",
     "output_type": "stream",
     "text": [
      "[6.0, 6.0, 6.0, 6.0]\n"
     ]
    }
   ],
   "source": [
    "numbers = map(func, num1, num2)\n",
    "print(list(numbers))"
   ]
  },
  {
   "cell_type": "code",
   "execution_count": 48,
   "id": "cd8ea6fc-5dc4-4153-8346-7a0e7a5c1cce",
   "metadata": {},
   "outputs": [],
   "source": [
    "word1 = [\"you\",\"much\",\"hard\"]\n",
    "word2 = [\"i\",\"you\",\"he\"]\n",
    "word3 = [\"love\",\"ate\",\"works\"]"
   ]
  },
  {
   "cell_type": "code",
   "execution_count": 59,
   "id": "9233208f-52a5-417b-be75-8352b166eab7",
   "metadata": {},
   "outputs": [],
   "source": [
    "fonks = lambda x,y,z : y+\" \"+z+\" \"+x"
   ]
  },
  {
   "cell_type": "code",
   "execution_count": 60,
   "id": "1ca3b2ba-7747-40f6-8008-29e686de9c38",
   "metadata": {},
   "outputs": [
    {
     "name": "stdout",
     "output_type": "stream",
     "text": [
      "i love you\n",
      "you ate much\n",
      "he works hard\n"
     ]
    }
   ],
   "source": [
    "word4 = map(fonks, word1, word2, word3)\n",
    "print(* word4, sep=\"\\n\")"
   ]
  },
  {
   "cell_type": "code",
   "execution_count": 63,
   "id": "6f1d12cf-fcd6-4732-b295-00fc89aa6d8e",
   "metadata": {},
   "outputs": [
    {
     "name": "stdout",
     "output_type": "stream",
     "text": [
      "<class 'filter'>\n",
      "Even numbers are : [2, 4, 6]\n"
     ]
    }
   ],
   "source": [
    "first_ten = [1,2,3,4,5,6,7,8,9]\n",
    "even = filter (lambda x: x%2 == 0, first_ten)\n",
    "print(type(even))\n",
    "print(\"Even numbers are :\", list(even))             "
   ]
  },
  {
   "cell_type": "code",
   "execution_count": 69,
   "id": "ad23a1c0-170e-473a-ab8d-56cf52e03496",
   "metadata": {},
   "outputs": [
    {
     "name": "stdout",
     "output_type": "stream",
     "text": [
      "swim\n",
      "me\n",
      "kiwi\n"
     ]
    }
   ],
   "source": [
    "words = [\"apple\", \"swim\", \"clock\", \"me\", \"kiwi\", \"banana\"]\n",
    "filt = lambda x: len(x) < 5\n",
    "filtter = filter(filt, words)\n",
    "print( * filtter, sep=\"\\n\")"
   ]
  },
  {
   "cell_type": "code",
   "execution_count": 67,
   "id": "3cc376b0-8b87-45a7-aa24-1b06daafd695",
   "metadata": {},
   "outputs": [],
   "source": [
    "words = [\"apple\", \"swim\", \"clock\", \"me\", \"kiwi\", \"banana\"]"
   ]
  },
  {
   "cell_type": "code",
   "execution_count": 68,
   "id": "80b031a7-2927-4876-a0d6-d0d40647ade9",
   "metadata": {},
   "outputs": [
    {
     "name": "stdout",
     "output_type": "stream",
     "text": [
      "swim\n",
      "me\n",
      "kiwi\n"
     ]
    }
   ],
   "source": [
    "for i in filter(lambda x : len(x) < 5, words) :\n",
    "    print(i)"
   ]
  },
  {
   "cell_type": "code",
   "execution_count": 70,
   "id": "3747c29e-896a-41e9-8ba7-1c6aee8f9789",
   "metadata": {},
   "outputs": [],
   "source": [
    "vowel_list = ['a', 'e', 'i', 'o', 'u']\n",
    "first_ten = ['a', 'b', 'c', 'd', 'e', 'f', 'g', 'h', 'i', 'j']"
   ]
  },
  {
   "cell_type": "code",
   "execution_count": 74,
   "id": "fac0c471-3da6-4b3b-815b-20fc8144604f",
   "metadata": {},
   "outputs": [
    {
     "name": "stdout",
     "output_type": "stream",
     "text": [
      "['a', 'e', 'i']\n"
     ]
    }
   ],
   "source": [
    "vowels = filter(lambda x: x in vowel_list, first_ten)\n",
    "print(list(vowels))"
   ]
  },
  {
   "cell_type": "code",
   "execution_count": 75,
   "id": "446bb71e-0a67-43cd-a06c-fdff920fe21e",
   "metadata": {},
   "outputs": [],
   "source": [
    "def modular(n) :\n",
    "    return lambda x : x ** n"
   ]
  },
  {
   "cell_type": "code",
   "execution_count": 76,
   "id": "b64f2aee-db67-4602-8eec-42006c56de59",
   "metadata": {},
   "outputs": [],
   "source": [
    "karesinial = modular(2) #  hazır lambda fonsiyonu oldu"
   ]
  },
  {
   "cell_type": "code",
   "execution_count": 77,
   "id": "a81a62bb-a2bc-4a5b-b747-0b4dcb041a77",
   "metadata": {},
   "outputs": [
    {
     "data": {
      "text/plain": [
       "<function __main__.modular.<locals>.<lambda>(x)>"
      ]
     },
     "execution_count": 77,
     "metadata": {},
     "output_type": "execute_result"
    }
   ],
   "source": [
    "karesinial"
   ]
  },
  {
   "cell_type": "code",
   "execution_count": 78,
   "id": "adbf72b8-40a8-4cdc-84cf-4f02a247852a",
   "metadata": {},
   "outputs": [
    {
     "data": {
      "text/plain": [
       "9"
      ]
     },
     "execution_count": 78,
     "metadata": {},
     "output_type": "execute_result"
    }
   ],
   "source": [
    "karesinial(3)"
   ]
  },
  {
   "cell_type": "code",
   "execution_count": 79,
   "id": "a36c4792-1bcd-49c2-9caf-144cf508f65d",
   "metadata": {},
   "outputs": [],
   "source": [
    "kupunual = modular(3)"
   ]
  },
  {
   "cell_type": "code",
   "execution_count": 80,
   "id": "b02f3289-388c-4dab-8627-aec8af396905",
   "metadata": {},
   "outputs": [
    {
     "data": {
      "text/plain": [
       "8"
      ]
     },
     "execution_count": 80,
     "metadata": {},
     "output_type": "execute_result"
    }
   ],
   "source": [
    "kupunual(2)"
   ]
  },
  {
   "cell_type": "code",
   "execution_count": 82,
   "id": "f01f18a3-71ef-42b3-8a9e-538196da153b",
   "metadata": {},
   "outputs": [
    {
     "name": "stdout",
     "output_type": "stream",
     "text": [
      "alex alex \n",
      "lara lara lara \n",
      "linda linda linda linda \n"
     ]
    }
   ],
   "source": [
    "def repeater(n) :\n",
    "    return lambda x: x*n\n",
    "repeater_2_times = repeater(2)\n",
    "repeater_3_times = repeater(3)\n",
    "repeater_4_times = repeater(4)\n",
    "print(repeater_2_times(\"alex \"))\n",
    "print(repeater_3_times(\"lara \"))\n",
    "print(repeater_4_times(\"linda \"))"
   ]
  },
  {
   "cell_type": "code",
   "execution_count": 86,
   "id": "6c15c146-86e0-4c1e-9c80-b7192086d6d0",
   "metadata": {},
   "outputs": [
    {
     "name": "stdout",
     "output_type": "stream",
     "text": [
      "hello :)\n",
      "None\n",
      "hello :(\n",
      "None\n"
     ]
    }
   ],
   "source": [
    "def emoji(n) :\n",
    "    return lambda x :print(x, n)\n",
    "print(emoji(\":)\")(\"hello\"))\n",
    "print(emoji(\":(\")(\"hello\"))"
   ]
  },
  {
   "cell_type": "code",
   "execution_count": 89,
   "id": "3327b6c5-7579-4d26-8ace-fc3771cc0cb4",
   "metadata": {},
   "outputs": [
    {
     "name": "stdout",
     "output_type": "stream",
     "text": [
      "ali :)\n"
     ]
    }
   ],
   "source": [
    "(lambda x : print(x, \":)\"))(\"ali\")"
   ]
  },
  {
   "cell_type": "code",
   "execution_count": 90,
   "id": "5e60e8b4-0474-4e97-b42a-b48e2478766c",
   "metadata": {},
   "outputs": [
    {
     "name": "stdout",
     "output_type": "stream",
     "text": [
      "ali :(\n"
     ]
    }
   ],
   "source": [
    "(lambda x : print(x, \":(\"))(\"ali\")"
   ]
  },
  {
   "cell_type": "code",
   "execution_count": 91,
   "id": "807f4648-7c3d-4c08-800f-2b4969d440bf",
   "metadata": {},
   "outputs": [
    {
     "name": "stdout",
     "output_type": "stream",
     "text": [
      "ali :|\n"
     ]
    }
   ],
   "source": [
    "(lambda x : print(x, \":|\"))(\"ali\")"
   ]
  },
  {
   "cell_type": "code",
   "execution_count": 92,
   "id": "ad2b7091-be07-482d-9004-cebaad0a81a3",
   "metadata": {},
   "outputs": [],
   "source": [
    "def functioner(emoji) :\n",
    "    return lambda x : print(x, emoji)"
   ]
  },
  {
   "cell_type": "code",
   "execution_count": 95,
   "id": "80d3d9c5-4792-4d41-9599-a13dfd341c3b",
   "metadata": {},
   "outputs": [],
   "source": [
    "myprint_smile = functioner(\":)\")\n",
    "myprint_sad = functioner(\":(\")\n",
    "myprint_neutral = functioner(\":|\")"
   ]
  },
  {
   "cell_type": "code",
   "execution_count": 96,
   "id": "ea3b584d-eb97-4838-b7ba-f73e77effb41",
   "metadata": {},
   "outputs": [
    {
     "name": "stdout",
     "output_type": "stream",
     "text": [
      "hello :(\n"
     ]
    }
   ],
   "source": [
    "myprint_sad(\"hello\")"
   ]
  },
  {
   "cell_type": "code",
   "execution_count": 104,
   "id": "7dc8e3cf-c0a0-4a54-b28b-5007ea7cf81d",
   "metadata": {},
   "outputs": [],
   "source": [
    "def function_max(max) :\n",
    "    return lambda x : max(x)"
   ]
  },
  {
   "cell_type": "code",
   "execution_count": 105,
   "id": "1ad45df0-461a-4c55-9779-d9e9ee8b68ec",
   "metadata": {},
   "outputs": [],
   "source": [
    "def function_print() :\n",
    "    return lambda x : print(x)"
   ]
  },
  {
   "cell_type": "code",
   "execution_count": 106,
   "id": "2aec2e72-9357-4fbb-9472-d4c9ee6ae869",
   "metadata": {},
   "outputs": [],
   "source": [
    "def function_sorted() :\n",
    "    return lambda x : sorted(x)"
   ]
  },
  {
   "cell_type": "code",
   "execution_count": 108,
   "id": "871bb899-0299-4730-9805-ff81c834ea32",
   "metadata": {},
   "outputs": [],
   "source": [
    "faruk_max = function_max(max)"
   ]
  },
  {
   "cell_type": "code",
   "execution_count": 110,
   "id": "c7130336-ad82-4684-9e20-9c1eda5804e8",
   "metadata": {},
   "outputs": [
    {
     "data": {
      "text/plain": [
       "69"
      ]
     },
     "execution_count": 110,
     "metadata": {},
     "output_type": "execute_result"
    }
   ],
   "source": [
    "faruk_max((1,8,45,69))"
   ]
  },
  {
   "cell_type": "code",
   "execution_count": null,
   "id": "39e13ead-9267-412c-b21b-c9a24fd54a37",
   "metadata": {},
   "outputs": [],
   "source": []
  }
 ],
 "metadata": {
  "kernelspec": {
   "display_name": "Python 3 (ipykernel)",
   "language": "python",
   "name": "python3"
  },
  "language_info": {
   "codemirror_mode": {
    "name": "ipython",
    "version": 3
   },
   "file_extension": ".py",
   "mimetype": "text/x-python",
   "name": "python",
   "nbconvert_exporter": "python",
   "pygments_lexer": "ipython3",
   "version": "3.9.7"
  }
 },
 "nbformat": 4,
 "nbformat_minor": 5
}
