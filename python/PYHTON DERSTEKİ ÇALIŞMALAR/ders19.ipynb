{
 "cells": [
  {
   "cell_type": "code",
   "execution_count": 1,
   "id": "86724fda-064a-4e3c-b76e-27aa3fc81f60",
   "metadata": {},
   "outputs": [
    {
     "name": "stdout",
     "output_type": "stream",
     "text": [
      "Hello\n",
      "Nothing is wrong\n"
     ]
    }
   ],
   "source": [
    "try:\n",
    "  print(\"Hello\")\n",
    "except:\n",
    "  print(\"Something is wrong\")\n",
    "else:\n",
    "  print(\"Nothing is wrong\")"
   ]
  },
  {
   "cell_type": "code",
   "execution_count": 2,
   "id": "18db06c4-1c6e-4dc6-b39b-be8e18375618",
   "metadata": {},
   "outputs": [
    {
     "name": "stdout",
     "output_type": "stream",
     "text": [
      "An exception occurred\n"
     ]
    }
   ],
   "source": [
    "try:\n",
    "  print(x)\n",
    "except:\n",
    "  print(\"An exception occurred\")"
   ]
  },
  {
   "cell_type": "code",
   "execution_count": 3,
   "id": "7c19bab1-ce8c-41e9-8a08-c618be349a30",
   "metadata": {},
   "outputs": [
    {
     "ename": "SyntaxError",
     "evalue": "unexpected EOF while parsing (Temp/ipykernel_39228/3988315941.py, line 2)",
     "output_type": "error",
     "traceback": [
      "\u001b[1;36m  File \u001b[1;32m\"C:\\Users\\YFHP\\AppData\\Local\\Temp/ipykernel_39228/3988315941.py\"\u001b[1;36m, line \u001b[1;32m2\u001b[0m\n\u001b[1;33m    print(hello\u001b[0m\n\u001b[1;37m               ^\u001b[0m\n\u001b[1;31mSyntaxError\u001b[0m\u001b[1;31m:\u001b[0m unexpected EOF while parsing\n"
     ]
    }
   ],
   "source": [
    "# This is a syntaxerror\n",
    "print(\"hello\")\n",
    "print(hello"
   ]
  },
  {
   "cell_type": "code",
   "execution_count": 4,
   "id": "a66a6ce1-bee0-4788-bf02-36b05356be61",
   "metadata": {},
   "outputs": [
    {
     "name": "stdout",
     "output_type": "stream",
     "text": [
      "hello\n"
     ]
    },
    {
     "ename": "NameError",
     "evalue": "name 'hello' is not defined",
     "output_type": "error",
     "traceback": [
      "\u001b[1;31m---------------------------------------------------------------------------\u001b[0m",
      "\u001b[1;31mNameError\u001b[0m                                 Traceback (most recent call last)",
      "\u001b[1;32m~\\AppData\\Local\\Temp/ipykernel_39228/4083335024.py\u001b[0m in \u001b[0;36m<module>\u001b[1;34m\u001b[0m\n\u001b[0;32m      1\u001b[0m \u001b[1;31m# This is a syntaxerror\u001b[0m\u001b[1;33m\u001b[0m\u001b[1;33m\u001b[0m\u001b[0m\n\u001b[0;32m      2\u001b[0m \u001b[0mprint\u001b[0m\u001b[1;33m(\u001b[0m\u001b[1;34m\"hello\"\u001b[0m\u001b[1;33m)\u001b[0m\u001b[1;33m\u001b[0m\u001b[1;33m\u001b[0m\u001b[0m\n\u001b[1;32m----> 3\u001b[1;33m \u001b[0mprint\u001b[0m\u001b[1;33m(\u001b[0m\u001b[0mhello\u001b[0m\u001b[1;33m)\u001b[0m\u001b[1;33m\u001b[0m\u001b[1;33m\u001b[0m\u001b[0m\n\u001b[0m",
      "\u001b[1;31mNameError\u001b[0m: name 'hello' is not defined"
     ]
    }
   ],
   "source": [
    "# This is a nameerror\n",
    "print(\"hello\")\n",
    "print(hello)"
   ]
  },
  {
   "cell_type": "code",
   "execution_count": 6,
   "id": "3683f830-a7de-4a39-bf84-254dd8de6c4f",
   "metadata": {},
   "outputs": [
    {
     "ename": "ValueError",
     "evalue": "invalid literal for int() with base 10: 'on'",
     "output_type": "error",
     "traceback": [
      "\u001b[1;31m---------------------------------------------------------------------------\u001b[0m",
      "\u001b[1;31mValueError\u001b[0m                                Traceback (most recent call last)",
      "\u001b[1;32m~\\AppData\\Local\\Temp/ipykernel_39228/2775128334.py\u001b[0m in \u001b[0;36m<module>\u001b[1;34m\u001b[0m\n\u001b[0;32m      1\u001b[0m \u001b[1;31m# This is a ValueError\u001b[0m\u001b[1;33m\u001b[0m\u001b[1;33m\u001b[0m\u001b[0m\n\u001b[1;32m----> 2\u001b[1;33m \u001b[0mint\u001b[0m\u001b[1;33m(\u001b[0m\u001b[1;34m\"on\"\u001b[0m\u001b[1;33m)\u001b[0m\u001b[1;33m\u001b[0m\u001b[1;33m\u001b[0m\u001b[0m\n\u001b[0m",
      "\u001b[1;31mValueError\u001b[0m: invalid literal for int() with base 10: 'on'"
     ]
    }
   ],
   "source": [
    "# This is a ValueError\n",
    "int(\"on\")"
   ]
  },
  {
   "cell_type": "code",
   "execution_count": 7,
   "id": "9114feea-f63a-4fcd-9bc3-61affb383109",
   "metadata": {},
   "outputs": [],
   "source": [
    "import math"
   ]
  },
  {
   "cell_type": "code",
   "execution_count": 12,
   "id": "cdf83f5f-9bc9-425f-a087-6ceae7fc2d22",
   "metadata": {},
   "outputs": [
    {
     "ename": "ValueError",
     "evalue": "math domain error",
     "output_type": "error",
     "traceback": [
      "\u001b[1;31m---------------------------------------------------------------------------\u001b[0m",
      "\u001b[1;31mValueError\u001b[0m                                Traceback (most recent call last)",
      "\u001b[1;32m~\\AppData\\Local\\Temp/ipykernel_39228/3603057933.py\u001b[0m in \u001b[0;36m<module>\u001b[1;34m\u001b[0m\n\u001b[1;32m----> 1\u001b[1;33m \u001b[0mmath\u001b[0m\u001b[1;33m.\u001b[0m\u001b[0msqrt\u001b[0m\u001b[1;33m(\u001b[0m\u001b[1;33m-\u001b[0m\u001b[1;36m21\u001b[0m\u001b[1;33m)\u001b[0m\u001b[1;33m\u001b[0m\u001b[1;33m\u001b[0m\u001b[0m\n\u001b[0m",
      "\u001b[1;31mValueError\u001b[0m: math domain error"
     ]
    }
   ],
   "source": [
    "math.sqrt(-21) #karakök alma"
   ]
  },
  {
   "cell_type": "code",
   "execution_count": 11,
   "id": "8f8cf30f-2d05-42b3-98b3-1cfe36170677",
   "metadata": {},
   "outputs": [
    {
     "ename": "ValueError",
     "evalue": "factorial() not defined for negative values",
     "output_type": "error",
     "traceback": [
      "\u001b[1;31m---------------------------------------------------------------------------\u001b[0m",
      "\u001b[1;31mValueError\u001b[0m                                Traceback (most recent call last)",
      "\u001b[1;32m~\\AppData\\Local\\Temp/ipykernel_39228/3559545449.py\u001b[0m in \u001b[0;36m<module>\u001b[1;34m\u001b[0m\n\u001b[1;32m----> 1\u001b[1;33m \u001b[0mmath\u001b[0m\u001b[1;33m.\u001b[0m\u001b[0mfactorial\u001b[0m\u001b[1;33m(\u001b[0m\u001b[1;33m-\u001b[0m\u001b[1;36m5\u001b[0m\u001b[1;33m)\u001b[0m\u001b[1;33m\u001b[0m\u001b[1;33m\u001b[0m\u001b[0m\n\u001b[0m",
      "\u001b[1;31mValueError\u001b[0m: factorial() not defined for negative values"
     ]
    }
   ],
   "source": [
    "math.factorial(-5)"
   ]
  },
  {
   "cell_type": "code",
   "execution_count": 15,
   "id": "2535885b-cad5-49cd-9653-d6509926eda6",
   "metadata": {},
   "outputs": [
    {
     "ename": "ValueError",
     "evalue": "math domain error",
     "output_type": "error",
     "traceback": [
      "\u001b[1;31m---------------------------------------------------------------------------\u001b[0m",
      "\u001b[1;31mValueError\u001b[0m                                Traceback (most recent call last)",
      "\u001b[1;32m~\\AppData\\Local\\Temp/ipykernel_39228/1667203701.py\u001b[0m in \u001b[0;36m<module>\u001b[1;34m\u001b[0m\n\u001b[1;32m----> 1\u001b[1;33m \u001b[0mmath\u001b[0m\u001b[1;33m.\u001b[0m\u001b[0mlog10\u001b[0m\u001b[1;33m(\u001b[0m\u001b[1;33m-\u001b[0m\u001b[1;36m100\u001b[0m\u001b[1;33m)\u001b[0m\u001b[1;33m\u001b[0m\u001b[1;33m\u001b[0m\u001b[0m\n\u001b[0m",
      "\u001b[1;31mValueError\u001b[0m: math domain error"
     ]
    }
   ],
   "source": [
    "math.log10(-100)"
   ]
  },
  {
   "cell_type": "code",
   "execution_count": 66,
   "id": "f05036f2-3793-43b9-acac-aeafb4ec8cd9",
   "metadata": {},
   "outputs": [],
   "source": [
    "def my_fact(a):\n",
    "    if a == 1 or a == 0: \n",
    "        return 1\n",
    "    else:\n",
    "        return a * my_fact(a-1)"
   ]
  },
  {
   "cell_type": "code",
   "execution_count": 67,
   "id": "06fd0759-b1af-49c1-bd24-2b8f4f74c537",
   "metadata": {
    "tags": []
   },
   "outputs": [
    {
     "data": {
      "text/plain": [
       "120"
      ]
     },
     "execution_count": 67,
     "metadata": {},
     "output_type": "execute_result"
    }
   ],
   "source": [
    "my_fact(5)"
   ]
  },
  {
   "cell_type": "code",
   "execution_count": 55,
   "id": "2daa491d-ca37-4014-bbbc-e05dc31dbab0",
   "metadata": {},
   "outputs": [],
   "source": [
    "def my_facto(n) :\n",
    "    if n == 1 or n == 0 :\n",
    "        return 1\n",
    "    else :\n",
    "        return n * my_facto(n-1)"
   ]
  },
  {
   "cell_type": "code",
   "execution_count": 56,
   "id": "c724983e-9305-46c8-98ab-a0155ec6c545",
   "metadata": {},
   "outputs": [
    {
     "data": {
      "text/plain": [
       "24"
      ]
     },
     "execution_count": 56,
     "metadata": {},
     "output_type": "execute_result"
    }
   ],
   "source": [
    "my_facto(4)"
   ]
  },
  {
   "cell_type": "code",
   "execution_count": 68,
   "id": "5891baaf-2622-405d-a13f-5b959c0ae1b6",
   "metadata": {},
   "outputs": [
    {
     "ename": "NameError",
     "evalue": "name 'ABC' is not defined",
     "output_type": "error",
     "traceback": [
      "\u001b[1;31m---------------------------------------------------------------------------\u001b[0m",
      "\u001b[1;31mNameError\u001b[0m                                 Traceback (most recent call last)",
      "\u001b[1;32m~\\AppData\\Local\\Temp/ipykernel_39228/1210205719.py\u001b[0m in \u001b[0;36m<module>\u001b[1;34m\u001b[0m\n\u001b[0;32m      1\u001b[0m \u001b[0mabc\u001b[0m\u001b[1;33m=\u001b[0m \u001b[1;34m'name'\u001b[0m\u001b[1;33m\u001b[0m\u001b[1;33m\u001b[0m\u001b[0m\n\u001b[1;32m----> 2\u001b[1;33m \u001b[0mprint\u001b[0m\u001b[1;33m(\u001b[0m\u001b[0mABC\u001b[0m\u001b[1;33m)\u001b[0m\u001b[1;33m\u001b[0m\u001b[1;33m\u001b[0m\u001b[0m\n\u001b[0m",
      "\u001b[1;31mNameError\u001b[0m: name 'ABC' is not defined"
     ]
    }
   ],
   "source": [
    "abc= 'name'\n",
    "print(ABC)"
   ]
  },
  {
   "cell_type": "code",
   "execution_count": 88,
   "id": "157f77ea-ea6a-4099-8c72-42ca415451d1",
   "metadata": {},
   "outputs": [
    {
     "name": "stdout",
     "output_type": "stream",
     "text": [
      "[1, 2, 3, 4]\n",
      "[1, 2, 3]\n",
      "[3, 2, 1]\n",
      "[3, 2, 1, 6, 4, 2, 9, 6, 3]\n"
     ]
    }
   ],
   "source": [
    "a = list(range(1, 5))\n",
    "print(a)\n",
    "b = a\n",
    "b.pop()\n",
    "print(b)\n",
    "c = b[::-1]\n",
    "print(c)\n",
    "d = []\n",
    "for i in a :\n",
    "    for x in c :\n",
    "        d.append(i*x)\n",
    "print(d)"
   ]
  },
  {
   "cell_type": "code",
   "execution_count": 79,
   "id": "bc2a65c3-99a1-4440-b67b-265666f3c7f6",
   "metadata": {},
   "outputs": [
    {
     "name": "stdin",
     "output_type": "stream",
     "text": [
      "The first number please :  7\n",
      "The second number please :  1\n"
     ]
    },
    {
     "name": "stdout",
     "output_type": "stream",
     "text": [
      "The result of the division is :  7.0\n"
     ]
    }
   ],
   "source": [
    "while True:\n",
    "    no_one = int(input(\"The first number please : \"))\n",
    "    no_two = int(input(\"The second number please : \"))\n",
    "    division = no_one / no_two\n",
    "    print(\"The result of the division is : \", division)\n",
    "    break"
   ]
  },
  {
   "cell_type": "code",
   "execution_count": 82,
   "id": "c77e55e4-5cd6-421a-b918-39fae4550655",
   "metadata": {},
   "outputs": [
    {
     "name": "stdin",
     "output_type": "stream",
     "text": [
      "The first number please :  7\n",
      "The second number please :  0\n"
     ]
    },
    {
     "name": "stdout",
     "output_type": "stream",
     "text": [
      "Something is wrong. enter again\n"
     ]
    },
    {
     "name": "stdin",
     "output_type": "stream",
     "text": [
      "The first number please :  7\n",
      "The second number please :  0\n"
     ]
    },
    {
     "name": "stdout",
     "output_type": "stream",
     "text": [
      "Something is wrong. enter again\n"
     ]
    },
    {
     "name": "stdin",
     "output_type": "stream",
     "text": [
      "The first number please :  7\n",
      "The second number please :  2\n"
     ]
    },
    {
     "name": "stdout",
     "output_type": "stream",
     "text": [
      "The result of the division is :  3.5\n"
     ]
    }
   ],
   "source": [
    "while True:\n",
    "    no_one = int(input(\"The first number please : \"))\n",
    "    no_two = int(input(\"The second number please : \"))\n",
    "    \n",
    "    try :\n",
    "        division = no_one / no_two\n",
    "        print(\"The result of the division is : \", division)\n",
    "        break\n",
    "    except :\n",
    "        print(\"Something is wrong. enter again\")"
   ]
  },
  {
   "cell_type": "code",
   "execution_count": 5,
   "id": "dfebdcc9-a181-45b1-bc4a-6cdc74624670",
   "metadata": {},
   "outputs": [
    {
     "name": "stdin",
     "output_type": "stream",
     "text": [
      "The first number please :  7\n",
      "The second number please :  7\n"
     ]
    },
    {
     "name": "stdout",
     "output_type": "stream",
     "text": [
      "The result of the division is :  1.0\n"
     ]
    }
   ],
   "source": [
    "while True:\n",
    "        try :\n",
    "            no_one = int(input(\"The first number please : \"))\n",
    "            no_two = int(input(\"The second number please : \"))  \n",
    "\n",
    "            division = no_one / no_two\n",
    "            print(\"The result of the division is : \", division)\n",
    "            break\n",
    "        except :\n",
    "            print(\"Something is wrong. enter again\")"
   ]
  },
  {
   "cell_type": "code",
   "execution_count": 29,
   "id": "8c0cb0bf-f6e6-4850-a00a-5efcb6c30101",
   "metadata": {},
   "outputs": [
    {
     "name": "stdin",
     "output_type": "stream",
     "text": [
      "The first number please :  7\n",
      "The second number please :  0\n"
     ]
    },
    {
     "name": "stdout",
     "output_type": "stream",
     "text": [
      "You tried to divide by zero. enter again and dont use zero.\n"
     ]
    },
    {
     "name": "stdin",
     "output_type": "stream",
     "text": [
      "The first number please :  7\n",
      "The second number please :  1\n"
     ]
    },
    {
     "name": "stdout",
     "output_type": "stream",
     "text": [
      "The result of the division is :  7.0\n"
     ]
    }
   ],
   "source": [
    "while True:\n",
    "    no_one = int(input(\"The first number please : \"))\n",
    "    no_two = int(input(\"The second number please : \"))\n",
    "    \n",
    "    try :\n",
    "        division = no_one / no_two\n",
    "        print(\"The result of the division is : \", division)\n",
    "        break\n",
    "    except ZeroDivisionError :\n",
    "        print(\"You tried to divide by zero. enter again and dont use zero.\")"
   ]
  },
  {
   "cell_type": "code",
   "execution_count": 8,
   "id": "fed26fd0-3216-4cd5-975d-38c7ca639ae6",
   "metadata": {},
   "outputs": [
    {
     "ename": "TypeError",
     "evalue": "unsupported operand type(s) for +: 'int' and 'str'",
     "output_type": "error",
     "traceback": [
      "\u001b[1;31m---------------------------------------------------------------------------\u001b[0m",
      "\u001b[1;31mTypeError\u001b[0m                                 Traceback (most recent call last)",
      "\u001b[1;32m~\\AppData\\Local\\Temp/ipykernel_44212/3000387972.py\u001b[0m in \u001b[0;36m<module>\u001b[1;34m\u001b[0m\n\u001b[1;32m----> 1\u001b[1;33m \u001b[1;36m4\u001b[0m \u001b[1;33m+\u001b[0m \u001b[1;34m\"4\"\u001b[0m\u001b[1;33m\u001b[0m\u001b[1;33m\u001b[0m\u001b[0m\n\u001b[0m",
      "\u001b[1;31mTypeError\u001b[0m: unsupported operand type(s) for +: 'int' and 'str'"
     ]
    }
   ],
   "source": [
    "4 + \"4\""
   ]
  },
  {
   "cell_type": "code",
   "execution_count": 10,
   "id": "34681f8d-9419-436c-8568-432485a6353a",
   "metadata": {},
   "outputs": [
    {
     "name": "stdout",
     "output_type": "stream",
     "text": [
      "muhtemelen yanlış bir şey yaptım.\n"
     ]
    }
   ],
   "source": [
    "try :\n",
    "    print(4 + \"4\")\n",
    "except :\n",
    "    print(\"muhtemelen yanlış bir şey yaptım.\")"
   ]
  },
  {
   "cell_type": "code",
   "execution_count": 11,
   "id": "aeaf85a6-0c0a-425f-a496-351933b34701",
   "metadata": {},
   "outputs": [
    {
     "name": "stdout",
     "output_type": "stream",
     "text": [
      "44\n"
     ]
    }
   ],
   "source": [
    "try :\n",
    "    print(\"4\" + \"4\")\n",
    "except :\n",
    "    print(\"muhtemelen yanlış bir şey yaptım.\")"
   ]
  },
  {
   "cell_type": "code",
   "execution_count": 13,
   "id": "9895991b-b541-458c-90bd-044a88f34df0",
   "metadata": {},
   "outputs": [
    {
     "name": "stdout",
     "output_type": "stream",
     "text": [
      "Thre is something went wrong\n"
     ]
    }
   ],
   "source": [
    "try :\n",
    "    file = open(\"my_file.txt\", \"r\")\n",
    "    print(file.read())\n",
    "    file.close()\n",
    "except :\n",
    "    print(\"Thre is something went wrong\")"
   ]
  },
  {
   "cell_type": "code",
   "execution_count": 14,
   "id": "210c5bbd-7b27-4a9f-8010-808ec30ff04a",
   "metadata": {},
   "outputs": [
    {
     "ename": "SyntaxError",
     "evalue": "unexpected EOF while parsing (Temp/ipykernel_44212/33681886.py, line 4)",
     "output_type": "error",
     "traceback": [
      "\u001b[1;36m  File \u001b[1;32m\"C:\\Users\\YFHP\\AppData\\Local\\Temp/ipykernel_44212/33681886.py\"\u001b[1;36m, line \u001b[1;32m4\u001b[0m\n\u001b[1;33m    file.close()\u001b[0m\n\u001b[1;37m                ^\u001b[0m\n\u001b[1;31mSyntaxError\u001b[0m\u001b[1;31m:\u001b[0m unexpected EOF while parsing\n"
     ]
    }
   ],
   "source": [
    "try :\n",
    "    file = open(\"my_file.txt\", \"r\")\n",
    "    print(file.read())\n",
    "    file.close()"
   ]
  },
  {
   "cell_type": "code",
   "execution_count": 17,
   "id": "925307ed-f979-48f2-b0ae-546505460854",
   "metadata": {},
   "outputs": [
    {
     "name": "stdout",
     "output_type": "stream",
     "text": [
      "Thre is not such a file or the path is incorrect.\n"
     ]
    }
   ],
   "source": [
    "try :\n",
    "    file = open(\"my_file.txt\", \"r\")\n",
    "    print(file.read())\n",
    "    file.close()\n",
    "except FileNotFoundError:\n",
    "    print(\"Thre is not such a file or the path is incorrect.\")"
   ]
  },
  {
   "cell_type": "code",
   "execution_count": 18,
   "id": "44a01ffa-3333-4b42-935e-5c3c6be686d4",
   "metadata": {},
   "outputs": [
    {
     "name": "stdout",
     "output_type": "stream",
     "text": [
      "The type is İncorrect\n"
     ]
    }
   ],
   "source": [
    "try :\n",
    "    a = 4 + \"4\"\n",
    "    file = open(\"my_file.txt\", \"r\")\n",
    "    print(file.read())\n",
    "    file.close()\n",
    "except FileNotFoundError:\n",
    "    print(\"Thre is not such a file or the path is incorrect.\")\n",
    "except TypeError:\n",
    "    print(\"The type is İncorrect\")"
   ]
  },
  {
   "cell_type": "code",
   "execution_count": 19,
   "id": "8ce05364-1fae-4c2e-8f6e-bc698fbe9131",
   "metadata": {},
   "outputs": [
    {
     "name": "stdout",
     "output_type": "stream",
     "text": [
      "hello\n",
      "aaa demekki. hata yükselmmeiş. try içeridinde exception yok. super 45\n",
      "WEh nihayet bana sıra geldi. Önünde sonunda çalışırım.\n"
     ]
    }
   ],
   "source": [
    "try :\n",
    "     sonuc = \"4\" + \"5\"\n",
    "     print(\"hello\")\n",
    "except TypeError :\n",
    "    print(\"Type hatası var. Tipi kontrol etsen iyi olur.\")\n",
    "else :\n",
    "    print(\"aaa demekki. hata yükselmemeiş. try içeridinde exception yok. super\", sonuc)\n",
    "finally :\n",
    "     print(\"Eh nihayet bana sıra geldi. Önünde sonunda çalışırım.\")"
   ]
  },
  {
   "cell_type": "code",
   "execution_count": 20,
   "id": "24c8b0f1-e799-4b1b-bf61-c5982cc06f33",
   "metadata": {},
   "outputs": [
    {
     "name": "stdout",
     "output_type": "stream",
     "text": [
      "Type hatası var. Tipi kontrol etsen iyi olur.\n",
      "Eh nihayet bana sıra geldi. Önünde sonunda çalışırım.\n"
     ]
    }
   ],
   "source": [
    "try :\n",
    "     sonuc = 4 + \"5\"\n",
    "     print(\"hello\")\n",
    "except TypeError :\n",
    "    print(\"Type hatası var. Tipi kontrol etsen iyi olur.\")\n",
    "else :\n",
    "    print(\"aaa demekki. hata yükselmemeiş. try içeridinde exception yok. super\", sonuc)\n",
    "finally :\n",
    "     print(\"Eh nihayet bana sıra geldi. Önünde sonunda çalışırım.\")"
   ]
  },
  {
   "cell_type": "code",
   "execution_count": 23,
   "id": "641fab41-cd32-4810-a77c-457bec77b5af",
   "metadata": {},
   "outputs": [
    {
     "name": "stdout",
     "output_type": "stream",
     "text": [
      "hello universe\n",
      "Type hatası var. Tipi kontrol etsen iyi olur.\n",
      "Eh nihayet bana sıra geldi. Önünde sonunda çalışırım.\n"
     ]
    }
   ],
   "source": [
    "try :\n",
    "     print(\"hello universe\")\n",
    "     sonuc = 4 + \"5\"\n",
    "     print(\"hello\")\n",
    "except TypeError :\n",
    "    print(\"Type hatası var. Tipi kontrol etsen iyi olur.\")\n",
    "else :\n",
    "    print(\"aaa demekki. hata yükselmemeiş. try içeridinde exception yok. super\", sonuc)\n",
    "finally :\n",
    "     print(\"Eh nihayet bana sıra geldi. Önünde sonunda çalışırım.\")"
   ]
  },
  {
   "cell_type": "code",
   "execution_count": 26,
   "id": "82ef00df-9a82-40b6-93bb-e8490c19589c",
   "metadata": {},
   "outputs": [
    {
     "name": "stdout",
     "output_type": "stream",
     "text": [
      "hello universe\n",
      "Eh nihayet bana sıra geldi. Önünde sonunda çalışırım.\n"
     ]
    },
    {
     "ename": "TypeError",
     "evalue": "unsupported operand type(s) for +: 'int' and 'str'",
     "output_type": "error",
     "traceback": [
      "\u001b[1;31m---------------------------------------------------------------------------\u001b[0m",
      "\u001b[1;31mTypeError\u001b[0m                                 Traceback (most recent call last)",
      "\u001b[1;32m~\\AppData\\Local\\Temp/ipykernel_44212/3820508858.py\u001b[0m in \u001b[0;36m<module>\u001b[1;34m\u001b[0m\n\u001b[0;32m      1\u001b[0m \u001b[1;32mtry\u001b[0m \u001b[1;33m:\u001b[0m\u001b[1;33m\u001b[0m\u001b[1;33m\u001b[0m\u001b[0m\n\u001b[0;32m      2\u001b[0m      \u001b[0mprint\u001b[0m\u001b[1;33m(\u001b[0m\u001b[1;34m\"hello universe\"\u001b[0m\u001b[1;33m)\u001b[0m\u001b[1;33m\u001b[0m\u001b[1;33m\u001b[0m\u001b[0m\n\u001b[1;32m----> 3\u001b[1;33m      \u001b[0msonuc\u001b[0m \u001b[1;33m=\u001b[0m \u001b[1;36m4\u001b[0m \u001b[1;33m+\u001b[0m \u001b[1;34m\"5\"\u001b[0m\u001b[1;33m\u001b[0m\u001b[1;33m\u001b[0m\u001b[0m\n\u001b[0m\u001b[0;32m      4\u001b[0m      \u001b[0mprint\u001b[0m\u001b[1;33m(\u001b[0m\u001b[1;34m\"hello\"\u001b[0m\u001b[1;33m)\u001b[0m\u001b[1;33m\u001b[0m\u001b[1;33m\u001b[0m\u001b[0m\n\u001b[0;32m      5\u001b[0m \u001b[1;32mexcept\u001b[0m \u001b[0mValueError\u001b[0m \u001b[1;33m:\u001b[0m\u001b[1;33m\u001b[0m\u001b[1;33m\u001b[0m\u001b[0m\n",
      "\u001b[1;31mTypeError\u001b[0m: unsupported operand type(s) for +: 'int' and 'str'"
     ]
    }
   ],
   "source": [
    "try :\n",
    "     print(\"hello universe\")\n",
    "     sonuc = 4 + \"5\"\n",
    "     print(\"hello\")\n",
    "except ValueError :\n",
    "    print(\"Type hatası var. Tipi kontrol etsen iyi olur.\")\n",
    "else :\n",
    "    print(\"aaa demekki. hata yükselmemeiş. try içeridinde exception yok. super\", sonuc)\n",
    "finally :\n",
    "     print(\"Eh nihayet bana sıra geldi. Önünde sonunda çalışırım.\")"
   ]
  },
  {
   "cell_type": "code",
   "execution_count": 27,
   "id": "470a1a09-4f2e-490a-9151-8da0c81f74c1",
   "metadata": {},
   "outputs": [
    {
     "name": "stdout",
     "output_type": "stream",
     "text": [
      "hello universe\n",
      "Type hatası var. Tipi kontrol etsen iyi olur.\n",
      "Eh nihayet bana sıra geldi. Önünde sonunda çalışırım.\n"
     ]
    }
   ],
   "source": [
    "try :\n",
    "     print(\"hello universe\")\n",
    "     sonuc = 4 + \"5\"\n",
    "     print(\"hello\")\n",
    "except :\n",
    "    print(\"Type hatası var. Tipi kontrol etsen iyi olur.\")\n",
    "else :\n",
    "    print(\"aaa demekki. hata yükselmemeiş. try içeridinde exception yok. super\", sonuc)\n",
    "finally :\n",
    "     print(\"Eh nihayet bana sıra geldi. Önünde sonunda çalışırım.\")"
   ]
  },
  {
   "cell_type": "code",
   "execution_count": 28,
   "id": "4b504449-2107-4560-bbe7-d494aa7dd985",
   "metadata": {},
   "outputs": [
    {
     "name": "stdout",
     "output_type": "stream",
     "text": [
      "hello universe\n",
      "TypeError'e göre işlem yap. Code yaz.\n",
      "Eh nihayet bana sıra geldi. Önünde sonunda çalışırım.\n"
     ]
    }
   ],
   "source": [
    "try :\n",
    "     print(\"hello universe\")\n",
    "     sonuc = 4 + \"5\"\n",
    "     print(\"hello\")\n",
    "except ValueError:\n",
    "    print(\"ValueError'e göre işlem yap. Code yaz.\")\n",
    "except TypeError:\n",
    "    print(\"TypeError'e göre işlem yap. Code yaz.\")\n",
    "except ZeroDivisionError:\n",
    "    print(\"ZeroDivisionError'e göre işlem yap. Code yaz.\")\n",
    "else :\n",
    "    print(\"aaa demekki. hata yükselmemeiş. try içeridinde exception yok. super\", sonuc)\n",
    "finally :\n",
    "     print(\"Eh nihayet bana sıra geldi. Önünde sonunda çalışırım.\")"
   ]
  },
  {
   "cell_type": "code",
   "execution_count": 30,
   "id": "c9596576-138b-48c5-986f-d4ad1be0407a",
   "metadata": {},
   "outputs": [
    {
     "name": "stdin",
     "output_type": "stream",
     "text": [
      "The first number please :  7\n",
      "The second number please :  0\n"
     ]
    },
    {
     "name": "stdout",
     "output_type": "stream",
     "text": [
      "You can't divide by zero! Try again.\n",
      "Thanks for using our mini divison calculator! Come again!\n"
     ]
    }
   ],
   "source": [
    "while True:\n",
    "    no_one = int(input(\"The first number please : \"))\n",
    "    no_two = int(input(\"The second number please : \"))\n",
    "    try:\n",
    "        division = no_one / no_two  # normal part of the program\n",
    "    except ZeroDivisionError:\n",
    "        print(\"You can't divide by zero! Try again.\")  # executes when division by zero\n",
    "    else:\n",
    "        print(\"The result of the division is : \", division)  # executes if there is no exception\n",
    "    finally:\n",
    "        print(\"Thanks for using our mini divison calculator! Come again!\")\n",
    "        break  # exits the while loop"
   ]
  },
  {
   "cell_type": "code",
   "execution_count": 32,
   "id": "3be7aa73-ff56-44bd-8fa8-15125eb4535b",
   "metadata": {},
   "outputs": [
    {
     "name": "stdin",
     "output_type": "stream",
     "text": [
      "The first number please :  7\n",
      "The second number please :  0\n"
     ]
    },
    {
     "name": "stdout",
     "output_type": "stream",
     "text": [
      "Something went wrong...Try again.\n",
      "Probably it is because of 'division by zero' error\n"
     ]
    }
   ],
   "source": [
    "while True:\n",
    "    no_one = int(input(\"The first number please : \"))\n",
    "    no_two = int(input(\"The second number please : \"))\n",
    "    try:\n",
    "        division = no_one / no_two\n",
    "        print(\"The result of the division is : \", division)\n",
    "        break\n",
    "    except Exception as e:\n",
    "        print(\"Something went wrong...Try again.\")\n",
    "        print(\"Probably it is because of '{}' error\".format(e))\n",
    "        break"
   ]
  },
  {
   "cell_type": "code",
   "execution_count": 33,
   "id": "3a970398-825d-4b71-94f1-83386780308f",
   "metadata": {},
   "outputs": [
    {
     "name": "stdout",
     "output_type": "stream",
     "text": [
      "unsupported operand type(s) for +: 'int' and 'str'\n"
     ]
    }
   ],
   "source": [
    "try :\n",
    "    4 + \"4\"\n",
    "except Exception as frk :\n",
    "    print(frk)"
   ]
  },
  {
   "cell_type": "code",
   "execution_count": 34,
   "id": "38ef44f1-b384-4eec-a94b-77f869dadf46",
   "metadata": {},
   "outputs": [
    {
     "ename": "TypeError",
     "evalue": "unsupported operand type(s) for +: 'int' and 'str'",
     "output_type": "error",
     "traceback": [
      "\u001b[1;31m---------------------------------------------------------------------------\u001b[0m",
      "\u001b[1;31mTypeError\u001b[0m                                 Traceback (most recent call last)",
      "\u001b[1;32m~\\AppData\\Local\\Temp/ipykernel_44212/3000387972.py\u001b[0m in \u001b[0;36m<module>\u001b[1;34m\u001b[0m\n\u001b[1;32m----> 1\u001b[1;33m \u001b[1;36m4\u001b[0m \u001b[1;33m+\u001b[0m \u001b[1;34m\"4\"\u001b[0m\u001b[1;33m\u001b[0m\u001b[1;33m\u001b[0m\u001b[0m\n\u001b[0m",
      "\u001b[1;31mTypeError\u001b[0m: unsupported operand type(s) for +: 'int' and 'str'"
     ]
    }
   ],
   "source": [
    "4 + \"4\""
   ]
  },
  {
   "cell_type": "code",
   "execution_count": null,
   "id": "e7da2d82-b59c-46a4-93a7-728300160432",
   "metadata": {},
   "outputs": [],
   "source": []
  },
  {
   "cell_type": "code",
   "execution_count": null,
   "id": "86f72c58-1660-4540-a2fb-c13ac9524195",
   "metadata": {},
   "outputs": [],
   "source": []
  }
 ],
 "metadata": {
  "kernelspec": {
   "display_name": "Python 3 (ipykernel)",
   "language": "python",
   "name": "python3"
  },
  "language_info": {
   "codemirror_mode": {
    "name": "ipython",
    "version": 3
   },
   "file_extension": ".py",
   "mimetype": "text/x-python",
   "name": "python",
   "nbconvert_exporter": "python",
   "pygments_lexer": "ipython3",
   "version": "3.9.7"
  }
 },
 "nbformat": 4,
 "nbformat_minor": 5
}
