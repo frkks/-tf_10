{
 "cells": [
  {
   "cell_type": "code",
   "execution_count": 22,
   "id": "e9bc7919-dcab-4529-b762-28b55374da76",
   "metadata": {},
   "outputs": [
    {
     "name": "stdout",
     "output_type": "stream",
     "text": [
      "False\n",
      "False\n",
      "True\n"
     ]
    }
   ],
   "source": [
    "text = \"clarusway\"\n",
    "print(text.startswith(\"lc\"))\n",
    "print(text.endswith(\"lc\"))\n",
    "print(text.startswith(\"u\", 4))"
   ]
  },
  {
   "cell_type": "code",
   "execution_count": 23,
   "id": "bfd13cbc-4005-478d-99b2-0156f3aa79fc",
   "metadata": {},
   "outputs": [
    {
     "name": "stdout",
     "output_type": "stream",
     "text": [
      "True\n",
      "False 10 32\n"
     ]
    }
   ],
   "source": [
    "email = \"clarusway@clarusway.com is my e-mail address\"\n",
    "print(email.startswith(\"@\", 9))\n",
    "print(email.endswith(\"-\"), 10, 32)"
   ]
  },
  {
   "cell_type": "code",
   "execution_count": 24,
   "id": "ab4c34d4-f9af-40df-a0e1-5cad3dfe614a",
   "metadata": {},
   "outputs": [
    {
     "data": {
      "text/plain": [
       "'clarusway'"
      ]
     },
     "execution_count": 24,
     "metadata": {},
     "output_type": "execute_result"
    }
   ],
   "source": [
    "text = \"clarusway\"\n",
    "text.replace(\"c\", \"C\")  # atama yapmadığımız için değişmedi bunlar atama yapmaz\n",
    "text"
   ]
  },
  {
   "cell_type": "code",
   "execution_count": 25,
   "id": "5d9a3692-1dc8-4cf3-a096-a9c388a29c3d",
   "metadata": {},
   "outputs": [
    {
     "data": {
      "text/plain": [
       "'Clarusway'"
      ]
     },
     "execution_count": 25,
     "metadata": {},
     "output_type": "execute_result"
    }
   ],
   "source": [
    "yeni = text.replace(\"c\", \"C\")\n",
    "yeni"
   ]
  },
  {
   "cell_type": "code",
   "execution_count": 27,
   "id": "ef3a129c-6525-478f-8805-8ebd89f2afc7",
   "metadata": {},
   "outputs": [
    {
     "name": "stdout",
     "output_type": "stream",
     "text": [
      "listen first\n"
     ]
    }
   ],
   "source": [
    "space_string= \"    listen first    \"\n",
    "print(space_string.strip()) # her iki tarfdaki boşlukları kaldırır"
   ]
  },
  {
   "cell_type": "code",
   "execution_count": 34,
   "id": "956ae381-1616-456d-858c-3136d89d6b9e",
   "metadata": {},
   "outputs": [
    {
     "name": "stdout",
     "output_type": "stream",
     "text": [
      "laruswa\n"
     ]
    }
   ],
   "source": [
    "text = \"clarusway\"\n",
    "print(text.strip(\"cy\"))"
   ]
  },
  {
   "cell_type": "code",
   "execution_count": 36,
   "id": "e8ef4fc4-b1a3-45bc-971f-88b519f78692",
   "metadata": {},
   "outputs": [
    {
     "name": "stdout",
     "output_type": "stream",
     "text": [
      "-1\n"
     ]
    }
   ],
   "source": [
    "a = 1\n",
    "print(-a)"
   ]
  },
  {
   "cell_type": "code",
   "execution_count": 37,
   "id": "e4abf869-c28c-4ea8-acb8-54f203991997",
   "metadata": {},
   "outputs": [
    {
     "name": "stdout",
     "output_type": "stream",
     "text": [
      "11\n"
     ]
    }
   ],
   "source": [
    "b = -11\n",
    "print(-b)"
   ]
  },
  {
   "cell_type": "code",
   "execution_count": 45,
   "id": "7fae910a-69c5-4c6e-80b3-0a5aa329b7e1",
   "metadata": {},
   "outputs": [
    {
     "name": "stdout",
     "output_type": "stream",
     "text": [
      "The sum of 3 + 4 = 7\n"
     ]
    }
   ],
   "source": [
    "a = 3\n",
    "b = 4 \n",
    "print(\"The sum of {} + {} = {}\".format(a, b, a+b))"
   ]
  },
  {
   "cell_type": "code",
   "execution_count": 47,
   "id": "94ec42a4-a80e-4132-9836-0d5676e54530",
   "metadata": {},
   "outputs": [
    {
     "name": "stdout",
     "output_type": "stream",
     "text": [
      "The multiplication of 3 x 4 = 12 \n"
     ]
    }
   ],
   "source": [
    "a = 3\n",
    "b = 4 \n",
    "print(\"The multiplication of {} x {} = {} \".format(a, b, a*b))"
   ]
  },
  {
   "cell_type": "code",
   "execution_count": 48,
   "id": "6652cb95-d907-4d16-b4f4-808a4f250e9a",
   "metadata": {},
   "outputs": [
    {
     "name": "stdout",
     "output_type": "stream",
     "text": [
      "The base of 3 x 4 = 81 \n"
     ]
    }
   ],
   "source": [
    "a = 3\n",
    "b = 4 \n",
    "print(\"The base of {} x {} = {} \".format(a, b, a**b))"
   ]
  },
  {
   "cell_type": "code",
   "execution_count": 49,
   "id": "550ae0b9-f453-42da-b002-982114e448d3",
   "metadata": {},
   "outputs": [
    {
     "data": {
      "text/plain": [
       "'3.1463, 5.367, 7.324324'"
      ]
     },
     "execution_count": 49,
     "metadata": {},
     "output_type": "execute_result"
    }
   ],
   "source": [
    "text = \"{}, {}, {}\".format(3.1463, 5.367, 7.324324)\n",
    "text"
   ]
  },
  {
   "cell_type": "code",
   "execution_count": 50,
   "id": "5dc31d33-0028-4c5a-b91e-cac003f3cafc",
   "metadata": {},
   "outputs": [
    {
     "data": {
      "text/plain": [
       "'3.15, 5.367, 7.3243'"
      ]
     },
     "execution_count": 50,
     "metadata": {},
     "output_type": "execute_result"
    }
   ],
   "source": [
    "text = \"{:.2f}, {:.3f}, {:.4f}\".format(3.1463, 5.367, 7.324324)\n",
    "text"
   ]
  },
  {
   "cell_type": "code",
   "execution_count": 53,
   "id": "1ffa478a-722a-4115-b6f0-cd4b294c4164",
   "metadata": {},
   "outputs": [
    {
     "data": {
      "text/plain": [
       "'a3, 5.b, 7.32'"
      ]
     },
     "execution_count": 53,
     "metadata": {},
     "output_type": "execute_result"
    }
   ],
   "source": [
    "text =  \"{:.2s}, {:.3s}, {:.4s}\".format(\"a3.1463\", \"5.b67\", \"7.32432c\")\n",
    "text"
   ]
  },
  {
   "cell_type": "code",
   "execution_count": 52,
   "id": "26be1f95-cbec-4afe-b05c-5a5d6e20c6d4",
   "metadata": {},
   "outputs": [
    {
     "data": {
      "text/plain": [
       "'a3, 5.b, 7.32'"
      ]
     },
     "execution_count": 52,
     "metadata": {},
     "output_type": "execute_result"
    }
   ],
   "source": [
    "text =  \"{:.2}, {:.3}, {:.4}\".format(\"a3.1463\", \"5.b67\", \"7.32432c\")\n",
    "text"
   ]
  },
  {
   "cell_type": "code",
   "execution_count": 54,
   "id": "6f38808c-64f4-4521-8e1d-48c15627b2db",
   "metadata": {},
   "outputs": [
    {
     "data": {
      "text/plain": [
       "'      test'"
      ]
     },
     "execution_count": 54,
     "metadata": {},
     "output_type": "execute_result"
    }
   ],
   "source": [
    "text = \"{:>10}\".format(\"test\")\n",
    "text"
   ]
  },
  {
   "cell_type": "code",
   "execution_count": 55,
   "id": "0413a542-f388-49c9-bf88-c90821fbff52",
   "metadata": {},
   "outputs": [
    {
     "data": {
      "text/plain": [
       "'test      '"
      ]
     },
     "execution_count": 55,
     "metadata": {},
     "output_type": "execute_result"
    }
   ],
   "source": [
    "text = \"{:<10}\".format(\"test\")\n",
    "text"
   ]
  },
  {
   "cell_type": "code",
   "execution_count": 60,
   "id": "24433db5-1162-455c-94fe-ce90c8cdecd6",
   "metadata": {},
   "outputs": [
    {
     "data": {
      "text/plain": [
       "'formatlama satırı                 text bu da textin son kısmı'"
      ]
     },
     "execution_count": 60,
     "metadata": {},
     "output_type": "execute_result"
    }
   ],
   "source": [
    "text = \"formatlama satırı {:>20} bu da textin son kısmı\".format(\"text\")\n",
    "text"
   ]
  },
  {
   "cell_type": "code",
   "execution_count": 64,
   "id": "dbd908f4-2cc9-4065-bcca-2d9c5bfa1dce",
   "metadata": {},
   "outputs": [
    {
     "data": {
      "text/plain": [
       "'bla bla okkes           formatlama cümleciğim'"
      ]
     },
     "execution_count": 64,
     "metadata": {},
     "output_type": "execute_result"
    }
   ],
   "source": [
    "text = \"bla bla {:<15} formatlama cümleciğim\".format(\"okkes\")\n",
    "text"
   ]
  },
  {
   "cell_type": "code",
   "execution_count": 65,
   "id": "6c0cfb6c-172c-4bd9-b13f-91d3a07b6be4",
   "metadata": {},
   "outputs": [
    {
     "data": {
      "text/plain": [
       "'        abc         '"
      ]
     },
     "execution_count": 65,
     "metadata": {},
     "output_type": "execute_result"
    }
   ],
   "source": [
    "text = \"{:^20}\".format(\"abc\")\n",
    "text"
   ]
  },
  {
   "cell_type": "code",
   "execution_count": 66,
   "id": "b08958e8-2246-48b4-8050-d49e7ffcfd90",
   "metadata": {},
   "outputs": [
    {
     "data": {
      "text/plain": [
       "'hippo     '"
      ]
     },
     "execution_count": 66,
     "metadata": {},
     "output_type": "execute_result"
    }
   ],
   "source": [
    "\"{:10.5}\".format(\"hippopotamus\")"
   ]
  },
  {
   "cell_type": "code",
   "execution_count": 67,
   "id": "816879ef-3d71-49c0-b0d2-5f44f94bdef8",
   "metadata": {},
   "outputs": [
    {
     "data": {
      "text/plain": [
       "'     hippo'"
      ]
     },
     "execution_count": 67,
     "metadata": {},
     "output_type": "execute_result"
    }
   ],
   "source": [
    "\"{:>10.5}\".format(\"hippopotamus\")"
   ]
  },
  {
   "cell_type": "code",
   "execution_count": 69,
   "id": "d2b6ee72-d5c6-4827-a94a-0bfc676df90d",
   "metadata": {},
   "outputs": [
    {
     "data": {
      "text/plain": [
       "'+55'"
      ]
     },
     "execution_count": 69,
     "metadata": {},
     "output_type": "execute_result"
    }
   ],
   "source": [
    "\"{:+}\".format(55)"
   ]
  },
  {
   "cell_type": "code",
   "execution_count": 71,
   "id": "c422b2f9-3e18-4f8f-a4f8-e4a8d3dcb11b",
   "metadata": {},
   "outputs": [
    {
     "data": {
      "text/plain": [
       "True"
      ]
     },
     "execution_count": 71,
     "metadata": {},
     "output_type": "execute_result"
    }
   ],
   "source": [
    "age = True\n",
    "chronic = True\n",
    "immune = False\n",
    "\n",
    "\n",
    "risk = age or chronic or immune\n",
    "risk"
   ]
  },
  {
   "cell_type": "code",
   "execution_count": null,
   "id": "f0de26ed-22b5-4dd3-9734-0914f7720c8c",
   "metadata": {},
   "outputs": [],
   "source": [
    "age = input(\"75 yaşından büyük ve sigara bağımlısı mısınız? evet veya hayır\")\n",
    "if age == \"evet\":\n",
    "   print(True)\n",
    "else:\n",
    "   print(False)\n",
    "chronic = input(\"Kronik bir hastalığınız var mı? evet veya hayır\")\n",
    "if chronic == \"evet\":\n",
    "   print(True)\n",
    "else:\n",
    "   print(False)\n",
    "immune = input(\"Bağışıklık sisteminiz çok mu zayıf? evet veya hayır\")\n",
    "if immune == \"evet\":\n",
    "   print(True)\n",
    "else:\n",
    "   print(False)\n",
    "print(\"Covid için riskiniz: \" + str(age or chronic or immune))"
   ]
  },
  {
   "cell_type": "code",
   "execution_count": null,
   "id": "8235fb74-4353-431d-be56-b56a874377a6",
   "metadata": {},
   "outputs": [],
   "source": []
  },
  {
   "cell_type": "code",
   "execution_count": null,
   "id": "f93cf225-5ddc-4a47-9113-468bb4ea1117",
   "metadata": {},
   "outputs": [],
   "source": []
  }
 ],
 "metadata": {
  "kernelspec": {
   "display_name": "Python 3 (ipykernel)",
   "language": "python",
   "name": "python3"
  },
  "language_info": {
   "codemirror_mode": {
    "name": "ipython",
    "version": 3
   },
   "file_extension": ".py",
   "mimetype": "text/x-python",
   "name": "python",
   "nbconvert_exporter": "python",
   "pygments_lexer": "ipython3",
   "version": "3.9.7"
  }
 },
 "nbformat": 4,
 "nbformat_minor": 5
}
