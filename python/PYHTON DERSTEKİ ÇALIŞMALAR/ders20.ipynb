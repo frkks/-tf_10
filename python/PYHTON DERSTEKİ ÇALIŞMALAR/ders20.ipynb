{
 "cells": [
  {
   "cell_type": "code",
   "execution_count": 1,
   "id": "0b56c476-3802-4d8c-9485-2477f422c848",
   "metadata": {},
   "outputs": [],
   "source": [
    " command = [\"right 20\", \"right 30\", \"left 50\", \"up 10\", \"down 20\"]"
   ]
  },
  {
   "cell_type": "code",
   "execution_count": 2,
   "id": "26cb68f7-dcf3-4f16-bdd1-8eef5aa4569a",
   "metadata": {},
   "outputs": [
    {
     "data": {
      "text/plain": [
       "['right 20', 'right 30', 'left 20', 'up 10', 'down 20']"
      ]
     },
     "execution_count": 2,
     "metadata": {},
     "output_type": "execute_result"
    }
   ],
   "source": [
    "command"
   ]
  },
  {
   "cell_type": "code",
   "execution_count": 4,
   "id": "2ac37fea-5244-4a03-9b40-7a7ee845edd2",
   "metadata": {},
   "outputs": [
    {
     "name": "stdout",
     "output_type": "stream",
     "text": [
      "[0, -10]\n"
     ]
    }
   ],
   "source": [
    "command = [\"right 20\", \"right 30\", \"left 50\", \"up 10\", \"down 20\"]\n",
    "koord = [i.split() for i in command]\n",
    "x = 0\n",
    "y = 0\n",
    "for c in koord :\n",
    "    if c[0] == \"right\" : x += int(c[1])\n",
    "    elif c[0] == \"left\" : x -= int(c[1])\n",
    "    elif c[0] == \"up\" : y += int(c[1])\n",
    "    elif c[0] == \"down\" : y -= int(c[1])\n",
    "print([x,y])"
   ]
  },
  {
   "cell_type": "code",
   "execution_count": 6,
   "id": "57f0808b-4acc-49da-87d0-32c07e29a28c",
   "metadata": {},
   "outputs": [
    {
     "name": "stdout",
     "output_type": "stream",
     "text": [
      "0 -10\n"
     ]
    }
   ],
   "source": [
    "command1 = [\"right 20\", \"right 30\", \"left 50\", \"up 10\", \"down 20\"]\n",
    "x = y = 0\n",
    "for i in range(len(command1)) :\n",
    "    if command1[i].startswith(\"r\") : x = x + int(command1[i].split()[1])\n",
    "    elif command1[i].startswith(\"l\") : x = x - int(command1[i].split()[1])\n",
    "    elif command1[i].startswith(\"u\") : y = y + int(command1[i].split()[1])\n",
    "    elif command1[i].startswith(\"d\") : y = y - int(command1[i].split()[1])\n",
    "print(x, y)"
   ]
  },
  {
   "cell_type": "markdown",
   "id": "e0951cd7-35cb-48db-af7e-9471c07879b7",
   "metadata": {},
   "source": [
    " # Valid Paranthesis\n",
    " Example 1:\n",
    "Input: \"()\"\n",
    "Output: True\n",
    "Example 2:\n",
    "Input: \"()[]{}\"\n",
    "Output: True\n",
    "Example 3:\n",
    "Input: \"(]\"\n",
    "Output: False\n",
    "Example 4:\n",
    "Input: \"([)]\"\n",
    "Output: False\n",
    "Example 5:\n",
    "Input: \"{[]}\"\n",
    "Output: True"
   ]
  },
  {
   "cell_type": "code",
   "execution_count": 7,
   "id": "d26544b0-b48f-4ef8-bed8-75fb225e2d16",
   "metadata": {},
   "outputs": [
    {
     "data": {
      "text/plain": [
       "'([{({})}]({}))'"
      ]
     },
     "execution_count": 7,
     "metadata": {},
     "output_type": "execute_result"
    }
   ],
   "source": [
    "\"([{({})}]({}))\""
   ]
  },
  {
   "cell_type": "code",
   "execution_count": 16,
   "id": "27f1afbd-df07-4b12-a3f3-cdf5bf5aeea2",
   "metadata": {},
   "outputs": [],
   "source": [
    "x = \"[([{({})}]({}))\""
   ]
  },
  {
   "cell_type": "code",
   "execution_count": 9,
   "id": "09c6a31b-d91b-4209-b67f-18e8adea69b8",
   "metadata": {},
   "outputs": [
    {
     "data": {
      "text/plain": [
       "'ali+deli+veli'"
      ]
     },
     "execution_count": 9,
     "metadata": {},
     "output_type": "execute_result"
    }
   ],
   "source": [
    "\"ali-deli-veli\".replace(\"-\", \"+\")"
   ]
  },
  {
   "cell_type": "code",
   "execution_count": 12,
   "id": "7ec61d35-0743-41af-acd6-243b8f0d9236",
   "metadata": {},
   "outputs": [
    {
     "data": {
      "text/plain": [
       "'ldelvel'"
      ]
     },
     "execution_count": 12,
     "metadata": {},
     "output_type": "execute_result"
    }
   ],
   "source": [
    "\"ali-deli-veli\".replace(\"-\", \"\").replace(\"a\", \"\").replace(\"i\", \"\")"
   ]
  },
  {
   "cell_type": "code",
   "execution_count": 24,
   "id": "b44cdb57-a4ce-4da4-8732-d62a84ad2a93",
   "metadata": {},
   "outputs": [],
   "source": [
    "def isValid(s) :\n",
    "    while \"()\" in s or \"[]\" in s or \"{}\" in s :\n",
    "        s = s.replace(\"()\", \"\").replace(\"[]\", \"\").replace(\"{}\", \"\")\n",
    "        return s == \"\""
   ]
  },
  {
   "cell_type": "code",
   "execution_count": 25,
   "id": "47653a84-b772-4e5c-9476-53bed448aa49",
   "metadata": {},
   "outputs": [
    {
     "data": {
      "text/plain": [
       "False"
      ]
     },
     "execution_count": 25,
     "metadata": {},
     "output_type": "execute_result"
    }
   ],
   "source": [
    "isValid(x)"
   ]
  },
  {
   "cell_type": "code",
   "execution_count": 29,
   "id": "1e98336a-385d-43fd-94f3-f54edc9d731e",
   "metadata": {},
   "outputs": [],
   "source": [
    "n = \"([{({})}]({}))\""
   ]
  },
  {
   "cell_type": "code",
   "execution_count": 55,
   "id": "9badf06a-4185-41d9-b3d8-88339ea650c9",
   "metadata": {},
   "outputs": [
    {
     "data": {
      "text/plain": [
       "False"
      ]
     },
     "execution_count": 55,
     "metadata": {},
     "output_type": "execute_result"
    }
   ],
   "source": [
    "isValid(\"[{({})}]\")"
   ]
  },
  {
   "cell_type": "markdown",
   "id": "7ae47994-36ce-4b20-9dc0-c9b9abd2664f",
   "metadata": {},
   "source": [
    "# Bulilding a Calculator using dict with lamda Expression"
   ]
  },
  {
   "cell_type": "code",
   "execution_count": 35,
   "id": "8cb4f86e-82d3-403c-8442-c67867798151",
   "metadata": {},
   "outputs": [
    {
     "data": {
      "text/plain": [
       "9"
      ]
     },
     "execution_count": 35,
     "metadata": {},
     "output_type": "execute_result"
    }
   ],
   "source": [
    "(lambda x, y : x + y)(4, 5)"
   ]
  },
  {
   "cell_type": "code",
   "execution_count": 36,
   "id": "50784e59-5310-401f-88c5-4c2acd3d1a6c",
   "metadata": {},
   "outputs": [],
   "source": [
    "bir_dilşinıri = {\"ne_diyorum\" : \"sesimi_duy\",\n",
    "                \"neden\" : [\"bilmiyorum\"]}"
   ]
  },
  {
   "cell_type": "code",
   "execution_count": 37,
   "id": "b1e221d3-d2ab-4718-9b8b-74534fa6ec38",
   "metadata": {},
   "outputs": [
    {
     "data": {
      "text/plain": [
       "['bilmiyorum']"
      ]
     },
     "execution_count": 37,
     "metadata": {},
     "output_type": "execute_result"
    }
   ],
   "source": [
    "bir_dilşinıri[\"neden\"]"
   ]
  },
  {
   "cell_type": "code",
   "execution_count": 41,
   "id": "44950402-eb08-45fa-b17b-18fc1d94f19a",
   "metadata": {},
   "outputs": [],
   "source": [
    "calculator = {\"+\" : (lambda x, y : x + y),\n",
    "              \"-\" : (lambda x, y : x - y),\n",
    "              \"*\" :(lambda x, y : x * y),\n",
    "              \"/\" : (lambda x, y : x / y)}"
   ]
  },
  {
   "cell_type": "code",
   "execution_count": 42,
   "id": "7ad1b607-8cc7-4ae5-944d-eada060fa810",
   "metadata": {},
   "outputs": [
    {
     "data": {
      "text/plain": [
       "<function __main__.<lambda>(x, y)>"
      ]
     },
     "execution_count": 42,
     "metadata": {},
     "output_type": "execute_result"
    }
   ],
   "source": [
    "calculator[\"+\"]"
   ]
  },
  {
   "cell_type": "code",
   "execution_count": 43,
   "id": "67dd650d-d7fa-4ec2-b0b8-3adec9b657d6",
   "metadata": {},
   "outputs": [
    {
     "data": {
      "text/plain": [
       "9"
      ]
     },
     "execution_count": 43,
     "metadata": {},
     "output_type": "execute_result"
    }
   ],
   "source": [
    "calculator[\"+\"](4, 5)"
   ]
  },
  {
   "cell_type": "code",
   "execution_count": 44,
   "id": "b3e47ef5-df18-48fd-bd2a-506953aba920",
   "metadata": {},
   "outputs": [
    {
     "data": {
      "text/plain": [
       "20"
      ]
     },
     "execution_count": 44,
     "metadata": {},
     "output_type": "execute_result"
    }
   ],
   "source": [
    "calculator[\"*\"](4, 5)"
   ]
  },
  {
   "cell_type": "code",
   "execution_count": 47,
   "id": "340f7b51-d35d-4e07-a29f-84acab5f213c",
   "metadata": {},
   "outputs": [
    {
     "data": {
      "text/plain": [
       "10.0"
      ]
     },
     "execution_count": 47,
     "metadata": {},
     "output_type": "execute_result"
    }
   ],
   "source": [
    "calculator[\"/\"](20, 2)"
   ]
  },
  {
   "cell_type": "code",
   "execution_count": 6,
   "id": "0b906c99-6f92-44fa-b7b5-520a8139fbff",
   "metadata": {},
   "outputs": [],
   "source": [
    "import random"
   ]
  },
  {
   "cell_type": "code",
   "execution_count": 7,
   "id": "a542da03-e587-446e-86b5-661638c48f1c",
   "metadata": {},
   "outputs": [
    {
     "data": {
      "text/plain": [
       "24"
      ]
     },
     "execution_count": 7,
     "metadata": {},
     "output_type": "execute_result"
    }
   ],
   "source": [
    "random.randint(10,30)"
   ]
  },
  {
   "cell_type": "code",
   "execution_count": 52,
   "id": "b0fc9744-0e7b-4227-bd1c-49cbda257717",
   "metadata": {},
   "outputs": [
    {
     "data": {
      "text/plain": [
       "'o'"
      ]
     },
     "execution_count": 52,
     "metadata": {},
     "output_type": "execute_result"
    }
   ],
   "source": [
    "chr(111)"
   ]
  },
  {
   "cell_type": "code",
   "execution_count": 8,
   "id": "1a6e445f-d43e-4b08-b278-17f0baabdf39",
   "metadata": {},
   "outputs": [],
   "source": [
    "a = chr(random.randint(65, 90))"
   ]
  },
  {
   "cell_type": "code",
   "execution_count": 9,
   "id": "83542192-70d4-4102-8dcb-e0d51f92656b",
   "metadata": {},
   "outputs": [],
   "source": [
    "b = chr(random.randint(97, 122))"
   ]
  },
  {
   "cell_type": "code",
   "execution_count": 10,
   "id": "6d754e98-e4fc-4d53-9340-3fc77ae78945",
   "metadata": {},
   "outputs": [],
   "source": [
    "c = chr(random.randint(48, 57))"
   ]
  },
  {
   "cell_type": "code",
   "execution_count": 11,
   "id": "f081c083-83d3-4889-808a-3445c42ac1cb",
   "metadata": {},
   "outputs": [],
   "source": [
    "d = chr(random.randint(33, 47))"
   ]
  },
  {
   "cell_type": "code",
   "execution_count": 12,
   "id": "ccbc1792-11b6-4f8d-bd7e-9a968526545b",
   "metadata": {},
   "outputs": [],
   "source": [
    "e = chr(random.randint(58, 64))"
   ]
  },
  {
   "cell_type": "code",
   "execution_count": 13,
   "id": "8ba8529d-26a9-4932-ba13-0860fa427bb4",
   "metadata": {},
   "outputs": [
    {
     "name": "stdout",
     "output_type": "stream",
     "text": [
      "Zk7)?Zk7)?Zk7)?\n"
     ]
    }
   ],
   "source": [
    "print((a+b+c+d+e)*3)"
   ]
  },
  {
   "cell_type": "code",
   "execution_count": 14,
   "id": "11209b04-fc34-4a9e-a2a4-aa9c79c263ac",
   "metadata": {},
   "outputs": [
    {
     "data": {
      "text/plain": [
       "['P', 'N', 'B']"
      ]
     },
     "execution_count": 14,
     "metadata": {},
     "output_type": "execute_result"
    }
   ],
   "source": [
    "uppers = [chr(random.randint(65, 90)) for i in range(3)]\n",
    "uppers"
   ]
  },
  {
   "cell_type": "code",
   "execution_count": 15,
   "id": "20b5d002-383c-4530-b8a0-34987128ba14",
   "metadata": {},
   "outputs": [
    {
     "data": {
      "text/plain": [
       "['h', 'r', 'y']"
      ]
     },
     "execution_count": 15,
     "metadata": {},
     "output_type": "execute_result"
    }
   ],
   "source": [
    "lowers = [chr(random.randint(97, 122)) for i in range(3)]\n",
    "lowers"
   ]
  },
  {
   "cell_type": "code",
   "execution_count": 16,
   "id": "3c58ddf7-f7bf-4f7c-92aa-9ebdb8fd61d9",
   "metadata": {},
   "outputs": [
    {
     "data": {
      "text/plain": [
       "['9', '6', '5']"
      ]
     },
     "execution_count": 16,
     "metadata": {},
     "output_type": "execute_result"
    }
   ],
   "source": [
    "numbers = [chr(random.randint(48, 57)) for i in range(3)]\n",
    "numbers"
   ]
  },
  {
   "cell_type": "code",
   "execution_count": 17,
   "id": "cbfde54a-8cc7-4e7d-9bfd-1955478bd00d",
   "metadata": {},
   "outputs": [
    {
     "data": {
      "text/plain": [
       "'\"<'"
      ]
     },
     "execution_count": 17,
     "metadata": {},
     "output_type": "execute_result"
    }
   ],
   "source": [
    "chars = chr(random.randint(33, 47)) + chr(random.randint(58, 64))\n",
    "chars"
   ]
  },
  {
   "cell_type": "code",
   "execution_count": 18,
   "id": "d45debe5-de8e-49c7-804f-61d8a68b94b4",
   "metadata": {},
   "outputs": [
    {
     "data": {
      "text/plain": [
       "['?', ':', '?']"
      ]
     },
     "execution_count": 18,
     "metadata": {},
     "output_type": "execute_result"
    }
   ],
   "source": [
    "chars1 = [chr(random.randint(58, 64)) for i in range(3)]\n",
    "chars1"
   ]
  },
  {
   "cell_type": "code",
   "execution_count": 19,
   "id": "90abe734-740f-4f61-93cc-0fbd4d7bfd27",
   "metadata": {},
   "outputs": [
    {
     "data": {
      "text/plain": [
       "'965'"
      ]
     },
     "execution_count": 19,
     "metadata": {},
     "output_type": "execute_result"
    }
   ],
   "source": [
    "\"\".join(numbers)"
   ]
  },
  {
   "cell_type": "code",
   "execution_count": 20,
   "id": "54f7ead8-b50d-43e6-812d-5458ad639974",
   "metadata": {},
   "outputs": [
    {
     "data": {
      "text/plain": [
       "'PNBhry965\"<'"
      ]
     },
     "execution_count": 20,
     "metadata": {},
     "output_type": "execute_result"
    }
   ],
   "source": [
    "passw = \"\".join(uppers) + \"\".join(lowers) + \"\".join(numbers) + \"\".join(chars)\n",
    "passw"
   ]
  },
  {
   "cell_type": "code",
   "execution_count": 21,
   "id": "eb2f9756-cc00-44f9-8e95-a4a4bd25c662",
   "metadata": {},
   "outputs": [],
   "source": [
    "ornek = \"alivelideli\""
   ]
  },
  {
   "cell_type": "code",
   "execution_count": 22,
   "id": "0efe67a1-25a5-46cd-847e-f704c203bd08",
   "metadata": {},
   "outputs": [
    {
     "data": {
      "text/plain": [
       "['a', 'l', 'i', 'v', 'e', 'l', 'i', 'd', 'e', 'l', 'i']"
      ]
     },
     "execution_count": 22,
     "metadata": {},
     "output_type": "execute_result"
    }
   ],
   "source": [
    "ornek_list = list(ornek)\n",
    "ornek_list"
   ]
  },
  {
   "cell_type": "code",
   "execution_count": 23,
   "id": "82aecbe0-2a13-4fc4-a3a7-7284eedf09b6",
   "metadata": {},
   "outputs": [
    {
     "data": {
      "text/plain": [
       "['i', 'i', 'l', 'd', 'e', 'a', 'e', 'i', 'v', 'l', 'l']"
      ]
     },
     "execution_count": 23,
     "metadata": {},
     "output_type": "execute_result"
    }
   ],
   "source": [
    "random.shuffle(ornek_list)\n",
    "ornek_list"
   ]
  },
  {
   "cell_type": "code",
   "execution_count": null,
   "id": "e050b3d4-8908-4912-becf-02dce3d3fe6d",
   "metadata": {},
   "outputs": [],
   "source": []
  },
  {
   "cell_type": "code",
   "execution_count": 24,
   "id": "f59a3885-0546-4c8f-aab3-7b70e4354e2c",
   "metadata": {},
   "outputs": [
    {
     "data": {
      "text/plain": [
       "'iildeaeivll'"
      ]
     },
     "execution_count": 24,
     "metadata": {},
     "output_type": "execute_result"
    }
   ],
   "source": [
    "\"\".join(ornek_list)"
   ]
  },
  {
   "cell_type": "code",
   "execution_count": 25,
   "id": "b98c0393-7d5e-498b-91bf-2819eba627e7",
   "metadata": {},
   "outputs": [],
   "source": [
    "def karıştır(password) :\n",
    "    templist = list(password)\n",
    "    random.shuffle(templist)\n",
    "    return \"\".join(templist)"
   ]
  },
  {
   "cell_type": "code",
   "execution_count": 26,
   "id": "47fb1572-4f6b-4697-939c-4f83c90f984b",
   "metadata": {},
   "outputs": [
    {
     "data": {
      "text/plain": [
       "'6<yB9r5P\"hN'"
      ]
     },
     "execution_count": 26,
     "metadata": {},
     "output_type": "execute_result"
    }
   ],
   "source": [
    "passw = karıştır(passw)\n",
    "passw"
   ]
  },
  {
   "cell_type": "code",
   "execution_count": 27,
   "id": "2ae74048-6ae1-4d1e-aa83-4ad89f58b150",
   "metadata": {},
   "outputs": [],
   "source": [
    "from timeit import timeit"
   ]
  },
  {
   "cell_type": "code",
   "execution_count": 28,
   "id": "3e3d6606-ef7b-45fb-9e76-ca391cf5d73e",
   "metadata": {},
   "outputs": [],
   "source": [
    "def for_loop() :\n",
    "    \n",
    "    result = []\n",
    "    \n",
    "    for i in range(1000000) :\n",
    "        result.append(i)\n",
    "    return result        "
   ]
  },
  {
   "cell_type": "code",
   "execution_count": 29,
   "id": "3cdc8219-b21c-4b58-a1c9-5a4897bbb8c9",
   "metadata": {},
   "outputs": [],
   "source": [
    "def list_comp() :\n",
    "    return [i for i in range(100000)]"
   ]
  },
  {
   "cell_type": "code",
   "execution_count": 30,
   "id": "e98f0a18-f1ab-49aa-b4d7-7e472cfd4161",
   "metadata": {},
   "outputs": [],
   "source": [
    "size = 100\n",
    "\n",
    "time_for = timeit(for_loop, number = size)\n",
    "time_list_comp = timeit(list_comp, number = size)"
   ]
  },
  {
   "cell_type": "code",
   "execution_count": 31,
   "id": "35d845be-f6bc-4f20-8fcc-843f18316ae4",
   "metadata": {},
   "outputs": [
    {
     "name": "stdout",
     "output_type": "stream",
     "text": [
      "List Comp. is 23.48 times faster than for loops.\n"
     ]
    }
   ],
   "source": [
    "print(f\"List Comp. is {round(time_for/time_list_comp, 2)} times faster than for loops.\")"
   ]
  },
  {
   "cell_type": "code",
   "execution_count": 35,
   "id": "23465e81-3c9a-42ef-b16a-77467b5ecb69",
   "metadata": {},
   "outputs": [],
   "source": [
    "uppers = [chr(random.randint(65, 90)) for i in range(3)]\n",
    "lowers = [chr(random.randint(97, 122)) for i in range(3)]\n",
    "numbers = [chr(random.randint(48, 57)) for i in range(3)]\n",
    "chars = chr(random.randint(33, 47)) + chr(random.randint(58, 64))\n",
    "passw = \"\".join(uppers) + \"\".join(lowers) + \"\".join(numbers) + \"\".join(chars)\n",
    "def şifreüretme(password) :\n",
    "    templist = list(password)\n",
    "    random.shuffle(templist)\n",
    "    return \"\".join(templist)"
   ]
  },
  {
   "cell_type": "code",
   "execution_count": 34,
   "id": "60d8fbcc-82c3-4791-8027-65991d401d9c",
   "metadata": {},
   "outputs": [
    {
     "data": {
      "text/plain": [
       "'1XgS(4C7x=r'"
      ]
     },
     "execution_count": 34,
     "metadata": {},
     "output_type": "execute_result"
    }
   ],
   "source": [
    "şifreüretme(passw)"
   ]
  },
  {
   "cell_type": "code",
   "execution_count": null,
   "id": "860b073f-bd75-418c-9915-c2aea0837ddb",
   "metadata": {},
   "outputs": [],
   "source": []
  }
 ],
 "metadata": {
  "kernelspec": {
   "display_name": "Python 3 (ipykernel)",
   "language": "python",
   "name": "python3"
  },
  "language_info": {
   "codemirror_mode": {
    "name": "ipython",
    "version": 3
   },
   "file_extension": ".py",
   "mimetype": "text/x-python",
   "name": "python",
   "nbconvert_exporter": "python",
   "pygments_lexer": "ipython3",
   "version": "3.9.7"
  }
 },
 "nbformat": 4,
 "nbformat_minor": 5
}
