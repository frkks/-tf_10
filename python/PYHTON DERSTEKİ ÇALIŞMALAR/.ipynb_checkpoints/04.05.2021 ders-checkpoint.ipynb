{
 "cells": [
  {
   "cell_type": "code",
   "execution_count": 2,
   "id": "ccf732eb-968d-4ec5-b758-38582e85a01e",
   "metadata": {},
   "outputs": [
    {
     "data": {
      "text/plain": [
       "False"
      ]
     },
     "execution_count": 2,
     "metadata": {},
     "output_type": "execute_result"
    }
   ],
   "source": [
    "bool(None)"
   ]
  },
  {
   "cell_type": "code",
   "execution_count": 4,
   "id": "6fdfce95-b4f5-4b2e-a134-0b727c7960ff",
   "metadata": {},
   "outputs": [
    {
     "data": {
      "text/plain": [
       "True"
      ]
     },
     "execution_count": 4,
     "metadata": {},
     "output_type": "execute_result"
    }
   ],
   "source": [
    "bool('0')"
   ]
  },
  {
   "cell_type": "code",
   "execution_count": 5,
   "id": "ddcfd6c1-ec04-4702-9510-ac0047b32078",
   "metadata": {},
   "outputs": [
    {
     "data": {
      "text/plain": [
       "False"
      ]
     },
     "execution_count": 5,
     "metadata": {},
     "output_type": "execute_result"
    }
   ],
   "source": [
    "bool([])"
   ]
  },
  {
   "cell_type": "code",
   "execution_count": 6,
   "id": "2ef9bb32-1048-4306-a596-e4fef2e6a725",
   "metadata": {},
   "outputs": [
    {
     "data": {
      "text/plain": [
       "False"
      ]
     },
     "execution_count": 6,
     "metadata": {},
     "output_type": "execute_result"
    }
   ],
   "source": [
    "bool(0)"
   ]
  },
  {
   "cell_type": "code",
   "execution_count": 7,
   "id": "c55fd4eb-07a7-4c71-b6a2-07b11df0dc9d",
   "metadata": {},
   "outputs": [
    {
     "data": {
      "text/plain": [
       "True"
      ]
     },
     "execution_count": 7,
     "metadata": {},
     "output_type": "execute_result"
    }
   ],
   "source": [
    "bool(1)"
   ]
  },
  {
   "cell_type": "code",
   "execution_count": 14,
   "id": "f88fa12b-9910-417b-a36a-f4a64c187fff",
   "metadata": {},
   "outputs": [
    {
     "name": "stdout",
     "output_type": "stream",
     "text": [
      "[]\n"
     ]
    }
   ],
   "source": [
    "print(False  or [] and {0} )"
   ]
  },
  {
   "cell_type": "code",
   "execution_count": 18,
   "id": "c37984e7-75fb-4072-b461-f5f874d88868",
   "metadata": {},
   "outputs": [
    {
     "data": {
      "text/plain": [
       "True"
      ]
     },
     "execution_count": 18,
     "metadata": {},
     "output_type": "execute_result"
    }
   ],
   "source": [
    "kadayıf = True\n",
    "\n",
    "# iç\n",
    "fındık = True\n",
    "fıstık = False\n",
    "ceviz = True\n",
    "# şerbet\n",
    "su = True\n",
    "şeker = True\n",
    "\n",
    "yumurta = True\n",
    "\n",
    "# içeçek\n",
    "çay = True\n",
    "meşrubat = True\n",
    "limonata = True\n",
    "yedim = kadayıf and (fındık or fıstık or ceviz) and (su and şeker) and yumurta and (çay or meşrubat or limonata)\n",
    "yedim"
   ]
  },
  {
   "cell_type": "code",
   "execution_count": 20,
   "id": "c6eb3c78-ea4e-4335-a435-8a53ddc616df",
   "metadata": {},
   "outputs": [
    {
     "data": {
      "text/plain": [
       "'s'"
      ]
     },
     "execution_count": 20,
     "metadata": {},
     "output_type": "execute_result"
    }
   ],
   "source": [
    "\"clarus\"[5]"
   ]
  },
  {
   "cell_type": "code",
   "execution_count": 24,
   "id": "fa13dd23-89ec-4a43-a6a1-16ebaa8d106d",
   "metadata": {},
   "outputs": [
    {
     "data": {
      "text/plain": [
       "'clarus'"
      ]
     },
     "execution_count": 24,
     "metadata": {},
     "output_type": "execute_result"
    }
   ],
   "source": [
    "okul = \"clarus\"\n",
    "okul"
   ]
  },
  {
   "cell_type": "code",
   "execution_count": 25,
   "id": "1cda84f0-744f-4bcd-8d2a-1434a01f2a59",
   "metadata": {},
   "outputs": [
    {
     "data": {
      "text/plain": [
       "'s'"
      ]
     },
     "execution_count": 25,
     "metadata": {},
     "output_type": "execute_result"
    }
   ],
   "source": [
    "okul[5]"
   ]
  },
  {
   "cell_type": "code",
   "execution_count": 27,
   "id": "6f3421e0-a146-4463-9e33-d8387c5d0fae",
   "metadata": {},
   "outputs": [
    {
     "data": {
      "text/plain": [
       "'ar'"
      ]
     },
     "execution_count": 27,
     "metadata": {},
     "output_type": "execute_result"
    }
   ],
   "source": [
    "okul[2:4]"
   ]
  },
  {
   "cell_type": "code",
   "execution_count": 28,
   "id": "cf427c58-3faa-4011-8b16-08336fac73a7",
   "metadata": {},
   "outputs": [
    {
     "data": {
      "text/plain": [
       "'clarus'"
      ]
     },
     "execution_count": 28,
     "metadata": {},
     "output_type": "execute_result"
    }
   ],
   "source": [
    "okul[:]"
   ]
  },
  {
   "cell_type": "code",
   "execution_count": 29,
   "id": "8359ef16-4185-4a1b-9bc2-9bf4a0f2745c",
   "metadata": {},
   "outputs": [
    {
     "data": {
      "text/plain": [
       "'claru'"
      ]
     },
     "execution_count": 29,
     "metadata": {},
     "output_type": "execute_result"
    }
   ],
   "source": [
    "okul[:5]"
   ]
  },
  {
   "cell_type": "code",
   "execution_count": 30,
   "id": "b2a4c555-1914-4e24-a4f6-712c699cb689",
   "metadata": {},
   "outputs": [
    {
     "data": {
      "text/plain": [
       "'s'"
      ]
     },
     "execution_count": 30,
     "metadata": {},
     "output_type": "execute_result"
    }
   ],
   "source": [
    "okul[5]"
   ]
  },
  {
   "cell_type": "code",
   "execution_count": 31,
   "id": "e19d4b34-c933-4e6b-940c-d753dd38c208",
   "metadata": {},
   "outputs": [
    {
     "data": {
      "text/plain": [
       "'s'"
      ]
     },
     "execution_count": 31,
     "metadata": {},
     "output_type": "execute_result"
    }
   ],
   "source": [
    "okul[-1]"
   ]
  },
  {
   "cell_type": "code",
   "execution_count": 32,
   "id": "529e2aa5-f522-470b-9296-2d8f2ef4de3c",
   "metadata": {},
   "outputs": [
    {
     "data": {
      "text/plain": [
       "'lar'"
      ]
     },
     "execution_count": 32,
     "metadata": {},
     "output_type": "execute_result"
    }
   ],
   "source": [
    "okul[-5:-2]"
   ]
  },
  {
   "cell_type": "code",
   "execution_count": 33,
   "id": "da3782d6-be29-47e2-9c56-72b5e7bc900b",
   "metadata": {},
   "outputs": [
    {
     "data": {
      "text/plain": [
       "'suralc'"
      ]
     },
     "execution_count": 33,
     "metadata": {},
     "output_type": "execute_result"
    }
   ],
   "source": [
    "okul[::-1]"
   ]
  },
  {
   "cell_type": "code",
   "execution_count": 34,
   "id": "0912576c-eeca-4608-acf6-0b5244d66235",
   "metadata": {},
   "outputs": [
    {
     "data": {
      "text/plain": [
       "'lar'"
      ]
     },
     "execution_count": 34,
     "metadata": {},
     "output_type": "execute_result"
    }
   ],
   "source": [
    "okul[1:-2]"
   ]
  },
  {
   "cell_type": "code",
   "execution_count": 35,
   "id": "5c6bf3ba-8a5c-4fa4-9b2d-d710d5d2a512",
   "metadata": {},
   "outputs": [
    {
     "data": {
      "text/plain": [
       "6"
      ]
     },
     "execution_count": 35,
     "metadata": {},
     "output_type": "execute_result"
    }
   ],
   "source": [
    "len(okul)"
   ]
  },
  {
   "cell_type": "code",
   "execution_count": null,
   "id": "85baba67-6c06-40df-b12e-8b599f9c7842",
   "metadata": {},
   "outputs": [],
   "source": []
  }
 ],
 "metadata": {
  "kernelspec": {
   "display_name": "Python 3 (ipykernel)",
   "language": "python",
   "name": "python3"
  },
  "language_info": {
   "codemirror_mode": {
    "name": "ipython",
    "version": 3
   },
   "file_extension": ".py",
   "mimetype": "text/x-python",
   "name": "python",
   "nbconvert_exporter": "python",
   "pygments_lexer": "ipython3",
   "version": "3.9.7"
  }
 },
 "nbformat": 4,
 "nbformat_minor": 5
}
