{
 "cells": [
  {
   "cell_type": "code",
   "execution_count": 3,
   "id": "ea6d9967-63a3-4ce9-a35e-88bed4d55633",
   "metadata": {},
   "outputs": [
    {
     "name": "stdout",
     "output_type": "stream",
     "text": [
      "['merhaba']\n"
     ]
    }
   ],
   "source": [
    "list = [\"merhaba\"]\n",
    "print(list)"
   ]
  },
  {
   "cell_type": "code",
   "execution_count": 51,
   "id": "297b975c-1c41-458b-ad7b-dcf63b15cfde",
   "metadata": {},
   "outputs": [
    {
     "ename": "TypeError",
     "evalue": "'list' object is not callable",
     "output_type": "error",
     "traceback": [
      "\u001b[1;31m---------------------------------------------------------------------------\u001b[0m",
      "\u001b[1;31mTypeError\u001b[0m                                 Traceback (most recent call last)",
      "\u001b[1;32m~\\AppData\\Local\\Temp/ipykernel_2652/4141505269.py\u001b[0m in \u001b[0;36m<module>\u001b[1;34m\u001b[0m\n\u001b[0;32m      1\u001b[0m \u001b[0myıl\u001b[0m \u001b[1;33m=\u001b[0m \u001b[1;34m\"2020's hard\"\u001b[0m\u001b[1;33m\u001b[0m\u001b[1;33m\u001b[0m\u001b[0m\n\u001b[1;32m----> 2\u001b[1;33m \u001b[0myıl_lis\u001b[0m \u001b[1;33m=\u001b[0m \u001b[0mlist\u001b[0m\u001b[1;33m(\u001b[0m\u001b[0myıl\u001b[0m\u001b[1;33m)\u001b[0m\u001b[1;33m\u001b[0m\u001b[1;33m\u001b[0m\u001b[0m\n\u001b[0m\u001b[0;32m      3\u001b[0m \u001b[0mprint\u001b[0m\u001b[1;33m(\u001b[0m\u001b[0myıl_lis\u001b[0m\u001b[1;33m)\u001b[0m\u001b[1;33m\u001b[0m\u001b[1;33m\u001b[0m\u001b[0m\n",
      "\u001b[1;31mTypeError\u001b[0m: 'list' object is not callable"
     ]
    }
   ],
   "source": [
    "yıl = \"2020's hard\"\n",
    "yıl_lis = list(yıl)\n",
    "print(yıl_lis)"
   ]
  },
  {
   "cell_type": "code",
   "execution_count": 54,
   "id": "24114f36-86ee-4a90-a334-5d811584488c",
   "metadata": {},
   "outputs": [
    {
     "ename": "NameError",
     "evalue": "name 'lisst' is not defined",
     "output_type": "error",
     "traceback": [
      "\u001b[1;31m---------------------------------------------------------------------------\u001b[0m",
      "\u001b[1;31mNameError\u001b[0m                                 Traceback (most recent call last)",
      "\u001b[1;32m~\\AppData\\Local\\Temp/ipykernel_2652/3462531219.py\u001b[0m in \u001b[0;36m<module>\u001b[1;34m\u001b[0m\n\u001b[1;32m----> 1\u001b[1;33m \u001b[0mboş\u001b[0m \u001b[1;33m=\u001b[0m \u001b[0mlisst\u001b[0m\u001b[1;33m(\u001b[0m\u001b[1;33m)\u001b[0m\u001b[1;33m\u001b[0m\u001b[1;33m\u001b[0m\u001b[0m\n\u001b[0m",
      "\u001b[1;31mNameError\u001b[0m: name 'lisst' is not defined"
     ]
    }
   ],
   "source": [
    "boş = lisst()"
   ]
  },
  {
   "cell_type": "code",
   "execution_count": null,
   "id": "10229025-980e-4b7d-8db0-3a3677bc1758",
   "metadata": {},
   "outputs": [],
   "source": [
    "boş1 = []"
   ]
  },
  {
   "cell_type": "code",
   "execution_count": 15,
   "id": "acdeccfd-7bf4-4fa7-a011-75d4292d13eb",
   "metadata": {},
   "outputs": [],
   "source": [
    "listem = []\n",
    "listem = [].append(1)\n",
    "listem"
   ]
  },
  {
   "cell_type": "code",
   "execution_count": 26,
   "id": "759111c2-ea4a-4de3-8d7d-4a7395b0f87b",
   "metadata": {},
   "outputs": [
    {
     "name": "stdout",
     "output_type": "stream",
     "text": [
      "['ali', 'veli', 'deli']\n"
     ]
    }
   ],
   "source": [
    "kardeşler = [\"ali\", \"veli\"]\n",
    "kardeşler.append(\"deli\")\n",
    "print(kardeşler)"
   ]
  },
  {
   "cell_type": "code",
   "execution_count": 27,
   "id": "18ff7ba7-ee31-49f3-8a8b-6eb6f5b8b3a1",
   "metadata": {},
   "outputs": [
    {
     "name": "stdout",
     "output_type": "stream",
     "text": [
      "['ali', 'veli', 'deli', True]\n"
     ]
    }
   ],
   "source": [
    "kardeşler.append(True)\n",
    "print(kardeşler)"
   ]
  },
  {
   "cell_type": "code",
   "execution_count": 28,
   "id": "07a2b15c-f79f-4df3-a169-7154583a2a64",
   "metadata": {},
   "outputs": [
    {
     "name": "stdout",
     "output_type": "stream",
     "text": [
      "['ali', 'veli', 'deli', True, 3.14]\n"
     ]
    }
   ],
   "source": [
    "kardeşler.append(3.14)\n",
    "print(kardeşler)"
   ]
  },
  {
   "cell_type": "code",
   "execution_count": 29,
   "id": "9585813a-6633-4c7e-a1d1-5880ac7fa0a7",
   "metadata": {},
   "outputs": [
    {
     "name": "stdout",
     "output_type": "stream",
     "text": [
      "['ali', 'veli', 'deli', True]\n"
     ]
    }
   ],
   "source": [
    "kardeşler.pop() # son dakini silme\n",
    "print(kardeşler)"
   ]
  },
  {
   "cell_type": "code",
   "execution_count": 30,
   "id": "e3adc389-914f-4815-a54c-b0a9ba3325b4",
   "metadata": {},
   "outputs": [
    {
     "name": "stdout",
     "output_type": "stream",
     "text": [
      "['ali', 'veli', 'deli']\n"
     ]
    }
   ],
   "source": [
    "kardeşler.pop()\n",
    "print(kardeşler)"
   ]
  },
  {
   "cell_type": "code",
   "execution_count": 31,
   "id": "2cf7085d-0120-494b-aad6-2ecfa91e4750",
   "metadata": {},
   "outputs": [
    {
     "name": "stdout",
     "output_type": "stream",
     "text": [
      "['ali', 'deli']\n"
     ]
    }
   ],
   "source": [
    "kardeşler.pop(1)\n",
    "print(kardeşler)"
   ]
  },
  {
   "cell_type": "code",
   "execution_count": null,
   "id": "bc69e409-7cac-456e-882d-394990332c6f",
   "metadata": {},
   "outputs": [],
   "source": [
    "kardeler.insert(1, \"veli\") # insert ekleme metodu\n",
    "print(kardeşler)"
   ]
  },
  {
   "cell_type": "code",
   "execution_count": 32,
   "id": "e9d64b20-c551-47b2-950d-e02f43ed0554",
   "metadata": {},
   "outputs": [
    {
     "name": "stdout",
     "output_type": "stream",
     "text": [
      "[1, 2, 3, 4]\n"
     ]
    }
   ],
   "source": [
    "task = []\n",
    "task.append(1)\n",
    "task.append(2)\n",
    "task.append(3)\n",
    "task.append(4)\n",
    "print(task)"
   ]
  },
  {
   "cell_type": "code",
   "execution_count": 33,
   "id": "ce598f91-72bf-4271-9fce-6e90e987e172",
   "metadata": {},
   "outputs": [
    {
     "name": "stdout",
     "output_type": "stream",
     "text": [
      "[1, 2, 3, 4, 5]\n"
     ]
    }
   ],
   "source": [
    "liste = [1, 2, 3, 4]\n",
    "liste.insert(4, 5)\n",
    "print(liste)"
   ]
  },
  {
   "cell_type": "code",
   "execution_count": 34,
   "id": "68925475-a625-45ff-825d-d447c7a0b741",
   "metadata": {},
   "outputs": [
    {
     "data": {
      "text/plain": [
       "97"
      ]
     },
     "execution_count": 34,
     "metadata": {},
     "output_type": "execute_result"
    }
   ],
   "source": [
    "ord(\"a\")"
   ]
  },
  {
   "cell_type": "code",
   "execution_count": 35,
   "id": "a4a0bb47-3626-4c71-a65b-11dd11457986",
   "metadata": {},
   "outputs": [
    {
     "data": {
      "text/plain": [
       "65"
      ]
     },
     "execution_count": 35,
     "metadata": {},
     "output_type": "execute_result"
    }
   ],
   "source": [
    "ord(\"A\")"
   ]
  },
  {
   "cell_type": "code",
   "execution_count": 37,
   "id": "65d01fe3-8395-4089-a4db-00cd7f475970",
   "metadata": {},
   "outputs": [
    {
     "name": "stdout",
     "output_type": "stream",
     "text": [
      "['four', 'nine', 'one']\n"
     ]
    }
   ],
   "source": [
    "list_1 = ['one', 'four', 'nine']\n",
    "list_1.sort()\n",
    "print(list_1)"
   ]
  },
  {
   "cell_type": "code",
   "execution_count": 38,
   "id": "ef74d4fd-4520-44c3-8933-d836afb79c84",
   "metadata": {},
   "outputs": [
    {
     "name": "stdout",
     "output_type": "stream",
     "text": [
      "['one', 'nine', 'four']\n"
     ]
    }
   ],
   "source": [
    "list_1 = ['one', 'four', 'nine']\n",
    "list_1.sort(reverse = True)\n",
    "print(list_1)"
   ]
  },
  {
   "cell_type": "code",
   "execution_count": 39,
   "id": "7eab493d-1772-4069-bf6b-6c97365ba405",
   "metadata": {},
   "outputs": [
    {
     "name": "stdout",
     "output_type": "stream",
     "text": [
      "['*-', '@', 'False']\n"
     ]
    }
   ],
   "source": [
    "list_2 = ['@', '*-', 'False']\n",
    "list_2.sort()\n",
    "print(list_2)"
   ]
  },
  {
   "cell_type": "code",
   "execution_count": 40,
   "id": "2f8f8855-4c56-46a4-bda2-6d1a710b09de",
   "metadata": {},
   "outputs": [
    {
     "data": {
      "text/plain": [
       "64"
      ]
     },
     "execution_count": 40,
     "metadata": {},
     "output_type": "execute_result"
    }
   ],
   "source": [
    "ord('@')"
   ]
  },
  {
   "cell_type": "code",
   "execution_count": 42,
   "id": "db3f7198-f099-4b18-b1c0-a493b1f072fc",
   "metadata": {},
   "outputs": [
    {
     "data": {
      "text/plain": [
       "42"
      ]
     },
     "execution_count": 42,
     "metadata": {},
     "output_type": "execute_result"
    }
   ],
   "source": [
    "ord('*')"
   ]
  },
  {
   "cell_type": "code",
   "execution_count": 43,
   "id": "a88ba098-3ef4-4d3b-9892-892abbf2bb9d",
   "metadata": {},
   "outputs": [
    {
     "data": {
      "text/plain": [
       "70"
      ]
     },
     "execution_count": 43,
     "metadata": {},
     "output_type": "execute_result"
    }
   ],
   "source": [
    "ord('F')"
   ]
  },
  {
   "cell_type": "code",
   "execution_count": 44,
   "id": "0523ab18-dd25-44c2-891a-376124c07b78",
   "metadata": {},
   "outputs": [
    {
     "name": "stdout",
     "output_type": "stream",
     "text": [
      "[False, True]\n"
     ]
    }
   ],
   "source": [
    "list_3 = [True, False]\n",
    "list_3.sort()\n",
    "print(list_3)"
   ]
  },
  {
   "cell_type": "code",
   "execution_count": 46,
   "id": "5345419d-8ebe-440c-8714-c2b2b430d9e6",
   "metadata": {},
   "outputs": [
    {
     "name": "stdout",
     "output_type": "stream",
     "text": [
      "[[-12, 1], [1, 3], [44, -40]]\n"
     ]
    }
   ],
   "source": [
    "list_5 = [[1, 3], [44, -40], [-12, 1]]\n",
    "list_5.sort()\n",
    "print(list_5)"
   ]
  },
  {
   "cell_type": "code",
   "execution_count": 45,
   "id": "84adad95-acaa-42a1-99b2-9a836b16065e",
   "metadata": {},
   "outputs": [
    {
     "name": "stdout",
     "output_type": "stream",
     "text": [
      "[[-12], [3], [44]]\n"
     ]
    }
   ],
   "source": [
    "list_4 = [[3], [44], [-12]]\n",
    "list_4.sort()\n",
    "print(list_4)"
   ]
  },
  {
   "cell_type": "code",
   "execution_count": 47,
   "id": "f11ee0b5-d5df-4daf-be86-96b3d3634912",
   "metadata": {},
   "outputs": [
    {
     "data": {
      "text/plain": [
       "'F'"
      ]
     },
     "execution_count": 47,
     "metadata": {},
     "output_type": "execute_result"
    }
   ],
   "source": [
    "chr(70)"
   ]
  },
  {
   "cell_type": "code",
   "execution_count": 50,
   "id": "8d66e262-a8f9-4070-bb4f-e6ddd01f204e",
   "metadata": {},
   "outputs": [
    {
     "data": {
      "text/plain": [
       "'Ł'"
      ]
     },
     "execution_count": 50,
     "metadata": {},
     "output_type": "execute_result"
    }
   ],
   "source": [
    "chr(321)"
   ]
  },
  {
   "cell_type": "code",
   "execution_count": null,
   "id": "9a20774f-1c84-4b30-8bc7-f9bef39f2602",
   "metadata": {},
   "outputs": [],
   "source": []
  },
  {
   "cell_type": "code",
   "execution_count": null,
   "id": "1412960f-dd06-49f7-9a44-1b2a88d7a661",
   "metadata": {},
   "outputs": [],
   "source": []
  },
  {
   "cell_type": "code",
   "execution_count": null,
   "id": "6a9351ce-85df-47ee-93eb-e9acdf83661a",
   "metadata": {},
   "outputs": [],
   "source": []
  },
  {
   "cell_type": "code",
   "execution_count": null,
   "id": "03752076-3481-497a-ab7a-40cfda60337c",
   "metadata": {},
   "outputs": [],
   "source": []
  }
 ],
 "metadata": {
  "kernelspec": {
   "display_name": "Python 3 (ipykernel)",
   "language": "python",
   "name": "python3"
  },
  "language_info": {
   "codemirror_mode": {
    "name": "ipython",
    "version": 3
   },
   "file_extension": ".py",
   "mimetype": "text/x-python",
   "name": "python",
   "nbconvert_exporter": "python",
   "pygments_lexer": "ipython3",
   "version": "3.9.7"
  }
 },
 "nbformat": 4,
 "nbformat_minor": 5
}
