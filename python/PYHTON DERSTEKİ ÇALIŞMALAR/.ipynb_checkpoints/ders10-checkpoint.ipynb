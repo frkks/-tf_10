{
 "cells": [
  {
   "cell_type": "code",
   "execution_count": 2,
   "id": "922cc856-9d1e-40de-baea-21a0a874a4f7",
   "metadata": {},
   "outputs": [
    {
     "name": "stdout",
     "output_type": "stream",
     "text": [
      "dict_items([('animal', 'dog'), ('planet', 'Neptun'), ('number', 40), ('pi', 3.14), ('is_good', True)]) \n",
      "\n",
      "dict_keys(['animal', 'planet', 'number', 'pi', 'is_good']) \n",
      "\n",
      "dict_values(['dog', 'Neptun', 40, 3.14, True]) \n",
      "\n"
     ]
    }
   ],
   "source": [
    "dict_by_dict = {'animal':'dog',\n",
    "\t\t\t'planet': 'Neptun',\n",
    "\t\t\t'number': 40,\n",
    "\t\t\t'pi':3.14,\n",
    "\t\t\t'is_good': True}\n",
    "\n",
    "print(dict_by_dict.items(), '\\n')\n",
    "print(dict_by_dict.keys(), '\\n')\n",
    "print(dict_by_dict.values(), '\\n')"
   ]
  },
  {
   "cell_type": "code",
   "execution_count": 19,
   "id": "39b4e956-5b7a-41e2-916f-b054d2c8ea1b",
   "metadata": {},
   "outputs": [
    {
     "data": {
      "text/plain": [
       "{'name1': 'mustafa',\n",
       " 'name2': 'yagmur',\n",
       " 'name3': 'hilmi',\n",
       " 'name4': 'pınar',\n",
       " 'name5': 'naciye'}"
      ]
     },
     "execution_count": 19,
     "metadata": {},
     "output_type": "execute_result"
    }
   ],
   "source": [
    "family = {'name1' : \"mustafa\", 'name2' : \"yagmur\", 'name3' : \"hilmi\", 'name4' : \"pınar\"}\n",
    "family[\"name5\"] = \"naciye\"\n",
    "family"
   ]
  },
  {
   "cell_type": "code",
   "execution_count": null,
   "id": "03dea4e4-9648-4084-8006-39ed2283cbc9",
   "metadata": {},
   "outputs": [],
   "source": [
    "dict_by_dict.apdate([\"is_bad\" : False]) # update ekleme metodu"
   ]
  },
  {
   "cell_type": "code",
   "execution_count": 10,
   "id": "99750db7-e444-49be-a580-f9e7bcf99468",
   "metadata": {},
   "outputs": [
    {
     "data": {
      "text/plain": [
       "'yagmur'"
      ]
     },
     "execution_count": 10,
     "metadata": {},
     "output_type": "execute_result"
    }
   ],
   "source": [
    "family[\"name2\"] # istediğimiz bilgiyi key olreak yazarak value çıktı alma"
   ]
  },
  {
   "cell_type": "code",
   "execution_count": null,
   "id": "305b93e0-8939-4952-8e7b-f98df1c1d8ea",
   "metadata": {},
   "outputs": [],
   "source": [
    "dict_by_dict[\"is_good\"]"
   ]
  },
  {
   "cell_type": "code",
   "execution_count": null,
   "id": "92a23bcd-8499-46a8-8f3e-53ab0c10dd94",
   "metadata": {},
   "outputs": [],
   "source": [
    "del dict_by_dict[\"is_good\"] # silme moetdu"
   ]
  },
  {
   "cell_type": "code",
   "execution_count": 12,
   "id": "cbb38caa-1e75-48e1-9134-722f9d17af52",
   "metadata": {},
   "outputs": [
    {
     "name": "stdout",
     "output_type": "stream",
     "text": [
      "farukl\n"
     ]
    }
   ],
   "source": [
    "a = \"farukl\"\n",
    "print(a)"
   ]
  },
  {
   "cell_type": "code",
   "execution_count": 3,
   "id": "e69ac143-c387-4c96-89d6-c782ae0fc6b9",
   "metadata": {},
   "outputs": [
    {
     "data": {
      "text/plain": [
       "{'animal': 'dog',\n",
       " 'planet': 'Neptun',\n",
       " 'number': 40,\n",
       " 'pi': 3.14,\n",
       " 'is_good': True}"
      ]
     },
     "execution_count": 3,
     "metadata": {},
     "output_type": "execute_result"
    }
   ],
   "source": [
    "dict_by_dict"
   ]
  },
  {
   "cell_type": "code",
   "execution_count": 4,
   "id": "db642ea2-06e0-4c48-980a-37f90b033581",
   "metadata": {},
   "outputs": [
    {
     "data": {
      "text/plain": [
       "False"
      ]
     },
     "execution_count": 4,
     "metadata": {},
     "output_type": "execute_result"
    }
   ],
   "source": [
    "\"İ\" in \"clarusway\" # in operatörrü i claruswayda varmı"
   ]
  },
  {
   "cell_type": "code",
   "execution_count": 5,
   "id": "6be882ae-7bbe-4aa7-b49a-79f6c1f9ed58",
   "metadata": {},
   "outputs": [
    {
     "data": {
      "text/plain": [
       "True"
      ]
     },
     "execution_count": 5,
     "metadata": {},
     "output_type": "execute_result"
    }
   ],
   "source": [
    "\"a\" in \"clarusway\""
   ]
  },
  {
   "cell_type": "code",
   "execution_count": 14,
   "id": "1d35dc81-b368-4f9f-89f3-1cb1adc052c3",
   "metadata": {},
   "outputs": [],
   "source": [
    "bootcamp = \"c l a r u s w a y\".split()"
   ]
  },
  {
   "cell_type": "code",
   "execution_count": 15,
   "id": "bf55c4d4-c9e9-4116-b314-911a9608fd19",
   "metadata": {},
   "outputs": [
    {
     "data": {
      "text/plain": [
       "True"
      ]
     },
     "execution_count": 15,
     "metadata": {},
     "output_type": "execute_result"
    }
   ],
   "source": [
    "\"a\" in bootcamp"
   ]
  },
  {
   "cell_type": "code",
   "execution_count": 16,
   "id": "58ef5dc6-5511-4794-8387-0390d896a4e0",
   "metadata": {},
   "outputs": [
    {
     "data": {
      "text/plain": [
       "{'animal': 'dog',\n",
       " 'planet': 'Neptun',\n",
       " 'number': 40,\n",
       " 'pi': 3.14,\n",
       " 'is_good': True}"
      ]
     },
     "execution_count": 16,
     "metadata": {},
     "output_type": "execute_result"
    }
   ],
   "source": [
    "dict_by_dict"
   ]
  },
  {
   "cell_type": "code",
   "execution_count": 17,
   "id": "2adba89c-a56c-4254-bc04-52301e85e0a4",
   "metadata": {},
   "outputs": [
    {
     "data": {
      "text/plain": [
       "False"
      ]
     },
     "execution_count": 17,
     "metadata": {},
     "output_type": "execute_result"
    }
   ],
   "source": [
    "\"dog\" in dict_by_dict # key lere baktığı için false veriyor"
   ]
  },
  {
   "cell_type": "code",
   "execution_count": 18,
   "id": "c2e191c1-06a5-4fb1-a518-86cb8bb4a8f9",
   "metadata": {},
   "outputs": [
    {
     "data": {
      "text/plain": [
       "True"
      ]
     },
     "execution_count": 18,
     "metadata": {},
     "output_type": "execute_result"
    }
   ],
   "source": [
    "\"planet\" in dict_by_dict"
   ]
  },
  {
   "cell_type": "code",
   "execution_count": 20,
   "id": "e91450dc-dd51-4c33-bac8-32d2794720bc",
   "metadata": {},
   "outputs": [
    {
     "data": {
      "text/plain": [
       "True"
      ]
     },
     "execution_count": 20,
     "metadata": {},
     "output_type": "execute_result"
    }
   ],
   "source": [
    "\"dog\" not in dict_by_dict # keyler arasında deyil deyilmi"
   ]
  },
  {
   "cell_type": "code",
   "execution_count": 22,
   "id": "adce2a65-43b4-42cc-b876-22dafbeedb50",
   "metadata": {},
   "outputs": [
    {
     "data": {
      "text/plain": [
       "True"
      ]
     },
     "execution_count": 22,
     "metadata": {},
     "output_type": "execute_result"
    }
   ],
   "source": [
    "\"dog\" in dict_by_dict.values() # values lewr arsında böyle aratılır"
   ]
  },
  {
   "cell_type": "code",
   "execution_count": 30,
   "id": "13361b52-0740-49df-b4bb-7bf41800b88a",
   "metadata": {},
   "outputs": [],
   "source": [
    "school_records={\n",
    "\t'personal_info':\n",
    "\t\t{'kid':{'tom':{'class':'intermediate', 'age':10},\n",
    "\t\t\t'sue':{'class':'elemantary', 'age':8}\n",
    "\t\t\t},\n",
    "\t\t'teen':{'joseph':{'class':'college', 'age':19},\n",
    "\t\t\t'marry':{'class':'high school', 'age':16}\n",
    "\t\t\t},\n",
    "\t\t},\n",
    "\t'grades_info':\n",
    "\t\t{'kid':{'tom':{'math':88, 'speech':69},\n",
    "\t\t\t'sue':{'math':90, 'speech':81}\n",
    "\t\t\t},\n",
    "\t\t'teen':{'joseph':{'coding':80, 'math':89},\n",
    "\t\t\t'marry':{'coding':70, 'math':96}\n",
    "\t\t\t},\n",
    "\t\t}\n",
    "}"
   ]
  },
  {
   "cell_type": "code",
   "execution_count": 28,
   "id": "baa39aa0-3b02-4484-88e0-ed2a9dcc69b0",
   "metadata": {},
   "outputs": [
    {
     "data": {
      "text/plain": [
       "2"
      ]
     },
     "execution_count": 28,
     "metadata": {},
     "output_type": "execute_result"
    }
   ],
   "source": [
    "len(school_records)"
   ]
  },
  {
   "cell_type": "code",
   "execution_count": 34,
   "id": "b5973d65-d318-412e-8d9b-99cf1b7e5be9",
   "metadata": {},
   "outputs": [
    {
     "data": {
      "text/plain": [
       "2"
      ]
     },
     "execution_count": 34,
     "metadata": {},
     "output_type": "execute_result"
    }
   ],
   "source": [
    "len(school_records['personal_info'])"
   ]
  },
  {
   "cell_type": "code",
   "execution_count": 29,
   "id": "ac635fe1-a48b-4eff-af38-d6190c1b30ea",
   "metadata": {},
   "outputs": [
    {
     "data": {
      "text/plain": [
       "11"
      ]
     },
     "execution_count": 29,
     "metadata": {},
     "output_type": "execute_result"
    }
   ],
   "source": [
    "len('grades_info')"
   ]
  },
  {
   "cell_type": "code",
   "execution_count": 31,
   "id": "82cd12cc-8424-4a26-9c27-6eccb12a8b8e",
   "metadata": {},
   "outputs": [
    {
     "data": {
      "text/plain": [
       "{'personal_info': {'kid': {'tom': {'class': 'intermediate', 'age': 10},\n",
       "   'sue': {'class': 'elemantary', 'age': 8}},\n",
       "  'teen': {'joseph': {'class': 'college', 'age': 19},\n",
       "   'marry': {'class': 'high school', 'age': 16}}},\n",
       " 'grades_info': {'kid': {'tom': {'math': 88, 'speech': 69},\n",
       "   'sue': {'math': 90, 'speech': 81}},\n",
       "  'teen': {'joseph': {'coding': 80, 'math': 89},\n",
       "   'marry': {'coding': 70, 'math': 96}}}}"
      ]
     },
     "execution_count": 31,
     "metadata": {},
     "output_type": "execute_result"
    }
   ],
   "source": [
    "school_records"
   ]
  },
  {
   "cell_type": "code",
   "execution_count": 32,
   "id": "78f7be30-b18a-48a2-93b2-e9dec839a41b",
   "metadata": {},
   "outputs": [
    {
     "data": {
      "text/plain": [
       "{'kid': {'tom': {'class': 'intermediate', 'age': 10},\n",
       "  'sue': {'class': 'elemantary', 'age': 8}},\n",
       " 'teen': {'joseph': {'class': 'college', 'age': 19},\n",
       "  'marry': {'class': 'high school', 'age': 16}}}"
      ]
     },
     "execution_count": 32,
     "metadata": {},
     "output_type": "execute_result"
    }
   ],
   "source": [
    "school_records[\"personal_info\"]"
   ]
  },
  {
   "cell_type": "code",
   "execution_count": 35,
   "id": "c6351d64-9946-429d-8731-44e8d1555f9e",
   "metadata": {},
   "outputs": [
    {
     "data": {
      "text/plain": [
       "{'tom': {'class': 'intermediate', 'age': 10},\n",
       " 'sue': {'class': 'elemantary', 'age': 8}}"
      ]
     },
     "execution_count": 35,
     "metadata": {},
     "output_type": "execute_result"
    }
   ],
   "source": [
    "school_records[\"personal_info\"][\"kid\"]"
   ]
  },
  {
   "cell_type": "code",
   "execution_count": 38,
   "id": "cc73e91e-df46-48f9-bc6e-c5cecf339904",
   "metadata": {},
   "outputs": [
    {
     "data": {
      "text/plain": [
       "2"
      ]
     },
     "execution_count": 38,
     "metadata": {},
     "output_type": "execute_result"
    }
   ],
   "source": [
    "len(school_records[\"personal_info\"][\"kid\"])"
   ]
  },
  {
   "cell_type": "code",
   "execution_count": 36,
   "id": "d1a5483d-95b3-49fb-a4b1-60292950bd9c",
   "metadata": {},
   "outputs": [
    {
     "data": {
      "text/plain": [
       "{'class': 'intermediate', 'age': 10}"
      ]
     },
     "execution_count": 36,
     "metadata": {},
     "output_type": "execute_result"
    }
   ],
   "source": [
    "school_records[\"personal_info\"][\"kid\"][\"tom\"]"
   ]
  },
  {
   "cell_type": "code",
   "execution_count": 40,
   "id": "874e7a81-512b-4d31-9979-b38360d65baa",
   "metadata": {},
   "outputs": [
    {
     "data": {
      "text/plain": [
       "10"
      ]
     },
     "execution_count": 40,
     "metadata": {},
     "output_type": "execute_result"
    }
   ],
   "source": [
    "school_records[\"personal_info\"][\"kid\"][\"tom\"][\"age\"]"
   ]
  },
  {
   "cell_type": "code",
   "execution_count": 41,
   "id": "c655ce2a-1c1e-406f-a502-c2ed594b04a9",
   "metadata": {},
   "outputs": [
    {
     "data": {
      "text/plain": [
       "{'coding': 80, 'math': 89}"
      ]
     },
     "execution_count": 41,
     "metadata": {},
     "output_type": "execute_result"
    }
   ],
   "source": [
    "school_records[\"grades_info\"][\"teen\"][\"joseph\"]"
   ]
  },
  {
   "cell_type": "code",
   "execution_count": 47,
   "id": "2a9d5c7b-7eca-44de-9b22-451d9342863d",
   "metadata": {},
   "outputs": [
    {
     "name": "stdout",
     "output_type": "stream",
     "text": [
      "{'friends': {'friend1': {'first': 'Sue', 'last': 'Bold'}, 'friend2': {'first': 'Steve', 'last': 'Smith'}, 'friend3': {'firt': 'faruk', 'last': 'kose'}}, 'family': {'family1': {'first': 'yagmur', 'last': 'köse'}, 'family2': {'first': 'hilmi', 'last': 'Smith'}, 'family3': {'firt': 'faruk', 'last': 'kose'}}}\n"
     ]
    }
   ],
   "source": [
    "favourite = {\n",
    "\"friends\" : {\n",
    "\"friend1\" : {\"first\" : \"Sue\", \"last\" : \"Bold\"},\n",
    "\"friend2\" : {\"first\" : \"Steve\", \"last\" : \"Smith\"},\n",
    "\"friend3\" : {\"firt\" : \"faruk\", \"last\" : \"kose\"}},\n",
    "\"family\" : {\n",
    "\"family1\" : {\"first\" : \"yagmur\", \"last\" : \"köse\"},\n",
    "\"family2\" : {\"first\" : \"hilmi\", \"last\" : \"köse\"},\n",
    "\"family3\" : {\"firt\" : \"faruk\", \"last\" : \"köse\"}}}\n",
    "print(favourite)"
   ]
  },
  {
   "cell_type": "code",
   "execution_count": 48,
   "id": "88813bb6-47e5-4e31-af11-f103b5b1d613",
   "metadata": {},
   "outputs": [
    {
     "data": {
      "text/plain": [
       "5"
      ]
     },
     "execution_count": 48,
     "metadata": {},
     "output_type": "execute_result"
    }
   ],
   "source": [
    "len([1,1,2,0,1])"
   ]
  },
  {
   "cell_type": "code",
   "execution_count": 49,
   "id": "f60587e3-7136-4763-85a3-b3d66f1f8560",
   "metadata": {},
   "outputs": [
    {
     "data": {
      "text/plain": [
       "3"
      ]
     },
     "execution_count": 49,
     "metadata": {},
     "output_type": "execute_result"
    }
   ],
   "source": [
    "len({1,1,2,0,1}) # setlerde eleman tekrarı olmaz"
   ]
  },
  {
   "cell_type": "code",
   "execution_count": 53,
   "id": "6bd64205-d3dd-4b70-b46a-e3c099fe4d0c",
   "metadata": {},
   "outputs": [],
   "source": [
    "ilk_kumem = {1, 2, 0, 1}"
   ]
  },
  {
   "cell_type": "code",
   "execution_count": 54,
   "id": "05f46f0e-44c0-4048-8fb5-3bfb59b939de",
   "metadata": {},
   "outputs": [
    {
     "data": {
      "text/plain": [
       "{0, 1, 2}"
      ]
     },
     "execution_count": 54,
     "metadata": {},
     "output_type": "execute_result"
    }
   ],
   "source": [
    "ilk_kumem"
   ]
  },
  {
   "cell_type": "code",
   "execution_count": 2,
   "id": "6e0ae4cb-8811-45ee-9759-ecc28ce45545",
   "metadata": {},
   "outputs": [],
   "source": [
    "letter = \"a b c d e f g h i j k l m n o p q r s t u v x w y z\".split()"
   ]
  },
  {
   "cell_type": "code",
   "execution_count": 3,
   "id": "55c153c1-f0b9-4903-b429-0cd1f9091451",
   "metadata": {},
   "outputs": [
    {
     "name": "stdout",
     "output_type": "stream",
     "text": [
      "['a', 'b', 'c', 'd', 'e', 'f', 'g', 'h', 'i', 'j', 'k', 'l', 'm', 'n', 'o', 'p', 'q', 'r', 's', 't', 'u', 'v', 'x', 'w', 'y', 'z']\n"
     ]
    }
   ],
   "source": [
    "print(letter)"
   ]
  },
  {
   "cell_type": "code",
   "execution_count": 59,
   "id": "fda2ed96-8b9e-4d31-a21e-54372c8f93be",
   "metadata": {},
   "outputs": [
    {
     "name": "stdout",
     "output_type": "stream",
     "text": [
      "{'b', 'l', 'r', 'd', 't', 'i', 's', 'p', 'c', 'f', 'w', 'x', 'h', 'o', 'u', 'n', 'q', 'v', 'z', 'g', 'j', 'a', 'k', 'y', 'e', 'm'}\n"
     ]
    }
   ],
   "source": [
    "print(set(letter))"
   ]
  },
  {
   "cell_type": "code",
   "execution_count": 60,
   "id": "fad946c1-8dfd-4251-a79d-0dcdc5cb9f00",
   "metadata": {},
   "outputs": [
    {
     "data": {
      "text/plain": [
       "['a', 'b', 'c', 'd']"
      ]
     },
     "execution_count": 60,
     "metadata": {},
     "output_type": "execute_result"
    }
   ],
   "source": [
    "\"a-b-c-d\".split(\"-\") # - den böl liste yap"
   ]
  },
  {
   "cell_type": "code",
   "execution_count": 4,
   "id": "c7c75889-32cb-440c-bea7-9448363bbba0",
   "metadata": {},
   "outputs": [
    {
     "name": "stdout",
     "output_type": "stream",
     "text": [
      "{'x', 'm', 'j', 'i', 'f', 'd', 'c', 'n', 'o', 'y', 't', 'z', 'q', 's', 'v', 'p', 'b', 'k', 'e', 'a', 'u', 'r', 'h', 'l', 'g', 'w'}\n"
     ]
    }
   ],
   "source": [
    "print(set(letter)) # kernel restart edildikten sonra çalıştırdım."
   ]
  },
  {
   "cell_type": "code",
   "execution_count": 6,
   "id": "10b7ca71-de6e-4a19-bc67-543f6e68a05f",
   "metadata": {},
   "outputs": [
    {
     "name": "stdout",
     "output_type": "stream",
     "text": [
      "{'pink', 'red', 'blue'}\n",
      "{'pink', 'red', 'blue'}\n"
     ]
    }
   ],
   "source": [
    "set_1 = {'red', 'blue', 'pink', 'red'}\n",
    "colors = 'red', 'blue', 'pink', 'red'\n",
    "set_2 = set(colors)\n",
    "print(set_1)\n",
    "print(set_2)"
   ]
  },
  {
   "cell_type": "code",
   "execution_count": 8,
   "id": "fb6e8de0-9666-4a75-9f8e-059e6b1c8ea5",
   "metadata": {},
   "outputs": [
    {
     "name": "stdout",
     "output_type": "stream",
     "text": [
      "<class 'set'>\n"
     ]
    }
   ],
   "source": [
    "empty_set = set()\n",
    "print(type(empty_set))"
   ]
  },
  {
   "cell_type": "code",
   "execution_count": 9,
   "id": "6187d938-bead-4e69-83f0-39e53eb42322",
   "metadata": {},
   "outputs": [],
   "source": [
    "test = {1, \"1\", 1.0}"
   ]
  },
  {
   "cell_type": "code",
   "execution_count": 10,
   "id": "13f0c9b2-3dfe-4670-aa3e-689dd314b5ba",
   "metadata": {},
   "outputs": [
    {
     "data": {
      "text/plain": [
       "2"
      ]
     },
     "execution_count": 10,
     "metadata": {},
     "output_type": "execute_result"
    }
   ],
   "source": [
    "len(test)"
   ]
  },
  {
   "cell_type": "code",
   "execution_count": 12,
   "id": "48277231-fe61-44b1-862a-282539810e86",
   "metadata": {},
   "outputs": [
    {
     "data": {
      "text/plain": [
       "True"
      ]
     },
     "execution_count": 12,
     "metadata": {},
     "output_type": "execute_result"
    }
   ],
   "source": [
    "1 == 1.0"
   ]
  },
  {
   "cell_type": "code",
   "execution_count": 16,
   "id": "47a85a8e-5a26-4138-829f-ddc7f6cb8b47",
   "metadata": {},
   "outputs": [],
   "source": [
    "given_list = [1, 2, 3, 4, 5]"
   ]
  },
  {
   "cell_type": "code",
   "execution_count": 17,
   "id": "94fa3634-2f3c-41d7-9643-4d2a77f0a3ba",
   "metadata": {},
   "outputs": [
    {
     "ename": "TypeError",
     "evalue": "unhashable type: 'list'",
     "output_type": "error",
     "traceback": [
      "\u001b[1;31m---------------------------------------------------------------------------\u001b[0m",
      "\u001b[1;31mTypeError\u001b[0m                                 Traceback (most recent call last)",
      "\u001b[1;32m~\\AppData\\Local\\Temp/ipykernel_18024/789496056.py\u001b[0m in \u001b[0;36m<module>\u001b[1;34m\u001b[0m\n\u001b[1;32m----> 1\u001b[1;33m \u001b[1;33m{\u001b[0m\u001b[0mgiven_list\u001b[0m\u001b[1;33m}\u001b[0m \u001b[1;31m# listelerde manuel olarak set yapamıyoruz\u001b[0m\u001b[1;33m\u001b[0m\u001b[1;33m\u001b[0m\u001b[0m\n\u001b[0m",
      "\u001b[1;31mTypeError\u001b[0m: unhashable type: 'list'"
     ]
    }
   ],
   "source": [
    "{given_list} # listelerde manuel olarak set yapamıyoruz"
   ]
  },
  {
   "cell_type": "code",
   "execution_count": 14,
   "id": "c5d95a2f-3e0b-4287-ac31-01270caf6298",
   "metadata": {},
   "outputs": [
    {
     "ename": "TypeError",
     "evalue": "unhashable type: 'list'",
     "output_type": "error",
     "traceback": [
      "\u001b[1;31m---------------------------------------------------------------------------\u001b[0m",
      "\u001b[1;31mTypeError\u001b[0m                                 Traceback (most recent call last)",
      "\u001b[1;32m~\\AppData\\Local\\Temp/ipykernel_18024/201641053.py\u001b[0m in \u001b[0;36m<module>\u001b[1;34m\u001b[0m\n\u001b[1;32m----> 1\u001b[1;33m \u001b[1;33m{\u001b[0m\u001b[1;33m[\u001b[0m\u001b[1;36m1\u001b[0m\u001b[1;33m,\u001b[0m \u001b[1;34m\"bir\"\u001b[0m\u001b[1;33m]\u001b[0m\u001b[1;33m,\u001b[0m \u001b[1;34m\"ali\"\u001b[0m\u001b[1;33m,\u001b[0m \u001b[1;34m\"deli\"\u001b[0m\u001b[1;33m}\u001b[0m\u001b[1;33m\u001b[0m\u001b[1;33m\u001b[0m\u001b[0m\n\u001b[0m",
      "\u001b[1;31mTypeError\u001b[0m: unhashable type: 'list'"
     ]
    }
   ],
   "source": [
    "{[1, \"bir\"], \"ali\", \"deli\"} # set içerisinde liste olursa küme olmaz"
   ]
  },
  {
   "cell_type": "code",
   "execution_count": 18,
   "id": "aaa002a7-0679-48d7-829c-1639c638b97e",
   "metadata": {},
   "outputs": [
    {
     "data": {
      "text/plain": [
       "{1, 2, 3, 4, 5}"
      ]
     },
     "execution_count": 18,
     "metadata": {},
     "output_type": "execute_result"
    }
   ],
   "source": [
    "set(given_list) # .set fonksiyonu yapabiliyor"
   ]
  },
  {
   "cell_type": "code",
   "execution_count": 19,
   "id": "3d207df8-3cbb-4fbc-92c0-7bb840e673f6",
   "metadata": {},
   "outputs": [
    {
     "ename": "TypeError",
     "evalue": "unhashable type: 'set'",
     "output_type": "error",
     "traceback": [
      "\u001b[1;31m---------------------------------------------------------------------------\u001b[0m",
      "\u001b[1;31mTypeError\u001b[0m                                 Traceback (most recent call last)",
      "\u001b[1;32m~\\AppData\\Local\\Temp/ipykernel_18024/3629946881.py\u001b[0m in \u001b[0;36m<module>\u001b[1;34m\u001b[0m\n\u001b[1;32m----> 1\u001b[1;33m \u001b[0mmix\u001b[0m \u001b[1;33m=\u001b[0m \u001b[1;33m{\u001b[0m\u001b[1;36m1\u001b[0m\u001b[1;33m,\u001b[0m \u001b[1;36m2\u001b[0m\u001b[1;33m,\u001b[0m \u001b[1;33m{\u001b[0m\u001b[1;36m3\u001b[0m\u001b[1;33m,\u001b[0m\u001b[1;36m4\u001b[0m\u001b[1;33m}\u001b[0m\u001b[1;33m}\u001b[0m\u001b[1;33m\u001b[0m\u001b[1;33m\u001b[0m\u001b[0m\n\u001b[0m",
      "\u001b[1;31mTypeError\u001b[0m: unhashable type: 'set'"
     ]
    }
   ],
   "source": [
    "mix = {1, 2, {3,4}}# küme yani set içerisinde set olmuyor"
   ]
  },
  {
   "cell_type": "code",
   "execution_count": 20,
   "id": "5a808c42-1dfd-4137-884d-21a399db475a",
   "metadata": {},
   "outputs": [
    {
     "ename": "TypeError",
     "evalue": "unhashable type: 'dict'",
     "output_type": "error",
     "traceback": [
      "\u001b[1;31m---------------------------------------------------------------------------\u001b[0m",
      "\u001b[1;31mTypeError\u001b[0m                                 Traceback (most recent call last)",
      "\u001b[1;32m~\\AppData\\Local\\Temp/ipykernel_18024/791192483.py\u001b[0m in \u001b[0;36m<module>\u001b[1;34m\u001b[0m\n\u001b[1;32m----> 1\u001b[1;33m \u001b[0mset_dict\u001b[0m \u001b[1;33m=\u001b[0m \u001b[1;33m{\u001b[0m\u001b[1;36m1\u001b[0m\u001b[1;33m,\u001b[0m \u001b[1;36m2\u001b[0m\u001b[1;33m,\u001b[0m \u001b[1;33m{\u001b[0m\u001b[1;34m\"bir\"\u001b[0m\u001b[1;33m:\u001b[0m \u001b[1;34m\"iki\"\u001b[0m\u001b[1;33m}\u001b[0m\u001b[1;33m}\u001b[0m\u001b[1;33m\u001b[0m\u001b[1;33m\u001b[0m\u001b[0m\n\u001b[0m",
      "\u001b[1;31mTypeError\u001b[0m: unhashable type: 'dict'"
     ]
    }
   ],
   "source": [
    "set_dict = {1, 2, {\"bir\": \"iki\"}} # dict de olmuyor"
   ]
  },
  {
   "cell_type": "code",
   "execution_count": 22,
   "id": "9be6948b-7bb1-42e0-8dbc-fa3385342808",
   "metadata": {},
   "outputs": [
    {
     "data": {
      "text/plain": [
       "{(3, 4), 1, 2}"
      ]
     },
     "execution_count": 22,
     "metadata": {},
     "output_type": "execute_result"
    }
   ],
   "source": [
    "tuple_set = {1, 2, (3,4)} # tuple oluyor\n",
    "tuple_set"
   ]
  },
  {
   "cell_type": "code",
   "execution_count": 23,
   "id": "3cdd9bb5-4e31-4b56-a9da-92ae49a696a3",
   "metadata": {},
   "outputs": [],
   "source": [
    "a = {1, 2, 3, 4}\n",
    "b = {3,4}"
   ]
  },
  {
   "cell_type": "code",
   "execution_count": 24,
   "id": "50e12a1d-7d8e-4ed0-b3cd-95fe05f4623f",
   "metadata": {},
   "outputs": [
    {
     "data": {
      "text/plain": [
       "{1, 2, 3, 4}"
      ]
     },
     "execution_count": 24,
     "metadata": {},
     "output_type": "execute_result"
    }
   ],
   "source": [
    "a"
   ]
  },
  {
   "cell_type": "code",
   "execution_count": 25,
   "id": "184cc9c5-b949-457f-ad6f-e17b56a2d8ae",
   "metadata": {},
   "outputs": [
    {
     "data": {
      "text/plain": [
       "{3, 4}"
      ]
     },
     "execution_count": 25,
     "metadata": {},
     "output_type": "execute_result"
    }
   ],
   "source": [
    "b"
   ]
  },
  {
   "cell_type": "code",
   "execution_count": 26,
   "id": "50311426-cfe5-49d1-845f-e6bd3d50d8d4",
   "metadata": {},
   "outputs": [],
   "source": [
    "a = {'carnation', 'orchid', 'rose', 'violet'} \n",
    "b = {'rose', 'orchid', 'rose', 'violet', 'carnation'} # birden fazla yazarsanız teke düşürür."
   ]
  },
  {
   "cell_type": "code",
   "execution_count": 27,
   "id": "4ca8f2bf-fcca-4b2c-a799-6393c37400e9",
   "metadata": {},
   "outputs": [
    {
     "data": {
      "text/plain": [
       "True"
      ]
     },
     "execution_count": 27,
     "metadata": {},
     "output_type": "execute_result"
    }
   ],
   "source": [
    "a == b"
   ]
  },
  {
   "cell_type": "code",
   "execution_count": 28,
   "id": "5c346123-4f44-4c0c-8a9b-cd82da1b9e81",
   "metadata": {},
   "outputs": [
    {
     "data": {
      "text/plain": [
       "{'carnation', 'orchid', 'rose', 'violet'}"
      ]
     },
     "execution_count": 28,
     "metadata": {},
     "output_type": "execute_result"
    }
   ],
   "source": [
    "a"
   ]
  },
  {
   "cell_type": "code",
   "execution_count": 29,
   "id": "5777a3fa-af2b-4360-aaab-b7903e19f206",
   "metadata": {},
   "outputs": [
    {
     "data": {
      "text/plain": [
       "{'carnation', 'orchid', 'rose', 'violet'}"
      ]
     },
     "execution_count": 29,
     "metadata": {},
     "output_type": "execute_result"
    }
   ],
   "source": [
    "b"
   ]
  },
  {
   "cell_type": "code",
   "execution_count": 30,
   "id": "f8c56edf-46e2-4fb8-9d20-3fc069e60ec1",
   "metadata": {},
   "outputs": [],
   "source": [
    "a.add(\"lily\") # yeni eleman ekler"
   ]
  },
  {
   "cell_type": "code",
   "execution_count": 31,
   "id": "b40e30c4-4b02-4926-88cb-f9dcc8464052",
   "metadata": {},
   "outputs": [
    {
     "data": {
      "text/plain": [
       "{'carnation', 'lily', 'orchid', 'rose', 'violet'}"
      ]
     },
     "execution_count": 31,
     "metadata": {},
     "output_type": "execute_result"
    }
   ],
   "source": [
    "a"
   ]
  },
  {
   "cell_type": "code",
   "execution_count": 32,
   "id": "774b5350-5302-4e55-a97e-ebb4ee2a7eec",
   "metadata": {},
   "outputs": [],
   "source": [
    "a.remove(\"rose\") # eleman siler"
   ]
  },
  {
   "cell_type": "code",
   "execution_count": 33,
   "id": "e3919d32-d282-4c08-9bf4-23edc2d626e2",
   "metadata": {},
   "outputs": [
    {
     "data": {
      "text/plain": [
       "{'carnation', 'lily', 'orchid', 'violet'}"
      ]
     },
     "execution_count": 33,
     "metadata": {},
     "output_type": "execute_result"
    }
   ],
   "source": [
    "a"
   ]
  },
  {
   "cell_type": "code",
   "execution_count": 36,
   "id": "db5fe021-0e0f-4395-9684-d8aaa721ebb8",
   "metadata": {},
   "outputs": [],
   "source": [
    "a = set(\"philadelphia\")\n",
    "b = set(\"dolphin\")"
   ]
  },
  {
   "cell_type": "code",
   "execution_count": 38,
   "id": "356da3e8-3110-4d7a-b5c7-5294d01ccf96",
   "metadata": {},
   "outputs": [
    {
     "name": "stdout",
     "output_type": "stream",
     "text": [
      "{'e', 'a'}\n",
      "{'e', 'a'}\n"
     ]
    }
   ],
   "source": [
    "print(a - b) # farkı\n",
    "print(a.difference(b))"
   ]
  },
  {
   "cell_type": "code",
   "execution_count": 39,
   "id": "9ea57563-497e-4307-bb45-0835046eddbb",
   "metadata": {},
   "outputs": [
    {
     "name": "stdout",
     "output_type": "stream",
     "text": [
      "{'l', 'p', 'd', 'e', 'n', 'a', 'o', 'i', 'h'}\n"
     ]
    }
   ],
   "source": [
    "print(a.union(b)) # birleşim"
   ]
  },
  {
   "cell_type": "code",
   "execution_count": 40,
   "id": "85b87cb2-a43c-4b3b-9161-571c17450fa9",
   "metadata": {},
   "outputs": [
    {
     "name": "stdout",
     "output_type": "stream",
     "text": [
      "{'l', 'p', 'd', 'i', 'h'}\n"
     ]
    }
   ],
   "source": [
    "print(a.intersection(b)) # kesişim"
   ]
  },
  {
   "cell_type": "code",
   "execution_count": 41,
   "id": "b51852a5-55ab-4dfc-b042-36acbf685cbe",
   "metadata": {},
   "outputs": [],
   "source": [
    "left = set(\"qwertasdfgzxcvb\")"
   ]
  },
  {
   "cell_type": "code",
   "execution_count": 42,
   "id": "31706c99-7a7f-4d67-a024-8cc1b3f78b91",
   "metadata": {},
   "outputs": [
    {
     "data": {
      "text/plain": [
       "{'a', 'b', 'c', 'd', 'e', 'f', 'g', 'q', 'r', 's', 't', 'v', 'w', 'x', 'z'}"
      ]
     },
     "execution_count": 42,
     "metadata": {},
     "output_type": "execute_result"
    }
   ],
   "source": [
    "left"
   ]
  },
  {
   "cell_type": "code",
   "execution_count": 43,
   "id": "19469aa2-6c9c-4820-89d0-2f5d72c0bdef",
   "metadata": {},
   "outputs": [],
   "source": [
    "right = set(\"yuıophjklmn\")"
   ]
  },
  {
   "cell_type": "code",
   "execution_count": 44,
   "id": "770d8c24-4ad1-4a0d-8893-3c18924101f2",
   "metadata": {},
   "outputs": [
    {
     "data": {
      "text/plain": [
       "{'h', 'j', 'k', 'l', 'm', 'n', 'o', 'p', 'u', 'y', 'ı'}"
      ]
     },
     "execution_count": 44,
     "metadata": {},
     "output_type": "execute_result"
    }
   ],
   "source": [
    "right"
   ]
  },
  {
   "cell_type": "code",
   "execution_count": 45,
   "id": "1df649fb-f735-48d0-b4d8-23b862141ff1",
   "metadata": {},
   "outputs": [],
   "source": [
    "word = \"clarusway\""
   ]
  },
  {
   "cell_type": "code",
   "execution_count": 59,
   "id": "7e2ea139-831d-4df4-93cb-a36510575005",
   "metadata": {},
   "outputs": [],
   "source": [
    "word2 = \"test\""
   ]
  },
  {
   "cell_type": "code",
   "execution_count": 62,
   "id": "95a8fdc9-64e8-4a31-85f7-a341029f2cdb",
   "metadata": {},
   "outputs": [],
   "source": [
    "word2 = set(word2)"
   ]
  },
  {
   "cell_type": "code",
   "execution_count": 46,
   "id": "b2010798-9933-4c33-ac98-9566ddfbe263",
   "metadata": {},
   "outputs": [],
   "source": [
    "word = set(word)"
   ]
  },
  {
   "cell_type": "code",
   "execution_count": 47,
   "id": "a1dff2c1-02aa-4b32-8bc4-b98aa06fb2e8",
   "metadata": {},
   "outputs": [
    {
     "data": {
      "text/plain": [
       "{'a', 'c', 'l', 'r', 's', 'u', 'w', 'y'}"
      ]
     },
     "execution_count": 47,
     "metadata": {},
     "output_type": "execute_result"
    }
   ],
   "source": [
    "word"
   ]
  },
  {
   "cell_type": "code",
   "execution_count": 48,
   "id": "af10a92e-9767-4c7a-8f60-fef1cc325081",
   "metadata": {},
   "outputs": [],
   "source": [
    "leftcheck = bool(word.intersection(left))\n",
    "rightcheck = bool(word.intersection(right))"
   ]
  },
  {
   "cell_type": "code",
   "execution_count": 50,
   "id": "8b6080c3-2e85-44a6-9474-7253a0dac44f",
   "metadata": {},
   "outputs": [
    {
     "data": {
      "text/plain": [
       "True"
      ]
     },
     "execution_count": 50,
     "metadata": {},
     "output_type": "execute_result"
    }
   ],
   "source": [
    "leftcheck"
   ]
  },
  {
   "cell_type": "code",
   "execution_count": 51,
   "id": "e27bc634-2911-40b5-b159-a9caf3841b5e",
   "metadata": {},
   "outputs": [
    {
     "data": {
      "text/plain": [
       "True"
      ]
     },
     "execution_count": 51,
     "metadata": {},
     "output_type": "execute_result"
    }
   ],
   "source": [
    "rightcheck"
   ]
  },
  {
   "cell_type": "code",
   "execution_count": 53,
   "id": "d3d5556b-891f-45cf-9a37-b3b2accd40db",
   "metadata": {},
   "outputs": [],
   "source": [
    "sonuc = leftcheck and rightcheck"
   ]
  },
  {
   "cell_type": "code",
   "execution_count": 54,
   "id": "ca6d007e-cca3-4f5e-ac32-a714c26675da",
   "metadata": {},
   "outputs": [
    {
     "data": {
      "text/plain": [
       "True"
      ]
     },
     "execution_count": 54,
     "metadata": {},
     "output_type": "execute_result"
    }
   ],
   "source": [
    "sonuc"
   ]
  },
  {
   "cell_type": "code",
   "execution_count": null,
   "id": "42a9c142-f75a-42dc-89c5-48c8c1d67283",
   "metadata": {},
   "outputs": [],
   "source": []
  },
  {
   "cell_type": "code",
   "execution_count": 63,
   "id": "47c3d600-8d7e-4578-8b6f-dc21c857a463",
   "metadata": {},
   "outputs": [],
   "source": [
    "leftcheck2 = bool(word2.intersection(left))\n",
    "rightcheck2 = bool(word2.intersection(right))"
   ]
  },
  {
   "cell_type": "code",
   "execution_count": 64,
   "id": "79b692e0-a54a-46a2-adb9-0dd05506c566",
   "metadata": {},
   "outputs": [],
   "source": [
    "sonuc2 = leftcheck2 and rightcheck2"
   ]
  },
  {
   "cell_type": "code",
   "execution_count": 65,
   "id": "4372fe6b-ce2f-4c58-b10c-f0201b7299aa",
   "metadata": {},
   "outputs": [
    {
     "data": {
      "text/plain": [
       "False"
      ]
     },
     "execution_count": 65,
     "metadata": {},
     "output_type": "execute_result"
    }
   ],
   "source": [
    "sonuc2"
   ]
  },
  {
   "cell_type": "code",
   "execution_count": 66,
   "id": "3eec8ecf-ea12-450e-b615-202781eeee52",
   "metadata": {},
   "outputs": [
    {
     "name": "stdin",
     "output_type": "stream",
     "text": [
      "bir kelimegiriniz clarusway\n"
     ]
    }
   ],
   "source": [
    "word = input(\"bir kelimegiriniz\") # input str alır"
   ]
  },
  {
   "cell_type": "code",
   "execution_count": 67,
   "id": "26105146-cbd8-4f86-a43f-31062acee3a0",
   "metadata": {},
   "outputs": [
    {
     "name": "stdin",
     "output_type": "stream",
     "text": [
      "bir sayı giriniz 55\n"
     ]
    },
    {
     "name": "stdout",
     "output_type": "stream",
     "text": [
      "<class 'str'>\n"
     ]
    }
   ],
   "source": [
    "print(type(input(\"bir sayı giriniz\"))) # input str alır."
   ]
  },
  {
   "cell_type": "code",
   "execution_count": null,
   "id": "7de0b3b4-21bf-47f8-9c2f-bddd1b3bbf6f",
   "metadata": {},
   "outputs": [],
   "source": []
  },
  {
   "cell_type": "code",
   "execution_count": null,
   "id": "902928cb-a787-40d7-b29c-8ce76779be1f",
   "metadata": {},
   "outputs": [],
   "source": []
  }
 ],
 "metadata": {
  "kernelspec": {
   "display_name": "Python 3 (ipykernel)",
   "language": "python",
   "name": "python3"
  },
  "language_info": {
   "codemirror_mode": {
    "name": "ipython",
    "version": 3
   },
   "file_extension": ".py",
   "mimetype": "text/x-python",
   "name": "python",
   "nbconvert_exporter": "python",
   "pygments_lexer": "ipython3",
   "version": "3.9.7"
  }
 },
 "nbformat": 4,
 "nbformat_minor": 5
}
