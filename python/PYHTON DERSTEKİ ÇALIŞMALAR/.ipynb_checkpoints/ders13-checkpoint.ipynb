{
 "cells": [
  {
   "cell_type": "code",
   "execution_count": null,
   "id": "2ead6ad0-2d20-4fa7-801a-4a2847d9ce4c",
   "metadata": {},
   "outputs": [],
   "source": [
    "while condition :\n",
    "    while condition2 :\n",
    "        body\n",
    "        break # iç deki dögüden çıkar\n",
    "    break   # ortaki döngüden çıkar"
   ]
  },
  {
   "cell_type": "code",
   "execution_count": 2,
   "id": "b78aba85-9b4f-4821-a4df-b3afef0bd104",
   "metadata": {},
   "outputs": [
    {
     "name": "stdout",
     "output_type": "stream",
     "text": [
      "0\n",
      "1\n",
      "2\n",
      "3\n",
      "4\n"
     ]
    }
   ],
   "source": [
    "for i in range(5):\n",
    "    print(i)"
   ]
  },
  {
   "cell_type": "code",
   "execution_count": 4,
   "id": "f735503d-b022-42c1-9118-7474d809443a",
   "metadata": {},
   "outputs": [
    {
     "data": {
      "text/plain": [
       "4"
      ]
     },
     "execution_count": 4,
     "metadata": {},
     "output_type": "execute_result"
    }
   ],
   "source": [
    "i"
   ]
  },
  {
   "cell_type": "code",
   "execution_count": 5,
   "id": "c6ce3c87-55c0-4ac7-8a91-cd9e7a824d44",
   "metadata": {},
   "outputs": [
    {
     "data": {
      "text/plain": [
       "range(0, 11)"
      ]
     },
     "execution_count": 5,
     "metadata": {},
     "output_type": "execute_result"
    }
   ],
   "source": [
    "range(11)"
   ]
  },
  {
   "cell_type": "code",
   "execution_count": 6,
   "id": "50436dea-3dc8-4fd2-ac4d-e1f18a6d853d",
   "metadata": {},
   "outputs": [
    {
     "name": "stdout",
     "output_type": "stream",
     "text": [
      "012345678910"
     ]
    }
   ],
   "source": [
    "for i in range(11):\n",
    "    print(i, end=\"\")"
   ]
  },
  {
   "cell_type": "code",
   "execution_count": 7,
   "id": "b3d30a3c-f3d2-4e5c-bde0-3c2806760ef7",
   "metadata": {},
   "outputs": [
    {
     "data": {
      "text/plain": [
       "[0, 1, 2, 3, 4, 5, 6, 7, 8, 9, 10]"
      ]
     },
     "execution_count": 7,
     "metadata": {},
     "output_type": "execute_result"
    }
   ],
   "source": [
    "list(range(11))"
   ]
  },
  {
   "cell_type": "code",
   "execution_count": 8,
   "id": "a39575ad-1d07-4079-bfc4-a62a93622b5f",
   "metadata": {},
   "outputs": [
    {
     "data": {
      "text/plain": [
       "(0, 1, 2, 3, 4, 5, 6, 7, 8, 9, 10)"
      ]
     },
     "execution_count": 8,
     "metadata": {},
     "output_type": "execute_result"
    }
   ],
   "source": [
    "tuple(range(11))"
   ]
  },
  {
   "cell_type": "code",
   "execution_count": 9,
   "id": "55c2bb40-c28e-49ae-b569-ae53c55ecd69",
   "metadata": {},
   "outputs": [
    {
     "data": {
      "text/plain": [
       "{0, 1, 2, 3, 4, 5, 6, 7, 8, 9, 10}"
      ]
     },
     "execution_count": 9,
     "metadata": {},
     "output_type": "execute_result"
    }
   ],
   "source": [
    "set(range(11))"
   ]
  },
  {
   "cell_type": "code",
   "execution_count": 13,
   "id": "1c44afbf-90bd-49f4-b26f-eaa27f040ab2",
   "metadata": {},
   "outputs": [
    {
     "name": "stdout",
     "output_type": "stream",
     "text": [
      "0 1 2 3 4 5 6 7 8 9 10\n"
     ]
    }
   ],
   "source": [
    "print(*(range(11)))"
   ]
  },
  {
   "cell_type": "code",
   "execution_count": 14,
   "id": "064558f6-8439-4536-81de-3eaeca942ca4",
   "metadata": {},
   "outputs": [
    {
     "name": "stdout",
     "output_type": "stream",
     "text": [
      "hello Ahmed\n",
      "hello Aisha\n",
      "hello Adam\n",
      "hello Joseph\n",
      "hello Gabriel\n"
     ]
    }
   ],
   "source": [
    "names = [\"Ahmed\", \"Aisha\", \"Adam\", \"Joseph\", \"Gabriel\"]\n",
    "for i in names:\n",
    "    print(\"hello\", i)"
   ]
  },
  {
   "cell_type": "code",
   "execution_count": null,
   "id": "fb615728-3cc4-44d5-84eb-2f4df6790607",
   "metadata": {},
   "outputs": [],
   "source": [
    "\n",
    "for i in range(5):"
   ]
  },
  {
   "cell_type": "code",
   "execution_count": 16,
   "id": "010ee00c-9ce1-4c8e-b114-6d14ffa53ce1",
   "metadata": {},
   "outputs": [
    {
     "name": "stdout",
     "output_type": "stream",
     "text": [
      "[1]\n",
      "[1, 2]\n",
      "[1, 2, 3]\n",
      "[1, 2, 3, 4]\n",
      "[1, 2, 3, 4, 5]\n"
     ]
    }
   ],
   "source": [
    "liste = []\n",
    "for i in range(1,6):\n",
    "    liste += [i]\n",
    "    print(liste)"
   ]
  },
  {
   "cell_type": "code",
   "execution_count": 24,
   "id": "e62406e3-37df-481e-a6cc-e83f99be50dc",
   "metadata": {},
   "outputs": [
    {
     "name": "stdout",
     "output_type": "stream",
     "text": [
      "[1, 2, 3, 4, 5]\n"
     ]
    }
   ],
   "source": [
    "liste = []\n",
    "for i in range(1,6):\n",
    "    liste += [i]\n",
    "print(liste)"
   ]
  },
  {
   "cell_type": "code",
   "execution_count": 21,
   "id": "08103701-ca22-4ecd-907c-1c1cece89a3e",
   "metadata": {},
   "outputs": [
    {
     "name": "stdout",
     "output_type": "stream",
     "text": [
      "[1]\n",
      "[1, 2]\n",
      "[1, 2, 3]\n",
      "[1, 2, 3, 4]\n",
      "[1, 2, 3, 4, 5]\n"
     ]
    }
   ],
   "source": [
    "liste1 = []\n",
    "for i in range(1,6):\n",
    "    liste1.append(i)\n",
    "    print(liste1)"
   ]
  },
  {
   "cell_type": "code",
   "execution_count": 23,
   "id": "4f71110d-e0cd-4d59-9220-e2f821c25035",
   "metadata": {},
   "outputs": [
    {
     "name": "stdout",
     "output_type": "stream",
     "text": [
      "[1, 2, 3, 4, 5]\n"
     ]
    }
   ],
   "source": [
    "liste1 = []\n",
    "for i in range(1,6):\n",
    "    liste1.append(i)\n",
    "print(liste1)"
   ]
  },
  {
   "cell_type": "code",
   "execution_count": 31,
   "id": "e2338b2f-92d2-46ac-8162-9514e8d8a6cb",
   "metadata": {},
   "outputs": [
    {
     "name": "stdout",
     "output_type": "stream",
     "text": [
      "c-l-a-r-u-s-w-a-y-"
     ]
    }
   ],
   "source": [
    "course = \"clarusway\"\n",
    "for i in course :\n",
    "\n",
    "    print(i, end=\"-\")"
   ]
  },
  {
   "cell_type": "code",
   "execution_count": 50,
   "id": "7984bc8c-c340-46f7-ba1a-c7dd8216c0dd",
   "metadata": {},
   "outputs": [
    {
     "name": "stdout",
     "output_type": "stream",
     "text": [
      "C-l-a-r-u-s-w-a-y"
     ]
    }
   ],
   "source": [
    "text= \"Clarusway\"\n",
    "count = 0\n",
    "\n",
    "for i in text : \n",
    "  count += 1\n",
    "  if count < len(text) :\n",
    "    i += \"-\" \n",
    "  print(i, end = \"\")"
   ]
  },
  {
   "cell_type": "code",
   "execution_count": 51,
   "id": "5c827c2a-9fcb-4bb3-9617-2d6248067b01",
   "metadata": {},
   "outputs": [
    {
     "name": "stdout",
     "output_type": "stream",
     "text": [
      "C-a-l-r-u-s-w-a-y\n"
     ]
    }
   ],
   "source": [
    "list =[]\n",
    "for i in \"Calrusway\":\n",
    "    list.append(i)\n",
    "print(*list, sep=\"-\")"
   ]
  },
  {
   "cell_type": "code",
   "execution_count": 3,
   "id": "665dfc60-90d4-4eca-b54b-6fc9232c0b65",
   "metadata": {},
   "outputs": [
    {
     "name": "stdin",
     "output_type": "stream",
     "text": [
      "Give me a word : Calrusway\n"
     ]
    },
    {
     "name": "stdout",
     "output_type": "stream",
     "text": [
      "C-\n",
      "a-\n",
      "l-\n",
      "r-\n",
      "u-\n",
      "s-\n",
      "w-\n",
      "a-\n",
      "y\n"
     ]
    }
   ],
   "source": [
    "word1 = input(\"Give me a word :\")\n",
    "counter1 = 0\n",
    "for i in word1 :\n",
    "    \n",
    "    counter1 += 1\n",
    "    if counter1 < len(word1) :\n",
    "        i = i + \"-\"\n",
    "    print(i)"
   ]
  },
  {
   "cell_type": "code",
   "execution_count": 4,
   "id": "1af21c59-a4c1-4084-a113-29aaf392d171",
   "metadata": {},
   "outputs": [
    {
     "name": "stdin",
     "output_type": "stream",
     "text": [
      "Give me a word : Calrusway\n"
     ]
    },
    {
     "name": "stdout",
     "output_type": "stream",
     "text": [
      "C-a-l-r-u-s-w-a-y"
     ]
    }
   ],
   "source": [
    "word = input(\"Give me a word :\")\n",
    "counter = 0\n",
    "for i in word :\n",
    "    \n",
    "    counter += 1\n",
    "    if counter < len(word) :\n",
    "        i = i + \"-\"\n",
    "    print(i, end = \"\")"
   ]
  },
  {
   "cell_type": "code",
   "execution_count": 6,
   "id": "421ca78d-8f6d-4641-963a-aeb344ba0644",
   "metadata": {},
   "outputs": [
    {
     "name": "stdout",
     "output_type": "stream",
     "text": [
      "name\n",
      "surname\n",
      "age\n"
     ]
    }
   ],
   "source": [
    "user = {\"name\" : \"daniel\",\n",
    "        \"surname\" : \"smith\",\n",
    "        \"age\" : 35\n",
    "}\n",
    "\n",
    "for i in user :\n",
    "    print(i)"
   ]
  },
  {
   "cell_type": "code",
   "execution_count": 7,
   "id": "04187263-045c-4f81-abdd-64aa85f62635",
   "metadata": {},
   "outputs": [
    {
     "name": "stdout",
     "output_type": "stream",
     "text": [
      "daniel\n",
      "smith\n",
      "35\n"
     ]
    }
   ],
   "source": [
    "user = {\"name\" : \"daniel\",\n",
    "        \"surname\" : \"smith\",\n",
    "        \"age\" : 35\n",
    "}\n",
    "\n",
    "for i in user.values() :\n",
    "    print(i)"
   ]
  },
  {
   "cell_type": "code",
   "execution_count": 8,
   "id": "5c8e04d5-8d2c-47ba-acfb-26aca5ffc5b7",
   "metadata": {},
   "outputs": [
    {
     "name": "stdout",
     "output_type": "stream",
     "text": [
      "name daniel\n",
      "surname smith\n",
      "age 35\n"
     ]
    }
   ],
   "source": [
    "user = {\"name\" : \"daniel\",\n",
    "        \"surname\" : \"smith\",\n",
    "        \"age\" : 35\n",
    "}\n",
    "\n",
    "for i, j in user.items() :\n",
    "    print(i, j)"
   ]
  },
  {
   "cell_type": "code",
   "execution_count": 3,
   "id": "daf4300f-cbad-47d9-8d6d-77e81e6f4117",
   "metadata": {},
   "outputs": [
    {
     "name": "stdout",
     "output_type": "stream",
     "text": [
      "1 2\n",
      "3 4\n",
      "5 6\n"
     ]
    }
   ],
   "source": [
    "test = [(1,2), (3,4), (5,6)]\n",
    "for x, y in test :\n",
    "    print(x, y)"
   ]
  },
  {
   "cell_type": "code",
   "execution_count": 15,
   "id": "e358302c-c207-490a-a8d6-956e9f2ef613",
   "metadata": {},
   "outputs": [
    {
     "name": "stdin",
     "output_type": "stream",
     "text": [
      "Bir sayı girin 1-9 : 5\n"
     ]
    },
    {
     "name": "stdout",
     "output_type": "stream",
     "text": [
      "5 x 0 = 0\n",
      "5 x 1 = 5\n",
      "5 x 2 = 10\n",
      "5 x 3 = 15\n",
      "5 x 4 = 20\n",
      "5 x 5 = 25\n",
      "5 x 6 = 30\n",
      "5 x 7 = 35\n",
      "5 x 8 = 40\n",
      "5 x 9 = 45\n",
      "5 x 10 = 50\n"
     ]
    }
   ],
   "source": [
    "number3 = int(input(\"Bir sayı girin 1-9 :\"))\n",
    "for i in range(11):\n",
    "    print(number3,\"x\", i, \"=\", i*number3)"
   ]
  },
  {
   "cell_type": "code",
   "execution_count": 7,
   "id": "710f3b8b-6495-4129-bb5d-d0ceac792649",
   "metadata": {},
   "outputs": [
    {
     "name": "stdin",
     "output_type": "stream",
     "text": [
      "Bir sayı girin 1-9 : 5\n"
     ]
    },
    {
     "name": "stdout",
     "output_type": "stream",
     "text": [
      "5x0 =  0\n",
      "5x1 =  5\n",
      "5x2 =  10\n",
      "5x3 =  15\n",
      "5x4 =  20\n",
      "5x5 =  25\n",
      "5x6 =  30\n",
      "5x7 =  35\n",
      "5x8 =  40\n",
      "5x9 =  45\n",
      "5x10 =  50\n"
     ]
    }
   ],
   "source": [
    "number3 = int(input(\"Bir sayı girin 1-9 :\"))\n",
    "for i in range(11):\n",
    "    print(\"{}x{} = \".format(number3, i), number3 * i)"
   ]
  },
  {
   "cell_type": "code",
   "execution_count": 13,
   "id": "1e0b975e-bc71-4b3c-a9a2-7c6feada0e45",
   "metadata": {},
   "outputs": [
    {
     "name": "stdin",
     "output_type": "stream",
     "text": [
      "please enter a number : 9\n"
     ]
    },
    {
     "name": "stdout",
     "output_type": "stream",
     "text": [
      "1\n",
      "22\n",
      "333\n",
      "4444\n",
      "55555\n",
      "666666\n",
      "7777777\n",
      "88888888\n",
      "999999999\n"
     ]
    }
   ],
   "source": [
    "num = int(input(\"please enter a number :\"))\n",
    "for i in range(1,num+1):\n",
    "    print((str(i)) * i)"
   ]
  },
  {
   "cell_type": "code",
   "execution_count": 14,
   "id": "121c95df-5f59-4b77-baf0-fee55a51fab6",
   "metadata": {},
   "outputs": [
    {
     "name": "stdout",
     "output_type": "stream",
     "text": [
      "\n",
      "1\n",
      "22\n",
      "333\n",
      "4444\n",
      "55555\n",
      "666666\n",
      "7777777\n",
      "88888888\n",
      "999999999\n"
     ]
    }
   ],
   "source": [
    "for i in range (10):\n",
    "    print (f\"{i}\"*i)"
   ]
  },
  {
   "cell_type": "code",
   "execution_count": 16,
   "id": "bd4bef0f-34b1-492a-9d4b-9fd9059adc84",
   "metadata": {},
   "outputs": [
    {
     "data": {
      "text/plain": [
       "'55555'"
      ]
     },
     "execution_count": 16,
     "metadata": {},
     "output_type": "execute_result"
    }
   ],
   "source": [
    "\"5\" * 5"
   ]
  },
  {
   "cell_type": "code",
   "execution_count": 21,
   "id": "06361ee8-2cd1-47ed-8793-4472b5ea4c27",
   "metadata": {},
   "outputs": [
    {
     "data": {
      "text/plain": [
       "'ali ali ali '"
      ]
     },
     "execution_count": 21,
     "metadata": {},
     "output_type": "execute_result"
    }
   ],
   "source": [
    "\"ali \" * 3"
   ]
  },
  {
   "cell_type": "code",
   "execution_count": 19,
   "id": "714d13c2-b5bd-4825-ab22-b06a381021b7",
   "metadata": {},
   "outputs": [
    {
     "name": "stdout",
     "output_type": "stream",
     "text": [
      "1\n",
      "22\n",
      "333\n",
      "4444\n",
      "55555\n",
      "666666\n",
      "7777777\n",
      "88888888\n",
      "999999999\n"
     ]
    }
   ],
   "source": [
    "for i in range(1,10):\n",
    "    print(str(i)*i)"
   ]
  },
  {
   "cell_type": "code",
   "execution_count": 22,
   "id": "07795dd0-56bf-41f2-a87b-4ad668f7988f",
   "metadata": {},
   "outputs": [
    {
     "name": "stdout",
     "output_type": "stream",
     "text": [
      "5 7 9 11 13 15 17 19 21 23\n"
     ]
    }
   ],
   "source": [
    "print(*range(5,25,2))"
   ]
  },
  {
   "cell_type": "code",
   "execution_count": 26,
   "id": "4ea2f104-5585-4038-9627-255c7d9feab6",
   "metadata": {},
   "outputs": [
    {
     "name": "stdout",
     "output_type": "stream",
     "text": [
      "10 9 8 7 6 5 4 3 2\n"
     ]
    }
   ],
   "source": [
    "print(* range(10,1,-1))"
   ]
  },
  {
   "cell_type": "code",
   "execution_count": 27,
   "id": "a838f3c7-627d-473f-ba61-665ce0dd150b",
   "metadata": {},
   "outputs": [
    {
     "name": "stdout",
     "output_type": "stream",
     "text": [
      "s e p a r a t e\n"
     ]
    }
   ],
   "source": [
    "print(*(\"separate\"))"
   ]
  },
  {
   "cell_type": "code",
   "execution_count": 30,
   "id": "8fa75fad-ac34-44e0-8a66-106bb9563cb3",
   "metadata": {},
   "outputs": [
    {
     "name": "stdout",
     "output_type": "stream",
     "text": [
      "10 8 6 4 2\n"
     ]
    }
   ],
   "source": [
    "print(*range(10,0,-2))"
   ]
  },
  {
   "cell_type": "code",
   "execution_count": 31,
   "id": "831b596d-9bd9-4842-8db1-2a8503b66b2c",
   "metadata": {},
   "outputs": [
    {
     "name": "stdout",
     "output_type": "stream",
     "text": [
      "one : 1\n",
      "two : 2\n",
      "three : 3\n",
      "four : 4\n",
      "five : 5\n"
     ]
    }
   ],
   "source": [
    "text = [\"one\", \"two\", \"three\", \"four\", \"five\"]\n",
    "numnber = [1,2,3,4,5]\n",
    "for x, y in zip(text, numnber):\n",
    "    print(x, \":\", y)"
   ]
  },
  {
   "cell_type": "code",
   "execution_count": 35,
   "id": "8e6ee37f-4ef8-443b-8cbb-d0c96d1f1e16",
   "metadata": {},
   "outputs": [],
   "source": [
    "text1 = [\"one\", \"two\", \"three\", \"four\", \"five\"]\n",
    "numnber2 = [1,2,3,4,5]\n",
    "zipped = zip(text1, numnber2)"
   ]
  },
  {
   "cell_type": "code",
   "execution_count": 36,
   "id": "8e17f505-e9bb-4e21-9216-46655c201f3e",
   "metadata": {},
   "outputs": [
    {
     "name": "stdout",
     "output_type": "stream",
     "text": [
      "('one', 1) ('two', 2) ('three', 3) ('four', 4) ('five', 5)\n"
     ]
    }
   ],
   "source": [
    "print(* zipped)"
   ]
  },
  {
   "cell_type": "code",
   "execution_count": 37,
   "id": "0395e562-9f44-4e22-98ca-48a1f3ddaea0",
   "metadata": {},
   "outputs": [
    {
     "name": "stdout",
     "output_type": "stream",
     "text": [
      "one : 1\n",
      "two : 2\n",
      "three : 3\n",
      "four : 4\n",
      "five : 5\n"
     ]
    }
   ],
   "source": [
    "zipped = zip(text1, numnber2)\n",
    "for x, y in zipped:\n",
    "    print(x, \":\", y)"
   ]
  },
  {
   "cell_type": "code",
   "execution_count": 38,
   "id": "d575de3b-c919-4168-aabd-c9c80790e9a8",
   "metadata": {},
   "outputs": [
    {
     "data": {
      "text/plain": [
       "[('one', 1), ('two', 2), ('three', 3), ('four', 4), ('five', 5)]"
      ]
     },
     "execution_count": 38,
     "metadata": {},
     "output_type": "execute_result"
    }
   ],
   "source": [
    "zipped = zip(text1, numnber2)\n",
    "list(zipped)"
   ]
  },
  {
   "cell_type": "code",
   "execution_count": 39,
   "id": "359391b9-623a-4e23-9d13-7b4ad483cc1e",
   "metadata": {},
   "outputs": [
    {
     "data": {
      "text/plain": [
       "{'one': 1, 'two': 2, 'three': 3, 'four': 4, 'five': 5}"
      ]
     },
     "execution_count": 39,
     "metadata": {},
     "output_type": "execute_result"
    }
   ],
   "source": [
    "zipped = zip(text1, numnber2)\n",
    "dict(zipped)"
   ]
  },
  {
   "cell_type": "code",
   "execution_count": 42,
   "id": "b9b173ee-f710-4399-9bb1-94a8746ba1ab",
   "metadata": {},
   "outputs": [
    {
     "name": "stdout",
     "output_type": "stream",
     "text": [
      "[0, 2, 4, 6, 8]\n",
      "[1, 3, 5, 7, 9]\n"
     ]
    }
   ],
   "source": [
    "evens = []\n",
    "odds = []\n",
    "for i in range(10):\n",
    "    if i % 2 == 0:\n",
    "       evens.append(i)\n",
    "    else:\n",
    "       odds.append(i)    \n",
    "print(evens)\n",
    "print(odds)"
   ]
  },
  {
   "cell_type": "code",
   "execution_count": 46,
   "id": "f5da6a79-1453-432c-a55a-c80ea80c25d7",
   "metadata": {},
   "outputs": [
    {
     "name": "stdout",
     "output_type": "stream",
     "text": [
      "evens count 5\n",
      "odds count 4\n"
     ]
    }
   ],
   "source": [
    "numbers = (11, 36, 33, 66, 89, 21, 32, 16, 10)\n",
    "odds = 0 \n",
    "evens = 0\n",
    "for i in numbers :\n",
    "    if i % 2 == 0:\n",
    "        evens += 1\n",
    "    else:\n",
    "        odds += 1\n",
    "print(\"evens count\",evens)\n",
    "print(\"odds count\",odds)"
   ]
  },
  {
   "cell_type": "code",
   "execution_count": null,
   "id": "dd419593-1f6a-4798-bbfc-9e9f51efc390",
   "metadata": {},
   "outputs": [],
   "source": []
  },
  {
   "cell_type": "code",
   "execution_count": null,
   "id": "42502134-6f74-456d-9e81-1416afe711b7",
   "metadata": {},
   "outputs": [],
   "source": []
  },
  {
   "cell_type": "code",
   "execution_count": null,
   "id": "b48daf32-27b7-4800-bf33-0284a139fdeb",
   "metadata": {},
   "outputs": [],
   "source": []
  }
 ],
 "metadata": {
  "kernelspec": {
   "display_name": "Python 3 (ipykernel)",
   "language": "python",
   "name": "python3"
  },
  "language_info": {
   "codemirror_mode": {
    "name": "ipython",
    "version": 3
   },
   "file_extension": ".py",
   "mimetype": "text/x-python",
   "name": "python",
   "nbconvert_exporter": "python",
   "pygments_lexer": "ipython3",
   "version": "3.9.7"
  }
 },
 "nbformat": 4,
 "nbformat_minor": 5
}
