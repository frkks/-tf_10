{
 "cells": [
  {
   "cell_type": "markdown",
   "id": "c373f36a-3206-40f5-b3f2-6bf49e430cec",
   "metadata": {},
   "source": [
    "# all Functions"
   ]
  },
  {
   "cell_type": "code",
   "execution_count": 10,
   "id": "45eb4c2b-edd5-4757-bbeb-109079e2d42d",
   "metadata": {},
   "outputs": [
    {
     "name": "stdout",
     "output_type": "stream",
     "text": [
      "True\n",
      "False\n",
      "True\n"
     ]
    }
   ],
   "source": [
    "names = [\"susan\", \"tom\", \"False\"]\n",
    "mood = [\"happy\", \"sad\", 0]\n",
    "empty = {}\n",
    "print(all(names), all(mood), all(empty), sep=\"\\n\") # all and gibi çalışır bir tane bile False varsa False verir"
   ]
  },
  {
   "cell_type": "markdown",
   "id": "48823560-e982-4364-a915-8c6159f28aff",
   "metadata": {},
   "source": [
    "# any Functions"
   ]
  },
  {
   "cell_type": "code",
   "execution_count": 9,
   "id": "30c2dffb-8443-4915-b196-90f0b6bb94cc",
   "metadata": {},
   "outputs": [
    {
     "name": "stdout",
     "output_type": "stream",
     "text": [
      "True\n",
      "False\n",
      "False\n"
     ]
    }
   ],
   "source": [
    "names = [\"susan\", \"tom\", False]\n",
    "mood = [None, (), 0]\n",
    "empty = {}\n",
    "print(any(names), any(mood), any(empty), sep=\"\\n\") # any or gibi çalışır bir tane bile True varsa True verir"
   ]
  },
  {
   "cell_type": "markdown",
   "id": "af97519b-c184-473d-aa3b-f77927a6b162",
   "metadata": {},
   "source": [
    "# filter Functions"
   ]
  },
  {
   "cell_type": "code",
   "execution_count": 12,
   "id": "34c1ffca-9f55-4225-a665-a283595a3f22",
   "metadata": {},
   "outputs": [
    {
     "data": {
      "text/plain": [
       "<filter at 0x1c8e8720af0>"
      ]
     },
     "execution_count": 12,
     "metadata": {},
     "output_type": "execute_result"
    }
   ],
   "source": [
    "lista = [\"susan\", \"tom\", False, 0, 22]\n",
    "filtered_list = filter(None, lista)\n",
    "filtered_list"
   ]
  },
  {
   "cell_type": "code",
   "execution_count": 14,
   "id": "5e68de90-26e9-4bb8-80fd-47a50b95220e",
   "metadata": {},
   "outputs": [
    {
     "name": "stdout",
     "output_type": "stream",
     "text": [
      "The filtered elemnets are :\n",
      "susan\n",
      "tom\n",
      "22\n"
     ]
    }
   ],
   "source": [
    "print (\"The filtered elemnets are :\")\n",
    "for i in filtered_list : # True ları yazdırır. False ve 0 vermez\n",
    "    print(i)"
   ]
  },
  {
   "cell_type": "markdown",
   "id": "923c1757-deb2-46ae-a304-3c95a2a28a87",
   "metadata": {},
   "source": [
    "# enumurate Funtions (idex numarası verir)"
   ]
  },
  {
   "cell_type": "code",
   "execution_count": 16,
   "id": "5b4b8449-e04c-4875-af33-1971e2b38313",
   "metadata": {},
   "outputs": [
    {
     "name": "stdout",
     "output_type": "stream",
     "text": [
      "[(0, 'susan'), (1, 'tom'), (2, False), (3, 0), (4, 22)]\n"
     ]
    }
   ],
   "source": [
    "lista = [\"susan\", \"tom\", False, 0, 22]\n",
    "listb = enumerate(lista)\n",
    "print(list(listb))"
   ]
  },
  {
   "cell_type": "code",
   "execution_count": 17,
   "id": "b3a6a231-7111-4869-a971-60ae1ad234d3",
   "metadata": {},
   "outputs": [
    {
     "name": "stdout",
     "output_type": "stream",
     "text": [
      "<class 'enumerate'>\n",
      "[(0, 'bread'), (1, 'water'), (2, 'olive')]\n",
      "[(10, 'bread'), (11, 'water'), (12, 'olive')]\n"
     ]
    }
   ],
   "source": [
    "grocery = [\"bread\", \"water\", \"olive\"]\n",
    "enum_grocery = enumerate(grocery)\n",
    "\n",
    "print(type(enum_grocery))\n",
    "print(list(enum_grocery))\n",
    "enum_grocery = enumerate(grocery, 10)\n",
    "print(list(enum_grocery))"
   ]
  },
  {
   "cell_type": "code",
   "execution_count": 19,
   "id": "f94b697f-7fb2-4d3b-93ee-6290e4d2d6cc",
   "metadata": {},
   "outputs": [
    {
     "name": "stdout",
     "output_type": "stream",
     "text": [
      "(0, 'susan')\n",
      "(1, 'tom')\n",
      "(2, False)\n",
      "(3, 0)\n",
      "(4, 22)\n"
     ]
    }
   ],
   "source": [
    "lista = [\"susan\", \"tom\", False, 0, 22]\n",
    "listb = enumerate(lista)\n",
    "for i in listb:\n",
    "    print(i)"
   ]
  },
  {
   "cell_type": "markdown",
   "id": "408d9f28-df88-4682-8478-157e966fc744",
   "metadata": {},
   "source": [
    "# max min functions"
   ]
  },
  {
   "cell_type": "code",
   "execution_count": 21,
   "id": "747a6fb0-d5d8-484c-9f22-94048645b34a",
   "metadata": {},
   "outputs": [
    {
     "data": {
      "text/plain": [
       "'a'"
      ]
     },
     "execution_count": 21,
     "metadata": {},
     "output_type": "execute_result"
    }
   ],
   "source": [
    "min(\"ahmet\")"
   ]
  },
  {
   "cell_type": "code",
   "execution_count": 22,
   "id": "9da95ab5-934e-469d-bef9-31eeec5fe064",
   "metadata": {},
   "outputs": [
    {
     "data": {
      "text/plain": [
       "'t'"
      ]
     },
     "execution_count": 22,
     "metadata": {},
     "output_type": "execute_result"
    }
   ],
   "source": [
    "max(\"ahmet\")"
   ]
  },
  {
   "cell_type": "code",
   "execution_count": 23,
   "id": "cc21bcde-ee58-434c-bbab-f99094e3e8d0",
   "metadata": {},
   "outputs": [
    {
     "data": {
      "text/plain": [
       "97"
      ]
     },
     "execution_count": 23,
     "metadata": {},
     "output_type": "execute_result"
    }
   ],
   "source": [
    "ord(\"a\")"
   ]
  },
  {
   "cell_type": "code",
   "execution_count": 24,
   "id": "6a2a6121-931a-4956-92c6-9c051895c150",
   "metadata": {},
   "outputs": [
    {
     "data": {
      "text/plain": [
       "116"
      ]
     },
     "execution_count": 24,
     "metadata": {},
     "output_type": "execute_result"
    }
   ],
   "source": [
    "ord(\"t\")"
   ]
  },
  {
   "cell_type": "code",
   "execution_count": 25,
   "id": "a03714fd-e2ec-47a9-aa48-a2f192af34b8",
   "metadata": {},
   "outputs": [
    {
     "data": {
      "text/plain": [
       "4"
      ]
     },
     "execution_count": 25,
     "metadata": {},
     "output_type": "execute_result"
    }
   ],
   "source": [
    "max(1,2,3,4)"
   ]
  },
  {
   "cell_type": "code",
   "execution_count": 26,
   "id": "ff8eba7e-1411-4dd3-9cd9-4adbecb26af0",
   "metadata": {},
   "outputs": [
    {
     "data": {
      "text/plain": [
       "1"
      ]
     },
     "execution_count": 26,
     "metadata": {},
     "output_type": "execute_result"
    }
   ],
   "source": [
    "min(1,2,3,4)"
   ]
  },
  {
   "cell_type": "markdown",
   "id": "473c2387-d911-469b-a22a-f7a38d68e7c5",
   "metadata": {},
   "source": [
    "# sum functions (toplama yapar)"
   ]
  },
  {
   "cell_type": "code",
   "execution_count": 7,
   "id": "df915d4a-9eb8-4910-b74b-a59e2d6f26da",
   "metadata": {},
   "outputs": [
    {
     "name": "stdout",
     "output_type": "stream",
     "text": [
      "21.5\n",
      "41.5\n"
     ]
    }
   ],
   "source": [
    "number = [2.5,30,4, -15]\n",
    "number_sum = sum(number)\n",
    "print(number_sum)\n",
    "number_sum = sum(number, 20)\n",
    "print(number_sum)"
   ]
  },
  {
   "cell_type": "code",
   "execution_count": 28,
   "id": "cbc0db58-f689-44ec-aada-533b27dd09d0",
   "metadata": {},
   "outputs": [
    {
     "ename": "TypeError",
     "evalue": "sum() takes at most 2 arguments (4 given)",
     "output_type": "error",
     "traceback": [
      "\u001b[1;31m---------------------------------------------------------------------------\u001b[0m",
      "\u001b[1;31mTypeError\u001b[0m                                 Traceback (most recent call last)",
      "\u001b[1;32m~\\AppData\\Local\\Temp/ipykernel_10772/3859692421.py\u001b[0m in \u001b[0;36m<module>\u001b[1;34m\u001b[0m\n\u001b[1;32m----> 1\u001b[1;33m \u001b[0msum\u001b[0m\u001b[1;33m(\u001b[0m\u001b[1;36m1\u001b[0m\u001b[1;33m,\u001b[0m\u001b[1;36m2\u001b[0m\u001b[1;33m,\u001b[0m\u001b[1;36m3\u001b[0m\u001b[1;33m,\u001b[0m\u001b[1;36m4\u001b[0m\u001b[1;33m)\u001b[0m\u001b[1;33m\u001b[0m\u001b[1;33m\u001b[0m\u001b[0m\n\u001b[0m",
      "\u001b[1;31mTypeError\u001b[0m: sum() takes at most 2 arguments (4 given)"
     ]
    }
   ],
   "source": [
    "sum(1,2,3,4) # iki tane alır burda 4 tane var"
   ]
  },
  {
   "cell_type": "markdown",
   "id": "65d523e9-26a2-4c3c-8c08-5e15eab86a0c",
   "metadata": {},
   "source": [
    "# round functions (yuvarlar)"
   ]
  },
  {
   "cell_type": "code",
   "execution_count": 31,
   "id": "d6502b3a-a3f1-487c-ab27-43829f7e5fe4",
   "metadata": {},
   "outputs": [
    {
     "name": "stdout",
     "output_type": "stream",
     "text": [
      "12\n",
      "11\n",
      "3.67\n",
      "3.67\n"
     ]
    }
   ],
   "source": [
    "print(round(12))\n",
    "print(round(10.8))\n",
    "print(round(3.665, 2))\n",
    "print(round(3.675, 2))"
   ]
  },
  {
   "cell_type": "markdown",
   "id": "f62ec2bb-111a-49b8-a5ad-1c7481f9712b",
   "metadata": {},
   "source": [
    "# FUNCTİONS"
   ]
  },
  {
   "cell_type": "code",
   "execution_count": 9,
   "id": "942cb868-cb35-4e1d-96dc-81f6dc7ff288",
   "metadata": {},
   "outputs": [],
   "source": [
    "def ilk_fonksiyonum(x, y):\n",
    "    print(x** 2 + y ** 2)"
   ]
  },
  {
   "cell_type": "code",
   "execution_count": 10,
   "id": "817a2a7b-dbd9-43fc-a979-b03f7dffc322",
   "metadata": {},
   "outputs": [
    {
     "name": "stdout",
     "output_type": "stream",
     "text": [
      "25\n"
     ]
    }
   ],
   "source": [
    "ilk_fonksiyonum(3,4)"
   ]
  },
  {
   "cell_type": "code",
   "execution_count": 11,
   "id": "171ccc04-09bd-4c29-9dc5-564e16dfc8b2",
   "metadata": {},
   "outputs": [],
   "source": [
    "def hipotenus(a, b):\n",
    "    print((a ** 2 + b ** 2) ** 0.5)"
   ]
  },
  {
   "cell_type": "code",
   "execution_count": 12,
   "id": "2dda144b-5cb7-449b-87d6-4e5d734b7fb3",
   "metadata": {},
   "outputs": [
    {
     "name": "stdout",
     "output_type": "stream",
     "text": [
      "5.0\n"
     ]
    }
   ],
   "source": [
    "hipotenus(3,4)"
   ]
  },
  {
   "cell_type": "code",
   "execution_count": 13,
   "id": "ede804be-42e4-4a8c-8732-e915aee19d1e",
   "metadata": {},
   "outputs": [],
   "source": [
    "def rumi() :\n",
    "    print(\"\"\"\n",
    "    Duydum ki bizi bırakmaya azmediyorsun, etme.\n",
    "Başka bir yar, başka bir dosta meylediyorsun, etme.\n",
    "Sen yadeller dünyasında ne arıyorsun yabancı?\n",
    "Hangi hasta gönüllüyü kastediyorsun, etme.\n",
    "Çalma bizi, bizden bizi, gitme o ellere doğru.\n",
    "Çalınmış başkalarına nazar ediyorsun, etme.\n",
    "    \"\"\")"
   ]
  },
  {
   "cell_type": "code",
   "execution_count": 17,
   "id": "af557225-9cba-4d98-bbae-ffd252c08034",
   "metadata": {},
   "outputs": [
    {
     "name": "stdout",
     "output_type": "stream",
     "text": [
      "\n",
      "    Duydum ki bizi bırakmaya azmediyorsun, etme.\n",
      "Başka bir yar, başka bir dosta meylediyorsun, etme.\n",
      "Sen yadeller dünyasında ne arıyorsun yabancı?\n",
      "Hangi hasta gönüllüyü kastediyorsun, etme.\n",
      "Çalma bizi, bizden bizi, gitme o ellere doğru.\n",
      "Çalınmış başkalarına nazar ediyorsun, etme.\n",
      "    \n"
     ]
    }
   ],
   "source": [
    "rumi()"
   ]
  },
  {
   "cell_type": "code",
   "execution_count": 19,
   "id": "9c0c895b-1dda-4bbe-9c7c-99e0f40a2549",
   "metadata": {},
   "outputs": [],
   "source": [
    "def add(a, b):\n",
    "    print(a + b)"
   ]
  },
  {
   "cell_type": "code",
   "execution_count": 20,
   "id": "2fac1363-97f9-4261-8407-ded097d678a7",
   "metadata": {},
   "outputs": [
    {
     "name": "stdout",
     "output_type": "stream",
     "text": [
      "81\n"
     ]
    }
   ],
   "source": [
    "add(25, 56)"
   ]
  },
  {
   "cell_type": "code",
   "execution_count": 21,
   "id": "eb3fa6be-797e-4344-a791-13d557d501a9",
   "metadata": {},
   "outputs": [
    {
     "name": "stdout",
     "output_type": "stream",
     "text": [
      "1\n"
     ]
    }
   ],
   "source": [
    "add(-5, 6)"
   ]
  },
  {
   "cell_type": "code",
   "execution_count": 23,
   "id": "11253675-ffde-43f6-906a-42a805c0e3fd",
   "metadata": {},
   "outputs": [
    {
     "name": "stdout",
     "output_type": "stream",
     "text": [
      "55\n"
     ]
    }
   ],
   "source": [
    "add(\"5\",\"5\")"
   ]
  },
  {
   "cell_type": "code",
   "execution_count": 53,
   "id": "c9302899-82b9-424d-a138-7ede8f6ca0b5",
   "metadata": {},
   "outputs": [],
   "source": [
    "def calculator(a, b, c):\n",
    "    if c == \"+\":\n",
    "        print(a+b)\n",
    "    elif c == \"-\":\n",
    "        print(a+b)\n",
    "    elif c == \"*\":\n",
    "        print(a*b)\n",
    "    elif c == \"/\":\n",
    "        print(a/b)\n",
    "    else :\n",
    "        print(\"Enter valid argumnets\")   \n",
    "    "
   ]
  },
  {
   "cell_type": "code",
   "execution_count": 28,
   "id": "852dea5d-ed88-4341-ba45-3e247aaab7cc",
   "metadata": {},
   "outputs": [
    {
     "name": "stdout",
     "output_type": "stream",
     "text": [
      "2.0\n"
     ]
    }
   ],
   "source": [
    "calculator(22,11,\"/\")"
   ]
  },
  {
   "cell_type": "code",
   "execution_count": 29,
   "id": "64a7ba49-df33-41c1-b843-fbb699238dab",
   "metadata": {},
   "outputs": [
    {
     "name": "stdout",
     "output_type": "stream",
     "text": [
      "Enter valid argumnets\n"
     ]
    }
   ],
   "source": [
    "calculator(10,5,\":\")"
   ]
  },
  {
   "cell_type": "code",
   "execution_count": 30,
   "id": "bfabeb1e-24ac-46cd-8da0-539dfa7268e7",
   "metadata": {},
   "outputs": [
    {
     "data": {
      "text/plain": [
       "50"
      ]
     },
     "execution_count": 30,
     "metadata": {},
     "output_type": "execute_result"
    }
   ],
   "source": [
    "50 # print etmek değil jupyterin özelliği"
   ]
  },
  {
   "cell_type": "code",
   "execution_count": 31,
   "id": "1b43b948-26a2-4acb-bd6f-1eed91669c90",
   "metadata": {},
   "outputs": [
    {
     "name": "stdout",
     "output_type": "stream",
     "text": [
      "50\n"
     ]
    }
   ],
   "source": [
    "print(50)"
   ]
  },
  {
   "cell_type": "code",
   "execution_count": 32,
   "id": "30b5c98d-ed38-4eda-8699-2e5c4b035892",
   "metadata": {},
   "outputs": [],
   "source": [
    "def topla(x, y):\n",
    "    return x + y"
   ]
  },
  {
   "cell_type": "code",
   "execution_count": 34,
   "id": "4713c8c2-87a4-460c-8b42-e7b7af9f95d0",
   "metadata": {},
   "outputs": [
    {
     "data": {
      "text/plain": [
       "int"
      ]
     },
     "execution_count": 34,
     "metadata": {},
     "output_type": "execute_result"
    }
   ],
   "source": [
    "type(topla(3, 5))"
   ]
  },
  {
   "cell_type": "code",
   "execution_count": 35,
   "id": "3dff97e7-ff88-4f0d-ac74-1f80afbb19bf",
   "metadata": {},
   "outputs": [
    {
     "data": {
      "text/plain": [
       "int"
      ]
     },
     "execution_count": 35,
     "metadata": {},
     "output_type": "execute_result"
    }
   ],
   "source": [
    "type(3 + 5)"
   ]
  },
  {
   "cell_type": "code",
   "execution_count": 36,
   "id": "716212a7-4d34-4a30-a661-23f9e22d4671",
   "metadata": {},
   "outputs": [],
   "source": [
    "def string():\n",
    "    return \"alivelideli\""
   ]
  },
  {
   "cell_type": "code",
   "execution_count": 37,
   "id": "25464783-6312-4489-8136-974465e039c7",
   "metadata": {},
   "outputs": [
    {
     "data": {
      "text/plain": [
       "'alivelideli'"
      ]
     },
     "execution_count": 37,
     "metadata": {},
     "output_type": "execute_result"
    }
   ],
   "source": [
    "string()"
   ]
  },
  {
   "cell_type": "code",
   "execution_count": 38,
   "id": "23ffd41c-84fb-4806-a1b0-56af3449e653",
   "metadata": {},
   "outputs": [
    {
     "data": {
      "text/plain": [
       "'alivelideli'"
      ]
     },
     "execution_count": 38,
     "metadata": {},
     "output_type": "execute_result"
    }
   ],
   "source": [
    "\"alivelideli\""
   ]
  },
  {
   "cell_type": "code",
   "execution_count": 39,
   "id": "fc2fb89a-9993-476f-8dc2-22499834f46f",
   "metadata": {},
   "outputs": [],
   "source": [
    "def integer() :\n",
    "    return 22"
   ]
  },
  {
   "cell_type": "code",
   "execution_count": 41,
   "id": "64c13462-de6f-4cec-b308-f0cf2d17e12e",
   "metadata": {},
   "outputs": [
    {
     "data": {
      "text/plain": [
       "22"
      ]
     },
     "execution_count": 41,
     "metadata": {},
     "output_type": "execute_result"
    }
   ],
   "source": [
    "integer()"
   ]
  },
  {
   "cell_type": "code",
   "execution_count": 42,
   "id": "c3d8ccc3-b5ee-4e20-a8fa-cdec5116360f",
   "metadata": {},
   "outputs": [
    {
     "data": {
      "text/plain": [
       "22"
      ]
     },
     "execution_count": 42,
     "metadata": {},
     "output_type": "execute_result"
    }
   ],
   "source": [
    "22"
   ]
  },
  {
   "cell_type": "code",
   "execution_count": 43,
   "id": "79d57ccb-ad95-4d2f-ae05-ee31777036ef",
   "metadata": {},
   "outputs": [],
   "source": [
    "def boolean() :\n",
    "    return True"
   ]
  },
  {
   "cell_type": "code",
   "execution_count": 45,
   "id": "1385c3bc-fd17-4858-bb0b-c949d18b335c",
   "metadata": {},
   "outputs": [
    {
     "name": "stdout",
     "output_type": "stream",
     "text": [
      "AAAAaaa çalıştım\n"
     ]
    }
   ],
   "source": [
    "if boolean() :\n",
    "    print(\"AAAAaaa çalıştım\")"
   ]
  },
  {
   "cell_type": "code",
   "execution_count": 47,
   "id": "f1750477-daad-4011-af32-eeabff6bcb00",
   "metadata": {},
   "outputs": [],
   "source": [
    "def listem():\n",
    "    return[1, 2, 3, 4, 5]"
   ]
  },
  {
   "cell_type": "code",
   "execution_count": 48,
   "id": "3198ffd8-46b8-4c4c-92fa-d253f6858937",
   "metadata": {},
   "outputs": [
    {
     "data": {
      "text/plain": [
       "[1, 2, 3, 4, 5]"
      ]
     },
     "execution_count": 48,
     "metadata": {},
     "output_type": "execute_result"
    }
   ],
   "source": [
    "listem()"
   ]
  },
  {
   "cell_type": "code",
   "execution_count": 49,
   "id": "7e48c2c8-d345-4cce-8f86-b362513740f4",
   "metadata": {},
   "outputs": [
    {
     "name": "stdout",
     "output_type": "stream",
     "text": [
      "1\n",
      "2\n",
      "3\n",
      "4\n",
      "5\n"
     ]
    }
   ],
   "source": [
    "for i in listem():\n",
    "    print(i)"
   ]
  },
  {
   "cell_type": "code",
   "execution_count": 50,
   "id": "51ecac84-5179-4f78-8167-dd5ea91fb46a",
   "metadata": {},
   "outputs": [
    {
     "data": {
      "text/plain": [
       "3"
      ]
     },
     "execution_count": 50,
     "metadata": {},
     "output_type": "execute_result"
    }
   ],
   "source": [
    "listem()[2]"
   ]
  },
  {
   "cell_type": "code",
   "execution_count": 52,
   "id": "9a8060ad-570b-44cd-ba81-1c32ced22528",
   "metadata": {},
   "outputs": [],
   "source": [
    "def calculator2(a, b, c):\n",
    "    if c == \"+\":\n",
    "        return(a+b)\n",
    "    elif c == \"-\":\n",
    "        return(a+b)\n",
    "    elif c == \"*\":\n",
    "        return(a*b)\n",
    "    elif c == \"/\":\n",
    "        return(a/b)\n",
    "    else :\n",
    "        return \"Enter valid argumnets\"   "
   ]
  },
  {
   "cell_type": "code",
   "execution_count": 56,
   "id": "71079ff9-7784-4219-826d-85b26d5d4220",
   "metadata": {},
   "outputs": [
    {
     "name": "stdout",
     "output_type": "stream",
     "text": [
      "15\n"
     ]
    }
   ],
   "source": [
    "print(calculator2(3,5,\"*\"))"
   ]
  },
  {
   "cell_type": "code",
   "execution_count": 59,
   "id": "f4090ac1-f4a2-49eb-adf4-20f5e3f31a60",
   "metadata": {},
   "outputs": [
    {
     "data": {
      "text/plain": [
       "22"
      ]
     },
     "execution_count": 59,
     "metadata": {},
     "output_type": "execute_result"
    }
   ],
   "source": [
    "a = -22\n",
    "-a"
   ]
  },
  {
   "cell_type": "code",
   "execution_count": 6,
   "id": "441692a1-baff-43f0-b5a9-c6f681634b6c",
   "metadata": {},
   "outputs": [],
   "source": [
    "def absolute_value(num):    \n",
    "     if num >= 0 :\n",
    "        return num\n",
    "     else :\n",
    "        return -num"
   ]
  },
  {
   "cell_type": "code",
   "execution_count": 7,
   "id": "066953e5-9c11-4bd3-94ba-36edf9b5a1dd",
   "metadata": {},
   "outputs": [
    {
     "data": {
      "text/plain": [
       "22"
      ]
     },
     "execution_count": 7,
     "metadata": {},
     "output_type": "execute_result"
    }
   ],
   "source": [
    "absolute_value(-22)"
   ]
  },
  {
   "cell_type": "code",
   "execution_count": 8,
   "id": "54f18d93-2c07-4cb0-b613-70b74c12701b",
   "metadata": {},
   "outputs": [
    {
     "ename": "AttributeError",
     "evalue": "'builtin_function_or_method' object has no attribute '_doc_'",
     "output_type": "error",
     "traceback": [
      "\u001b[1;31m---------------------------------------------------------------------------\u001b[0m",
      "\u001b[1;31mAttributeError\u001b[0m                            Traceback (most recent call last)",
      "\u001b[1;32m~\\AppData\\Local\\Temp/ipykernel_17380/3080768560.py\u001b[0m in \u001b[0;36m<module>\u001b[1;34m\u001b[0m\n\u001b[1;32m----> 1\u001b[1;33m \u001b[0mprint\u001b[0m\u001b[1;33m(\u001b[0m\u001b[0mabs\u001b[0m\u001b[1;33m.\u001b[0m\u001b[0m_doc_\u001b[0m\u001b[1;33m)\u001b[0m\u001b[1;33m\u001b[0m\u001b[1;33m\u001b[0m\u001b[0m\n\u001b[0m",
      "\u001b[1;31mAttributeError\u001b[0m: 'builtin_function_or_method' object has no attribute '_doc_'"
     ]
    }
   ],
   "source": [
    "print(abs._doc_) # mutlak değeri veren method"
   ]
  },
  {
   "cell_type": "code",
   "execution_count": 9,
   "id": "4a9a5f2e-318a-4ca4-87d6-3efaffb0fe87",
   "metadata": {},
   "outputs": [],
   "source": [
    "yeni_listem = [i ** 2 for i in range(6)]"
   ]
  },
  {
   "cell_type": "code",
   "execution_count": 10,
   "id": "4d874178-7506-442b-a32d-fb3f65cd6eea",
   "metadata": {},
   "outputs": [
    {
     "data": {
      "text/plain": [
       "[0, 1, 4, 9, 16, 25]"
      ]
     },
     "execution_count": 10,
     "metadata": {},
     "output_type": "execute_result"
    }
   ],
   "source": [
    "yeni_listem"
   ]
  },
  {
   "cell_type": "code",
   "execution_count": 12,
   "id": "b2ff7128-ad68-4a06-95ad-71c1dbe63b97",
   "metadata": {},
   "outputs": [],
   "source": [
    "genetator = (i ** 2 for i in range(6))"
   ]
  },
  {
   "cell_type": "code",
   "execution_count": 13,
   "id": "34c5b0e6-25bc-4fb8-b0bc-e4b48ebf6702",
   "metadata": {},
   "outputs": [
    {
     "data": {
      "text/plain": [
       "<generator object <genexpr> at 0x000001AFDD947200>"
      ]
     },
     "execution_count": 13,
     "metadata": {},
     "output_type": "execute_result"
    }
   ],
   "source": [
    "genetator # havada obje türetiyor"
   ]
  },
  {
   "cell_type": "code",
   "execution_count": 14,
   "id": "fd74572c-77a5-4e74-aa2c-0abdcf8e29bf",
   "metadata": {},
   "outputs": [
    {
     "name": "stdout",
     "output_type": "stream",
     "text": [
      "0 1 4 9 16 25\n"
     ]
    }
   ],
   "source": [
    "print(* genetator)"
   ]
  },
  {
   "cell_type": "code",
   "execution_count": 15,
   "id": "64c581fd-c1dd-4b6c-978b-cd73ed4b5f42",
   "metadata": {},
   "outputs": [],
   "source": [
    "for i in genetator :\n",
    "    print(i) #  boş olduğu için çıktı almadı "
   ]
  },
  {
   "cell_type": "code",
   "execution_count": 17,
   "id": "c0b5ad89-b523-4c87-b1f1-61c8cef407ff",
   "metadata": {},
   "outputs": [],
   "source": [
    "genetator = (i ** 2 for i in range(6))"
   ]
  },
  {
   "cell_type": "code",
   "execution_count": 18,
   "id": "539c5ad7-9ecd-443e-b57d-3500dd93bd17",
   "metadata": {},
   "outputs": [
    {
     "data": {
      "text/plain": [
       "[0, 1, 4, 9, 16, 25]"
      ]
     },
     "execution_count": 18,
     "metadata": {},
     "output_type": "execute_result"
    }
   ],
   "source": [
    "list(genetator)"
   ]
  },
  {
   "cell_type": "code",
   "execution_count": 19,
   "id": "0db785a7-94c7-4466-85af-2fd37a849ae1",
   "metadata": {},
   "outputs": [],
   "source": [
    "genetator = (i ** 2 for i in range(6))"
   ]
  },
  {
   "cell_type": "code",
   "execution_count": 20,
   "id": "f82960a1-04b7-42bb-9c96-e1259dffae76",
   "metadata": {},
   "outputs": [
    {
     "name": "stdout",
     "output_type": "stream",
     "text": [
      "0\n"
     ]
    }
   ],
   "source": [
    "print(next(genetator)) # for döngüsünün içinde next methodu var ilk eleman sonra iki üç ...."
   ]
  },
  {
   "cell_type": "code",
   "execution_count": 21,
   "id": "b86e4cde-2004-4181-8ae3-4d957f7734d2",
   "metadata": {},
   "outputs": [
    {
     "name": "stdout",
     "output_type": "stream",
     "text": [
      "1\n"
     ]
    }
   ],
   "source": [
    "print(next(genetator))"
   ]
  },
  {
   "cell_type": "code",
   "execution_count": 22,
   "id": "7b7619ca-5612-43d3-8c3a-d75bf7e83b7d",
   "metadata": {},
   "outputs": [
    {
     "name": "stdout",
     "output_type": "stream",
     "text": [
      "4\n"
     ]
    }
   ],
   "source": [
    "print(next(genetator))"
   ]
  },
  {
   "cell_type": "code",
   "execution_count": 23,
   "id": "283b9c32-4ea4-4a8f-8e65-a1a825423fdd",
   "metadata": {},
   "outputs": [
    {
     "name": "stdout",
     "output_type": "stream",
     "text": [
      "9\n"
     ]
    }
   ],
   "source": [
    "print(next(genetator))"
   ]
  },
  {
   "cell_type": "code",
   "execution_count": 24,
   "id": "e02bcd41-b2a1-4ce4-9d3e-1a19bc0b4b75",
   "metadata": {},
   "outputs": [
    {
     "name": "stdout",
     "output_type": "stream",
     "text": [
      "16\n"
     ]
    }
   ],
   "source": [
    "print(next(genetator))"
   ]
  },
  {
   "cell_type": "code",
   "execution_count": 25,
   "id": "f26a92bf-e694-4590-a533-783df3f687a4",
   "metadata": {},
   "outputs": [
    {
     "name": "stdout",
     "output_type": "stream",
     "text": [
      "25\n"
     ]
    }
   ],
   "source": [
    "print(next(genetator))"
   ]
  },
  {
   "cell_type": "code",
   "execution_count": 26,
   "id": "fa49dc9b-3a18-4bb0-a20a-b70d53ef7d7a",
   "metadata": {},
   "outputs": [],
   "source": [
    "genetator = (i ** 2 for i in range(6))"
   ]
  },
  {
   "cell_type": "code",
   "execution_count": 27,
   "id": "45c286cf-aa0d-4970-991f-899056981d0e",
   "metadata": {},
   "outputs": [
    {
     "name": "stdout",
     "output_type": "stream",
     "text": [
      "0\n"
     ]
    }
   ],
   "source": [
    "print(next(genetator))"
   ]
  },
  {
   "cell_type": "code",
   "execution_count": 28,
   "id": "45b88a35-9243-4e78-a426-524c1aae1e20",
   "metadata": {},
   "outputs": [
    {
     "name": "stdout",
     "output_type": "stream",
     "text": [
      "1\n"
     ]
    }
   ],
   "source": [
    "print(next(genetator))"
   ]
  },
  {
   "cell_type": "code",
   "execution_count": 29,
   "id": "b8bbffd3-568f-4c8a-b8f5-f3779f06e684",
   "metadata": {},
   "outputs": [
    {
     "name": "stdout",
     "output_type": "stream",
     "text": [
      "4\n"
     ]
    }
   ],
   "source": [
    "print(next(genetator))"
   ]
  },
  {
   "cell_type": "code",
   "execution_count": 30,
   "id": "983c6680-a77e-4d53-92d2-8a7c5c344dcf",
   "metadata": {},
   "outputs": [
    {
     "name": "stdout",
     "output_type": "stream",
     "text": [
      "9 16 25\n"
     ]
    }
   ],
   "source": [
    "print(* genetator) # asteriskle kalanı verir"
   ]
  },
  {
   "cell_type": "code",
   "execution_count": null,
   "id": "fbe52c22-5a4d-4559-ad14-dce726e1d7bb",
   "metadata": {},
   "outputs": [],
   "source": []
  }
 ],
 "metadata": {
  "kernelspec": {
   "display_name": "Python 3 (ipykernel)",
   "language": "python",
   "name": "python3"
  },
  "language_info": {
   "codemirror_mode": {
    "name": "ipython",
    "version": 3
   },
   "file_extension": ".py",
   "mimetype": "text/x-python",
   "name": "python",
   "nbconvert_exporter": "python",
   "pygments_lexer": "ipython3",
   "version": "3.9.7"
  }
 },
 "nbformat": 4,
 "nbformat_minor": 5
}
