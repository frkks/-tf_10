{
 "cells": [
  {
   "cell_type": "code",
   "execution_count": 4,
   "id": "e3c74661-6a08-4e38-a8f0-02e55aa4f94a",
   "metadata": {},
   "outputs": [
    {
     "name": "stdout",
     "output_type": "stream",
     "text": [
      "hello world\n",
      "hello world\n",
      "hello world\n"
     ]
    },
    {
     "ename": "ZeroDivisionError",
     "evalue": "division by zero",
     "output_type": "error",
     "traceback": [
      "\u001b[1;31m---------------------------------------------------------------------------\u001b[0m",
      "\u001b[1;31mZeroDivisionError\u001b[0m                         Traceback (most recent call last)",
      "\u001b[1;32m~\\AppData\\Local\\Temp/ipykernel_20604/4115153878.py\u001b[0m in \u001b[0;36m<module>\u001b[1;34m\u001b[0m\n\u001b[0;32m      2\u001b[0m \u001b[0mprint\u001b[0m\u001b[1;33m(\u001b[0m\u001b[1;34m\"hello world\"\u001b[0m\u001b[1;33m)\u001b[0m\u001b[1;33m\u001b[0m\u001b[1;33m\u001b[0m\u001b[0m\n\u001b[0;32m      3\u001b[0m \u001b[0mprint\u001b[0m\u001b[1;33m(\u001b[0m\u001b[1;34m\"hello world\"\u001b[0m\u001b[1;33m)\u001b[0m\u001b[1;33m\u001b[0m\u001b[1;33m\u001b[0m\u001b[0m\n\u001b[1;32m----> 4\u001b[1;33m \u001b[1;36m2\u001b[0m\u001b[1;33m/\u001b[0m\u001b[1;36m0\u001b[0m\u001b[1;33m\u001b[0m\u001b[1;33m\u001b[0m\u001b[0m\n\u001b[0m\u001b[0;32m      5\u001b[0m \u001b[0mprint\u001b[0m\u001b[1;33m(\u001b[0m\u001b[1;34m\"hello world\"\u001b[0m\u001b[1;33m)\u001b[0m\u001b[1;33m\u001b[0m\u001b[1;33m\u001b[0m\u001b[0m\n\u001b[0;32m      6\u001b[0m \u001b[0mprint\u001b[0m\u001b[1;33m(\u001b[0m\u001b[1;34m\"hello world\"\u001b[0m\u001b[1;33m)\u001b[0m\u001b[1;33m\u001b[0m\u001b[1;33m\u001b[0m\u001b[0m\n",
      "\u001b[1;31mZeroDivisionError\u001b[0m: division by zero"
     ]
    }
   ],
   "source": [
    "print(\"hello world\")\n",
    "print(\"hello world\")\n",
    "print(\"hello world\")\n",
    "2/0\n",
    "print(\"hello world\")\n",
    "print(\"hello world\")\n",
    "print(\"hello world\")\n",
    "print(\"hello world\")\n",
    "print(\"hello world\")\n",
    "print(\"hello world\")\n",
    "print(\"hello world\")"
   ]
  },
  {
   "cell_type": "code",
   "execution_count": 9,
   "id": "5aa37dba-8977-48d1-ad2d-458515c02dd7",
   "metadata": {},
   "outputs": [
    {
     "name": "stdin",
     "output_type": "stream",
     "text": [
      "The first number please :  4\n",
      "The second number please :  0\n"
     ]
    },
    {
     "name": "stdout",
     "output_type": "stream",
     "text": [
      "Something went wrong...Try again.\n",
      "Probably it is because of 'division by zero' error\n"
     ]
    }
   ],
   "source": [
    "while True:\n",
    "    no_one = int(input(\"The first number please : \"))\n",
    "    no_two = int(input(\"The second number please : \"))\n",
    "    try:\n",
    "        division = no_one / no_two\n",
    "        print(\"The result of the division is : \", division)\n",
    "        break\n",
    "    except Exception as frkkk:\n",
    "        print(\"Something went wrong...Try again.\")\n",
    "        print(\"Probably it is because of '{}' error\".format(frkkk))\n",
    "        break"
   ]
  },
  {
   "cell_type": "code",
   "execution_count": 12,
   "id": "a122b4da-bd68-43cf-bd1a-697f6229628f",
   "metadata": {},
   "outputs": [
    {
     "name": "stdin",
     "output_type": "stream",
     "text": [
      "The first number please :  5\n",
      "The second number please :  beş\n"
     ]
    },
    {
     "name": "stdout",
     "output_type": "stream",
     "text": [
      "Something went wrong...Try again.\n",
      "Probably it is because of 'invalid literal for int() with base 10: 'beş'' error\n"
     ]
    }
   ],
   "source": [
    "while True:\n",
    "    try:\n",
    "        no_one = int(input(\"The first number please : \"))\n",
    "        no_two = int(input(\"The second number please : \"))\n",
    "    \n",
    "        division = no_one / no_two\n",
    "        print(\"The result of the division is : \", division)\n",
    "        break\n",
    "    except Exception as fırfirik:\n",
    "        print(\"Something went wrong...Try again.\")\n",
    "        print(\"Probably it is because of '{}' error\".format(fırfirik))\n",
    "        break"
   ]
  },
  {
   "cell_type": "code",
   "execution_count": 13,
   "id": "a6b70276-65f2-413a-b33b-1d943fe8c6f5",
   "metadata": {},
   "outputs": [
    {
     "name": "stdout",
     "output_type": "stream",
     "text": [
      "The error message is : name 'c' is not defined\n"
     ]
    }
   ],
   "source": [
    "try :\n",
    "    a = 10\n",
    "    b = 2\n",
    "    print(\"The result of division is :\", c)\n",
    "except Exception as e:\n",
    "    print(\"The error message is :\", e)"
   ]
  },
  {
   "cell_type": "code",
   "execution_count": 14,
   "id": "3b427103-edc0-45f8-9da0-ccb2d8b5c0ce",
   "metadata": {},
   "outputs": [
    {
     "name": "stdout",
     "output_type": "stream",
     "text": [
      "Attempt to divide by zero\n"
     ]
    }
   ],
   "source": [
    "try:\n",
    "    x = 2/0\n",
    "\n",
    "except ZeroDivisionError:\n",
    "    print('Attempt to divide by zero')\n",
    "except:\n",
    "    print('Something else went wrong')"
   ]
  },
  {
   "cell_type": "code",
   "execution_count": 16,
   "id": "bab6aa4f-e41b-4ec4-97de-035cbd87f770",
   "metadata": {},
   "outputs": [
    {
     "name": "stdout",
     "output_type": "stream",
     "text": [
      "Something else went wrong name 'x' is not defined\n"
     ]
    }
   ],
   "source": [
    "try:\n",
    "    x \n",
    "except ZeroDivisionError:\n",
    "    print('Attempt to divide by zero')\n",
    "except  Exception as b:\n",
    "    print('Something else went wrong', b)"
   ]
  },
  {
   "cell_type": "code",
   "execution_count": 22,
   "id": "25bd9369-3c9b-4d34-91a8-9720a900067a",
   "metadata": {},
   "outputs": [
    {
     "name": "stdout",
     "output_type": "stream",
     "text": [
      "Something else went wrong invalid literal for int() with base 10: 'on'\n"
     ]
    }
   ],
   "source": [
    "try:\n",
    "    int(\"on\") \n",
    "except ZeroDivisionError:\n",
    "    print('Attempt to divide by zero')\n",
    "except  (NameError, TypeError):\n",
    "    print('Act in accordance with name error')\n",
    "except  Exception as c:\n",
    "    print('Something else went wrong', c)"
   ]
  },
  {
   "cell_type": "code",
   "execution_count": 24,
   "id": "8c108793-d605-4adb-ab61-e42f6a675aff",
   "metadata": {},
   "outputs": [
    {
     "name": "stdout",
     "output_type": "stream",
     "text": [
      "Act in accordance with ValuError, TypeError\n"
     ]
    }
   ],
   "source": [
    "try:\n",
    "    int(\"on\") \n",
    "except ZeroDivisionError:\n",
    "    print('Attempt to divide by zero')\n",
    "except  NameError:\n",
    "    print('Act in accordance with name error')\n",
    "except  (ValueError, TypeError):\n",
    "    print('Act in accordance with ValuError, TypeError')\n",
    "except  Exception as c:\n",
    "    print('Something else went wrong', c)"
   ]
  },
  {
   "cell_type": "markdown",
   "id": "5fe7d07a-22d4-42ba-af29-520515139038",
   "metadata": {},
   "source": [
    "#    +-- ArithmeticError\n",
    "      +-- ArithmeticError\n",
    "      |    +-- FloatingPointError\n",
    "      |    +-- OverflowError\n",
    "      |    +-- ZeroDivisionError"
   ]
  },
  {
   "cell_type": "code",
   "execution_count": 27,
   "id": "075fe8ec-0e79-43e1-8063-9a38d3e979db",
   "metadata": {},
   "outputs": [
    {
     "name": "stdout",
     "output_type": "stream",
     "text": [
      "Attempt to divide by zero\n"
     ]
    }
   ],
   "source": [
    "try:\n",
    "    2/0 \n",
    "except ArithmeticError: #ZeroDivisionError\n",
    "    print('Attempt to divide by zero')\n",
    "except  NameError:\n",
    "    print('Act in accordance with name error')\n",
    "except  (ValueError, TypeError):\n",
    "    print('Act in accordance with ValuError, TypeError')\n",
    "except  Exception as c:\n",
    "    print('Something else went wrong', c)"
   ]
  },
  {
   "cell_type": "code",
   "execution_count": 34,
   "id": "7d48f9fa-ae4e-4f86-8e6a-d7e245e47c54",
   "metadata": {},
   "outputs": [
    {
     "name": "stdin",
     "output_type": "stream",
     "text": [
      "The number please :  beş\n"
     ]
    },
    {
     "name": "stdout",
     "output_type": "stream",
     "text": [
      "Something went wrong...Try again. invalid literal for int() with base 10: 'beş'\n"
     ]
    }
   ],
   "source": [
    "fruits = [\"banana\", \"mango\", \"pear\", \"apple\", \"kiwi\", \"grape\"]\n",
    "while True:\n",
    "    try:\n",
    "        index_number = int(input(\"The number please : \"))\n",
    "\n",
    "        print(\"My favorite fruit is: \", fruits[index_number])\n",
    "        break\n",
    "    except Exception as fırfirik:\n",
    "        print(\"Something went wrong...Try again.\", fırfirik)\n",
    "        break"
   ]
  },
  {
   "cell_type": "code",
   "execution_count": 38,
   "id": "6a03efc6-3fa9-4b76-ab61-80e20ecc27d7",
   "metadata": {},
   "outputs": [
    {
     "name": "stdin",
     "output_type": "stream",
     "text": [
      "Pick an index number to chose your favorite fruit :  10\n"
     ]
    },
    {
     "name": "stdout",
     "output_type": "stream",
     "text": [
      "There is no such index...Try again.\n"
     ]
    },
    {
     "name": "stdin",
     "output_type": "stream",
     "text": [
      "Pick an index number to chose your favorite fruit :  5\n"
     ]
    },
    {
     "name": "stdout",
     "output_type": "stream",
     "text": [
      "My favorite fruit is:  grape\n"
     ]
    }
   ],
   "source": [
    "fruits = [\"banana\", \"mango\", \"pear\", \"apple\", \"kiwi\", \"grape\"]\n",
    "while True:\n",
    "    try:\n",
    "        index = int(input(\"Pick an index number to chose your favorite fruit : \"))\n",
    "\n",
    "        print(\"My favorite fruit is: \", fruits[index])\n",
    "        break\n",
    "    except IndexError:\n",
    "        print(\"There is no such index...Try again.\")\n",
    "        break\n",
    "    except ValueError:\n",
    "        print(\"You should enter integer...Try again.\")\n",
    "        break"
   ]
  },
  {
   "cell_type": "code",
   "execution_count": 4,
   "id": "604004e5-94f3-481f-86d9-e124cb23a1a1",
   "metadata": {},
   "outputs": [
    {
     "name": "stdin",
     "output_type": "stream",
     "text": [
      "Pick an index number to chose your favorite fruit :  9\n"
     ]
    },
    {
     "name": "stdout",
     "output_type": "stream",
     "text": [
      "iki hakkınız kaldı\n",
      "our Fruits are always fresh!\n"
     ]
    },
    {
     "name": "stdin",
     "output_type": "stream",
     "text": [
      "Pick an index number to chose your favorite fruit :  9\n"
     ]
    },
    {
     "name": "stdout",
     "output_type": "stream",
     "text": [
      "iki hakkınız kaldı\n",
      "our Fruits are always fresh!\n"
     ]
    },
    {
     "name": "stdin",
     "output_type": "stream",
     "text": [
      "Pick an index number to chose your favorite fruit :  5\n"
     ]
    },
    {
     "name": "stdout",
     "output_type": "stream",
     "text": [
      "My favorite fruit is:  grape\n",
      "our Fruits are always fresh!\n"
     ]
    }
   ],
   "source": [
    "fruits = [\"banana\", \"mango\", \"pear\", \"apple\", \"kiwi\", \"grape\"]\n",
    "while True:\n",
    "    count = 0\n",
    "    try:\n",
    "        index = int(input(\"Pick an index number to chose your favorite fruit : \"))\n",
    "\n",
    "        print(\"My favorite fruit is: \", fruits[index])\n",
    "        break\n",
    "    except IndexError:\n",
    "        if count == 0:\n",
    "            count += 1\n",
    "            print(\"iki hakkınız kaldı\")\n",
    "        elif count == 1:\n",
    "            count += 1\n",
    "            print(\"bir hakkınız kaldı\")\n",
    "        elif count == 2:\n",
    "            print(\"hakkınız bitti.\")\n",
    "\n",
    "    except ValueError:\n",
    "        if count == 0:\n",
    "            count += 1\n",
    "            print(\"iki hakkınız kaldı\")\n",
    "        elif count == 1:\n",
    "            count += 1\n",
    "            print(\"bir hakkınız kaldı\")\n",
    "        elif count == 2:\n",
    "            print(\"hakkınız bitti.\")\n",
    "   \n",
    "    else :\n",
    "        print(\"Congrats! You have entered valid input.\")\n",
    "        break\n",
    "    finally :\n",
    "        print(\"our Fruits are always fresh!\")"
   ]
  },
  {
   "cell_type": "code",
   "execution_count": 2,
   "id": "f702e947-f141-4137-b9e3-432d60f05107",
   "metadata": {},
   "outputs": [
    {
     "name": "stdout",
     "output_type": "stream",
     "text": [
      "you have 3 right\n"
     ]
    },
    {
     "name": "stdin",
     "output_type": "stream",
     "text": [
      "pick an index number. 2\n"
     ]
    },
    {
     "name": "stdout",
     "output_type": "stream",
     "text": [
      "your favorite fruit is pear\n",
      "Congrats! You have entered valid input.\n",
      "our Fruits are always fresh!\n"
     ]
    }
   ],
   "source": [
    "counter = 3\n",
    "fruits = [\"banana\", \"mango\", \"pear\", \"apple\", \"kiwi\", \"grape\"]\n",
    "while counter > 0 :\n",
    "    try :\n",
    "        print(f\"you have {counter} right\")\n",
    "        index = int(input(\"pick an index number.\"))\n",
    "        print(\"your favorite fruit is\", fruits[index])\n",
    "    except IndexError:\n",
    "        counter -= 1\n",
    "        print(f\"Index error. You have {counter} right left. Try again'\")\n",
    "                    \n",
    "    except ValueError :\n",
    "        counter -= 1\n",
    "        print(f\"Value error. You have {counter} right left. Try again'\")\n",
    "                    \n",
    "    else :\n",
    "        print(\"Congrats! You have entered valid input.\")\n",
    "        break\n",
    "    finally :\n",
    "        print(\"our Fruits are always fresh!\")\n",
    "        "
   ]
  },
  {
   "cell_type": "code",
   "execution_count": 5,
   "id": "cf970600-2eff-4e62-bb14-973c4e914a0f",
   "metadata": {},
   "outputs": [
    {
     "name": "stdin",
     "output_type": "stream",
     "text": [
      "Lütfen bir metin giriniz:  Lütfen bir metin giriniz\n"
     ]
    },
    {
     "name": "stdout",
     "output_type": "stream",
     "text": [
      "{'L': 1, 'ü': 1, 't': 2, 'f': 1, 'e': 2, 'n': 3, ' ': 3, 'b': 1, 'i': 5, 'r': 2, 'm': 1, 'g': 1, 'z': 1}\n"
     ]
    }
   ],
   "source": [
    "metin= input(\"Lütfen bir metin giriniz: \")\n",
    "harf=[]\n",
    "sayi=[]\n",
    "for i in metin :\n",
    "    sayi.append(len(i))\n",
    "    if not (i in harf):\n",
    "        harf.append(i)\n",
    "    else:\n",
    "        sayi[harf.index(i)]=sayi[harf.index(i)]+1\n",
    "cıktı = (zip(harf, sayi))\n",
    "print(dict(cıktı))"
   ]
  },
  {
   "cell_type": "code",
   "execution_count": 6,
   "id": "60740708-001b-45dc-bb44-ed0ea280560c",
   "metadata": {},
   "outputs": [
    {
     "name": "stdout",
     "output_type": "stream",
     "text": [
      "{'b': 1, 'u': 1, 'g': 1, 'ü': 5, 'n': 5, ' ': 6, 'h': 1, 'z': 1, 'l': 2, 'y': 3, 'm': 1, '.': 5, 'A': 1, 'r': 2, 'ı': 3, 'k': 2, 'a': 2, '2': 1, 's': 4, 'e': 1, 'i': 1, 'o': 2}\n"
     ]
    }
   ],
   "source": [
    "string  = \"bugün hüzünlüyüm. Ayrılık yakın. 2 session sonra...\"\n",
    "word_dict = {}\n",
    "for n in string:\n",
    "    if n in word_dict :\n",
    "        word_dict[n] += 1\n",
    "    else:\n",
    "        word_dict[n] = 1\n",
    "print(word_dict)"
   ]
  },
  {
   "cell_type": "code",
   "execution_count": 4,
   "id": "6dd6add5-451c-4ef8-9d92-7e5fa620228d",
   "metadata": {},
   "outputs": [
    {
     "data": {
      "text/plain": [
       "{'int': 0, 'str': 0, 'bool': 0, 'list': 0, 'tuple': 0, 'dict': 0, 'set': 0}"
      ]
     },
     "execution_count": 4,
     "metadata": {},
     "output_type": "execute_result"
    }
   ],
   "source": [
    "tipler = [\"int\", \"str\", \"bool\", \"list\", \"tuple\", \"dict\", \"set\"]\n",
    "veri = [\"a\", \"b\", True, (False, 1), {\"1\" : 2}, [1,2], {\"2\" : \"two\"}, {2, \"3\"}, \"c\", 23, 0]\n",
    "{}.fromkeys(tipler, 0)"
   ]
  },
  {
   "cell_type": "code",
   "execution_count": 5,
   "id": "4fc02a4a-bf78-4ca5-ae54-418cbb942378",
   "metadata": {},
   "outputs": [],
   "source": [
    "toplam = {}.fromkeys(tipler, 0)"
   ]
  },
  {
   "cell_type": "code",
   "execution_count": 6,
   "id": "3607c0e4-b320-45f3-927c-00b30f1bdebf",
   "metadata": {},
   "outputs": [
    {
     "data": {
      "text/plain": [
       "11"
      ]
     },
     "execution_count": 6,
     "metadata": {},
     "output_type": "execute_result"
    }
   ],
   "source": [
    "len(veri)"
   ]
  },
  {
   "cell_type": "code",
   "execution_count": 7,
   "id": "19b9421d-6fc2-440f-bccc-9aaed3222fe3",
   "metadata": {},
   "outputs": [
    {
     "data": {
      "text/plain": [
       "str"
      ]
     },
     "execution_count": 7,
     "metadata": {},
     "output_type": "execute_result"
    }
   ],
   "source": [
    "type(veri[0])"
   ]
  },
  {
   "cell_type": "code",
   "execution_count": 8,
   "id": "2cafe77c-ee0c-4834-a062-ac3fa1c367bf",
   "metadata": {},
   "outputs": [
    {
     "data": {
      "text/plain": [
       "list"
      ]
     },
     "execution_count": 8,
     "metadata": {},
     "output_type": "execute_result"
    }
   ],
   "source": [
    "type(veri[5])"
   ]
  },
  {
   "cell_type": "code",
   "execution_count": 9,
   "id": "fb46a070-01c4-4888-b23a-b2644c2d3c45",
   "metadata": {},
   "outputs": [
    {
     "data": {
      "text/plain": [
       "True"
      ]
     },
     "execution_count": 9,
     "metadata": {},
     "output_type": "execute_result"
    }
   ],
   "source": [
    "type(veri[5]) == list"
   ]
  },
  {
   "cell_type": "code",
   "execution_count": 10,
   "id": "5ee60854-55fb-46fe-86bd-0d79c4b65639",
   "metadata": {},
   "outputs": [
    {
     "data": {
      "text/plain": [
       "False"
      ]
     },
     "execution_count": 10,
     "metadata": {},
     "output_type": "execute_result"
    }
   ],
   "source": [
    "type(veri[5]) == str"
   ]
  },
  {
   "cell_type": "code",
   "execution_count": 11,
   "id": "aaec0fc4-f867-4254-8cfc-4604a6dc9bf7",
   "metadata": {},
   "outputs": [
    {
     "data": {
      "text/plain": [
       "{'int': 2, 'str': 3, 'bool': 1, 'list': 0, 'tuple': 1, 'dict': 2, 'set': 1}"
      ]
     },
     "execution_count": 11,
     "metadata": {},
     "output_type": "execute_result"
    }
   ],
   "source": [
    "for i in range(len(veri)) :\n",
    "    if type(veri[i]) == int : toplam[\"int\"] += 1\n",
    "    elif type(veri[i]) == str : toplam[\"str\"] += 1\n",
    "    elif type(veri[i]) == bool : toplam[\"bool\"] += 1\n",
    "    elif type(veri[i]) == tuple : toplam[\"tuple\"] += 1\n",
    "    elif type(veri[i]) == dict : toplam[\"dict\"] += 1\n",
    "    elif type(veri[i]) == set : toplam[\"set\"] += 1\n",
    "toplam"
   ]
  },
  {
   "cell_type": "code",
   "execution_count": 12,
   "id": "12d4f5f3-30e1-4e9c-ac81-47a287942f1c",
   "metadata": {},
   "outputs": [],
   "source": [
    "import os"
   ]
  },
  {
   "cell_type": "code",
   "execution_count": 16,
   "id": "d3b4202f-0c5f-44d6-8b5c-a03a813bee94",
   "metadata": {},
   "outputs": [],
   "source": [
    "dosya_içeriği = os.listdir() # mevcut klasörün içeriğini listeliyor. bu modelle klasör oluşrurma belge açma va"
   ]
  },
  {
   "cell_type": "code",
   "execution_count": 17,
   "id": "7dcfd5b6-be7f-472f-8ff8-ba45b456bead",
   "metadata": {},
   "outputs": [
    {
     "data": {
      "text/plain": [
       "['.ipynb_checkpoints',\n",
       " '04.05.2021 ders.ipynb',\n",
       " 'boş.txt',\n",
       " 'ders10.ipynb',\n",
       " 'ders11.ipynb',\n",
       " 'ders12.ipynb',\n",
       " 'ders13.ipynb',\n",
       " 'ders14.ipynb',\n",
       " 'ders15.ipynb',\n",
       " 'ders16.ipynb',\n",
       " 'ders17.ipynb',\n",
       " 'ders18.ipynb',\n",
       " 'ders19.ipynb',\n",
       " 'ders20.ipynb',\n",
       " 'ders21.ipynb',\n",
       " 'ders5.ipynb',\n",
       " 'DERS6.ipynb',\n",
       " 'ders7.ipynb',\n",
       " 'ders8.ipynb',\n",
       " 'ders9.ipynb',\n",
       " 'ilkphyoton yazı23,09,2021.ipynb',\n",
       " 'python30,09,2021.ipynb',\n",
       " 'upper_package',\n",
       " 'çalışma04.10.ipynb',\n",
       " 'ödev 15.10.2021.ipynb']"
      ]
     },
     "execution_count": 17,
     "metadata": {},
     "output_type": "execute_result"
    }
   ],
   "source": [
    "dosya_içeriği"
   ]
  },
  {
   "cell_type": "code",
   "execution_count": 15,
   "id": "ae4d156a-f03b-42f3-b5e4-dde47ac62ca3",
   "metadata": {},
   "outputs": [],
   "source": [
    "import shutil # kopyalama yapıştırma işlemleri klasör zipleme işlemi var "
   ]
  },
  {
   "cell_type": "code",
   "execution_count": null,
   "id": "c5666637-d6af-445e-b167-b61664038009",
   "metadata": {},
   "outputs": [],
   "source": [
    "shutil.make_archive(\"boş\") # klasör zipleme işlemi yapar."
   ]
  }
 ],
 "metadata": {
  "kernelspec": {
   "display_name": "Python 3 (ipykernel)",
   "language": "python",
   "name": "python3"
  },
  "language_info": {
   "codemirror_mode": {
    "name": "ipython",
    "version": 3
   },
   "file_extension": ".py",
   "mimetype": "text/x-python",
   "name": "python",
   "nbconvert_exporter": "python",
   "pygments_lexer": "ipython3",
   "version": "3.9.7"
  }
 },
 "nbformat": 4,
 "nbformat_minor": 5
}
