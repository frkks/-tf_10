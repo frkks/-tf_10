{
 "cells": [
  {
   "cell_type": "code",
   "execution_count": 1,
   "id": "1296943f-14da-422e-96df-e54177ba7454",
   "metadata": {},
   "outputs": [
    {
     "name": "stdout",
     "output_type": "stream",
     "text": [
      "evens count 5\n",
      "odds count 4\n"
     ]
    }
   ],
   "source": [
    "numbers = (11, 36, 33, 66, 89, 21, 32, 16, 10)\n",
    "odds = 0 \n",
    "evens = 0\n",
    "for i in numbers :\n",
    "    if i % 2 == 0:\n",
    "        evens += 1\n",
    "    else:\n",
    "        odds += 1\n",
    "print(\"evens count\",evens)\n",
    "print(\"odds count\",odds)"
   ]
  },
  {
   "cell_type": "code",
   "execution_count": 5,
   "id": "6b57fb6c-e535-4b42-9351-257eba70c36d",
   "metadata": {},
   "outputs": [
    {
     "name": "stdout",
     "output_type": "stream",
     "text": [
      "2775\n"
     ]
    }
   ],
   "source": [
    "counter = 0\n",
    "for i in range(1,75) :\n",
    "    counter += i\n",
    "print(counter)"
   ]
  },
  {
   "cell_type": "code",
   "execution_count": 72,
   "id": "f60378bb-285d-4d88-9ec0-98b1f6a86f90",
   "metadata": {},
   "outputs": [
    {
     "name": "stdout",
     "output_type": "stream",
     "text": [
      "2775\n"
     ]
    }
   ],
   "source": [
    "counter1 = []\n",
    "for i in range(1,75) :\n",
    "    counter1.append(i)\n",
    "print(sum(counter1))"
   ]
  },
  {
   "cell_type": "code",
   "execution_count": 7,
   "id": "f16fe45b-4fbf-4a3c-ba67-6b6ed72c97c3",
   "metadata": {},
   "outputs": [
    {
     "name": "stdout",
     "output_type": "stream",
     "text": [
      "i am happy\n",
      "i am confident\n",
      "you are happy\n",
      "you are confident\n"
     ]
    }
   ],
   "source": [
    "who = [\"i am \", \"you are \"] \n",
    "mood = [\"happy\", \"confident\"]\n",
    "for i in who:\n",
    "    for ii in mood:\n",
    "        print(i + ii)"
   ]
  },
  {
   "cell_type": "code",
   "execution_count": 13,
   "id": "2b8cb60a-812e-4115-bbda-499daab1d69d",
   "metadata": {},
   "outputs": [
    {
     "name": "stdout",
     "output_type": "stream",
     "text": [
      "susan is happy\n",
      "susan is sad\n",
      "tom is happy\n",
      "tom is sad\n",
      "edward is happy\n",
      "edward is sad\n"
     ]
    }
   ],
   "source": [
    "names = [\"susan\", \"tom\", \"edward\"]\n",
    "mood = [\"happy\", \"sad\"]\n",
    "for x in names:\n",
    "    for y in mood:\n",
    "        print(x + \" is \" + y)"
   ]
  },
  {
   "cell_type": "code",
   "execution_count": 14,
   "id": "1a195139-f688-4bb2-89ec-5020d50703a0",
   "metadata": {},
   "outputs": [
    {
     "data": {
      "text/plain": [
       "('five', 5, True)"
      ]
     },
     "execution_count": 14,
     "metadata": {},
     "output_type": "execute_result"
    }
   ],
   "source": [
    "v = (\"five\", 5, True)\n",
    "v"
   ]
  },
  {
   "cell_type": "code",
   "execution_count": 15,
   "id": "4e7cc44c-50df-462e-b8b8-cffa60d3cdb0",
   "metadata": {},
   "outputs": [
    {
     "data": {
      "text/plain": [
       "'five'"
      ]
     },
     "execution_count": 15,
     "metadata": {},
     "output_type": "execute_result"
    }
   ],
   "source": [
    "(x, y, z) = v\n",
    "x"
   ]
  },
  {
   "cell_type": "code",
   "execution_count": 16,
   "id": "fa457854-fe4a-4b50-89c6-3a9ea4ffe2b0",
   "metadata": {},
   "outputs": [
    {
     "data": {
      "text/plain": [
       "5"
      ]
     },
     "execution_count": 16,
     "metadata": {},
     "output_type": "execute_result"
    }
   ],
   "source": [
    "y"
   ]
  },
  {
   "cell_type": "code",
   "execution_count": 17,
   "id": "e9dbc61c-1420-431b-9a1e-2a12f46f8b9f",
   "metadata": {},
   "outputs": [
    {
     "data": {
      "text/plain": [
       "True"
      ]
     },
     "execution_count": 17,
     "metadata": {},
     "output_type": "execute_result"
    }
   ],
   "source": [
    "z"
   ]
  },
  {
   "cell_type": "code",
   "execution_count": 19,
   "id": "631150f3-1af3-4dd6-b9f6-13d71bbcad38",
   "metadata": {},
   "outputs": [
    {
     "data": {
      "text/plain": [
       "5"
      ]
     },
     "execution_count": 19,
     "metadata": {},
     "output_type": "execute_result"
    }
   ],
   "source": [
    "x, y = 5, 6\n",
    "x"
   ]
  },
  {
   "cell_type": "code",
   "execution_count": 20,
   "id": "59a20244-81d0-4c37-a071-4abbea6a0b4f",
   "metadata": {},
   "outputs": [
    {
     "data": {
      "text/plain": [
       "6"
      ]
     },
     "execution_count": 20,
     "metadata": {},
     "output_type": "execute_result"
    }
   ],
   "source": [
    "y"
   ]
  },
  {
   "cell_type": "code",
   "execution_count": 26,
   "id": "fb408780-d1c8-42bd-b70c-5057c1140d8b",
   "metadata": {},
   "outputs": [
    {
     "data": {
      "text/plain": [
       "(1, 2, 3, 4, 5, 6, 7)"
      ]
     },
     "execution_count": 26,
     "metadata": {},
     "output_type": "execute_result"
    }
   ],
   "source": [
    "tuple(range(1,8))"
   ]
  },
  {
   "cell_type": "code",
   "execution_count": 28,
   "id": "c498e991-9fbb-453f-98b0-81bb46d69d33",
   "metadata": {},
   "outputs": [
    {
     "data": {
      "text/plain": [
       "3"
      ]
     },
     "execution_count": 28,
     "metadata": {},
     "output_type": "execute_result"
    }
   ],
   "source": [
    "(monday, tuesday, wednesday, thursday, friday, saturday, sunday) = tuple(range(1,8))\n",
    "monday"
   ]
  },
  {
   "cell_type": "code",
   "execution_count": 25,
   "id": "90dbdb1f-e9d1-4f8d-b86d-46ae0bad1755",
   "metadata": {},
   "outputs": [
    {
     "data": {
      "text/plain": [
       "7"
      ]
     },
     "execution_count": 25,
     "metadata": {},
     "output_type": "execute_result"
    }
   ],
   "source": [
    "sunday"
   ]
  },
  {
   "cell_type": "code",
   "execution_count": 29,
   "id": "2ae3c8cd-cd40-45a7-905c-52eebc8458a4",
   "metadata": {},
   "outputs": [
    {
     "data": {
      "text/plain": [
       "[1, 2, 3, 4, 'bir', 'iki', 'üç']"
      ]
     },
     "execution_count": 29,
     "metadata": {},
     "output_type": "execute_result"
    }
   ],
   "source": [
    "[1, 2, 3, 4] + [\"bir\", \"iki\", \"üç\"]"
   ]
  },
  {
   "cell_type": "code",
   "execution_count": 30,
   "id": "c56b71a0-4529-491e-a20e-617e0c819a0f",
   "metadata": {},
   "outputs": [
    {
     "ename": "ValueError",
     "evalue": "too many values to unpack (expected 2)",
     "output_type": "error",
     "traceback": [
      "\u001b[1;31m---------------------------------------------------------------------------\u001b[0m",
      "\u001b[1;31mValueError\u001b[0m                                Traceback (most recent call last)",
      "\u001b[1;32m~\\AppData\\Local\\Temp/ipykernel_21596/4282556178.py\u001b[0m in \u001b[0;36m<module>\u001b[1;34m\u001b[0m\n\u001b[1;32m----> 1\u001b[1;33m \u001b[0ma\u001b[0m\u001b[1;33m,\u001b[0m \u001b[0mb\u001b[0m \u001b[1;33m=\u001b[0m \u001b[1;33m(\u001b[0m\u001b[1;36m10\u001b[0m\u001b[1;33m,\u001b[0m \u001b[1;36m20\u001b[0m\u001b[1;33m,\u001b[0m \u001b[1;36m30\u001b[0m\u001b[1;33m,\u001b[0m \u001b[1;36m40\u001b[0m\u001b[1;33m)\u001b[0m\u001b[1;33m\u001b[0m\u001b[1;33m\u001b[0m\u001b[0m\n\u001b[0m",
      "\u001b[1;31mValueError\u001b[0m: too many values to unpack (expected 2)"
     ]
    }
   ],
   "source": [
    "a, b = (10, 20, 30, 40)"
   ]
  },
  {
   "cell_type": "code",
   "execution_count": 32,
   "id": "8fdfea77-f279-49cc-bebe-301863b296dc",
   "metadata": {},
   "outputs": [],
   "source": [
    "a, _, b, _, = (10, 20, 30, 40) # holder kullanma"
   ]
  },
  {
   "cell_type": "code",
   "execution_count": 33,
   "id": "c757e099-30dd-4d20-834e-c5414628a04d",
   "metadata": {},
   "outputs": [
    {
     "data": {
      "text/plain": [
       "10"
      ]
     },
     "execution_count": 33,
     "metadata": {},
     "output_type": "execute_result"
    }
   ],
   "source": [
    "a"
   ]
  },
  {
   "cell_type": "code",
   "execution_count": 34,
   "id": "61dd5d46-f880-43da-a04c-74bd0380a916",
   "metadata": {},
   "outputs": [
    {
     "data": {
      "text/plain": [
       "30"
      ]
     },
     "execution_count": 34,
     "metadata": {},
     "output_type": "execute_result"
    }
   ],
   "source": [
    "b"
   ]
  },
  {
   "cell_type": "code",
   "execution_count": 35,
   "id": "aba6f51a-1c09-4ed4-a62c-b3c5aab318da",
   "metadata": {},
   "outputs": [
    {
     "ename": "ValueError",
     "evalue": "too many values to unpack (expected 3)",
     "output_type": "error",
     "traceback": [
      "\u001b[1;31m---------------------------------------------------------------------------\u001b[0m",
      "\u001b[1;31mValueError\u001b[0m                                Traceback (most recent call last)",
      "\u001b[1;32m~\\AppData\\Local\\Temp/ipykernel_21596/2276164276.py\u001b[0m in \u001b[0;36m<module>\u001b[1;34m\u001b[0m\n\u001b[1;32m----> 1\u001b[1;33m \u001b[0mx\u001b[0m\u001b[1;33m,\u001b[0m \u001b[0my\u001b[0m\u001b[1;33m,\u001b[0m \u001b[0mz\u001b[0m \u001b[1;33m=\u001b[0m \u001b[1;33m(\u001b[0m\u001b[1;36m11\u001b[0m\u001b[1;33m,\u001b[0m \u001b[1;36m22\u001b[0m\u001b[1;33m,\u001b[0m \u001b[1;36m33\u001b[0m\u001b[1;33m,\u001b[0m \u001b[1;36m44\u001b[0m\u001b[1;33m,\u001b[0m \u001b[1;36m55\u001b[0m\u001b[1;33m)\u001b[0m\u001b[1;33m\u001b[0m\u001b[1;33m\u001b[0m\u001b[0m\n\u001b[0m",
      "\u001b[1;31mValueError\u001b[0m: too many values to unpack (expected 3)"
     ]
    }
   ],
   "source": [
    "x, y, z = (11, 22, 33, 44, 55)"
   ]
  },
  {
   "cell_type": "code",
   "execution_count": 36,
   "id": "a74b9451-13f2-4284-81fe-7dbd6c079504",
   "metadata": {},
   "outputs": [
    {
     "data": {
      "text/plain": [
       "11"
      ]
     },
     "execution_count": 36,
     "metadata": {},
     "output_type": "execute_result"
    }
   ],
   "source": [
    "x, y, *z = (11, 22, 33, 44, 55) # asperix kullanma *z liste çıktı verir.\n",
    "x"
   ]
  },
  {
   "cell_type": "code",
   "execution_count": 37,
   "id": "9f40fa75-f144-4392-9be2-fc19bd54d11b",
   "metadata": {},
   "outputs": [
    {
     "data": {
      "text/plain": [
       "22"
      ]
     },
     "execution_count": 37,
     "metadata": {},
     "output_type": "execute_result"
    }
   ],
   "source": [
    "y"
   ]
  },
  {
   "cell_type": "code",
   "execution_count": 38,
   "id": "e083f98c-4e18-46ec-9131-43518f08a676",
   "metadata": {},
   "outputs": [
    {
     "data": {
      "text/plain": [
       "[33, 44, 55]"
      ]
     },
     "execution_count": 38,
     "metadata": {},
     "output_type": "execute_result"
    }
   ],
   "source": [
    "z"
   ]
  },
  {
   "cell_type": "code",
   "execution_count": 39,
   "id": "87fe09e5-232b-46b7-9647-b9ca4a491dd4",
   "metadata": {},
   "outputs": [
    {
     "data": {
      "text/plain": [
       "11"
      ]
     },
     "execution_count": 39,
     "metadata": {},
     "output_type": "execute_result"
    }
   ],
   "source": [
    "x, y, *_= (11, 22, 33, 44, 66) # çoklu değer ataması *_ yapınca çıktı hata vermez.\n",
    "x"
   ]
  },
  {
   "cell_type": "code",
   "execution_count": 40,
   "id": "15a6f87f-9d38-4739-a496-827164267c23",
   "metadata": {},
   "outputs": [
    {
     "data": {
      "text/plain": [
       "22"
      ]
     },
     "execution_count": 40,
     "metadata": {},
     "output_type": "execute_result"
    }
   ],
   "source": [
    "y"
   ]
  },
  {
   "cell_type": "code",
   "execution_count": 42,
   "id": "65f8c085-44be-422a-8b76-8dc172372b68",
   "metadata": {},
   "outputs": [
    {
     "data": {
      "text/plain": [
       "77"
      ]
     },
     "execution_count": 42,
     "metadata": {},
     "output_type": "execute_result"
    }
   ],
   "source": [
    "x, y, *z, t = (11, 22, 33, 44, 66, 77)\n",
    "t"
   ]
  },
  {
   "cell_type": "code",
   "execution_count": 43,
   "id": "f362115b-7df6-4e18-930a-30a4b7135681",
   "metadata": {},
   "outputs": [
    {
     "data": {
      "text/plain": [
       "[33, 44, 66]"
      ]
     },
     "execution_count": 43,
     "metadata": {},
     "output_type": "execute_result"
    }
   ],
   "source": [
    "z"
   ]
  },
  {
   "cell_type": "code",
   "execution_count": 44,
   "id": "6949383a-6104-45be-9487-84823a9d3d8b",
   "metadata": {},
   "outputs": [],
   "source": [
    "x, y, *_, t = (11, 22, 33, 44, 66, 77)"
   ]
  },
  {
   "cell_type": "code",
   "execution_count": 45,
   "id": "aeadc420-5f1f-41c0-adc1-5aee7a6f0fb5",
   "metadata": {},
   "outputs": [
    {
     "data": {
      "text/plain": [
       "11"
      ]
     },
     "execution_count": 45,
     "metadata": {},
     "output_type": "execute_result"
    }
   ],
   "source": [
    "x"
   ]
  },
  {
   "cell_type": "code",
   "execution_count": 46,
   "id": "8a40838b-2cc5-4566-95ef-bc8e9d04b40d",
   "metadata": {},
   "outputs": [
    {
     "data": {
      "text/plain": [
       "77"
      ]
     },
     "execution_count": 46,
     "metadata": {},
     "output_type": "execute_result"
    }
   ],
   "source": [
    "t"
   ]
  },
  {
   "cell_type": "markdown",
   "id": "cbba3ff9-1593-43b0-b2b5-4edb0cb2ca85",
   "metadata": {},
   "source": [
    "# List Comprehension"
   ]
  },
  {
   "cell_type": "code",
   "execution_count": null,
   "id": "0bc74eba-c369-41c2-8a35-3573737f2c8b",
   "metadata": {},
   "outputs": [],
   "source": [
    "#[expression for item in iterable]\n",
    "\n",
    " #   for item in iterable :\n",
    "   #     expression"
   ]
  },
  {
   "cell_type": "code",
   "execution_count": 49,
   "id": "171643c2-bf75-4a24-82a9-43eb53f0b897",
   "metadata": {},
   "outputs": [
    {
     "data": {
      "text/plain": [
       "[0, 1, 2, 3, 4]"
      ]
     },
     "execution_count": 49,
     "metadata": {},
     "output_type": "execute_result"
    }
   ],
   "source": [
    "sayılar = []\n",
    "for i in range(5): # normal for yapısı\n",
    "    sayılar.append(i)\n",
    "sayılar"
   ]
  },
  {
   "cell_type": "code",
   "execution_count": 52,
   "id": "5d6a7d2a-64ce-46d5-a022-e47e4a7a76d4",
   "metadata": {},
   "outputs": [
    {
     "data": {
      "text/plain": [
       "[0, 1, 2, 3, 4]"
      ]
     },
     "execution_count": 52,
     "metadata": {},
     "output_type": "execute_result"
    }
   ],
   "source": [
    "[i for i in range(5)] # list Comprehension"
   ]
  },
  {
   "cell_type": "code",
   "execution_count": 53,
   "id": "fa0f4d6f-58c0-4261-bd5a-fec1c4cbd94e",
   "metadata": {},
   "outputs": [
    {
     "data": {
      "text/plain": [
       "[1, 4, 9, 16, 25]"
      ]
     },
     "execution_count": 53,
     "metadata": {},
     "output_type": "execute_result"
    }
   ],
   "source": [
    "[i**2 for i in range(1,6)]"
   ]
  },
  {
   "cell_type": "code",
   "execution_count": 55,
   "id": "349116cb-4047-4ab5-8add-a69e5f2556a3",
   "metadata": {},
   "outputs": [
    {
     "data": {
      "text/plain": [
       "[[1], [4], [9], [16], [25]]"
      ]
     },
     "execution_count": 55,
     "metadata": {},
     "output_type": "execute_result"
    }
   ],
   "source": [
    "[[i**2] for i in range(1,6)]"
   ]
  },
  {
   "cell_type": "code",
   "execution_count": 66,
   "id": "ba962da8-6a13-4733-a65b-e6aaa5224c8c",
   "metadata": {},
   "outputs": [
    {
     "data": {
      "text/plain": [
       "[1, 9, 25]"
      ]
     },
     "execution_count": 66,
     "metadata": {},
     "output_type": "execute_result"
    }
   ],
   "source": [
    "my_list = [1, 2, 3, 4, 5, 6]\n",
    "new_list = []\n",
    "for i in my_list :\n",
    "    if i % 2 :\n",
    "        new_list.append(i ** 2)\n",
    "new_list"
   ]
  },
  {
   "cell_type": "code",
   "execution_count": 69,
   "id": "353956f7-e36c-4df6-b7a2-6044cef4d73d",
   "metadata": {},
   "outputs": [
    {
     "data": {
      "text/plain": [
       "[1, 9, 25]"
      ]
     },
     "execution_count": 69,
     "metadata": {},
     "output_type": "execute_result"
    }
   ],
   "source": [
    "[i**2 for i in range(1,7) if i%2 ]"
   ]
  },
  {
   "cell_type": "code",
   "execution_count": 70,
   "id": "6535c02c-2929-41c7-a59b-a5703f134c52",
   "metadata": {},
   "outputs": [
    {
     "data": {
      "text/plain": [
       "[1, 9, 25]"
      ]
     },
     "execution_count": 70,
     "metadata": {},
     "output_type": "execute_result"
    }
   ],
   "source": [
    "[i**2 for i in my_list if i%2 ]"
   ]
  },
  {
   "cell_type": "markdown",
   "id": "0031b9b0-d27f-491a-b88a-6e328cde549f",
   "metadata": {},
   "source": [
    "# ternary if condition yapısı\n",
    "execute-body1 if condition else execute-body2"
   ]
  },
  {
   "cell_type": "code",
   "execution_count": 63,
   "id": "9ace201e-3f00-40ef-92de-660a3a3ff330",
   "metadata": {},
   "outputs": [
    {
     "name": "stdout",
     "output_type": "stream",
     "text": [
      "1\n"
     ]
    }
   ],
   "source": [
    "condition = True\n",
    "if condition :\n",
    "    a = 1\n",
    "else :\n",
    "    a = 0\n",
    "print(a)"
   ]
  },
  {
   "cell_type": "code",
   "execution_count": 65,
   "id": "bfb7460f-774b-4ec8-8d2a-78f71cc2e6c9",
   "metadata": {},
   "outputs": [
    {
     "data": {
      "text/plain": [
       "0"
      ]
     },
     "execution_count": 65,
     "metadata": {},
     "output_type": "execute_result"
    }
   ],
   "source": [
    "condition = False\n",
    "1 if condition else 0"
   ]
  },
  {
   "cell_type": "code",
   "execution_count": 73,
   "id": "34747dcd-af51-4ddf-9559-35616e5ddd31",
   "metadata": {},
   "outputs": [
    {
     "data": {
      "text/plain": [
       "[1, 2, 3, 4, 5, 6]"
      ]
     },
     "execution_count": 73,
     "metadata": {},
     "output_type": "execute_result"
    }
   ],
   "source": [
    "my_list"
   ]
  },
  {
   "cell_type": "code",
   "execution_count": 75,
   "id": "a041963b-be38-48b2-8c9c-06076781af83",
   "metadata": {},
   "outputs": [
    {
     "data": {
      "text/plain": [
       "[1, 4, 9, 16, 25, 36]"
      ]
     },
     "execution_count": 75,
     "metadata": {},
     "output_type": "execute_result"
    }
   ],
   "source": [
    "[i**2 for i in my_list]"
   ]
  },
  {
   "cell_type": "code",
   "execution_count": 76,
   "id": "b2e025b4-98f7-47c7-b9cc-592df376e890",
   "metadata": {},
   "outputs": [
    {
     "data": {
      "text/plain": [
       "[1, 9, 25]"
      ]
     },
     "execution_count": 76,
     "metadata": {},
     "output_type": "execute_result"
    }
   ],
   "source": [
    "[i**2 for i in my_list if i % 2]"
   ]
  },
  {
   "cell_type": "markdown",
   "id": "cfa6b041-08b7-4fef-ae4d-3e518adc977d",
   "metadata": {},
   "source": [
    "# Functions in Python  "
   ]
  },
  {
   "cell_type": "code",
   "execution_count": null,
   "id": "68d61540-6384-4232-90ad-15878869734d",
   "metadata": {},
   "outputs": [],
   "source": [
    "def"
   ]
  },
  {
   "cell_type": "code",
   "execution_count": null,
   "id": "450819a7-9a98-4e99-b89b-c43fa8014cff",
   "metadata": {},
   "outputs": [],
   "source": []
  }
 ],
 "metadata": {
  "kernelspec": {
   "display_name": "Python 3 (ipykernel)",
   "language": "python",
   "name": "python3"
  },
  "language_info": {
   "codemirror_mode": {
    "name": "ipython",
    "version": 3
   },
   "file_extension": ".py",
   "mimetype": "text/x-python",
   "name": "python",
   "nbconvert_exporter": "python",
   "pygments_lexer": "ipython3",
   "version": "3.9.7"
  }
 },
 "nbformat": 4,
 "nbformat_minor": 5
}
