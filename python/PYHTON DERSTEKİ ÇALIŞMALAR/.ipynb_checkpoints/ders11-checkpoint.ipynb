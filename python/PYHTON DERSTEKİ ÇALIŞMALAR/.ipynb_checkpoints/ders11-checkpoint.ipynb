{
 "cells": [
  {
   "cell_type": "code",
   "execution_count": 4,
   "id": "83b99cd3-c846-4d6e-8c78-c82b32b86369",
   "metadata": {},
   "outputs": [
    {
     "name": "stdout",
     "output_type": "stream",
     "text": [
      "{'e', 'a'}\n",
      "{'e', 'a'}\n"
     ]
    }
   ],
   "source": [
    "a = set(\"philedelphia\")\n",
    "b = set(\"dolphin\")\n",
    "print(a - b)\n",
    "print(a.difference(b))"
   ]
  },
  {
   "cell_type": "code",
   "execution_count": 5,
   "id": "362fd6b6-5f5c-4f89-8a0f-7a731536b8a6",
   "metadata": {},
   "outputs": [
    {
     "data": {
      "text/plain": [
       "False"
      ]
     },
     "execution_count": 5,
     "metadata": {},
     "output_type": "execute_result"
    }
   ],
   "source": [
    "bool(set()) # boş küme False verir. dict ve "
   ]
  },
  {
   "cell_type": "code",
   "execution_count": 6,
   "id": "3c95decd-3081-4804-815e-9695c65e35bc",
   "metadata": {},
   "outputs": [
    {
     "data": {
      "text/plain": [
       "True"
      ]
     },
     "execution_count": 6,
     "metadata": {},
     "output_type": "execute_result"
    }
   ],
   "source": [
    "bool(a  - b)"
   ]
  },
  {
   "cell_type": "code",
   "execution_count": 8,
   "id": "c4f957cd-355a-4139-84b6-45171003d76e",
   "metadata": {},
   "outputs": [
    {
     "name": "stdout",
     "output_type": "stream",
     "text": [
      "{'i', 'd', 'l', 'o', 'h', 'e', 'p', 'n', 'a'}\n"
     ]
    }
   ],
   "source": [
    "print(a.union(b))"
   ]
  },
  {
   "cell_type": "code",
   "execution_count": 9,
   "id": "d7cad709-cd25-4adb-83ab-dd7e49adf6e8",
   "metadata": {},
   "outputs": [
    {
     "data": {
      "text/plain": [
       "True"
      ]
     },
     "execution_count": 9,
     "metadata": {},
     "output_type": "execute_result"
    }
   ],
   "source": [
    "a.union(b) == b.union(a)"
   ]
  },
  {
   "cell_type": "code",
   "execution_count": 10,
   "id": "4d626de8-9677-4585-a836-8295c6247e7f",
   "metadata": {},
   "outputs": [
    {
     "data": {
      "text/plain": [
       "True"
      ]
     },
     "execution_count": 10,
     "metadata": {},
     "output_type": "execute_result"
    }
   ],
   "source": [
    "a | b == b | a"
   ]
  },
  {
   "cell_type": "code",
   "execution_count": 11,
   "id": "08e51ca6-611d-425a-a8da-0521980c1802",
   "metadata": {},
   "outputs": [
    {
     "data": {
      "text/plain": [
       "True"
      ]
     },
     "execution_count": 11,
     "metadata": {},
     "output_type": "execute_result"
    }
   ],
   "source": [
    "a & b == b & a"
   ]
  },
  {
   "cell_type": "code",
   "execution_count": 12,
   "id": "cc4ee2c4-c8fa-43d7-841a-a9b61f2e1e5d",
   "metadata": {},
   "outputs": [
    {
     "data": {
      "text/plain": [
       "True"
      ]
     },
     "execution_count": 12,
     "metadata": {},
     "output_type": "execute_result"
    }
   ],
   "source": [
    "a.intersection(b) == b.intersection(a)"
   ]
  },
  {
   "cell_type": "code",
   "execution_count": 13,
   "id": "d6014852-a1cc-40e1-b908-92e84fdf3f34",
   "metadata": {},
   "outputs": [],
   "source": [
    "date = \"11/04/2021\""
   ]
  },
  {
   "cell_type": "code",
   "execution_count": 14,
   "id": "5df1a999-1955-4a69-a4f0-ae3fb7424b8c",
   "metadata": {},
   "outputs": [
    {
     "data": {
      "text/plain": [
       "{'/', '0', '1', '2', '4'}"
      ]
     },
     "execution_count": 14,
     "metadata": {},
     "output_type": "execute_result"
    }
   ],
   "source": [
    "set(date) # tekrarlananları almadı"
   ]
  },
  {
   "cell_type": "code",
   "execution_count": 15,
   "id": "ca42c811-e80e-456b-ac52-1138574e3ef0",
   "metadata": {},
   "outputs": [
    {
     "data": {
      "text/plain": [
       "{'11/04/2021'}"
      ]
     },
     "execution_count": 15,
     "metadata": {},
     "output_type": "execute_result"
    }
   ],
   "source": [
    "{date}"
   ]
  },
  {
   "cell_type": "code",
   "execution_count": 16,
   "id": "43ca6c8f-833f-4d74-b5e3-eb8e9dadb923",
   "metadata": {},
   "outputs": [
    {
     "name": "stdout",
     "output_type": "stream",
     "text": [
      "{'1', '2', '/', '0'}\n",
      "{'21/11/2010'}\n"
     ]
    }
   ],
   "source": [
    "x = set(\"21/11/2010\")\n",
    "y = {\"21/11/2010\"}\n",
    "print(x)\n",
    "print(y)"
   ]
  },
  {
   "cell_type": "code",
   "execution_count": 17,
   "id": "1e2d2ed1-df8b-41ea-a701-6fa154e850c2",
   "metadata": {},
   "outputs": [
    {
     "name": "stdout",
     "output_type": "stream",
     "text": [
      "{1, 2, 3, 4, 5}\n"
     ]
    }
   ],
   "source": [
    "given_list = [1, 2, 3, 3, 3, 3, 4, 4, 5, 5]\n",
    "unigue = set(given_list)\n",
    "print(unigue)"
   ]
  },
  {
   "cell_type": "code",
   "execution_count": 23,
   "id": "65963af2-e470-473f-9e5c-3301ac3bbecf",
   "metadata": {},
   "outputs": [
    {
     "data": {
      "text/plain": [
       "{'a', 'h', 's'}"
      ]
     },
     "execution_count": 23,
     "metadata": {},
     "output_type": "execute_result"
    }
   ],
   "source": [
    "usa = set(\"washington\")\n",
    "nz = set(\"wellington\")\n",
    "usa - nz # farkı"
   ]
  },
  {
   "cell_type": "code",
   "execution_count": 24,
   "id": "2ea1b163-89f6-42e7-bc9d-288fd9788580",
   "metadata": {},
   "outputs": [
    {
     "data": {
      "text/plain": [
       "{'e', 'l'}"
      ]
     },
     "execution_count": 24,
     "metadata": {},
     "output_type": "execute_result"
    }
   ],
   "source": [
    "nz -usa # farkı"
   ]
  },
  {
   "cell_type": "code",
   "execution_count": 25,
   "id": "2ee855b8-cd07-4ead-9dfa-ad5cbdac8f51",
   "metadata": {},
   "outputs": [
    {
     "data": {
      "text/plain": [
       "{'g', 'i', 'n', 'o', 't', 'w'}"
      ]
     },
     "execution_count": 25,
     "metadata": {},
     "output_type": "execute_result"
    }
   ],
   "source": [
    "usa & nz # kesişim"
   ]
  },
  {
   "cell_type": "code",
   "execution_count": 27,
   "id": "e46e824c-2c32-4595-ace6-0c292a7a4bef",
   "metadata": {},
   "outputs": [
    {
     "data": {
      "text/plain": [
       "{'a', 'e', 'g', 'h', 'i', 'l', 'n', 'o', 's', 't', 'w'}"
      ]
     },
     "execution_count": 27,
     "metadata": {},
     "output_type": "execute_result"
    }
   ],
   "source": [
    "usa | nz # birleşimi"
   ]
  },
  {
   "cell_type": "code",
   "execution_count": 28,
   "id": "dd539d05-3378-43de-a7a3-48696b2261f2",
   "metadata": {},
   "outputs": [],
   "source": [
    "sayılar = [1, 2, 3, 4, 5]"
   ]
  },
  {
   "cell_type": "code",
   "execution_count": 30,
   "id": "1223f109-3654-4549-93e8-8a48e453b5e4",
   "metadata": {},
   "outputs": [
    {
     "name": "stdout",
     "output_type": "stream",
     "text": [
      "1\n"
     ]
    }
   ],
   "source": [
    "print(sayılar[0])"
   ]
  },
  {
   "cell_type": "code",
   "execution_count": 31,
   "id": "d2d164ef-7687-4684-bc23-a34e777e39f4",
   "metadata": {},
   "outputs": [
    {
     "name": "stdout",
     "output_type": "stream",
     "text": [
      "2\n"
     ]
    }
   ],
   "source": [
    "print(sayılar[1])"
   ]
  },
  {
   "cell_type": "code",
   "execution_count": 32,
   "id": "06671078-6416-406a-b135-a6552f526b51",
   "metadata": {},
   "outputs": [
    {
     "name": "stdout",
     "output_type": "stream",
     "text": [
      "3\n"
     ]
    }
   ],
   "source": [
    "print(sayılar[2])"
   ]
  },
  {
   "cell_type": "code",
   "execution_count": 33,
   "id": "208f93a9-9b3c-4c49-9a61-a20a81f4af6e",
   "metadata": {},
   "outputs": [
    {
     "name": "stdout",
     "output_type": "stream",
     "text": [
      "4\n"
     ]
    }
   ],
   "source": [
    "print(sayılar[3])"
   ]
  },
  {
   "cell_type": "code",
   "execution_count": 34,
   "id": "d5eed3ee-eb60-4241-8434-6c6bbed9ab7f",
   "metadata": {},
   "outputs": [
    {
     "name": "stdout",
     "output_type": "stream",
     "text": [
      "5\n"
     ]
    }
   ],
   "source": [
    "print(sayılar[4])"
   ]
  },
  {
   "cell_type": "code",
   "execution_count": null,
   "id": "6b3a5190-483e-473f-8901-ab265de69544",
   "metadata": {},
   "outputs": [],
   "source": [
    "a = 3\n",
    "b = 0\n",
    "b > a"
   ]
  },
  {
   "cell_type": "code",
   "execution_count": null,
   "id": "4b24a608-ea54-4a07-abbd-29fff116c79e",
   "metadata": {},
   "outputs": [],
   "source": [
    "if condition :\n",
    "    body1\n",
    "    body2\n",
    "body3"
   ]
  },
  {
   "cell_type": "code",
   "execution_count": 35,
   "id": "c34af60c-bc2a-4168-96bc-498f2ccf02de",
   "metadata": {},
   "outputs": [
    {
     "name": "stdout",
     "output_type": "stream",
     "text": [
      "hello word\n",
      "print me in all cases\n"
     ]
    }
   ],
   "source": [
    "if \"0\":\n",
    "    print(\"hello word\")\n",
    "print(\"print me in all cases\") # ikiside str olduğu için ikisinide alır."
   ]
  },
  {
   "cell_type": "code",
   "execution_count": 37,
   "id": "86291c9f-78e1-4c60-9657-c94c4759f936",
   "metadata": {},
   "outputs": [
    {
     "data": {
      "text/plain": [
       "True"
      ]
     },
     "execution_count": 37,
     "metadata": {},
     "output_type": "execute_result"
    }
   ],
   "source": [
    "bool(\"0\")"
   ]
  },
  {
   "cell_type": "code",
   "execution_count": 40,
   "id": "c23d731e-fd2d-4a25-85ba-af0dc0ae5269",
   "metadata": {},
   "outputs": [
    {
     "name": "stdout",
     "output_type": "stream",
     "text": [
      "print me in all cases\n"
     ]
    }
   ],
   "source": [
    "if \"0\" and \"\" : # boş str false dir print etmez if çalışmaz ifler treu görürse çalışır.\n",
    "    print(\"hello word\")\n",
    "print(\"print me in all cases\")"
   ]
  },
  {
   "cell_type": "code",
   "execution_count": 41,
   "id": "5fa5a10a-2c96-4dd1-b5d2-69ba8eea01df",
   "metadata": {},
   "outputs": [
    {
     "name": "stdout",
     "output_type": "stream",
     "text": [
      "print me in all cases\n"
     ]
    }
   ],
   "source": [
    "if 0 or \"False\" and None:\n",
    "    print(\"hello word\")\n",
    "print(\"print me in all cases\")"
   ]
  },
  {
   "cell_type": "code",
   "execution_count": 42,
   "id": "40a16f2e-1398-4abf-87d7-abbf14a87dd2",
   "metadata": {},
   "outputs": [
    {
     "name": "stdout",
     "output_type": "stream",
     "text": [
      "clarusway\n"
     ]
    }
   ],
   "source": [
    "if 1 :\n",
    "    print(\"clarusway\")"
   ]
  },
  {
   "cell_type": "code",
   "execution_count": 43,
   "id": "f221bcdc-0ae7-445b-ae53-3c6b2d142fb9",
   "metadata": {},
   "outputs": [],
   "source": [
    "if 0 : # 0 falsedir\n",
    "    print(\"clarusway\")"
   ]
  },
  {
   "cell_type": "code",
   "execution_count": 44,
   "id": "e49e38bf-1b73-4ce3-8c42-4327b299c34b",
   "metadata": {},
   "outputs": [
    {
     "name": "stdout",
     "output_type": "stream",
     "text": [
      "hello\n"
     ]
    }
   ],
   "source": [
    "if [\"\"] : # içerinse boş str varsa true dir\n",
    "    print(\"hello\")"
   ]
  },
  {
   "cell_type": "code",
   "execution_count": 45,
   "id": "ca1a3276-8316-4047-bc90-54d67d5ea47d",
   "metadata": {},
   "outputs": [
    {
     "name": "stdout",
     "output_type": "stream",
     "text": [
      "Bon Appetit\n"
     ]
    }
   ],
   "source": [
    "meat = True\n",
    "bread = True\n",
    "grocery = True\n",
    "onion = True\n",
    "lettuce = True\n",
    "hamburger = (meat and bread and grocery and (onion or lettuce))\n",
    "if hamburger :\n",
    "    print('Bon Appetit')"
   ]
  },
  {
   "cell_type": "code",
   "execution_count": 51,
   "id": "aa00a620-0562-4577-9cc7-89536f9ceaf8",
   "metadata": {},
   "outputs": [
    {
     "name": "stdout",
     "output_type": "stream",
     "text": [
      "Bon Appetit\n"
     ]
    }
   ],
   "source": [
    "minced = True\n",
    "bread = True\n",
    "#green\n",
    "lettuce = True\n",
    "onion = True\n",
    "grocer = True\n",
    "hamburgerr = (minced and bread and grocer) and (lettuce or onion)\n",
    "if hamburgerr:\n",
    "             print(\"Bon Appetit\")"
   ]
  },
  {
   "cell_type": "code",
   "execution_count": 53,
   "id": "ad245e03-baa9-4d22-9d1c-61789c7c75d8",
   "metadata": {},
   "outputs": [
    {
     "data": {
      "text/plain": [
       "True"
      ]
     },
     "execution_count": 53,
     "metadata": {},
     "output_type": "execute_result"
    }
   ],
   "source": [
    "1 ==1.0"
   ]
  },
  {
   "cell_type": "code",
   "execution_count": null,
   "id": "25162f7e-2944-4081-997a-6e923c50159c",
   "metadata": {
    "tags": []
   },
   "outputs": [],
   "source": []
  },
  {
   "cell_type": "code",
   "execution_count": 54,
   "id": "c93554c6-2f78-4635-807b-64e21cadab18",
   "metadata": {},
   "outputs": [
    {
     "data": {
      "text/plain": [
       "False"
      ]
     },
     "execution_count": 54,
     "metadata": {},
     "output_type": "execute_result"
    }
   ],
   "source": [
    "3 > 3"
   ]
  },
  {
   "cell_type": "code",
   "execution_count": 55,
   "id": "1d4e63ec-df4b-4579-9d1c-bb721d79e2e5",
   "metadata": {},
   "outputs": [
    {
     "data": {
      "text/plain": [
       "True"
      ]
     },
     "execution_count": 55,
     "metadata": {},
     "output_type": "execute_result"
    }
   ],
   "source": [
    "3 >= 3"
   ]
  },
  {
   "cell_type": "code",
   "execution_count": 56,
   "id": "3c6c2b85-c3d5-4784-8c3c-dc4831ce438a",
   "metadata": {},
   "outputs": [
    {
     "data": {
      "text/plain": [
       "False"
      ]
     },
     "execution_count": 56,
     "metadata": {},
     "output_type": "execute_result"
    }
   ],
   "source": [
    "\"ali\" == \"Ali\" # pyhton büyük küçük harf duyarlıdır"
   ]
  },
  {
   "cell_type": "code",
   "execution_count": 57,
   "id": "d21eb150-0c77-4310-ac9e-d304c93eedc0",
   "metadata": {},
   "outputs": [
    {
     "data": {
      "text/plain": [
       "True"
      ]
     },
     "execution_count": 57,
     "metadata": {},
     "output_type": "execute_result"
    }
   ],
   "source": [
    "\"ali\" != \"Ali\""
   ]
  },
  {
   "cell_type": "code",
   "execution_count": 1,
   "id": "91546e3f-de26-4d53-bb77-8dda767b8681",
   "metadata": {},
   "outputs": [
    {
     "name": "stdout",
     "output_type": "stream",
     "text": [
      "We are the same!\n"
     ]
    }
   ],
   "source": [
    "c = set(\"TWELVE PLUS ONE\")\n",
    "l = set(\"ELEVEN PLUS TWO\")\n",
    "if c == l:\n",
    "  print(\"We are the same!\")"
   ]
  },
  {
   "cell_type": "code",
   "execution_count": 4,
   "id": "97c1b0fa-26a4-4144-bf4e-43ca16ba415c",
   "metadata": {},
   "outputs": [
    {
     "name": "stdin",
     "output_type": "stream",
     "text": [
      "'Yes' or 'No' YES\n"
     ]
    },
    {
     "name": "stdout",
     "output_type": "stream",
     "text": [
      "You entered False\n"
     ]
    }
   ],
   "source": [
    "answer = input(\"'Yes' or 'No'\")\n",
    "answer = answer.title().strip() == \"YES\"\n",
    "print(\"You entered\" , answer)   "
   ]
  },
  {
   "cell_type": "code",
   "execution_count": 3,
   "id": "d851d4df-ff73-41eb-a7bb-156c7d93b41e",
   "metadata": {},
   "outputs": [
    {
     "name": "stdin",
     "output_type": "stream",
     "text": [
      "Please enter 'Yes' or 'No'  YES\n"
     ]
    },
    {
     "name": "stdout",
     "output_type": "stream",
     "text": [
      "You entered True\n"
     ]
    }
   ],
   "source": [
    "ask = input(\"Please enter 'Yes' or 'No' \")\n",
    "ask = ask.title().strip() == \"Yes\"\n",
    "print(\"You entered\" , ask)"
   ]
  },
  {
   "cell_type": "code",
   "execution_count": null,
   "id": "bd320324-f43b-4c02-89a4-c3fae15e6396",
   "metadata": {},
   "outputs": [],
   "source": [
    "word = (input('Enter yes or no :')).lower\n",
    "word1 = word != 'no'\n",
    "print (f'You entered {word1}')"
   ]
  },
  {
   "cell_type": "code",
   "execution_count": 5,
   "id": "64515b99-d2ed-4ddd-aa01-29b9eb9b21e6",
   "metadata": {},
   "outputs": [
    {
     "name": "stdin",
     "output_type": "stream",
     "text": [
      "Enter yes or No : yes\n"
     ]
    }
   ],
   "source": [
    "convert = input(\"Enter yes or No :\").title().strip() == \"Yes\""
   ]
  },
  {
   "cell_type": "code",
   "execution_count": 6,
   "id": "f71ac3ee-9fba-47da-887a-06803ec862a6",
   "metadata": {},
   "outputs": [
    {
     "data": {
      "text/plain": [
       "True"
      ]
     },
     "execution_count": 6,
     "metadata": {},
     "output_type": "execute_result"
    }
   ],
   "source": [
    "convert"
   ]
  },
  {
   "cell_type": "code",
   "execution_count": 7,
   "id": "b05de9f0-8615-4bd0-87d4-daa523e92a01",
   "metadata": {},
   "outputs": [
    {
     "name": "stdout",
     "output_type": "stream",
     "text": [
      "You entered True\n"
     ]
    }
   ],
   "source": [
    "print(\"You entered\" , convert)"
   ]
  },
  {
   "cell_type": "code",
   "execution_count": 8,
   "id": "d3679978-2536-46e0-b82b-372ea31d5847",
   "metadata": {},
   "outputs": [
    {
     "name": "stdin",
     "output_type": "stream",
     "text": [
      "Enter Yes or No : yes\n"
     ]
    },
    {
     "name": "stdout",
     "output_type": "stream",
     "text": [
      "You entered True\n"
     ]
    }
   ],
   "source": [
    "print(f\"You entered {input('Enter Yes or No :').title().strip() == 'Yes'}\")"
   ]
  },
  {
   "cell_type": "code",
   "execution_count": 15,
   "id": "7d8e49e3-e446-4488-b56e-a1bf1e9144b9",
   "metadata": {},
   "outputs": [
    {
     "name": "stdin",
     "output_type": "stream",
     "text": [
      "Enter a number: 56\n"
     ]
    },
    {
     "name": "stdout",
     "output_type": "stream",
     "text": [
      "56 is even\n"
     ]
    }
   ],
   "source": [
    "number = int(input(\"Enter a number:\"))\n",
    "if (number % 2) == 0 :\n",
    "    print(number, \"is even\")\n",
    "else:\n",
    "    print(number, \"is odd\")"
   ]
  },
  {
   "cell_type": "code",
   "execution_count": 19,
   "id": "eb3b2296-e230-41a4-bf8b-5c59db9993d0",
   "metadata": {},
   "outputs": [
    {
     "name": "stdin",
     "output_type": "stream",
     "text": [
      "Enter positive or negative number: 56\n"
     ]
    },
    {
     "name": "stdout",
     "output_type": "stream",
     "text": [
      "56.0 You entered positive number\n"
     ]
    }
   ],
   "source": [
    "number = float(input(\"Enter positive or negative number:\"))\n",
    "if number > 0 :\n",
    "    print(number, \"You entered positive number\")\n",
    "else:\n",
    "    print(number, \"You entered negative number\")"
   ]
  },
  {
   "cell_type": "code",
   "execution_count": 1,
   "id": "38024f84-28ac-4cdf-9702-48d08e7c1d26",
   "metadata": {},
   "outputs": [
    {
     "name": "stdin",
     "output_type": "stream",
     "text": [
      "Birinci sayıyı girin: 56325\n",
      "İkinci sayıyı girin: 98562\n"
     ]
    },
    {
     "name": "stdout",
     "output_type": "stream",
     "text": [
      "Büyük sayı 98562\n"
     ]
    }
   ],
   "source": [
    "number1 = int(input(\"Birinci sayıyı girin:\"))\n",
    "number2 = int(input(\"İkinci sayıyı girin:\"))\n",
    "if number1 > number2:\n",
    "    print(\"Büyük sayı\", number1)\n",
    "else :\n",
    "    print(\"Büyük sayı\", number2)"
   ]
  },
  {
   "cell_type": "code",
   "execution_count": 2,
   "id": "83513b65-0813-4bb9-85b3-8e3e300db85b",
   "metadata": {},
   "outputs": [
    {
     "name": "stdin",
     "output_type": "stream",
     "text": [
      "Enter first number: 23\n",
      "Enter secondt number: 56\n"
     ]
    },
    {
     "name": "stdout",
     "output_type": "stream",
     "text": [
      "The large number is 56.0\n"
     ]
    }
   ],
   "source": [
    "num1 = float(input(\"Enter first number:\"))\n",
    "num2 = float(input(\"Enter secondt number:\"))\n",
    "if num1 > num2 :\n",
    "    larger = num1\n",
    "else :\n",
    "    larger = num2\n",
    "print(\"The large number is\", larger)"
   ]
  },
  {
   "cell_type": "code",
   "execution_count": null,
   "id": "652b673c-4a85-48dd-87a6-c8601c989f8a",
   "metadata": {},
   "outputs": [],
   "source": []
  },
  {
   "cell_type": "code",
   "execution_count": null,
   "id": "7958cb2e-ada7-4461-8652-a57a46d9f105",
   "metadata": {},
   "outputs": [],
   "source": []
  },
  {
   "cell_type": "code",
   "execution_count": null,
   "id": "0294200a-0d36-457a-a9b1-d019de50bf05",
   "metadata": {},
   "outputs": [],
   "source": []
  }
 ],
 "metadata": {
  "kernelspec": {
   "display_name": "Python 3 (ipykernel)",
   "language": "python",
   "name": "python3"
  },
  "language_info": {
   "codemirror_mode": {
    "name": "ipython",
    "version": 3
   },
   "file_extension": ".py",
   "mimetype": "text/x-python",
   "name": "python",
   "nbconvert_exporter": "python",
   "pygments_lexer": "ipython3",
   "version": "3.9.7"
  }
 },
 "nbformat": 4,
 "nbformat_minor": 5
}
