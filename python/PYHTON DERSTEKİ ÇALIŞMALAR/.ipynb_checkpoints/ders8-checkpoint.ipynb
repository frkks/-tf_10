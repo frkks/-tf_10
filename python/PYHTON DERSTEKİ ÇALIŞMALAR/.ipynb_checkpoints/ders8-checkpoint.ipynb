{
 "cells": [
  {
   "cell_type": "code",
   "execution_count": 5,
   "id": "b458eb4a-fae9-439c-b07a-8355a0d9fbc6",
   "metadata": {},
   "outputs": [
    {
     "data": {
      "text/plain": [
       "'ali'"
      ]
     },
     "execution_count": 5,
     "metadata": {},
     "output_type": "execute_result"
    }
   ],
   "source": [
    "string = \"ali\"\n",
    "string"
   ]
  },
  {
   "cell_type": "code",
   "execution_count": 13,
   "id": "0996e99e-0e20-49de-932c-cd573bbab893",
   "metadata": {},
   "outputs": [
    {
     "data": {
      "text/plain": [
       "'ali'"
      ]
     },
     "execution_count": 13,
     "metadata": {},
     "output_type": "execute_result"
    }
   ],
   "source": [
    "string.upper()\n",
    "string"
   ]
  },
  {
   "cell_type": "code",
   "execution_count": 6,
   "id": "9406ac9f-2603-41f7-a595-35ab5818ca30",
   "metadata": {},
   "outputs": [
    {
     "data": {
      "text/plain": [
       "'ali'"
      ]
     },
     "execution_count": 6,
     "metadata": {},
     "output_type": "execute_result"
    }
   ],
   "source": [
    "string"
   ]
  },
  {
   "cell_type": "code",
   "execution_count": 12,
   "id": "574c2368-991c-4b97-894b-cd51b9a4517f",
   "metadata": {},
   "outputs": [
    {
     "data": {
      "text/plain": [
       "['1', '2', '3', '5']"
      ]
     },
     "execution_count": 12,
     "metadata": {},
     "output_type": "execute_result"
    }
   ],
   "source": [
    "lisste = [\"1\",\"2\",\"3\"]\n",
    "lisste.append(\"5\")\n",
    "lisste"
   ]
  },
  {
   "cell_type": "code",
   "execution_count": 17,
   "id": "21d6c6ed-8f62-46ab-ac65-f8b7d0895f13",
   "metadata": {},
   "outputs": [
    {
     "data": {
      "text/plain": [
       "[['New York', 'London', 'Istanbul', 'Seoul', 'Sydney']]"
      ]
     },
     "execution_count": 17,
     "metadata": {},
     "output_type": "execute_result"
    }
   ],
   "source": [
    "city = ['New York', 'London', 'Istanbul', 'Seoul', 'Sydney']\n",
    "city_new = []\n",
    "city_new.append(city)\n",
    "city_new"
   ]
  },
  {
   "cell_type": "code",
   "execution_count": 18,
   "id": "821b4c78-4da7-459e-90b2-a7f65bc461b9",
   "metadata": {},
   "outputs": [
    {
     "data": {
      "text/plain": [
       "[55]"
      ]
     },
     "execution_count": 18,
     "metadata": {},
     "output_type": "execute_result"
    }
   ],
   "source": [
    "sayılar = []\n",
    "sayılar.append(55)\n",
    "sayılar"
   ]
  },
  {
   "cell_type": "code",
   "execution_count": 19,
   "id": "8f15d516-28d1-4279-8819-b946408fdcf6",
   "metadata": {},
   "outputs": [
    {
     "data": {
      "text/plain": [
       "1"
      ]
     },
     "execution_count": 19,
     "metadata": {},
     "output_type": "execute_result"
    }
   ],
   "source": [
    "len(sayılar)"
   ]
  },
  {
   "cell_type": "code",
   "execution_count": 20,
   "id": "6d8161a1-dad0-47e8-a09a-9b735b2d583d",
   "metadata": {},
   "outputs": [
    {
     "data": {
      "text/plain": [
       "1"
      ]
     },
     "execution_count": 20,
     "metadata": {},
     "output_type": "execute_result"
    }
   ],
   "source": [
    "len([[]]) # boş liste de bir elemanlıdır."
   ]
  },
  {
   "cell_type": "code",
   "execution_count": 21,
   "id": "6c38858d-3ac7-4be1-b709-17f5b7866e96",
   "metadata": {},
   "outputs": [
    {
     "data": {
      "text/plain": [
       "2"
      ]
     },
     "execution_count": 21,
     "metadata": {},
     "output_type": "execute_result"
    }
   ],
   "source": [
    "len([[[]], [1,2,3]])"
   ]
  },
  {
   "cell_type": "code",
   "execution_count": 22,
   "id": "8847d4c9-6f45-4dab-b631-7a8fa62b0e53",
   "metadata": {},
   "outputs": [
    {
     "data": {
      "text/plain": [
       "[['New York', 'London', 'Istanbul', 'Seoul', 'Sydney']]"
      ]
     },
     "execution_count": 22,
     "metadata": {},
     "output_type": "execute_result"
    }
   ],
   "source": [
    "city_new"
   ]
  },
  {
   "cell_type": "code",
   "execution_count": 26,
   "id": "da3b6293-8643-4b2f-b85e-192730361a19",
   "metadata": {},
   "outputs": [
    {
     "name": "stdout",
     "output_type": "stream",
     "text": [
      "Istanbul\n"
     ]
    }
   ],
   "source": [
    "print(city_new[0][2])"
   ]
  },
  {
   "cell_type": "code",
   "execution_count": 27,
   "id": "4fbb6327-3278-40d9-9ab9-5605be1db605",
   "metadata": {},
   "outputs": [
    {
     "data": {
      "text/plain": [
       "'Istanbul'"
      ]
     },
     "execution_count": 27,
     "metadata": {},
     "output_type": "execute_result"
    }
   ],
   "source": [
    "city_new[0][2]"
   ]
  },
  {
   "cell_type": "code",
   "execution_count": 29,
   "id": "4f1e0fbf-7989-481f-be45-52e551f72317",
   "metadata": {},
   "outputs": [
    {
     "data": {
      "text/plain": [
       "list"
      ]
     },
     "execution_count": 29,
     "metadata": {},
     "output_type": "execute_result"
    }
   ],
   "source": [
    "type(city_new[0])"
   ]
  },
  {
   "cell_type": "code",
   "execution_count": 31,
   "id": "ea8f337f-0237-48d9-91c8-3e55e5bf1393",
   "metadata": {},
   "outputs": [
    {
     "data": {
      "text/plain": [
       "str"
      ]
     },
     "execution_count": 31,
     "metadata": {},
     "output_type": "execute_result"
    }
   ],
   "source": [
    "type(city_new[0][2])"
   ]
  },
  {
   "cell_type": "code",
   "execution_count": 32,
   "id": "581eea1f-ee30-431b-a248-41d9ff580450",
   "metadata": {},
   "outputs": [
    {
     "data": {
      "text/plain": [
       "'a'"
      ]
     },
     "execution_count": 32,
     "metadata": {},
     "output_type": "execute_result"
    }
   ],
   "source": [
    "city_new[0][2][3]"
   ]
  },
  {
   "cell_type": "code",
   "execution_count": 34,
   "id": "b33942db-9cd5-4f31-afe7-cfd2bd8ffe2c",
   "metadata": {},
   "outputs": [
    {
     "data": {
      "text/plain": [
       "55"
      ]
     },
     "execution_count": 34,
     "metadata": {},
     "output_type": "execute_result"
    }
   ],
   "source": [
    "sayılar = 55\n",
    "sayılar"
   ]
  },
  {
   "cell_type": "code",
   "execution_count": 44,
   "id": "0adf5cff-e353-4a21-8249-0a48c697d16e",
   "metadata": {},
   "outputs": [
    {
     "data": {
      "text/plain": [
       "[1, 2, 3, 4, 5, 6, 7, 8, 9]"
      ]
     },
     "execution_count": 44,
     "metadata": {},
     "output_type": "execute_result"
    }
   ],
   "source": [
    "sayı = list(range(1,10))\n",
    "sayı"
   ]
  },
  {
   "cell_type": "code",
   "execution_count": 70,
   "id": "50c66a22-6752-4bcc-95b4-876f8165a34e",
   "metadata": {},
   "outputs": [
    {
     "data": {
      "text/plain": [
       "[1, 3, 5, 7, 9]"
      ]
     },
     "execution_count": 70,
     "metadata": {},
     "output_type": "execute_result"
    }
   ],
   "source": [
    "sayı = sayı[0:10:2]\n",
    "sayı"
   ]
  },
  {
   "cell_type": "code",
   "execution_count": 47,
   "id": "926d89a3-c551-4e17-a03e-ee4d28a99108",
   "metadata": {},
   "outputs": [
    {
     "data": {
      "text/plain": [
       "range(1, 2)"
      ]
     },
     "execution_count": 47,
     "metadata": {},
     "output_type": "execute_result"
    }
   ],
   "source": [
    "range(1,2)"
   ]
  },
  {
   "cell_type": "code",
   "execution_count": 52,
   "id": "74d49770-0ac9-46f1-956f-f0cd9f45222d",
   "metadata": {},
   "outputs": [
    {
     "data": {
      "text/plain": [
       "[0, 1, 2, 3, 4, 5, 6, 7, 8, 9, 10]"
      ]
     },
     "execution_count": 52,
     "metadata": {},
     "output_type": "execute_result"
    }
   ],
   "source": [
    "sayılarım = list(range(11))\n",
    "sayılarım"
   ]
  },
  {
   "cell_type": "code",
   "execution_count": 54,
   "id": "2a50c156-ef22-4fef-94d2-b399b4353689",
   "metadata": {},
   "outputs": [
    {
     "data": {
      "text/plain": [
       "[1, 2, 3, 4, 5, 6, 7, 8, 9, 10]"
      ]
     },
     "execution_count": 54,
     "metadata": {},
     "output_type": "execute_result"
    }
   ],
   "source": [
    "sayılarım1 = list(range(1, 11))\n",
    "sayılarım1"
   ]
  },
  {
   "cell_type": "code",
   "execution_count": 55,
   "id": "f2c0153f-8e72-489f-a1e8-5fe0296bf159",
   "metadata": {},
   "outputs": [
    {
     "data": {
      "text/plain": [
       "[11, 10, 9, 8, 7, 6, 5, 4, 3, 2]"
      ]
     },
     "execution_count": 55,
     "metadata": {},
     "output_type": "execute_result"
    }
   ],
   "source": [
    "list(range(11, 1, -1))"
   ]
  },
  {
   "cell_type": "code",
   "execution_count": 61,
   "id": "26b0c06b-9dd5-40c0-808d-b8dce2e6198f",
   "metadata": {},
   "outputs": [
    {
     "data": {
      "text/plain": [
       "[1, [1, 'one', 2, 'two', 3, 'three'], 4]"
      ]
     },
     "execution_count": 61,
     "metadata": {},
     "output_type": "execute_result"
    }
   ],
   "source": [
    "mix_list = [1, [1, \"one\", 2, \"two\", 3, \"three\"], 4]\n",
    "mix_list"
   ]
  },
  {
   "cell_type": "code",
   "execution_count": 68,
   "id": "df77c72f-d519-42c6-b326-22e21160d1f6",
   "metadata": {},
   "outputs": [
    {
     "name": "stdout",
     "output_type": "stream",
     "text": [
      "['one', 'two', 'three']\n"
     ]
    }
   ],
   "source": [
    "print(mix_list[1][1::2])"
   ]
  },
  {
   "cell_type": "code",
   "execution_count": 69,
   "id": "0bf41c09-6a78-437d-a76b-a6eb23d8d51a",
   "metadata": {},
   "outputs": [
    {
     "name": "stdout",
     "output_type": "stream",
     "text": [
      "['one', 'two', 'three']\n"
     ]
    }
   ],
   "source": [
    "print(mix_list[1][1:6:2])"
   ]
  },
  {
   "cell_type": "code",
   "execution_count": 73,
   "id": "eb8e5042-05b7-482d-9c2a-e08216fefc92",
   "metadata": {},
   "outputs": [
    {
     "name": "stdout",
     "output_type": "stream",
     "text": [
      "3\n"
     ]
    }
   ],
   "source": [
    "print(len([[1, 2, 3]][0]))"
   ]
  },
  {
   "cell_type": "code",
   "execution_count": null,
   "id": "1218e2ae-3ed6-41ce-a0bb-b0e8a945fc54",
   "metadata": {},
   "outputs": [],
   "source": [
    "import sys"
   ]
  },
  {
   "cell_type": "code",
   "execution_count": 76,
   "id": "c482e5f4-e456-4bc1-9892-863bc81679e4",
   "metadata": {},
   "outputs": [],
   "source": [
    "x = (1,2, 3)\n",
    "y = [1, 2, 3]"
   ]
  },
  {
   "cell_type": "code",
   "execution_count": 74,
   "id": "13d4dab9-0378-480b-8492-ba4c088fc567",
   "metadata": {},
   "outputs": [
    {
     "ename": "NameError",
     "evalue": "name 'sys' is not defined",
     "output_type": "error",
     "traceback": [
      "\u001b[1;31m---------------------------------------------------------------------------\u001b[0m",
      "\u001b[1;31mNameError\u001b[0m                                 Traceback (most recent call last)",
      "\u001b[1;32m~\\AppData\\Local\\Temp/ipykernel_9172/3539513922.py\u001b[0m in \u001b[0;36m<module>\u001b[1;34m\u001b[0m\n\u001b[1;32m----> 1\u001b[1;33m \u001b[0mprint\u001b[0m\u001b[1;33m(\u001b[0m\u001b[0msys\u001b[0m\u001b[1;33m.\u001b[0m\u001b[0mgetsizeof\u001b[0m\u001b[1;33m(\u001b[0m\u001b[0mx\u001b[0m\u001b[1;33m)\u001b[0m\u001b[1;33m)\u001b[0m\u001b[1;33m\u001b[0m\u001b[1;33m\u001b[0m\u001b[0m\n\u001b[0m\u001b[0;32m      2\u001b[0m \u001b[0mprint\u001b[0m\u001b[1;33m(\u001b[0m\u001b[0msys\u001b[0m\u001b[1;33m.\u001b[0m\u001b[0mgetsizeof\u001b[0m\u001b[1;33m(\u001b[0m\u001b[0my\u001b[0m\u001b[1;33m)\u001b[0m\u001b[1;33m)\u001b[0m\u001b[1;33m\u001b[0m\u001b[1;33m\u001b[0m\u001b[0m\n",
      "\u001b[1;31mNameError\u001b[0m: name 'sys' is not defined"
     ]
    }
   ],
   "source": [
    "print(sys.getsizeof(x))\n",
    "print(sys.getsizeof(y))"
   ]
  },
  {
   "cell_type": "code",
   "execution_count": 77,
   "id": "cddad05c-9b87-4706-b49d-27374f30a4bc",
   "metadata": {},
   "outputs": [
    {
     "data": {
      "text/plain": [
       "tuple"
      ]
     },
     "execution_count": 77,
     "metadata": {},
     "output_type": "execute_result"
    }
   ],
   "source": [
    "a = 1, 2, 3\n",
    "type(a)"
   ]
  },
  {
   "cell_type": "code",
   "execution_count": 80,
   "id": "51868fe0-3abd-4493-9d65-c485e95c4db6",
   "metadata": {},
   "outputs": [
    {
     "data": {
      "text/plain": [
       "int"
      ]
     },
     "execution_count": 80,
     "metadata": {},
     "output_type": "execute_result"
    }
   ],
   "source": [
    "b = 1\n",
    "type(b)"
   ]
  },
  {
   "cell_type": "code",
   "execution_count": 81,
   "id": "e9a623d0-96c5-4cb2-9721-ed2550359a37",
   "metadata": {},
   "outputs": [
    {
     "data": {
      "text/plain": [
       "tuple"
      ]
     },
     "execution_count": 81,
     "metadata": {},
     "output_type": "execute_result"
    }
   ],
   "source": [
    "b = 1,\n",
    "type(b)"
   ]
  },
  {
   "cell_type": "code",
   "execution_count": 83,
   "id": "acfb004a-c3ae-4bde-982d-bd62f6bea10d",
   "metadata": {},
   "outputs": [
    {
     "data": {
      "text/plain": [
       "('solar',)"
      ]
     },
     "execution_count": 83,
     "metadata": {},
     "output_type": "execute_result"
    }
   ],
   "source": [
    "tuple([\"solar\"])"
   ]
  },
  {
   "cell_type": "code",
   "execution_count": 84,
   "id": "dba675ef-adc6-4d65-bf6c-2ca6878f9047",
   "metadata": {},
   "outputs": [
    {
     "data": {
      "text/plain": [
       "tuple"
      ]
     },
     "execution_count": 84,
     "metadata": {},
     "output_type": "execute_result"
    }
   ],
   "source": [
    "c = \"Ali\", \"Veli\", \"Deli\"\n",
    "type(c)"
   ]
  },
  {
   "cell_type": "code",
   "execution_count": 86,
   "id": "0b618b63-09f5-4671-be9e-3f47f494d0b0",
   "metadata": {},
   "outputs": [
    {
     "name": "stdout",
     "output_type": "stream",
     "text": [
      "('a', 'l', 'p', 's')\n"
     ]
    }
   ],
   "source": [
    "m = tuple(\"alps\")\n",
    "print(m)"
   ]
  },
  {
   "cell_type": "code",
   "execution_count": null,
   "id": "20a53bb5-fc2b-4d45-8665-368fd82cea36",
   "metadata": {},
   "outputs": [],
   "source": []
  }
 ],
 "metadata": {
  "kernelspec": {
   "display_name": "Python 3 (ipykernel)",
   "language": "python",
   "name": "python3"
  },
  "language_info": {
   "codemirror_mode": {
    "name": "ipython",
    "version": 3
   },
   "file_extension": ".py",
   "mimetype": "text/x-python",
   "name": "python",
   "nbconvert_exporter": "python",
   "pygments_lexer": "ipython3",
   "version": "3.9.7"
  }
 },
 "nbformat": 4,
 "nbformat_minor": 5
}
