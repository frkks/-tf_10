{
 "cells": [
  {
   "cell_type": "code",
   "execution_count": 3,
   "id": "96f25477-a49e-4cda-8778-887b28a4a8f9",
   "metadata": {},
   "outputs": [
    {
     "name": "stdout",
     "output_type": "stream",
     "text": [
      "on Language\n"
     ]
    }
   ],
   "source": [
    "str = 'Python Language'\n",
    "print(str[4:])"
   ]
  },
  {
   "cell_type": "code",
   "execution_count": 18,
   "id": "39b5e28a-28dd-4b40-aafa-fe93efe952aa",
   "metadata": {},
   "outputs": [
    {
     "name": "stdout",
     "output_type": "stream",
     "text": [
      "AppleApple\n",
      "OrangeOrangeOrange\n"
     ]
    }
   ],
   "source": [
    "fruit1 = 'Apple'\n",
    "fruit2 = 'Orange'\n",
    "print(2* fruit1)\n",
    "print(3* fruit2)"
   ]
  },
  {
   "cell_type": "code",
   "execution_count": 26,
   "id": "70d76a5b-5529-467f-a464-0fc66e29dfc7",
   "metadata": {},
   "outputs": [
    {
     "data": {
      "text/plain": [
       "'Harr'"
      ]
     },
     "execution_count": 26,
     "metadata": {},
     "output_type": "execute_result"
    }
   ],
   "source": [
    "last_name = 'Harrison'\n",
    "last_name [::-1]\n",
    "last_name [2 : 5]\n",
    "last_name [:-4]"
   ]
  },
  {
   "cell_type": "code",
   "execution_count": 27,
   "id": "ce490b72-1b23-40c1-a635-e0df39b2ba9f",
   "metadata": {},
   "outputs": [
    {
     "name": "stdout",
     "output_type": "stream",
     "text": [
      "28\n",
      "True\n",
      "False\n"
     ]
    }
   ],
   "source": [
    "phrase = \"myemailaddress@clarusway.com\"\n",
    "\n",
    "print(len(phrase))\n",
    "print(phrase.startswith(\"@\", 14))\n",
    "print(phrase.endswith(\".\", 15, 24))"
   ]
  },
  {
   "cell_type": "code",
   "execution_count": 36,
   "id": "e03e8847-ac41-4aa8-9e07-ec529514725d",
   "metadata": {},
   "outputs": [
    {
     "name": "stdout",
     "output_type": "stream",
     "text": [
      "FARUK KÖSE\n",
      "faruk köse\n",
      "Faruk köse\n",
      "1\n"
     ]
    }
   ],
   "source": [
    "name = 'faruk köse'\n",
    "print(name.upper())\n",
    "print(name.lower())\n",
    "print(name.capitalize())\n",
    "print(name.count('a'))"
   ]
  },
  {
   "cell_type": "code",
   "execution_count": 54,
   "id": "aacff0cf-2125-4ccf-8d7f-054182645380",
   "metadata": {},
   "outputs": [
    {
     "name": "stdin",
     "output_type": "stream",
     "text": [
      "Please enter first name: faruk\n",
      "Please enter last name: köse\n"
     ]
    },
    {
     "name": "stdout",
     "output_type": "stream",
     "text": [
      "Hello Faruk Köse\n"
     ]
    }
   ],
   "source": [
    "first_name = input('Please enter first name:')\n",
    "last_name = input('Please enter last name:')\n",
    "print('Hello ' + first_name.capitalize() + ' ' + last_name.capitalize())"
   ]
  },
  {
   "cell_type": "code",
   "execution_count": 42,
   "id": "b0c01c59-24fe-44d7-9e44-fe09acbb9dc5",
   "metadata": {},
   "outputs": [
    {
     "name": "stdout",
     "output_type": "stream",
     "text": [
      "51\n",
      "51\n"
     ]
    }
   ],
   "source": [
    "print(int(\"5\" + \"1\")) \n",
    "\n",
    "print(\"5\" + \"1\")"
   ]
  },
  {
   "cell_type": "code",
   "execution_count": 55,
   "id": "7cf566f9-4aa4-4898-8da5-5c19db282d70",
   "metadata": {},
   "outputs": [
    {
     "name": "stdout",
     "output_type": "stream",
     "text": [
      "I will have found a job in 6 months\n"
     ]
    }
   ],
   "source": [
    "print(\"{6} {0} {5} {3} {4} {1} {2}\".format('have', 6, 'months', 'a job', 'in', 'found', 'I will'))"
   ]
  },
  {
   "cell_type": "code",
   "execution_count": 47,
   "id": "40ae3dff-1ecc-4cc7-940d-fa11fc3c4484",
   "metadata": {},
   "outputs": [
    {
     "name": "stdout",
     "output_type": "stream",
     "text": [
      "California is the most crowded state of the USA\n"
     ]
    }
   ],
   "source": [
    "print('{0} is the most {adjective} state of the {country}'.format('California', country='USA', adjective='crowded'))\n"
   ]
  },
  {
   "cell_type": "code",
   "execution_count": 53,
   "id": "fa8638f2-9030-4857-a23a-03f292c17268",
   "metadata": {},
   "outputs": [
    {
     "name": "stdout",
     "output_type": "stream",
     "text": [
      "Ben Türkiyenin Ankara şehrinde yaşıyorum. Şehir 5 milyon nüfusa sahip..\n"
     ]
    }
   ],
   "source": [
    "print(\"{0} Türkiyenin {1} {2} yaşıyorum. {3} 5 milyon {4} {5}.\".format('Ben', 'Ankara', 'şehrinde', 'Şehir', 'nüfusa', 'sahip.'))"
   ]
  },
  {
   "cell_type": "code",
   "execution_count": null,
   "id": "14488abc-0d09-4703-8ba7-fb2ed81f87de",
   "metadata": {},
   "outputs": [],
   "source": [
    "print({})"
   ]
  }
 ],
 "metadata": {
  "kernelspec": {
   "display_name": "Python 3 (ipykernel)",
   "language": "python",
   "name": "python3"
  },
  "language_info": {
   "codemirror_mode": {
    "name": "ipython",
    "version": 3
   },
   "file_extension": ".py",
   "mimetype": "text/x-python",
   "name": "python",
   "nbconvert_exporter": "python",
   "pygments_lexer": "ipython3",
   "version": "3.9.7"
  }
 },
 "nbformat": 4,
 "nbformat_minor": 5
}
