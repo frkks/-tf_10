{
 "cells": [
  {
   "cell_type": "code",
   "execution_count": 22,
   "id": "7a6e39ff-806d-4f1d-9f2a-2ff1d910b71a",
   "metadata": {},
   "outputs": [
    {
     "name": "stdout",
     "output_type": "stream",
     "text": [
      "(1, 2, 3, 4, 5, 6, 7, 8, 9, 10)\n",
      "<class 'tuple'>\n"
     ]
    }
   ],
   "source": [
    "sayılarım = tuple(range(1,11))\n",
    "print(sayılarım, type(sayılarım), sep=\"\\n\")"
   ]
  },
  {
   "cell_type": "code",
   "execution_count": 10,
   "id": "b4aaa748-2190-4a6f-9958-b19c0952f4de",
   "metadata": {},
   "outputs": [
    {
     "data": {
      "text/plain": [
       "range(1, 11)"
      ]
     },
     "execution_count": 10,
     "metadata": {},
     "output_type": "execute_result"
    }
   ],
   "source": [
    "sayılar = range(1, 11)\n",
    "sayılar"
   ]
  },
  {
   "cell_type": "code",
   "execution_count": 11,
   "id": "49c4cfb3-0fa3-4d49-9d55-88cc9182977a",
   "metadata": {},
   "outputs": [
    {
     "data": {
      "text/plain": [
       "(1, 2, 3, 4, 5, 6, 7, 8, 9, 10)"
      ]
     },
     "execution_count": 11,
     "metadata": {},
     "output_type": "execute_result"
    }
   ],
   "source": [
    "tuple(sayılar)"
   ]
  },
  {
   "cell_type": "code",
   "execution_count": 14,
   "id": "24ee0d25-a6e1-4b9a-b968-2814d7c5e034",
   "metadata": {},
   "outputs": [
    {
     "name": "stdout",
     "output_type": "stream",
     "text": [
      "six\n"
     ]
    }
   ],
   "source": [
    "mix_tuple = ('11', 11, [2, 'two', ('six', 6)], (5, 'fair'))\n",
    "print(mix_tuple[2][2][0])"
   ]
  },
  {
   "cell_type": "code",
   "execution_count": 19,
   "id": "2bf68156-35fb-4881-bedb-200371beba49",
   "metadata": {},
   "outputs": [
    {
     "data": {
      "text/plain": [
       "('11', 11, [2, 'two', ('six', 6), False, False, False, False], (5, 'fair'))"
      ]
     },
     "execution_count": 19,
     "metadata": {},
     "output_type": "execute_result"
    }
   ],
   "source": [
    "mix_tuple[2].append(False)\n",
    "mix_tuple"
   ]
  },
  {
   "cell_type": "code",
   "execution_count": 21,
   "id": "747e39dd-7a53-4ffa-b3ac-4040e314ed23",
   "metadata": {},
   "outputs": [
    {
     "name": "stdout",
     "output_type": "stream",
     "text": [
      "['two', ('six', 6)]\n",
      "<class 'list'>\n"
     ]
    }
   ],
   "source": [
    "mix_tuple = ('11', 11, [2, 'two', ('six', 6)], (5, 'fair'))\n",
    "str_six = mix_tuple[2][1:3]\n",
    "print(str_six, type(str_six), sep=\"\\n\")"
   ]
  },
  {
   "cell_type": "code",
   "execution_count": 26,
   "id": "cd2d78d6-aa82-4097-91c7-b2a31e6d67db",
   "metadata": {},
   "outputs": [
    {
     "name": "stdout",
     "output_type": "stream",
     "text": [
      "fair\n",
      "fair\n"
     ]
    }
   ],
   "source": [
    "mix_tuple = ('11', 11, [2, 'two', ('six', 6)], (5, 'fair'))\n",
    "print(mix_tuple[-1][-1])\n",
    "print(mix_tuple[3][1])"
   ]
  },
  {
   "cell_type": "code",
   "execution_count": 29,
   "id": "5a0e566b-b16d-49ef-aa1f-a0cef1ed9439",
   "metadata": {},
   "outputs": [
    {
     "data": {
      "text/plain": [
       "{1: 'one', 'two': 2, False: [1, 2, 3], 1.5: ('one', 'two'), (1, 2): 'clrsy'}"
      ]
     },
     "execution_count": 29,
     "metadata": {},
     "output_type": "execute_result"
    }
   ],
   "source": [
    "first_dict = {1:\"one\", \"two\":2, False:[1,2,3],1.5:(\"one\",\"two\"), (1,2):\"clrsy\"}\n",
    "first_dict"
   ]
  },
  {
   "cell_type": "code",
   "execution_count": 31,
   "id": "391d3f6a-5475-4f3f-9b27-dd0372feee5d",
   "metadata": {},
   "outputs": [
    {
     "ename": "SyntaxError",
     "evalue": "EOL while scanning string literal (Temp/ipykernel_18680/1881941340.py, line 1)",
     "output_type": "error",
     "traceback": [
      "\u001b[1;36m  File \u001b[1;32m\"C:\\Users\\YFHP\\AppData\\Local\\Temp/ipykernel_18680/1881941340.py\"\u001b[1;36m, line \u001b[1;32m1\u001b[0m\n\u001b[1;33m    second_dict = {[1,2]: \"one\", \"two\":2, False:[1,2,3],1.5:(\"one\",\"two\"), (1,2):\"clrsy}\u001b[0m\n\u001b[1;37m                                                                                        ^\u001b[0m\n\u001b[1;31mSyntaxError\u001b[0m\u001b[1;31m:\u001b[0m EOL while scanning string literal\n"
     ]
    }
   ],
   "source": [
    "second_dict = {[1,2]: \"one\", \"two\":2, False:[1,2,3],1.5:(\"one\",\"two\"), (1,2):\"clrsy}\n",
    "second_dict               "
   ]
  },
  {
   "cell_type": "code",
   "execution_count": 32,
   "id": "041c4164-d24f-4c1f-a7bb-9b8503fd75bc",
   "metadata": {},
   "outputs": [
    {
     "ename": "SyntaxError",
     "evalue": "invalid syntax (Temp/ipykernel_18680/1151531836.py, line 1)",
     "output_type": "error",
     "traceback": [
      "\u001b[1;36m  File \u001b[1;32m\"C:\\Users\\YFHP\\AppData\\Local\\Temp/ipykernel_18680/1151531836.py\"\u001b[1;36m, line \u001b[1;32m1\u001b[0m\n\u001b[1;33m    third_dict = {{1:2}\"one\", \"two\":2, False:[1,2,3],1.5:(\"one\",\"two\"), (1,2):\"clrsy\"}\u001b[0m\n\u001b[1;37m                       ^\u001b[0m\n\u001b[1;31mSyntaxError\u001b[0m\u001b[1;31m:\u001b[0m invalid syntax\n"
     ]
    }
   ],
   "source": [
    "third_dict = {{1:2}\"one\", \"two\":2, False:[1,2,3],1.5:(\"one\",\"two\"), (1,2):\"clrsy\"}\n",
    "third_dict"
   ]
  },
  {
   "cell_type": "code",
   "execution_count": null,
   "id": "6e34518c-f54f-42a1-abc7-9d9c61df6b6c",
   "metadata": {},
   "outputs": [],
   "source": []
  },
  {
   "cell_type": "code",
   "execution_count": null,
   "id": "075ae5ed-8fcd-4cbb-ad4b-eedbb90467f2",
   "metadata": {},
   "outputs": [],
   "source": []
  },
  {
   "cell_type": "code",
   "execution_count": null,
   "id": "7f7d6829-db05-4138-991a-747bf512717b",
   "metadata": {},
   "outputs": [],
   "source": []
  }
 ],
 "metadata": {
  "kernelspec": {
   "display_name": "Python 3 (ipykernel)",
   "language": "python",
   "name": "python3"
  },
  "language_info": {
   "codemirror_mode": {
    "name": "ipython",
    "version": 3
   },
   "file_extension": ".py",
   "mimetype": "text/x-python",
   "name": "python",
   "nbconvert_exporter": "python",
   "pygments_lexer": "ipython3",
   "version": "3.9.7"
  }
 },
 "nbformat": 4,
 "nbformat_minor": 5
}
