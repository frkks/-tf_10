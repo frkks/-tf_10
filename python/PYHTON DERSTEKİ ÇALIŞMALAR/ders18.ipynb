{
 "cells": [
  {
   "cell_type": "code",
   "execution_count": 4,
   "id": "d9235ead-43ef-411b-b04e-ea29b2a60083",
   "metadata": {},
   "outputs": [
    {
     "data": {
      "text/plain": [
       "'C:\\\\Users\\\\YFHP\\\\Desktop\\\\ITF DERS\\\\python çalışmalar\\\\PYHTON DERSTEKİ ÇALIŞMALAR'"
      ]
     },
     "execution_count": 4,
     "metadata": {},
     "output_type": "execute_result"
    }
   ],
   "source": [
    "pwd"
   ]
  },
  {
   "cell_type": "code",
   "execution_count": 5,
   "id": "729608d2-2f88-44ea-99bc-19284bdd0ba0",
   "metadata": {},
   "outputs": [],
   "source": [
    "from upper_package import my_package1, my_package2"
   ]
  },
  {
   "cell_type": "code",
   "execution_count": 6,
   "id": "67ffeeb9-e5f7-4783-9792-fe0b18647140",
   "metadata": {},
   "outputs": [
    {
     "data": {
      "text/plain": [
       "['__builtins__',\n",
       " '__cached__',\n",
       " '__doc__',\n",
       " '__file__',\n",
       " '__loader__',\n",
       " '__name__',\n",
       " '__package__',\n",
       " '__path__',\n",
       " '__spec__',\n",
       " 'my_module_1',\n",
       " 'my_module_2']"
      ]
     },
     "execution_count": 6,
     "metadata": {},
     "output_type": "execute_result"
    }
   ],
   "source": [
    "dir(my_package1)"
   ]
  },
  {
   "cell_type": "code",
   "execution_count": 7,
   "id": "f9732e98-9f2e-4666-8936-b870c8d86071",
   "metadata": {},
   "outputs": [],
   "source": [
    "from upper_package.my_package1 import my_module_1,my_module_2"
   ]
  },
  {
   "cell_type": "code",
   "execution_count": 8,
   "id": "87136ff6-56f1-46f2-9f51-1082d41ea689",
   "metadata": {},
   "outputs": [
    {
     "data": {
      "text/plain": [
       "['__builtins__',\n",
       " '__cached__',\n",
       " '__doc__',\n",
       " '__file__',\n",
       " '__loader__',\n",
       " '__name__',\n",
       " '__package__',\n",
       " '__path__',\n",
       " '__spec__',\n",
       " 'my_module_1',\n",
       " 'my_module_2']"
      ]
     },
     "execution_count": 8,
     "metadata": {},
     "output_type": "execute_result"
    }
   ],
   "source": [
    "dir(my_package1)"
   ]
  },
  {
   "cell_type": "code",
   "execution_count": 9,
   "id": "4f7ee45f-02b4-41a6-bf10-9681b9a2e06a",
   "metadata": {},
   "outputs": [],
   "source": [
    "import math"
   ]
  },
  {
   "cell_type": "code",
   "execution_count": 10,
   "id": "3483331e-1e13-4772-804f-d67e0b6560cf",
   "metadata": {},
   "outputs": [
    {
     "name": "stdout",
     "output_type": "stream",
     "text": [
      "['__doc__', '__loader__', '__name__', '__package__', '__spec__', 'acos', 'acosh', 'asin', 'asinh', 'atan', 'atan2', 'atanh', 'ceil', 'comb', 'copysign', 'cos', 'cosh', 'degrees', 'dist', 'e', 'erf', 'erfc', 'exp', 'expm1', 'fabs', 'factorial', 'floor', 'fmod', 'frexp', 'fsum', 'gamma', 'gcd', 'hypot', 'inf', 'isclose', 'isfinite', 'isinf', 'isnan', 'isqrt', 'lcm', 'ldexp', 'lgamma', 'log', 'log10', 'log1p', 'log2', 'modf', 'nan', 'nextafter', 'perm', 'pi', 'pow', 'prod', 'radians', 'remainder', 'sin', 'sinh', 'sqrt', 'tan', 'tanh', 'tau', 'trunc', 'ulp']\n"
     ]
    }
   ],
   "source": [
    "print(dir(math))"
   ]
  },
  {
   "cell_type": "code",
   "execution_count": 11,
   "id": "68bd770f-05b7-4d65-8fa2-58318c0361e8",
   "metadata": {},
   "outputs": [
    {
     "data": {
      "text/plain": [
       "3.141592653589793"
      ]
     },
     "execution_count": 11,
     "metadata": {},
     "output_type": "execute_result"
    }
   ],
   "source": [
    "math.pi"
   ]
  },
  {
   "cell_type": "code",
   "execution_count": 12,
   "id": "937a4f81-010d-4af5-8a32-c2d43566c29f",
   "metadata": {},
   "outputs": [
    {
     "data": {
      "text/plain": [
       "24"
      ]
     },
     "execution_count": 12,
     "metadata": {},
     "output_type": "execute_result"
    }
   ],
   "source": [
    "math.factorial(4)"
   ]
  },
  {
   "cell_type": "code",
   "execution_count": 13,
   "id": "ed4c98ce-7746-41fe-a0c4-89945a225277",
   "metadata": {},
   "outputs": [],
   "source": [
    "from math import pi, factorial, log10"
   ]
  },
  {
   "cell_type": "code",
   "execution_count": 14,
   "id": "db1b706b-b2fa-4988-89ee-fd9a28470f6d",
   "metadata": {},
   "outputs": [
    {
     "data": {
      "text/plain": [
       "3.141592653589793"
      ]
     },
     "execution_count": 14,
     "metadata": {},
     "output_type": "execute_result"
    }
   ],
   "source": [
    "pi"
   ]
  },
  {
   "cell_type": "code",
   "execution_count": 15,
   "id": "1c71f19e-0873-401f-96a3-c4ab7102a4e1",
   "metadata": {},
   "outputs": [
    {
     "data": {
      "text/plain": [
       "24"
      ]
     },
     "execution_count": 15,
     "metadata": {},
     "output_type": "execute_result"
    }
   ],
   "source": [
    "factorial(4)"
   ]
  },
  {
   "cell_type": "code",
   "execution_count": 16,
   "id": "0b9e8746-cd4a-400e-b534-0465e37666dd",
   "metadata": {},
   "outputs": [
    {
     "data": {
      "text/plain": [
       "3.0"
      ]
     },
     "execution_count": 16,
     "metadata": {},
     "output_type": "execute_result"
    }
   ],
   "source": [
    "log10(1000)"
   ]
  },
  {
   "cell_type": "code",
   "execution_count": 19,
   "id": "53eecab8-967d-44dd-a00f-322335d8cf8b",
   "metadata": {},
   "outputs": [],
   "source": [
    "from string import punctuation, digits"
   ]
  },
  {
   "cell_type": "code",
   "execution_count": 21,
   "id": "e80b2137-b157-48bc-a28d-0e1d1ef32fd7",
   "metadata": {},
   "outputs": [],
   "source": [
    "import string"
   ]
  },
  {
   "cell_type": "code",
   "execution_count": 22,
   "id": "0ad5973e-3a3c-4e25-851f-6e1d002c25a3",
   "metadata": {},
   "outputs": [
    {
     "data": {
      "text/plain": [
       "'!\"#$%&\\'()*+,-./:;<=>?@[\\\\]^_`{|}~'"
      ]
     },
     "execution_count": 22,
     "metadata": {},
     "output_type": "execute_result"
    }
   ],
   "source": [
    "string.punctuation"
   ]
  },
  {
   "cell_type": "code",
   "execution_count": 23,
   "id": "c171d7d0-5aa0-48c9-a58e-19bae74724a7",
   "metadata": {},
   "outputs": [
    {
     "data": {
      "text/plain": [
       "'0123456789'"
      ]
     },
     "execution_count": 23,
     "metadata": {},
     "output_type": "execute_result"
    }
   ],
   "source": [
    "string.digits"
   ]
  },
  {
   "cell_type": "code",
   "execution_count": 24,
   "id": "c0ff83ea-081a-4a11-88c8-786ac8c87ec5",
   "metadata": {},
   "outputs": [],
   "source": [
    "import datetime"
   ]
  },
  {
   "cell_type": "code",
   "execution_count": 30,
   "id": "7eba360e-fc55-4615-b393-e6ea63f32349",
   "metadata": {},
   "outputs": [
    {
     "name": "stdout",
     "output_type": "stream",
     "text": [
      "2021-12-02\n",
      "2021-12-02 22:19:52.993963\n"
     ]
    }
   ],
   "source": [
    "print(datetime.date.today())\n",
    "print(datetime.datetime.now())"
   ]
  },
  {
   "cell_type": "code",
   "execution_count": null,
   "id": "13d09d57-e927-444d-a4f1-7f6502bc43ef",
   "metadata": {},
   "outputs": [],
   "source": [
    "#22 April 571\n",
    "#8 june 632"
   ]
  },
  {
   "cell_type": "code",
   "execution_count": 2,
   "id": "5ff31a05-056a-457c-a186-cc2c93d2178c",
   "metadata": {},
   "outputs": [],
   "source": [
    "from datetime import date"
   ]
  },
  {
   "cell_type": "code",
   "execution_count": 3,
   "id": "6829b596-3ef0-44c7-9e16-0c6bb324a704",
   "metadata": {},
   "outputs": [],
   "source": [
    "birht = date(571, 4, 22)"
   ]
  },
  {
   "cell_type": "code",
   "execution_count": 4,
   "id": "63fa0677-35ec-4a25-a51d-9de91a1257e8",
   "metadata": {},
   "outputs": [
    {
     "data": {
      "text/plain": [
       "datetime.date(571, 4, 22)"
      ]
     },
     "execution_count": 4,
     "metadata": {},
     "output_type": "execute_result"
    }
   ],
   "source": [
    "birht"
   ]
  },
  {
   "cell_type": "code",
   "execution_count": 5,
   "id": "f521715c-6a87-4119-9f6a-e225a2afc844",
   "metadata": {},
   "outputs": [],
   "source": [
    "death = date(632, 6, 8)"
   ]
  },
  {
   "cell_type": "code",
   "execution_count": 6,
   "id": "7c0b9317-6cc3-4dd8-9b44-148e9cc110a7",
   "metadata": {},
   "outputs": [
    {
     "data": {
      "text/plain": [
       "208300"
      ]
     },
     "execution_count": 6,
     "metadata": {},
     "output_type": "execute_result"
    }
   ],
   "source": [
    "date.toordinal(birht)"
   ]
  },
  {
   "cell_type": "code",
   "execution_count": 36,
   "id": "0d322dc3-2a33-43d4-83c2-7e962918b7ed",
   "metadata": {},
   "outputs": [
    {
     "data": {
      "text/plain": [
       "230627"
      ]
     },
     "execution_count": 36,
     "metadata": {},
     "output_type": "execute_result"
    }
   ],
   "source": [
    "date.toordinal(death)"
   ]
  },
  {
   "cell_type": "code",
   "execution_count": 37,
   "id": "ecc358c2-98d9-454a-8aed-b316fa9df430",
   "metadata": {},
   "outputs": [
    {
     "data": {
      "text/plain": [
       "22327"
      ]
     },
     "execution_count": 37,
     "metadata": {},
     "output_type": "execute_result"
    }
   ],
   "source": [
    "date.toordinal(death) - date.toordinal(birht)"
   ]
  },
  {
   "cell_type": "code",
   "execution_count": 39,
   "id": "7f0e3771-947f-4601-bcc5-4342870baa58",
   "metadata": {},
   "outputs": [
    {
     "data": {
      "text/plain": [
       "61.12799452429842"
      ]
     },
     "execution_count": 39,
     "metadata": {},
     "output_type": "execute_result"
    }
   ],
   "source": [
    "(date.toordinal(death) - date.toordinal(birht)) / 365.25"
   ]
  },
  {
   "cell_type": "code",
   "execution_count": 40,
   "id": "187e36e9-8a79-4acd-8578-9d103ad82d1c",
   "metadata": {},
   "outputs": [
    {
     "data": {
      "text/plain": [
       "62.89295774647887"
      ]
     },
     "execution_count": 40,
     "metadata": {},
     "output_type": "execute_result"
    }
   ],
   "source": [
    "(date.toordinal(death) - date.toordinal(birht)) / 355"
   ]
  },
  {
   "cell_type": "code",
   "execution_count": 49,
   "id": "0274c900-0963-4586-8593-7fc877b2246a",
   "metadata": {},
   "outputs": [],
   "source": [
    "from random import choice"
   ]
  },
  {
   "cell_type": "code",
   "execution_count": 50,
   "id": "0350be0c-e75f-47cf-8d32-d18ae2c7a9e3",
   "metadata": {},
   "outputs": [],
   "source": [
    "city = [\"stockhom\", \"istanbul\", \"seul\", \"cape town\"]"
   ]
  },
  {
   "cell_type": "code",
   "execution_count": 53,
   "id": "8f68df0a-b658-4889-a614-5a411f92a1e0",
   "metadata": {},
   "outputs": [
    {
     "data": {
      "text/plain": [
       "'istanbul'"
      ]
     },
     "execution_count": 53,
     "metadata": {},
     "output_type": "execute_result"
    }
   ],
   "source": [
    "choice(city)"
   ]
  },
  {
   "cell_type": "code",
   "execution_count": 1,
   "id": "5c98569c-56e1-43af-a097-809218feaf8f",
   "metadata": {},
   "outputs": [
    {
     "name": "stdout",
     "output_type": "stream",
     "text": [
      "pip 21.3.1 from C:\\Users\\YFHP\\AppData\\Local\\Programs\\Python\\Python39\\lib\\site-packages\\pip (python 3.9)\n",
      "\n",
      "Note: you may need to restart the kernel to use updated packages.\n"
     ]
    }
   ],
   "source": [
    "pip --version"
   ]
  },
  {
   "cell_type": "code",
   "execution_count": 8,
   "id": "eaf4167b-924d-4277-be21-36d6a7c16199",
   "metadata": {},
   "outputs": [
    {
     "name": "stdout",
     "output_type": "stream",
     "text": [
      "Requirement already satisfied: pip in c:\\users\\yfhp\\appdata\\local\\programs\\python\\python39\\lib\\site-packages (21.3.1)\n",
      "Note: you may need to restart the kernel to use updated packages.\n"
     ]
    }
   ],
   "source": [
    "pip install --upgrade pip"
   ]
  },
  {
   "cell_type": "code",
   "execution_count": 2,
   "id": "218ba92d-a170-4aed-9044-702fbc2b6663",
   "metadata": {},
   "outputs": [
    {
     "name": "stdout",
     "output_type": "stream",
     "text": [
      "Note: you may need to restart the kernel to use updated packages.\n"
     ]
    },
    {
     "name": "stderr",
     "output_type": "stream",
     "text": [
      "ERROR: You must give at least one requirement to install (see \"pip help install\")\n"
     ]
    }
   ],
   "source": [
    "pip install"
   ]
  },
  {
   "cell_type": "code",
   "execution_count": 1,
   "id": "c14d1ba4-0a03-419e-885a-aa70dea72919",
   "metadata": {},
   "outputs": [
    {
     "name": "stdout",
     "output_type": "stream",
     "text": [
      "Collecting virtualenv\n",
      "  Downloading virtualenv-20.10.0-py2.py3-none-any.whl (5.6 MB)\n",
      "Collecting backports.entry-points-selectable>=1.0.4\n",
      "  Downloading backports.entry_points_selectable-1.1.1-py2.py3-none-any.whl (6.2 kB)\n",
      "Collecting platformdirs<3,>=2\n",
      "  Downloading platformdirs-2.4.0-py3-none-any.whl (14 kB)\n",
      "Collecting distlib<1,>=0.3.1\n",
      "  Downloading distlib-0.3.3-py2.py3-none-any.whl (496 kB)\n",
      "Collecting filelock<4,>=3.2\n",
      "  Downloading filelock-3.4.0-py3-none-any.whl (9.8 kB)\n",
      "Requirement already satisfied: six<2,>=1.9.0 in c:\\users\\yfhp\\appdata\\local\\programs\\python\\python39\\lib\\site-packages (from virtualenv) (1.16.0)\n",
      "Installing collected packages: platformdirs, filelock, distlib, backports.entry-points-selectable, virtualenv\n",
      "Successfully installed backports.entry-points-selectable-1.1.1 distlib-0.3.3 filelock-3.4.0 platformdirs-2.4.0 virtualenv-20.10.0\n",
      "Note: you may need to restart the kernel to use updated packages.\n"
     ]
    }
   ],
   "source": [
    "pip install virtualenv"
   ]
  },
  {
   "cell_type": "code",
   "execution_count": 2,
   "id": "563e92b6-aa6f-4c58-8823-b3f4f198302d",
   "metadata": {},
   "outputs": [
    {
     "name": "stdout",
     "output_type": "stream",
     "text": [
      "Requirement already satisfied: ipykernel in c:\\users\\yfhp\\appdata\\local\\programs\\python\\python39\\lib\\site-packages (6.4.1)\n",
      "Requirement already satisfied: jupyter-client<8.0 in c:\\users\\yfhp\\appdata\\local\\programs\\python\\python39\\lib\\site-packages (from ipykernel) (7.0.4)\n",
      "Requirement already satisfied: matplotlib-inline<0.2.0,>=0.1.0 in c:\\users\\yfhp\\appdata\\local\\programs\\python\\python39\\lib\\site-packages (from ipykernel) (0.1.3)\n",
      "Requirement already satisfied: traitlets<6.0,>=4.1.0 in c:\\users\\yfhp\\appdata\\local\\programs\\python\\python39\\lib\\site-packages (from ipykernel) (5.1.0)\n",
      "Requirement already satisfied: debugpy<2.0,>=1.0.0 in c:\\users\\yfhp\\appdata\\local\\programs\\python\\python39\\lib\\site-packages (from ipykernel) (1.4.3)\n",
      "Requirement already satisfied: tornado<7.0,>=4.2 in c:\\users\\yfhp\\appdata\\local\\programs\\python\\python39\\lib\\site-packages (from ipykernel) (6.1)\n",
      "Requirement already satisfied: ipython-genutils in c:\\users\\yfhp\\appdata\\local\\programs\\python\\python39\\lib\\site-packages (from ipykernel) (0.2.0)\n",
      "Requirement already satisfied: ipython<8.0,>=7.23.1 in c:\\users\\yfhp\\appdata\\local\\programs\\python\\python39\\lib\\site-packages (from ipykernel) (7.28.0)\n",
      "Requirement already satisfied: backcall in c:\\users\\yfhp\\appdata\\local\\programs\\python\\python39\\lib\\site-packages (from ipython<8.0,>=7.23.1->ipykernel) (0.2.0)\n",
      "Requirement already satisfied: jedi>=0.16 in c:\\users\\yfhp\\appdata\\local\\programs\\python\\python39\\lib\\site-packages (from ipython<8.0,>=7.23.1->ipykernel) (0.18.0)\n",
      "Requirement already satisfied: pygments in c:\\users\\yfhp\\appdata\\local\\programs\\python\\python39\\lib\\site-packages (from ipython<8.0,>=7.23.1->ipykernel) (2.10.0)\n",
      "Requirement already satisfied: prompt-toolkit!=3.0.0,!=3.0.1,<3.1.0,>=2.0.0 in c:\\users\\yfhp\\appdata\\local\\programs\\python\\python39\\lib\\site-packages (from ipython<8.0,>=7.23.1->ipykernel) (3.0.20)\n",
      "Requirement already satisfied: colorama in c:\\users\\yfhp\\appdata\\local\\programs\\python\\python39\\lib\\site-packages (from ipython<8.0,>=7.23.1->ipykernel) (0.4.4)\n",
      "Requirement already satisfied: setuptools>=18.5 in c:\\users\\yfhp\\appdata\\local\\programs\\python\\python39\\lib\\site-packages (from ipython<8.0,>=7.23.1->ipykernel) (57.4.0)\n",
      "Requirement already satisfied: pickleshare in c:\\users\\yfhp\\appdata\\local\\programs\\python\\python39\\lib\\site-packages (from ipython<8.0,>=7.23.1->ipykernel) (0.7.5)\n",
      "Requirement already satisfied: decorator in c:\\users\\yfhp\\appdata\\local\\programs\\python\\python39\\lib\\site-packages (from ipython<8.0,>=7.23.1->ipykernel) (5.1.0)\n",
      "Requirement already satisfied: pyzmq>=13 in c:\\users\\yfhp\\appdata\\local\\programs\\python\\python39\\lib\\site-packages (from jupyter-client<8.0->ipykernel) (22.3.0)\n",
      "Requirement already satisfied: jupyter-core>=4.6.0 in c:\\users\\yfhp\\appdata\\local\\programs\\python\\python39\\lib\\site-packages (from jupyter-client<8.0->ipykernel) (4.8.1)\n",
      "Requirement already satisfied: nest-asyncio>=1.5 in c:\\users\\yfhp\\appdata\\local\\programs\\python\\python39\\lib\\site-packages (from jupyter-client<8.0->ipykernel) (1.5.1)\n",
      "Requirement already satisfied: entrypoints in c:\\users\\yfhp\\appdata\\local\\programs\\python\\python39\\lib\\site-packages (from jupyter-client<8.0->ipykernel) (0.3)\n",
      "Requirement already satisfied: python-dateutil>=2.1 in c:\\users\\yfhp\\appdata\\local\\programs\\python\\python39\\lib\\site-packages (from jupyter-client<8.0->ipykernel) (2.8.2)\n",
      "Requirement already satisfied: parso<0.9.0,>=0.8.0 in c:\\users\\yfhp\\appdata\\local\\programs\\python\\python39\\lib\\site-packages (from jedi>=0.16->ipython<8.0,>=7.23.1->ipykernel) (0.8.2)\n",
      "Requirement already satisfied: pywin32>=1.0 in c:\\users\\yfhp\\appdata\\local\\programs\\python\\python39\\lib\\site-packages (from jupyter-core>=4.6.0->jupyter-client<8.0->ipykernel) (301)\n",
      "Requirement already satisfied: wcwidth in c:\\users\\yfhp\\appdata\\local\\programs\\python\\python39\\lib\\site-packages (from prompt-toolkit!=3.0.0,!=3.0.1,<3.1.0,>=2.0.0->ipython<8.0,>=7.23.1->ipykernel) (0.2.5)\n",
      "Requirement already satisfied: six>=1.5 in c:\\users\\yfhp\\appdata\\local\\programs\\python\\python39\\lib\\site-packages (from python-dateutil>=2.1->jupyter-client<8.0->ipykernel) (1.16.0)\n",
      "Note: you may need to restart the kernel to use updated packages.\n"
     ]
    }
   ],
   "source": [
    "pip install ipykernel"
   ]
  },
  {
   "cell_type": "code",
   "execution_count": 1,
   "id": "4eb5dc47-0ff3-4912-973f-e19ea828bcfa",
   "metadata": {},
   "outputs": [
    {
     "name": "stdout",
     "output_type": "stream",
     "text": [
      "Requirement already satisfied: jupyterlab in c:\\users\\yfhp\\appdata\\local\\programs\\python\\python39\\lib\\site-packages (3.1.14)\n",
      "Requirement already satisfied: packaging in c:\\users\\yfhp\\appdata\\local\\programs\\python\\python39\\lib\\site-packages (from jupyterlab) (21.0)\n",
      "Requirement already satisfied: jupyter-server~=1.4 in c:\\users\\yfhp\\appdata\\local\\programs\\python\\python39\\lib\\site-packages (from jupyterlab) (1.11.0)\n",
      "Requirement already satisfied: ipython in c:\\users\\yfhp\\appdata\\local\\programs\\python\\python39\\lib\\site-packages (from jupyterlab) (7.28.0)\n",
      "Requirement already satisfied: jupyter-core in c:\\users\\yfhp\\appdata\\local\\programs\\python\\python39\\lib\\site-packages (from jupyterlab) (4.8.1)\n",
      "Requirement already satisfied: tornado>=6.1.0 in c:\\users\\yfhp\\appdata\\local\\programs\\python\\python39\\lib\\site-packages (from jupyterlab) (6.1)\n",
      "Requirement already satisfied: jinja2>=2.1 in c:\\users\\yfhp\\appdata\\local\\programs\\python\\python39\\lib\\site-packages (from jupyterlab) (3.0.1)\n",
      "Requirement already satisfied: nbclassic~=0.2 in c:\\users\\yfhp\\appdata\\local\\programs\\python\\python39\\lib\\site-packages (from jupyterlab) (0.3.2)\n",
      "Requirement already satisfied: jupyterlab-server~=2.3 in c:\\users\\yfhp\\appdata\\local\\programs\\python\\python39\\lib\\site-packages (from jupyterlab) (2.8.2)\n",
      "Requirement already satisfied: MarkupSafe>=2.0 in c:\\users\\yfhp\\appdata\\local\\programs\\python\\python39\\lib\\site-packages (from jinja2>=2.1->jupyterlab) (2.0.1)\n",
      "Requirement already satisfied: Send2Trash in c:\\users\\yfhp\\appdata\\local\\programs\\python\\python39\\lib\\site-packages (from jupyter-server~=1.4->jupyterlab) (1.8.0)\n",
      "Requirement already satisfied: nbformat in c:\\users\\yfhp\\appdata\\local\\programs\\python\\python39\\lib\\site-packages (from jupyter-server~=1.4->jupyterlab) (5.1.3)\n",
      "Requirement already satisfied: ipython-genutils in c:\\users\\yfhp\\appdata\\local\\programs\\python\\python39\\lib\\site-packages (from jupyter-server~=1.4->jupyterlab) (0.2.0)\n",
      "Requirement already satisfied: argon2-cffi in c:\\users\\yfhp\\appdata\\local\\programs\\python\\python39\\lib\\site-packages (from jupyter-server~=1.4->jupyterlab) (21.1.0)\n",
      "Requirement already satisfied: requests-unixsocket in c:\\users\\yfhp\\appdata\\local\\programs\\python\\python39\\lib\\site-packages (from jupyter-server~=1.4->jupyterlab) (0.2.0)\n",
      "Requirement already satisfied: pyzmq>=17 in c:\\users\\yfhp\\appdata\\local\\programs\\python\\python39\\lib\\site-packages (from jupyter-server~=1.4->jupyterlab) (22.3.0)\n",
      "Requirement already satisfied: terminado>=0.8.3 in c:\\users\\yfhp\\appdata\\local\\programs\\python\\python39\\lib\\site-packages (from jupyter-server~=1.4->jupyterlab) (0.12.1)\n",
      "Requirement already satisfied: jupyter-client>=6.1.1 in c:\\users\\yfhp\\appdata\\local\\programs\\python\\python39\\lib\\site-packages (from jupyter-server~=1.4->jupyterlab) (7.0.4)\n",
      "Requirement already satisfied: anyio<4,>=3.1.0 in c:\\users\\yfhp\\appdata\\local\\programs\\python\\python39\\lib\\site-packages (from jupyter-server~=1.4->jupyterlab) (3.3.2)\n",
      "Requirement already satisfied: prometheus-client in c:\\users\\yfhp\\appdata\\local\\programs\\python\\python39\\lib\\site-packages (from jupyter-server~=1.4->jupyterlab) (0.11.0)\n",
      "Requirement already satisfied: websocket-client in c:\\users\\yfhp\\appdata\\local\\programs\\python\\python39\\lib\\site-packages (from jupyter-server~=1.4->jupyterlab) (1.2.1)\n",
      "Requirement already satisfied: nbconvert in c:\\users\\yfhp\\appdata\\local\\programs\\python\\python39\\lib\\site-packages (from jupyter-server~=1.4->jupyterlab) (6.2.0)\n",
      "Requirement already satisfied: traitlets>=4.2.1 in c:\\users\\yfhp\\appdata\\local\\programs\\python\\python39\\lib\\site-packages (from jupyter-server~=1.4->jupyterlab) (5.1.0)\n",
      "Requirement already satisfied: pywin32>=1.0 in c:\\users\\yfhp\\appdata\\local\\programs\\python\\python39\\lib\\site-packages (from jupyter-core->jupyterlab) (301)\n",
      "Requirement already satisfied: babel in c:\\users\\yfhp\\appdata\\local\\programs\\python\\python39\\lib\\site-packages (from jupyterlab-server~=2.3->jupyterlab) (2.9.1)\n",
      "Requirement already satisfied: json5 in c:\\users\\yfhp\\appdata\\local\\programs\\python\\python39\\lib\\site-packages (from jupyterlab-server~=2.3->jupyterlab) (0.9.6)\n",
      "Requirement already satisfied: jsonschema>=3.0.1 in c:\\users\\yfhp\\appdata\\local\\programs\\python\\python39\\lib\\site-packages (from jupyterlab-server~=2.3->jupyterlab) (3.2.0)\n",
      "Requirement already satisfied: requests in c:\\users\\yfhp\\appdata\\local\\programs\\python\\python39\\lib\\site-packages (from jupyterlab-server~=2.3->jupyterlab) (2.26.0)\n",
      "Requirement already satisfied: entrypoints>=0.2.2 in c:\\users\\yfhp\\appdata\\local\\programs\\python\\python39\\lib\\site-packages (from jupyterlab-server~=2.3->jupyterlab) (0.3)\n",
      "Requirement already satisfied: notebook<7 in c:\\users\\yfhp\\appdata\\local\\programs\\python\\python39\\lib\\site-packages (from nbclassic~=0.2->jupyterlab) (6.4.4)\n",
      "Requirement already satisfied: pickleshare in c:\\users\\yfhp\\appdata\\local\\programs\\python\\python39\\lib\\site-packages (from ipython->jupyterlab) (0.7.5)\n",
      "Requirement already satisfied: prompt-toolkit!=3.0.0,!=3.0.1,<3.1.0,>=2.0.0 in c:\\users\\yfhp\\appdata\\local\\programs\\python\\python39\\lib\\site-packages (from ipython->jupyterlab) (3.0.20)\n",
      "Requirement already satisfied: matplotlib-inline in c:\\users\\yfhp\\appdata\\local\\programs\\python\\python39\\lib\\site-packages (from ipython->jupyterlab) (0.1.3)\n",
      "Requirement already satisfied: decorator in c:\\users\\yfhp\\appdata\\local\\programs\\python\\python39\\lib\\site-packages (from ipython->jupyterlab) (5.1.0)\n",
      "Requirement already satisfied: colorama in c:\\users\\yfhp\\appdata\\local\\programs\\python\\python39\\lib\\site-packages (from ipython->jupyterlab) (0.4.4)\n",
      "Requirement already satisfied: jedi>=0.16 in c:\\users\\yfhp\\appdata\\local\\programs\\python\\python39\\lib\\site-packages (from ipython->jupyterlab) (0.18.0)\n",
      "Requirement already satisfied: backcall in c:\\users\\yfhp\\appdata\\local\\programs\\python\\python39\\lib\\site-packages (from ipython->jupyterlab) (0.2.0)\n",
      "Requirement already satisfied: pygments in c:\\users\\yfhp\\appdata\\local\\programs\\python\\python39\\lib\\site-packages (from ipython->jupyterlab) (2.10.0)\n",
      "Requirement already satisfied: setuptools>=18.5 in c:\\users\\yfhp\\appdata\\local\\programs\\python\\python39\\lib\\site-packages (from ipython->jupyterlab) (57.4.0)\n",
      "Requirement already satisfied: pyparsing>=2.0.2 in c:\\users\\yfhp\\appdata\\local\\programs\\python\\python39\\lib\\site-packages (from packaging->jupyterlab) (2.4.7)\n",
      "Requirement already satisfied: idna>=2.8 in c:\\users\\yfhp\\appdata\\local\\programs\\python\\python39\\lib\\site-packages (from anyio<4,>=3.1.0->jupyter-server~=1.4->jupyterlab) (3.2)\n",
      "Requirement already satisfied: sniffio>=1.1 in c:\\users\\yfhp\\appdata\\local\\programs\\python\\python39\\lib\\site-packages (from anyio<4,>=3.1.0->jupyter-server~=1.4->jupyterlab) (1.2.0)\n",
      "Requirement already satisfied: parso<0.9.0,>=0.8.0 in c:\\users\\yfhp\\appdata\\local\\programs\\python\\python39\\lib\\site-packages (from jedi>=0.16->ipython->jupyterlab) (0.8.2)\n",
      "Requirement already satisfied: attrs>=17.4.0 in c:\\users\\yfhp\\appdata\\local\\programs\\python\\python39\\lib\\site-packages (from jsonschema>=3.0.1->jupyterlab-server~=2.3->jupyterlab) (21.2.0)\n",
      "Requirement already satisfied: six>=1.11.0 in c:\\users\\yfhp\\appdata\\local\\programs\\python\\python39\\lib\\site-packages (from jsonschema>=3.0.1->jupyterlab-server~=2.3->jupyterlab) (1.16.0)\n",
      "Requirement already satisfied: pyrsistent>=0.14.0 in c:\\users\\yfhp\\appdata\\local\\programs\\python\\python39\\lib\\site-packages (from jsonschema>=3.0.1->jupyterlab-server~=2.3->jupyterlab) (0.18.0)\n",
      "Requirement already satisfied: python-dateutil>=2.1 in c:\\users\\yfhp\\appdata\\local\\programs\\python\\python39\\lib\\site-packages (from jupyter-client>=6.1.1->jupyter-server~=1.4->jupyterlab) (2.8.2)\n",
      "Requirement already satisfied: nest-asyncio>=1.5 in c:\\users\\yfhp\\appdata\\local\\programs\\python\\python39\\lib\\site-packages (from jupyter-client>=6.1.1->jupyter-server~=1.4->jupyterlab) (1.5.1)\n",
      "Requirement already satisfied: ipykernel in c:\\users\\yfhp\\appdata\\local\\programs\\python\\python39\\lib\\site-packages (from notebook<7->nbclassic~=0.2->jupyterlab) (6.4.1)\n",
      "Requirement already satisfied: wcwidth in c:\\users\\yfhp\\appdata\\local\\programs\\python\\python39\\lib\\site-packages (from prompt-toolkit!=3.0.0,!=3.0.1,<3.1.0,>=2.0.0->ipython->jupyterlab) (0.2.5)\n",
      "Requirement already satisfied: pywinpty>=1.1.0 in c:\\users\\yfhp\\appdata\\local\\programs\\python\\python39\\lib\\site-packages (from terminado>=0.8.3->jupyter-server~=1.4->jupyterlab) (1.1.4)\n",
      "Requirement already satisfied: cffi>=1.0.0 in c:\\users\\yfhp\\appdata\\local\\programs\\python\\python39\\lib\\site-packages (from argon2-cffi->jupyter-server~=1.4->jupyterlab) (1.14.6)\n",
      "Requirement already satisfied: pytz>=2015.7 in c:\\users\\yfhp\\appdata\\local\\programs\\python\\python39\\lib\\site-packages (from babel->jupyterlab-server~=2.3->jupyterlab) (2021.1)\n",
      "Requirement already satisfied: defusedxml in c:\\users\\yfhp\\appdata\\local\\programs\\python\\python39\\lib\\site-packages (from nbconvert->jupyter-server~=1.4->jupyterlab) (0.7.1)\n",
      "Requirement already satisfied: nbclient<0.6.0,>=0.5.0 in c:\\users\\yfhp\\appdata\\local\\programs\\python\\python39\\lib\\site-packages (from nbconvert->jupyter-server~=1.4->jupyterlab) (0.5.4)\n",
      "Requirement already satisfied: mistune<2,>=0.8.1 in c:\\users\\yfhp\\appdata\\local\\programs\\python\\python39\\lib\\site-packages (from nbconvert->jupyter-server~=1.4->jupyterlab) (0.8.4)\n",
      "Requirement already satisfied: pandocfilters>=1.4.1 in c:\\users\\yfhp\\appdata\\local\\programs\\python\\python39\\lib\\site-packages (from nbconvert->jupyter-server~=1.4->jupyterlab) (1.5.0)\n",
      "Requirement already satisfied: testpath in c:\\users\\yfhp\\appdata\\local\\programs\\python\\python39\\lib\\site-packages (from nbconvert->jupyter-server~=1.4->jupyterlab) (0.5.0)\n",
      "Requirement already satisfied: jupyterlab-pygments in c:\\users\\yfhp\\appdata\\local\\programs\\python\\python39\\lib\\site-packages (from nbconvert->jupyter-server~=1.4->jupyterlab) (0.1.2)\n",
      "Requirement already satisfied: bleach in c:\\users\\yfhp\\appdata\\local\\programs\\python\\python39\\lib\\site-packages (from nbconvert->jupyter-server~=1.4->jupyterlab) (4.1.0)\n",
      "Requirement already satisfied: charset-normalizer~=2.0.0 in c:\\users\\yfhp\\appdata\\local\\programs\\python\\python39\\lib\\site-packages (from requests->jupyterlab-server~=2.3->jupyterlab) (2.0.6)\n",
      "Requirement already satisfied: certifi>=2017.4.17 in c:\\users\\yfhp\\appdata\\local\\programs\\python\\python39\\lib\\site-packages (from requests->jupyterlab-server~=2.3->jupyterlab) (2021.5.30)\n",
      "Requirement already satisfied: urllib3<1.27,>=1.21.1 in c:\\users\\yfhp\\appdata\\local\\programs\\python\\python39\\lib\\site-packages (from requests->jupyterlab-server~=2.3->jupyterlab) (1.26.7)\n",
      "Requirement already satisfied: pycparser in c:\\users\\yfhp\\appdata\\local\\programs\\python\\python39\\lib\\site-packages (from cffi>=1.0.0->argon2-cffi->jupyter-server~=1.4->jupyterlab) (2.20)\n",
      "Requirement already satisfied: webencodings in c:\\users\\yfhp\\appdata\\local\\programs\\python\\python39\\lib\\site-packages (from bleach->nbconvert->jupyter-server~=1.4->jupyterlab) (0.5.1)\n",
      "Requirement already satisfied: debugpy<2.0,>=1.0.0 in c:\\users\\yfhp\\appdata\\local\\programs\\python\\python39\\lib\\site-packages (from ipykernel->notebook<7->nbclassic~=0.2->jupyterlab) (1.4.3)\n",
      "Note: you may need to restart the kernel to use updated packages.\n"
     ]
    }
   ],
   "source": [
    "pip install jupyterlab"
   ]
  },
  {
   "cell_type": "code",
   "execution_count": 1,
   "id": "66b822d5-7b2f-496e-b56d-d25b54b72bd5",
   "metadata": {},
   "outputs": [
    {
     "name": "stdout",
     "output_type": "stream",
     "text": [
      "Requirement already satisfied: notebook in c:\\users\\yfhp\\appdata\\local\\programs\\python\\python39\\lib\\site-packages (6.4.4)\n",
      "Requirement already satisfied: jinja2 in c:\\users\\yfhp\\appdata\\local\\programs\\python\\python39\\lib\\site-packages (from notebook) (3.0.1)\n",
      "Requirement already satisfied: argon2-cffi in c:\\users\\yfhp\\appdata\\local\\programs\\python\\python39\\lib\\site-packages (from notebook) (21.1.0)\n",
      "Requirement already satisfied: jupyter-core>=4.6.1 in c:\\users\\yfhp\\appdata\\local\\programs\\python\\python39\\lib\\site-packages (from notebook) (4.8.1)\n",
      "Requirement already satisfied: jupyter-client>=5.3.4 in c:\\users\\yfhp\\appdata\\local\\programs\\python\\python39\\lib\\site-packages (from notebook) (7.0.4)\n",
      "Requirement already satisfied: traitlets>=4.2.1 in c:\\users\\yfhp\\appdata\\local\\programs\\python\\python39\\lib\\site-packages (from notebook) (5.1.0)\n",
      "Requirement already satisfied: pyzmq>=17 in c:\\users\\yfhp\\appdata\\local\\programs\\python\\python39\\lib\\site-packages (from notebook) (22.3.0)\n",
      "Requirement already satisfied: nbformat in c:\\users\\yfhp\\appdata\\local\\programs\\python\\python39\\lib\\site-packages (from notebook) (5.1.3)\n",
      "Requirement already satisfied: prometheus-client in c:\\users\\yfhp\\appdata\\local\\programs\\python\\python39\\lib\\site-packages (from notebook) (0.11.0)\n",
      "Requirement already satisfied: ipython-genutils in c:\\users\\yfhp\\appdata\\local\\programs\\python\\python39\\lib\\site-packages (from notebook) (0.2.0)\n",
      "Requirement already satisfied: ipykernel in c:\\users\\yfhp\\appdata\\local\\programs\\python\\python39\\lib\\site-packages (from notebook) (6.4.1)\n",
      "Requirement already satisfied: Send2Trash>=1.5.0 in c:\\users\\yfhp\\appdata\\local\\programs\\python\\python39\\lib\\site-packages (from notebook) (1.8.0)\n",
      "Requirement already satisfied: nbconvert in c:\\users\\yfhp\\appdata\\local\\programs\\python\\python39\\lib\\site-packages (from notebook) (6.2.0)\n",
      "Requirement already satisfied: terminado>=0.8.3 in c:\\users\\yfhp\\appdata\\local\\programs\\python\\python39\\lib\\site-packages (from notebook) (0.12.1)\n",
      "Requirement already satisfied: tornado>=6.1 in c:\\users\\yfhp\\appdata\\local\\programs\\python\\python39\\lib\\site-packages (from notebook) (6.1)\n",
      "Requirement already satisfied: nest-asyncio>=1.5 in c:\\users\\yfhp\\appdata\\local\\programs\\python\\python39\\lib\\site-packages (from jupyter-client>=5.3.4->notebook) (1.5.1)\n",
      "Requirement already satisfied: python-dateutil>=2.1 in c:\\users\\yfhp\\appdata\\local\\programs\\python\\python39\\lib\\site-packages (from jupyter-client>=5.3.4->notebook) (2.8.2)\n",
      "Requirement already satisfied: entrypoints in c:\\users\\yfhp\\appdata\\local\\programs\\python\\python39\\lib\\site-packages (from jupyter-client>=5.3.4->notebook) (0.3)\n",
      "Requirement already satisfied: pywin32>=1.0 in c:\\users\\yfhp\\appdata\\local\\programs\\python\\python39\\lib\\site-packages (from jupyter-core>=4.6.1->notebook) (301)\n",
      "Requirement already satisfied: pywinpty>=1.1.0 in c:\\users\\yfhp\\appdata\\local\\programs\\python\\python39\\lib\\site-packages (from terminado>=0.8.3->notebook) (1.1.4)\n",
      "Requirement already satisfied: cffi>=1.0.0 in c:\\users\\yfhp\\appdata\\local\\programs\\python\\python39\\lib\\site-packages (from argon2-cffi->notebook) (1.14.6)\n",
      "Requirement already satisfied: ipython<8.0,>=7.23.1 in c:\\users\\yfhp\\appdata\\local\\programs\\python\\python39\\lib\\site-packages (from ipykernel->notebook) (7.28.0)\n",
      "Requirement already satisfied: debugpy<2.0,>=1.0.0 in c:\\users\\yfhp\\appdata\\local\\programs\\python\\python39\\lib\\site-packages (from ipykernel->notebook) (1.4.3)\n",
      "Requirement already satisfied: matplotlib-inline<0.2.0,>=0.1.0 in c:\\users\\yfhp\\appdata\\local\\programs\\python\\python39\\lib\\site-packages (from ipykernel->notebook) (0.1.3)\n",
      "Requirement already satisfied: MarkupSafe>=2.0 in c:\\users\\yfhp\\appdata\\local\\programs\\python\\python39\\lib\\site-packages (from jinja2->notebook) (2.0.1)\n",
      "Requirement already satisfied: mistune<2,>=0.8.1 in c:\\users\\yfhp\\appdata\\local\\programs\\python\\python39\\lib\\site-packages (from nbconvert->notebook) (0.8.4)\n",
      "Requirement already satisfied: bleach in c:\\users\\yfhp\\appdata\\local\\programs\\python\\python39\\lib\\site-packages (from nbconvert->notebook) (4.1.0)\n",
      "Requirement already satisfied: pygments>=2.4.1 in c:\\users\\yfhp\\appdata\\local\\programs\\python\\python39\\lib\\site-packages (from nbconvert->notebook) (2.10.0)\n",
      "Requirement already satisfied: defusedxml in c:\\users\\yfhp\\appdata\\local\\programs\\python\\python39\\lib\\site-packages (from nbconvert->notebook) (0.7.1)\n",
      "Requirement already satisfied: jupyterlab-pygments in c:\\users\\yfhp\\appdata\\local\\programs\\python\\python39\\lib\\site-packages (from nbconvert->notebook) (0.1.2)\n",
      "Requirement already satisfied: nbclient<0.6.0,>=0.5.0 in c:\\users\\yfhp\\appdata\\local\\programs\\python\\python39\\lib\\site-packages (from nbconvert->notebook) (0.5.4)\n",
      "Requirement already satisfied: pandocfilters>=1.4.1 in c:\\users\\yfhp\\appdata\\local\\programs\\python\\python39\\lib\\site-packages (from nbconvert->notebook) (1.5.0)\n",
      "Requirement already satisfied: testpath in c:\\users\\yfhp\\appdata\\local\\programs\\python\\python39\\lib\\site-packages (from nbconvert->notebook) (0.5.0)\n",
      "Requirement already satisfied: jsonschema!=2.5.0,>=2.4 in c:\\users\\yfhp\\appdata\\local\\programs\\python\\python39\\lib\\site-packages (from nbformat->notebook) (3.2.0)\n",
      "Requirement already satisfied: pycparser in c:\\users\\yfhp\\appdata\\local\\programs\\python\\python39\\lib\\site-packages (from cffi>=1.0.0->argon2-cffi->notebook) (2.20)\n",
      "Requirement already satisfied: backcall in c:\\users\\yfhp\\appdata\\local\\programs\\python\\python39\\lib\\site-packages (from ipython<8.0,>=7.23.1->ipykernel->notebook) (0.2.0)\n",
      "Requirement already satisfied: pickleshare in c:\\users\\yfhp\\appdata\\local\\programs\\python\\python39\\lib\\site-packages (from ipython<8.0,>=7.23.1->ipykernel->notebook) (0.7.5)\n",
      "Requirement already satisfied: colorama in c:\\users\\yfhp\\appdata\\local\\programs\\python\\python39\\lib\\site-packages (from ipython<8.0,>=7.23.1->ipykernel->notebook) (0.4.4)\n",
      "Requirement already satisfied: setuptools>=18.5 in c:\\users\\yfhp\\appdata\\local\\programs\\python\\python39\\lib\\site-packages (from ipython<8.0,>=7.23.1->ipykernel->notebook) (57.4.0)\n",
      "Requirement already satisfied: prompt-toolkit!=3.0.0,!=3.0.1,<3.1.0,>=2.0.0 in c:\\users\\yfhp\\appdata\\local\\programs\\python\\python39\\lib\\site-packages (from ipython<8.0,>=7.23.1->ipykernel->notebook) (3.0.20)\n",
      "Requirement already satisfied: decorator in c:\\users\\yfhp\\appdata\\local\\programs\\python\\python39\\lib\\site-packages (from ipython<8.0,>=7.23.1->ipykernel->notebook) (5.1.0)\n",
      "Requirement already satisfied: jedi>=0.16 in c:\\users\\yfhp\\appdata\\local\\programs\\python\\python39\\lib\\site-packages (from ipython<8.0,>=7.23.1->ipykernel->notebook) (0.18.0)\n",
      "Requirement already satisfied: six>=1.11.0 in c:\\users\\yfhp\\appdata\\local\\programs\\python\\python39\\lib\\site-packages (from jsonschema!=2.5.0,>=2.4->nbformat->notebook) (1.16.0)\n",
      "Requirement already satisfied: pyrsistent>=0.14.0 in c:\\users\\yfhp\\appdata\\local\\programs\\python\\python39\\lib\\site-packages (from jsonschema!=2.5.0,>=2.4->nbformat->notebook) (0.18.0)\n",
      "Requirement already satisfied: attrs>=17.4.0 in c:\\users\\yfhp\\appdata\\local\\programs\\python\\python39\\lib\\site-packages (from jsonschema!=2.5.0,>=2.4->nbformat->notebook) (21.2.0)\n",
      "Requirement already satisfied: packaging in c:\\users\\yfhp\\appdata\\local\\programs\\python\\python39\\lib\\site-packages (from bleach->nbconvert->notebook) (21.0)\n",
      "Requirement already satisfied: webencodings in c:\\users\\yfhp\\appdata\\local\\programs\\python\\python39\\lib\\site-packages (from bleach->nbconvert->notebook) (0.5.1)\n",
      "Note: you may need to restart the kernel to use updated packages.\n",
      "Requirement already satisfied: parso<0.9.0,>=0.8.0 in c:\\users\\yfhp\\appdata\\local\\programs\\python\\python39\\lib\\site-packages (from jedi>=0.16->ipython<8.0,>=7.23.1->ipykernel->notebook) (0.8.2)\n",
      "Requirement already satisfied: wcwidth in c:\\users\\yfhp\\appdata\\local\\programs\\python\\python39\\lib\\site-packages (from prompt-toolkit!=3.0.0,!=3.0.1,<3.1.0,>=2.0.0->ipython<8.0,>=7.23.1->ipykernel->notebook) (0.2.5)\n",
      "Requirement already satisfied: pyparsing>=2.0.2 in c:\\users\\yfhp\\appdata\\local\\programs\\python\\python39\\lib\\site-packages (from packaging->bleach->nbconvert->notebook) (2.4.7)\n"
     ]
    }
   ],
   "source": [
    "pip install notebook"
   ]
  },
  {
   "cell_type": "code",
   "execution_count": 2,
   "id": "3fdc16a2-1fb1-4412-b247-164c753a5748",
   "metadata": {},
   "outputs": [
    {
     "name": "stdout",
     "output_type": "stream",
     "text": [
      "pip 21.3.1 from C:\\Users\\YFHP\\AppData\\Local\\Programs\\Python\\Python39\\lib\\site-packages\\pip (python 3.9)\n",
      "\n",
      "Note: you may need to restart the kernel to use updated packages.\n"
     ]
    }
   ],
   "source": [
    "pip --version"
   ]
  },
  {
   "cell_type": "code",
   "execution_count": 1,
   "id": "275edb1a-10c4-43ba-a8a8-14193373350d",
   "metadata": {},
   "outputs": [
    {
     "name": "stdout",
     "output_type": "stream",
     "text": [
      "Package                           Version\n",
      "--------------------------------- ---------\n",
      "anyio                             3.3.2\n",
      "argon2-cffi                       21.1.0\n",
      "attrs                             21.2.0\n",
      "Babel                             2.9.1\n",
      "backcall                          0.2.0\n",
      "backports.entry-points-selectable 1.1.1\n",
      "bleach                            4.1.0\n",
      "certifi                           2021.5.30\n",
      "cffi                              1.14.6\n",
      "charset-normalizer                2.0.6\n",
      "colorama                          0.4.4\n",
      "debugpy                           1.4.3\n",
      "decorator                         5.1.0\n",
      "defusedxml                        0.7.1\n",
      "distlib                           0.3.3\n",
      "entrypoints                       0.3\n",
      "filelock                          3.4.0\n",
      "idna                              3.2\n",
      "ipykernel                         6.4.1\n",
      "ipython                           7.28.0\n",
      "ipython-genutils                  0.2.0\n",
      "jedi                              0.18.0\n",
      "Jinja2                            3.0.1\n",
      "json5                             0.9.6\n",
      "jsonschema                        3.2.0\n",
      "jupyter-client                    7.0.4\n",
      "jupyter-core                      4.8.1\n",
      "jupyter-server                    1.11.0\n",
      "jupyterlab                        3.1.14\n",
      "jupyterlab-pygments               0.1.2\n",
      "jupyterlab-server                 2.8.2\n",
      "MarkupSafe                        2.0.1\n",
      "matplotlib-inline                 0.1.3\n",
      "mistune                           0.8.4\n",
      "nbclassic                         0.3.2\n",
      "nbclient                          0.5.4\n",
      "nbconvert                         6.2.0\n",
      "nbformat                          5.1.3\n",
      "nest-asyncio                      1.5.1\n",
      "notebook                          6.4.4\n",
      "numpy                             1.21.4\n",
      "packaging                         21.0\n",
      "pandas                            1.3.4\n",
      "pandocfilters                     1.5.0\n",
      "parso                             0.8.2\n",
      "pickleshare                       0.7.5\n",
      "pip                               21.3.1\n",
      "platformdirs                      2.4.0\n",
      "prometheus-client                 0.11.0\n",
      "prompt-toolkit                    3.0.20\n",
      "pycparser                         2.20\n",
      "Pygments                          2.10.0\n",
      "pyparsing                         2.4.7\n",
      "pyrsistent                        0.18.0\n",
      "python-dateutil                   2.8.2\n",
      "pytz                              2021.1\n",
      "pywin32                           301\n",
      "pywinpty                          1.1.4\n",
      "pyzmq                             22.3.0\n",
      "requests                          2.26.0\n",
      "requests-unixsocket               0.2.0\n",
      "Send2Trash                        1.8.0\n",
      "setuptools                        57.4.0\n",
      "six                               1.16.0\n",
      "sniffio                           1.2.0\n",
      "terminado                         0.12.1\n",
      "testpath                          0.5.0\n",
      "tornado                           6.1\n",
      "traitlets                         5.1.0\n",
      "urllib3                           1.26.7\n",
      "virtualenv                        20.10.0\n",
      "wcwidth                           0.2.5\n",
      "webencodings                      0.5.1\n",
      "websocket-client                  1.2.1\n"
     ]
    }
   ],
   "source": [
    "!pip list"
   ]
  },
  {
   "cell_type": "code",
   "execution_count": 5,
   "id": "e2ebd7ab-8efc-463f-a436-9d6d95a7e4ac",
   "metadata": {},
   "outputs": [
    {
     "name": "stdout",
     "output_type": "stream",
     "text": [
      "Name: wcwidth\n",
      "Version: 0.2.5\n",
      "Summary: Measures the displayed width of unicode strings in a terminal\n",
      "Home-page: https://github.com/jquast/wcwidth\n",
      "Author: Jeff Quast\n",
      "Author-email: contact@jeffquast.com\n",
      "License: MIT\n",
      "Location: c:\\users\\yfhp\\appdata\\local\\programs\\python\\python39\\lib\\site-packages\n",
      "Requires: \n",
      "Required-by: prompt-toolkit\n",
      "Note: you may need to restart the kernel to use updated packages.\n"
     ]
    }
   ],
   "source": [
    "pip show wcwidth"
   ]
  },
  {
   "cell_type": "code",
   "execution_count": 7,
   "id": "d943aa04-f3a4-4413-b3c8-a644ed673a24",
   "metadata": {},
   "outputs": [
    {
     "name": "stdout",
     "output_type": "stream",
     "text": [
      "Requirement already satisfied: pandas in c:\\users\\yfhp\\appdata\\local\\programs\\python\\python39\\lib\\site-packages (1.3.4)\n",
      "Requirement already satisfied: pytz>=2017.3 in c:\\users\\yfhp\\appdata\\local\\programs\\python\\python39\\lib\\site-packages (from pandas) (2021.1)\n",
      "Requirement already satisfied: numpy>=1.17.3 in c:\\users\\yfhp\\appdata\\local\\programs\\python\\python39\\lib\\site-packages (from pandas) (1.21.4)\n",
      "Requirement already satisfied: python-dateutil>=2.7.3 in c:\\users\\yfhp\\appdata\\local\\programs\\python\\python39\\lib\\site-packages (from pandas) (2.8.2)\n",
      "Requirement already satisfied: six>=1.5 in c:\\users\\yfhp\\appdata\\local\\programs\\python\\python39\\lib\\site-packages (from python-dateutil>=2.7.3->pandas) (1.16.0)\n",
      "Note: you may need to restart the kernel to use updated packages.\n"
     ]
    }
   ],
   "source": [
    "pip install pandas"
   ]
  },
  {
   "cell_type": "code",
   "execution_count": 2,
   "id": "c21f79b4-ce06-41d1-bc19-d7b281689c84",
   "metadata": {},
   "outputs": [
    {
     "name": "stdout",
     "output_type": "stream",
     "text": [
      "Requirement already satisfied: numpy in c:\\users\\yfhp\\appdata\\local\\programs\\python\\python39\\lib\\site-packages (1.21.4)\n",
      "Note: you may need to restart the kernel to use updated packages.\n"
     ]
    }
   ],
   "source": [
    "pip install numpy"
   ]
  },
  {
   "cell_type": "code",
   "execution_count": null,
   "id": "cbb2a20f-ed6e-4e47-b6cb-b1c558137bea",
   "metadata": {},
   "outputs": [],
   "source": []
  }
 ],
 "metadata": {
  "kernelspec": {
   "display_name": "Python 3 (ipykernel)",
   "language": "python",
   "name": "python3"
  },
  "language_info": {
   "codemirror_mode": {
    "name": "ipython",
    "version": 3
   },
   "file_extension": ".py",
   "mimetype": "text/x-python",
   "name": "python",
   "nbconvert_exporter": "python",
   "pygments_lexer": "ipython3",
   "version": "3.9.7"
  }
 },
 "nbformat": 4,
 "nbformat_minor": 5
}
