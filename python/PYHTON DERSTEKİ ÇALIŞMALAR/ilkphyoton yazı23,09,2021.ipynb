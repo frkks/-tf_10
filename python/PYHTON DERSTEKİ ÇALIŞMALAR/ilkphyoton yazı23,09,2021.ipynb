{
 "cells": [
  {
   "cell_type": "code",
   "execution_count": 13,
   "metadata": {
    "colab": {
     "base_uri": "https://localhost:8080/"
    },
    "executionInfo": {
     "elapsed": 280,
     "status": "ok",
     "timestamp": 1632422514350,
     "user": {
      "displayName": "faruk kose",
      "photoUrl": "https://lh3.googleusercontent.com/a-/AOh14Ghbzf6CVkQCF6apt8SKunFGLZukTM0TOSulp6aH=s64",
      "userId": "01118047305749969212"
     },
     "user_tz": -180
    },
    "id": "8448ZMqT3oWj",
    "outputId": "408d7dc8-d6e2-4ee1-9aaf-bc7dd3a3a63c"
   },
   "outputs": [
    {
     "name": "stdout",
     "output_type": "stream",
     "text": [
      "Hello Wold!\n",
      "çift tırnak tek tırnak aynı çıktıyı verir\n",
      "tek tırnakla başlarsan tek tırnak çift tırnakla başlarsan çift tırnak\n",
      "üç tırnak da \n",
      "çok fazla satır da \n",
      "çalışır diğer tırnaklarda birden fazla satır yazılmaz hata verir\n",
      "tek tırnaklada \n",
      "yapılır\n"
     ]
    }
   ],
   "source": [
    "print('Hello Wold!')\n",
    "print(\"çift tırnak tek tırnak aynı çıktıyı verir\")\n",
    "print(\"tek tırnakla başlarsan tek tırnak çift tırnakla başlarsan çift tırnak\")\n",
    "print(\"\"\"üç tırnak da \n",
    "çok fazla satır da \n",
    "çalışır diğer tırnaklarda birden fazla satır yazılmaz hata verir\"\"\")\n",
    "print('''tek tırnaklada \n",
    "yapılır''')"
   ]
  },
  {
   "cell_type": "code",
   "execution_count": 14,
   "metadata": {
    "colab": {
     "base_uri": "https://localhost:8080/",
     "height": 35
    },
    "executionInfo": {
     "elapsed": 224,
     "status": "ok",
     "timestamp": 1632422611282,
     "user": {
      "displayName": "faruk kose",
      "photoUrl": "https://lh3.googleusercontent.com/a-/AOh14Ghbzf6CVkQCF6apt8SKunFGLZukTM0TOSulp6aH=s64",
      "userId": "01118047305749969212"
     },
     "user_tz": -180
    },
    "id": "xZ5IknxU915Q",
    "outputId": "02f0d986-f292-4780-dcc3-8d1c7f552971"
   },
   "outputs": [
    {
     "data": {
      "application/vnd.google.colaboratory.intrinsic+json": {
       "type": "string"
      },
      "text/plain": [
       "'1234567890*--=)('"
      ]
     },
     "execution_count": 14,
     "metadata": {},
     "output_type": "execute_result"
    }
   ],
   "source": [
    "\"\"\"1234567890*--=)(\"\"\""
   ]
  },
  {
   "cell_type": "code",
   "execution_count": 15,
   "metadata": {
    "colab": {
     "base_uri": "https://localhost:8080/"
    },
    "executionInfo": {
     "elapsed": 267,
     "status": "ok",
     "timestamp": 1632424851282,
     "user": {
      "displayName": "faruk kose",
      "photoUrl": "https://lh3.googleusercontent.com/a-/AOh14Ghbzf6CVkQCF6apt8SKunFGLZukTM0TOSulp6aH=s64",
      "userId": "01118047305749969212"
     },
     "user_tz": -180
    },
    "id": "HfVb9Ap6GXYV",
    "outputId": "64a8d0cc-8fe7-4a7e-b383-1f65ebc50728"
   },
   "outputs": [
    {
     "name": "stdout",
     "output_type": "stream",
     "text": [
      "'We should have enough time for our family\"\n"
     ]
    }
   ],
   "source": [
    "print(''''We should have enough time for our family\"''')"
   ]
  },
  {
   "cell_type": "code",
   "execution_count": 19,
   "metadata": {
    "colab": {
     "base_uri": "https://localhost:8080/"
    },
    "executionInfo": {
     "elapsed": 305,
     "status": "ok",
     "timestamp": 1632425129816,
     "user": {
      "displayName": "faruk kose",
      "photoUrl": "https://lh3.googleusercontent.com/a-/AOh14Ghbzf6CVkQCF6apt8SKunFGLZukTM0TOSulp6aH=s64",
      "userId": "01118047305749969212"
     },
     "user_tz": -180
    },
    "id": "78yc-aEKHIGH",
    "outputId": "0f5163bc-6a18-492a-8e42-90e5d2686f06"
   },
   "outputs": [
    {
     "name": "stdout",
     "output_type": "stream",
     "text": [
      "gfdgdf\n",
      "\n",
      "\n",
      "mvn\n"
     ]
    }
   ],
   "source": [
    "print(\"gfdgdf\")\n",
    "print()\n",
    "print(\"\")\n",
    "print(\"mvn\")"
   ]
  },
  {
   "cell_type": "code",
   "execution_count": 24,
   "metadata": {
    "colab": {
     "base_uri": "https://localhost:8080/"
    },
    "executionInfo": {
     "elapsed": 231,
     "status": "ok",
     "timestamp": 1632426284097,
     "user": {
      "displayName": "faruk kose",
      "photoUrl": "https://lh3.googleusercontent.com/a-/AOh14Ghbzf6CVkQCF6apt8SKunFGLZukTM0TOSulp6aH=s64",
      "userId": "01118047305749969212"
     },
     "user_tz": -180
    },
    "id": "Cv_R_HHAHbsE",
    "outputId": "acfa28bf-ea88-446c-97fc-05b786db39f3"
   },
   "outputs": [
    {
     "name": "stdout",
     "output_type": "stream",
     "text": [
      "acıklama nasıl yazılır\n"
     ]
    }
   ],
   "source": [
    "print(\"acıklama nasıl yazılır\")  # hash bu benim ilk açıklamamdır. inline comend (ilk boşluk iki space sonraki boşluk tek boşluk)"
   ]
  },
  {
   "cell_type": "code",
   "execution_count": 25,
   "metadata": {
    "colab": {
     "base_uri": "https://localhost:8080/"
    },
    "executionInfo": {
     "elapsed": 230,
     "status": "ok",
     "timestamp": 1632426352266,
     "user": {
      "displayName": "faruk kose",
      "photoUrl": "https://lh3.googleusercontent.com/a-/AOh14Ghbzf6CVkQCF6apt8SKunFGLZukTM0TOSulp6aH=s64",
      "userId": "01118047305749969212"
     },
     "user_tz": -180
    },
    "id": "uQmThIgMLbLC",
    "outputId": "f0c27f97-60da-4199-bc02-ec1ad731bfb3"
   },
   "outputs": [
    {
     "name": "stdout",
     "output_type": "stream",
     "text": [
      "sdsd\n"
     ]
    }
   ],
   "source": [
    "print(\"sdsd\")\n",
    "# bu bir single- commedtdir\n",
    "# ikinci satır açıklama\n",
    "# üçüncü satır açıklama"
   ]
  },
  {
   "cell_type": "code",
   "execution_count": 26,
   "metadata": {
    "colab": {
     "base_uri": "https://localhost:8080/"
    },
    "executionInfo": {
     "elapsed": 257,
     "status": "ok",
     "timestamp": 1632426442785,
     "user": {
      "displayName": "faruk kose",
      "photoUrl": "https://lh3.googleusercontent.com/a-/AOh14Ghbzf6CVkQCF6apt8SKunFGLZukTM0TOSulp6aH=s64",
      "userId": "01118047305749969212"
     },
     "user_tz": -180
    },
    "id": "2Snd0ZbxMqmk",
    "outputId": "6e8c0e12-f9bd-4bb4-fdaa-e894a3529c2f"
   },
   "outputs": [
    {
     "data": {
      "text/plain": [
       "8"
      ]
     },
     "execution_count": 26,
     "metadata": {},
     "output_type": "execute_result"
    }
   ],
   "source": [
    "3+5"
   ]
  }
 ],
 "metadata": {
  "colab": {
   "authorship_tag": "ABX9TyMHmNslJdaUsryEu2yWwPeq",
   "name": "ilkphyoton yazı23,09,2021.ipynb",
   "provenance": []
  },
  "kernelspec": {
   "display_name": "Python 3 (ipykernel)",
   "language": "python",
   "name": "python3"
  },
  "language_info": {
   "codemirror_mode": {
    "name": "ipython",
    "version": 3
   },
   "file_extension": ".py",
   "mimetype": "text/x-python",
   "name": "python",
   "nbconvert_exporter": "python",
   "pygments_lexer": "ipython3",
   "version": "3.9.7"
  }
 },
 "nbformat": 4,
 "nbformat_minor": 4
}
