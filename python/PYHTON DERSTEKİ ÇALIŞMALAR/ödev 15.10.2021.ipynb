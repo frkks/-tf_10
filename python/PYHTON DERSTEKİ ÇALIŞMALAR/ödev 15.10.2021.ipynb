{
 "cells": [
  {
   "cell_type": "code",
   "execution_count": 15,
   "id": "cf55d5b0-eb4d-401d-8ace-3aab8d0a4082",
   "metadata": {},
   "outputs": [
    {
     "name": "stdout",
     "output_type": "stream",
     "text": [
      "3\n",
      "4\n"
     ]
    }
   ],
   "source": [
    "def most_frequent(List):\n",
    "    dict = {}\n",
    "    count, itm = 0, ''\n",
    "    for item in reversed(List):\n",
    "        dict[item] = dict.get(item, 0) + 1\n",
    "        if dict[item] >= count :\n",
    "            count, itm = dict[item], item\n",
    "    return(itm)\n",
    " \n",
    "List = [1, 3, 7, 4, 3, 0, 3, 6, 3]\n",
    "print(most_frequent(List))\n",
    "fk = List.count(3)\n",
    "print(fk)"
   ]
  },
  {
   "cell_type": "code",
   "execution_count": 12,
   "id": "571009d8-6cf8-4b36-b87a-70e95cd1b4cc",
   "metadata": {},
   "outputs": [
    {
     "data": {
      "text/plain": [
       "2"
      ]
     },
     "execution_count": 12,
     "metadata": {},
     "output_type": "execute_result"
    }
   ],
   "source": [
    "points = [1, 4, 2, 9, 7, 8, 9, 3, 1]\n",
    "\n",
    "x = points.count(9)\n",
    "x"
   ]
  },
  {
   "cell_type": "code",
   "execution_count": 3,
   "id": "96bb8d32-257f-40e4-900c-0bed5a49d9f9",
   "metadata": {},
   "outputs": [
    {
     "name": "stdout",
     "output_type": "stream",
     "text": [
      "the most frequent number is 3 and it was 4 times repeated\n"
     ]
    }
   ],
   "source": [
    "numbers = [1, 3, 7, 4, 3, 0, 3, 6, 3]\n",
    "frequent_number = max(numbers, key = numbers.count)\n",
    "count_frqnt_nmb = numbers.count(frequent_number)\n",
    "print(\"the most frequent number is {} and it was {} times repeated\".format(frequent_number, count_frqnt_nmb))"
   ]
  },
  {
   "cell_type": "code",
   "execution_count": null,
   "id": "9e0d8338-e67e-453f-ba50-46930f34d399",
   "metadata": {},
   "outputs": [],
   "source": []
  },
  {
   "cell_type": "code",
   "execution_count": null,
   "id": "15dd4192-0785-475d-80f6-ed0e8b4d5395",
   "metadata": {},
   "outputs": [],
   "source": []
  },
  {
   "cell_type": "code",
   "execution_count": null,
   "id": "b50c0098-93fa-44ab-85f9-6d4a448f3284",
   "metadata": {},
   "outputs": [],
   "source": []
  }
 ],
 "metadata": {
  "kernelspec": {
   "display_name": "Python 3 (ipykernel)",
   "language": "python",
   "name": "python3"
  },
  "language_info": {
   "codemirror_mode": {
    "name": "ipython",
    "version": 3
   },
   "file_extension": ".py",
   "mimetype": "text/x-python",
   "name": "python",
   "nbconvert_exporter": "python",
   "pygments_lexer": "ipython3",
   "version": "3.9.7"
  }
 },
 "nbformat": 4,
 "nbformat_minor": 5
}
