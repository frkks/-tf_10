{
 "cells": [
  {
   "cell_type": "code",
   "execution_count": 1,
   "id": "3810f448-d0a8-445b-899f-d167a33d47c0",
   "metadata": {},
   "outputs": [
    {
     "name": "stdout",
     "output_type": "stream",
     "text": [
      "i love you\n"
     ]
    }
   ],
   "source": [
    "a = \"i\"\n",
    "b = \"love\"\n",
    "c = \"you\"\n",
    "def task(x, y, z):\n",
    "    print(y, z, x)\n",
    "task(c, a, b)    "
   ]
  },
  {
   "cell_type": "code",
   "execution_count": 4,
   "id": "51806c35-5c7b-49ae-9696-1542dfc8afe1",
   "metadata": {},
   "outputs": [
    {
     "name": "stdout",
     "output_type": "stream",
     "text": [
      "i you love\n"
     ]
    }
   ],
   "source": [
    "task(x = \"love\", y = \"i\", z = \"you\")"
   ]
  },
  {
   "cell_type": "code",
   "execution_count": 6,
   "id": "f16cb6f0-b4fe-4eca-9f5e-f593e8ea8cd6",
   "metadata": {},
   "outputs": [],
   "source": [
    "def fonksiyon(x = \"ali\", y = 22) :\n",
    "    print(x, y, \"yaşındadır\")"
   ]
  },
  {
   "cell_type": "code",
   "execution_count": 7,
   "id": "140c8a2e-4461-4529-9e42-68f1b6f785e5",
   "metadata": {},
   "outputs": [
    {
     "name": "stdout",
     "output_type": "stream",
     "text": [
      "ali 22 yaşındadır\n"
     ]
    }
   ],
   "source": [
    "fonksiyon()"
   ]
  },
  {
   "cell_type": "code",
   "execution_count": 10,
   "id": "5370f24d-b6e0-420e-9678-a0606955140b",
   "metadata": {},
   "outputs": [
    {
     "name": "stdout",
     "output_type": "stream",
     "text": [
      "deli 33 yaşındadır\n"
     ]
    }
   ],
   "source": [
    "fonksiyon(y = 33, x = \"deli\")"
   ]
  },
  {
   "cell_type": "code",
   "execution_count": 9,
   "id": "b5cd2cb8-2030-4c81-bfe2-d084d80f8f23",
   "metadata": {},
   "outputs": [
    {
     "name": "stdout",
     "output_type": "stream",
     "text": [
      "veli 40 yaşındadır\n"
     ]
    }
   ],
   "source": [
    "fonksiyon(\"veli\", 40)"
   ]
  },
  {
   "cell_type": "code",
   "execution_count": 11,
   "id": "13bd92f8-c75e-40e1-8a5c-57b99727b8ec",
   "metadata": {},
   "outputs": [
    {
     "name": "stdout",
     "output_type": "stream",
     "text": [
      "selim 22 yaşındadır\n"
     ]
    }
   ],
   "source": [
    "fonksiyon(\"selim\")"
   ]
  },
  {
   "cell_type": "code",
   "execution_count": 12,
   "id": "8672da38-b183-4fa5-975a-979d6a0e6ce0",
   "metadata": {},
   "outputs": [
    {
     "name": "stdout",
     "output_type": "stream",
     "text": [
      "40 22 yaşındadır\n"
     ]
    }
   ],
   "source": [
    "fonksiyon(40)"
   ]
  },
  {
   "cell_type": "code",
   "execution_count": 19,
   "id": "1976d0f8-3936-4c26-afae-7c40f3775026",
   "metadata": {},
   "outputs": [],
   "source": [
    "def parrot(voltage, state='a stiff', action='voom', type='Norwegian Blue'):\n",
    "    print(\"-- This parrot wouldn't\", action, end=' ')\n",
    "    print(\"if you put\", voltage, \"volts through it.\")\n",
    "    print(\"-- Lovely plumage, the\", type)\n",
    "    print(\"-- It's\", state, \"!\")"
   ]
  },
  {
   "cell_type": "code",
   "execution_count": 20,
   "id": "f5f51c5b-3ad6-4572-8493-c335d5b47b8b",
   "metadata": {},
   "outputs": [
    {
     "name": "stdout",
     "output_type": "stream",
     "text": [
      "-- This parrot wouldn't voom if you put 1000 volts through it.\n",
      "-- Lovely plumage, the Norwegian Blue\n",
      "-- It's a stiff !\n"
     ]
    }
   ],
   "source": [
    "parrot(1000)"
   ]
  },
  {
   "cell_type": "code",
   "execution_count": 21,
   "id": "e236bcf0-28d8-49e8-bc7b-d88ba337b80a",
   "metadata": {},
   "outputs": [
    {
     "name": "stdout",
     "output_type": "stream",
     "text": [
      "-- This parrot wouldn't VOOOOOM if you put 1000000 volts through it.\n",
      "-- Lovely plumage, the Norwegian Blue\n",
      "-- It's a stiff !\n"
     ]
    }
   ],
   "source": [
    "parrot(voltage=1000000, action=\"VOOOOOM\")"
   ]
  },
  {
   "cell_type": "code",
   "execution_count": 22,
   "id": "2a1d68a1-6e93-460c-82e5-2df279bddf37",
   "metadata": {},
   "outputs": [
    {
     "name": "stdout",
     "output_type": "stream",
     "text": [
      "-- This parrot wouldn't voom if you put 1000000 volts through it.\n",
      "-- Lovely plumage, the Norwegian Blue\n",
      "-- It's a stiff !\n"
     ]
    }
   ],
   "source": [
    "parrot(voltage=1000000)"
   ]
  },
  {
   "cell_type": "code",
   "execution_count": 23,
   "id": "41cc21bd-d2fa-4bd7-b80a-e8380a815735",
   "metadata": {},
   "outputs": [
    {
     "name": "stdout",
     "output_type": "stream",
     "text": [
      "-- This parrot wouldn't VOOOOOM if you put 1000000 volts through it.\n",
      "-- Lovely plumage, the Norwegian Blue\n",
      "-- It's a stiff !\n"
     ]
    }
   ],
   "source": [
    "parrot(action='VOOOOOM', voltage=1000000)"
   ]
  },
  {
   "cell_type": "code",
   "execution_count": 24,
   "id": "a7d04ab0-a718-445b-a4e8-d34249370d95",
   "metadata": {},
   "outputs": [
    {
     "name": "stdout",
     "output_type": "stream",
     "text": [
      "-- This parrot wouldn't jump if you put a million volts through it.\n",
      "-- Lovely plumage, the Norwegian Blue\n",
      "-- It's bereft of life !\n"
     ]
    }
   ],
   "source": [
    "parrot(\"a million\", \"bereft of life\", \"jump\")"
   ]
  },
  {
   "cell_type": "code",
   "execution_count": 25,
   "id": "9b7d5988-7342-4419-adf1-e7330cfda847",
   "metadata": {},
   "outputs": [
    {
     "name": "stdout",
     "output_type": "stream",
     "text": [
      "-- This parrot wouldn't voom if you put a thousand volts through it.\n",
      "-- Lovely plumage, the Norwegian Blue\n",
      "-- It's pushin up the daisies !\n"
     ]
    }
   ],
   "source": [
    "parrot(\"a thousand\", state = \"pushin up the daisies\")"
   ]
  },
  {
   "cell_type": "code",
   "execution_count": 26,
   "id": "6f0875fa-ebe4-4be3-ba92-b95a9e885628",
   "metadata": {},
   "outputs": [
    {
     "ename": "TypeError",
     "evalue": "parrot() missing 1 required positional argument: 'voltage'",
     "output_type": "error",
     "traceback": [
      "\u001b[1;31m---------------------------------------------------------------------------\u001b[0m",
      "\u001b[1;31mTypeError\u001b[0m                                 Traceback (most recent call last)",
      "\u001b[1;32m~\\AppData\\Local\\Temp/ipykernel_10308/93929977.py\u001b[0m in \u001b[0;36m<module>\u001b[1;34m\u001b[0m\n\u001b[1;32m----> 1\u001b[1;33m \u001b[0mparrot\u001b[0m\u001b[1;33m(\u001b[0m\u001b[1;33m)\u001b[0m \u001b[1;31m# bir tane atama yapılacak değer yazmadığımız için çöalışmaz\u001b[0m\u001b[1;33m\u001b[0m\u001b[1;33m\u001b[0m\u001b[0m\n\u001b[0m",
      "\u001b[1;31mTypeError\u001b[0m: parrot() missing 1 required positional argument: 'voltage'"
     ]
    }
   ],
   "source": [
    "parrot() # bir tane atama yapılacak değer yazmadığımız için çöalışmaz"
   ]
  },
  {
   "cell_type": "code",
   "execution_count": 27,
   "id": "e896a99f-f034-43b9-924d-c3ff0b59daa5",
   "metadata": {},
   "outputs": [
    {
     "ename": "SyntaxError",
     "evalue": "positional argument follows keyword argument (Temp/ipykernel_10308/2748735825.py, line 1)",
     "output_type": "error",
     "traceback": [
      "\u001b[1;36m  File \u001b[1;32m\"C:\\Users\\YFHP\\AppData\\Local\\Temp/ipykernel_10308/2748735825.py\"\u001b[1;36m, line \u001b[1;32m1\u001b[0m\n\u001b[1;33m    parrot(state = \"ball\", \"a billion\")\u001b[0m\n\u001b[1;37m                                      ^\u001b[0m\n\u001b[1;31mSyntaxError\u001b[0m\u001b[1;31m:\u001b[0m positional argument follows keyword argument\n"
     ]
    }
   ],
   "source": [
    "parrot(state = \"ball\", \"a billion\")"
   ]
  },
  {
   "cell_type": "code",
   "execution_count": 29,
   "id": "1bf94680-773f-4365-868d-f3d8c8a2459b",
   "metadata": {},
   "outputs": [],
   "source": [
    "def argu(a,c,b = \"dünya\",  d = \"satürn\") :# önce atama yapılmayanlar yazılacak\n",
    "    print(a,b,c,d, sep = \"\\n\")"
   ]
  },
  {
   "cell_type": "code",
   "execution_count": 30,
   "id": "dee70bcc-df57-443d-a1ae-e89d320eef62",
   "metadata": {},
   "outputs": [
    {
     "name": "stdout",
     "output_type": "stream",
     "text": [
      "uranüs\n",
      "dünya\n",
      "jüpiter\n",
      "satürn\n"
     ]
    }
   ],
   "source": [
    "argu(\"uranüs\", \"jüpiter\")"
   ]
  },
  {
   "cell_type": "code",
   "execution_count": 31,
   "id": "fac2fc67-b517-484a-9be4-de489995bb57",
   "metadata": {},
   "outputs": [
    {
     "name": "stdout",
     "output_type": "stream",
     "text": [
      "uranüs\n",
      "dünya\n",
      "jüpiter\n",
      "satürn\n"
     ]
    }
   ],
   "source": [
    "argu( a = \"uranüs\", c = \"jüpiter\")"
   ]
  },
  {
   "cell_type": "code",
   "execution_count": 32,
   "id": "9cec9f46-db05-4abe-ae8c-60ace9308a17",
   "metadata": {},
   "outputs": [
    {
     "ename": "SyntaxError",
     "evalue": "positional argument follows keyword argument (Temp/ipykernel_10308/3816069982.py, line 1)",
     "output_type": "error",
     "traceback": [
      "\u001b[1;36m  File \u001b[1;32m\"C:\\Users\\YFHP\\AppData\\Local\\Temp/ipykernel_10308/3816069982.py\"\u001b[1;36m, line \u001b[1;32m1\u001b[0m\n\u001b[1;33m    argu(\"plüto\", c= \"venüs\", \"mars\")\u001b[0m\n\u001b[1;37m                                    ^\u001b[0m\n\u001b[1;31mSyntaxError\u001b[0m\u001b[1;31m:\u001b[0m positional argument follows keyword argument\n"
     ]
    }
   ],
   "source": [
    "argu(\"plüto\", c= \"venüs\", \"mars\") # önce atama yapılmayanlar yazılmalı"
   ]
  },
  {
   "cell_type": "code",
   "execution_count": 33,
   "id": "54654b42-327f-4d97-b695-276de605b82c",
   "metadata": {},
   "outputs": [
    {
     "ename": "TypeError",
     "evalue": "argu() got multiple values for argument 'c'",
     "output_type": "error",
     "traceback": [
      "\u001b[1;31m---------------------------------------------------------------------------\u001b[0m",
      "\u001b[1;31mTypeError\u001b[0m                                 Traceback (most recent call last)",
      "\u001b[1;32m~\\AppData\\Local\\Temp/ipykernel_10308/2429989509.py\u001b[0m in \u001b[0;36m<module>\u001b[1;34m\u001b[0m\n\u001b[1;32m----> 1\u001b[1;33m \u001b[0margu\u001b[0m\u001b[1;33m(\u001b[0m\u001b[1;34m\"plüto\"\u001b[0m\u001b[1;33m,\u001b[0m \u001b[1;34m\"mars\"\u001b[0m\u001b[1;33m,\u001b[0m \u001b[0mc\u001b[0m\u001b[1;33m=\u001b[0m \u001b[1;34m\"venüs\"\u001b[0m\u001b[1;33m)\u001b[0m\u001b[1;33m\u001b[0m\u001b[1;33m\u001b[0m\u001b[0m\n\u001b[0m",
      "\u001b[1;31mTypeError\u001b[0m: argu() got multiple values for argument 'c'"
     ]
    }
   ],
   "source": [
    "argu(\"plüto\", \"mars\", c= \"venüs\") # c'ye iki kere atama yapıldı hata verir."
   ]
  },
  {
   "cell_type": "code",
   "execution_count": 34,
   "id": "ce6fdc58-d1c8-4ab6-9a78-3aa49192b57a",
   "metadata": {},
   "outputs": [
    {
     "name": "stdout",
     "output_type": "stream",
     "text": [
      "dünya\n",
      "venüs\n",
      "plüto\n",
      "güneş\n"
     ]
    }
   ],
   "source": [
    "argu(d = \"güneş\", a = \"dünya\", c = \"plüto\", b = \"venüs\")"
   ]
  },
  {
   "cell_type": "code",
   "execution_count": 36,
   "id": "adfbc98c-b6eb-4c5c-b06a-02d938e3dcec",
   "metadata": {},
   "outputs": [
    {
     "name": "stdout",
     "output_type": "stream",
     "text": [
      "güneş\n",
      "plüto\n",
      "dünya\n",
      "venüs\n"
     ]
    }
   ],
   "source": [
    "argu(\"güneş\",\"dünya\",\"plüto\",\"venüs\")"
   ]
  },
  {
   "cell_type": "markdown",
   "id": "a5fb9037-1d6c-4f5d-bb33-9f05c9e1719e",
   "metadata": {},
   "source": [
    "# is it a Armstrong Number?"
   ]
  },
  {
   "cell_type": "code",
   "execution_count": 4,
   "id": "0d79813d-5fd1-42f8-9625-876715ecdbf0",
   "metadata": {},
   "outputs": [
    {
     "name": "stdin",
     "output_type": "stream",
     "text": [
      "enter a positivive integer number : 63105425988599693916\n"
     ]
    },
    {
     "name": "stdout",
     "output_type": "stream",
     "text": [
      "63105425988599693916 is an Armstrong Numnber\n"
     ]
    }
   ],
   "source": [
    "while True :\n",
    "    number = input(\"enter a positivive integer number :\")\n",
    "    digits = len(number)\n",
    "    summ = 0\n",
    "    if not number.isdigit() :\n",
    "        print(number, \"is invalid entry. Enter valid input.\")\n",
    "    elif int(number) >= 0 :\n",
    "        for i in range(digits) :\n",
    "            summ = summ + int(number[i]) ** digits\n",
    "        if summ == int(number) :\n",
    "            print(number, \"is an Armstrong Numnber\")\n",
    "            break\n",
    "        else :\n",
    "            print(number, \"is not an Armstrong Number\")\n",
    "            break            "
   ]
  },
  {
   "cell_type": "markdown",
   "id": "20feaf8d-e0a4-4ebd-a205-ca6b2b2e6aee",
   "metadata": {},
   "source": [
    "# is it a Prime Number?"
   ]
  },
  {
   "cell_type": "code",
   "execution_count": 11,
   "id": "db6329be-6ff7-409f-9add-1c33406fbfa0",
   "metadata": {},
   "outputs": [
    {
     "name": "stdin",
     "output_type": "stream",
     "text": [
      "Enter a positive number to check if it is a Prime Number 1\n"
     ]
    },
    {
     "name": "stdout",
     "output_type": "stream",
     "text": [
      "1 is not a prime Number\n"
     ]
    }
   ],
   "source": [
    "n = int(input( \"Enter a positive number to check if it is a Prime Number\"))\n",
    "counter = 0\n",
    "for i in range(1, n+1) :\n",
    "    if n % i== 0 :\n",
    "        counter += 1\n",
    "if (n == 0) or (n == 1) or (counter >= 3) :\n",
    "    print(n, \"is not a prime Number\")\n",
    "else :\n",
    "    print(n, \"is a Prime Number\")"
   ]
  },
  {
   "cell_type": "code",
   "execution_count": 19,
   "id": "d0ecbc12-cadf-456a-b711-3f684dfb0633",
   "metadata": {},
   "outputs": [
    {
     "name": "stdin",
     "output_type": "stream",
     "text": [
      "Enter a number: 2\n"
     ]
    }
   ],
   "source": [
    "asal = int(input(\"Enter a number:\"))\n",
    "blm = range(2,asal)\n",
    "if asal > 1 :\n",
    "    for i in blm :\n",
    "        if ((asal % i) == 0):\n",
    "            print(asal, \"is not a prime number\")\n",
    "        else :\n",
    "            print(asal, \"is a prime number\")\n",
    "        break\n",
    "else :\n",
    "    print(asal, \"is not a prime number\")"
   ]
  },
  {
   "cell_type": "code",
   "execution_count": null,
   "id": "e487b9db-d901-4c0a-b79f-8e54d2417065",
   "metadata": {},
   "outputs": [],
   "source": []
  }
 ],
 "metadata": {
  "kernelspec": {
   "display_name": "Python 3 (ipykernel)",
   "language": "python",
   "name": "python3"
  },
  "language_info": {
   "codemirror_mode": {
    "name": "ipython",
    "version": 3
   },
   "file_extension": ".py",
   "mimetype": "text/x-python",
   "name": "python",
   "nbconvert_exporter": "python",
   "pygments_lexer": "ipython3",
   "version": "3.9.7"
  }
 },
 "nbformat": 4,
 "nbformat_minor": 5
}
