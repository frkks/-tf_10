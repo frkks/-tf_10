{
 "cells": [
  {
   "cell_type": "code",
   "execution_count": 3,
   "id": "b931df4f-0d61-4607-8b00-00e971060e49",
   "metadata": {},
   "outputs": [
    {
     "name": "stdout",
     "output_type": "stream",
     "text": [
      "-6\n"
     ]
    }
   ],
   "source": [
    "no1, no2 = 46, 52\n",
    "no3 = no1 - no2\n",
    "print(no3)"
   ]
  },
  {
   "cell_type": "code",
   "execution_count": 1,
   "id": "b3bcddf9-f7be-4d90-8ad6-405d7bc8ff36",
   "metadata": {},
   "outputs": [
    {
     "data": {
      "text/plain": [
       "5.5"
      ]
     },
     "execution_count": 1,
     "metadata": {},
     "output_type": "execute_result"
    }
   ],
   "source": [
    "11/2"
   ]
  },
  {
   "cell_type": "code",
   "execution_count": 2,
   "id": "104001af-c358-4f97-a040-8ec1001a4ffa",
   "metadata": {},
   "outputs": [
    {
     "data": {
      "text/plain": [
       "5"
      ]
     },
     "execution_count": 2,
     "metadata": {},
     "output_type": "execute_result"
    }
   ],
   "source": [
    "11//2"
   ]
  },
  {
   "cell_type": "code",
   "execution_count": 3,
   "id": "99f193a5-4349-45b0-8cf4-c53b0d2393c2",
   "metadata": {},
   "outputs": [
    {
     "data": {
      "text/plain": [
       "8"
      ]
     },
     "execution_count": 3,
     "metadata": {},
     "output_type": "execute_result"
    }
   ],
   "source": [
    "2**3"
   ]
  },
  {
   "cell_type": "code",
   "execution_count": 6,
   "id": "e4fd2d71-e081-44b9-adde-e1f095bb02ec",
   "metadata": {},
   "outputs": [
    {
     "data": {
      "text/plain": [
       "78.5"
      ]
     },
     "execution_count": 6,
     "metadata": {},
     "output_type": "execute_result"
    }
   ],
   "source": [
    "3.14*5**2"
   ]
  },
  {
   "cell_type": "code",
   "execution_count": 10,
   "id": "a0dcbb61-25fb-4f9e-9184-cefd39b4333b",
   "metadata": {
    "tags": []
   },
   "outputs": [
    {
     "name": "stdout",
     "output_type": "stream",
     "text": [
      "78.5\n"
     ]
    }
   ],
   "source": [
    "pi = 3.14\n",
    "r = 5\n",
    "area = pi * r ** 2\n",
    "print(area)"
   ]
  },
  {
   "cell_type": "code",
   "execution_count": 15,
   "id": "0cf7a924-a68d-40a8-a24c-55264c89d7c9",
   "metadata": {},
   "outputs": [],
   "source": [
    "değiş = 10"
   ]
  },
  {
   "cell_type": "code",
   "execution_count": 16,
   "id": "2579aa09-72c8-40f8-a7d6-138f923597e6",
   "metadata": {},
   "outputs": [
    {
     "data": {
      "text/plain": [
       "21"
      ]
     },
     "execution_count": 16,
     "metadata": {},
     "output_type": "execute_result"
    }
   ],
   "source": [
    "değiş = değiş + 11\n",
    "değiş"
   ]
  },
  {
   "cell_type": "code",
   "execution_count": 18,
   "id": "da89432f-154e-4b11-869a-c3f1f2aaa931",
   "metadata": {},
   "outputs": [],
   "source": [
    "değiş2 = 5"
   ]
  },
  {
   "cell_type": "code",
   "execution_count": 19,
   "id": "0fe890fd-5dd4-43ec-a466-3bae31baa37c",
   "metadata": {},
   "outputs": [
    {
     "data": {
      "text/plain": [
       "10"
      ]
     },
     "execution_count": 19,
     "metadata": {},
     "output_type": "execute_result"
    }
   ],
   "source": [
    "değiş2 = değiş2 * 2\n",
    "değiş2"
   ]
  },
  {
   "cell_type": "code",
   "execution_count": 21,
   "id": "1f08f046-34bb-430d-b15e-dc6c7c075797",
   "metadata": {},
   "outputs": [],
   "source": [
    "değişken3 = 12"
   ]
  },
  {
   "cell_type": "code",
   "execution_count": 22,
   "id": "c3e36586-fe02-42d8-8bc6-19423d2be241",
   "metadata": {},
   "outputs": [
    {
     "data": {
      "text/plain": [
       "13"
      ]
     },
     "execution_count": 22,
     "metadata": {},
     "output_type": "execute_result"
    }
   ],
   "source": [
    "değişken3 += 1\n",
    "değişken3"
   ]
  },
  {
   "cell_type": "code",
   "execution_count": 24,
   "id": "89f591c6-cbd7-45ab-9d75-917189ad4f8a",
   "metadata": {},
   "outputs": [
    {
     "data": {
      "text/plain": [
       "52"
      ]
     },
     "execution_count": 24,
     "metadata": {},
     "output_type": "execute_result"
    }
   ],
   "source": [
    "değişken3 *= 2\n",
    "değişken3"
   ]
  },
  {
   "cell_type": "code",
   "execution_count": 31,
   "id": "e81ce96d-ec5f-48e9-94db-aada0ae1d3a5",
   "metadata": {},
   "outputs": [
    {
     "data": {
      "text/plain": [
       "5.0"
      ]
     },
     "execution_count": 31,
     "metadata": {},
     "output_type": "execute_result"
    }
   ],
   "source": [
    "a = 3\n",
    "b = 4\n",
    "C = (a**2 + b ** 2) ** 0.5 # üçgen uzun kenar bulma\n",
    "C"
   ]
  },
  {
   "cell_type": "code",
   "execution_count": 37,
   "id": "5b04c2bd-21b5-4df4-b93f-fa092363c450",
   "metadata": {},
   "outputs": [
    {
     "name": "stdout",
     "output_type": "stream",
     "text": [
      "ali aslı\n",
      "veli ayşe\n",
      "selvi baharat 44\n",
      "False ahmet 44\n"
     ]
    }
   ],
   "source": [
    "print(\"ali\", \"aslı\")\n",
    "print(\"veli\", \"ayşe\")\n",
    "print(\"selvi\", \"baharat\", 44)\n",
    "print(False, \"ahmet\", 44)"
   ]
  },
  {
   "cell_type": "code",
   "execution_count": 38,
   "id": "83a402ea-76e3-4a75-bf5e-7a5df02084a1",
   "metadata": {},
   "outputs": [
    {
     "name": "stdout",
     "output_type": "stream",
     "text": [
      "False-ahmet-44\n"
     ]
    }
   ],
   "source": [
    "print(False, \"ahmet\", 44, sep = \"-\")"
   ]
  },
  {
   "cell_type": "code",
   "execution_count": 39,
   "id": "c70c98f1-61d3-47ab-9d54-c2f61898729a",
   "metadata": {},
   "outputs": [
    {
     "name": "stdout",
     "output_type": "stream",
     "text": [
      "False**ahmet**44\n"
     ]
    }
   ],
   "source": [
    "print(False, \"ahmet\", 44, sep = \"**\")"
   ]
  },
  {
   "cell_type": "code",
   "execution_count": 40,
   "id": "4bf9332a-6f97-4283-9557-e7049a4db707",
   "metadata": {},
   "outputs": [
    {
     "name": "stdout",
     "output_type": "stream",
     "text": [
      "aliveli ayşe\n"
     ]
    }
   ],
   "source": [
    "print(\"ali\", end = \"\")\n",
    "print(\"veli\", \"ayşe\")"
   ]
  },
  {
   "cell_type": "code",
   "execution_count": 41,
   "id": "f6ca2d81-213c-41dc-8db7-15ae89dc8c07",
   "metadata": {},
   "outputs": [
    {
     "name": "stdout",
     "output_type": "stream",
     "text": [
      "ali veli ayşe\n"
     ]
    }
   ],
   "source": [
    "print(\"ali\", end = \" \")\n",
    "print(\"veli\", \"ayşe\")"
   ]
  },
  {
   "cell_type": "code",
   "execution_count": 42,
   "id": "ba9c8f6a-ab6d-4ac4-ae77-c1f88ad5a7d9",
   "metadata": {},
   "outputs": [
    {
     "name": "stdout",
     "output_type": "stream",
     "text": [
      "ali\n",
      "veli ayşe\n"
     ]
    }
   ],
   "source": [
    "print(\"ali\")\n",
    "print(\"veli\", \"ayşe\")"
   ]
  },
  {
   "cell_type": "code",
   "execution_count": 47,
   "id": "8482e10f-57f6-4296-b447-ac6e0ae28cd2",
   "metadata": {},
   "outputs": [
    {
     "name": "stdout",
     "output_type": "stream",
     "text": [
      "Ahmet'in ceketi\n"
     ]
    }
   ],
   "source": [
    "print(\"Ahmet'in ceketi\")"
   ]
  },
  {
   "cell_type": "code",
   "execution_count": 48,
   "id": "4e6cb463-0dfa-44e9-9be4-a44e5d5255e7",
   "metadata": {},
   "outputs": [
    {
     "name": "stdout",
     "output_type": "stream",
     "text": [
      "Ahmet'in ceketi\n"
     ]
    }
   ],
   "source": [
    "print(\"Ahmet\\'in ceketi\")"
   ]
  },
  {
   "cell_type": "code",
   "execution_count": 49,
   "id": "c0ae79aa-47a5-4abe-a438-1f0cc69e8a9a",
   "metadata": {},
   "outputs": [
    {
     "name": "stdout",
     "output_type": "stream",
     "text": [
      "ClClarusway, Clarusway, Clarusway,\n",
      "\tClarusway, Clarusway, Clarusway,\n",
      "\t\tClarusway, Clarusway, Clarusway\n"
     ]
    }
   ],
   "source": [
    "text = '''Clarusway, Clarusway, Clarusway,\n",
    "\\tClarusway, Clarusway, Clarusway,\n",
    "\\t\\tClarusway, Clarusway, Clarusway'''\n",
    "\n",
    "print(text)"
   ]
  },
  {
   "cell_type": "code",
   "execution_count": null,
   "id": "f633349f-ad16-4ed6-8f31-e78020105f25",
   "metadata": {},
   "outputs": [],
   "source": []
  }
 ],
 "metadata": {
  "kernelspec": {
   "display_name": "Python 3 (ipykernel)",
   "language": "python",
   "name": "python3"
  },
  "language_info": {
   "codemirror_mode": {
    "name": "ipython",
    "version": 3
   },
   "file_extension": ".py",
   "mimetype": "text/x-python",
   "name": "python",
   "nbconvert_exporter": "python",
   "pygments_lexer": "ipython3",
   "version": "3.9.7"
  }
 },
 "nbformat": 4,
 "nbformat_minor": 5
}
