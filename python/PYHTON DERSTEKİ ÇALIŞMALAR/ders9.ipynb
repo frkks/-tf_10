{
 "cells": [
  {
   "cell_type": "code",
   "execution_count": 1,
   "id": "7a6e39ff-806d-4f1d-9f2a-2ff1d910b71a",
   "metadata": {},
   "outputs": [
    {
     "name": "stdout",
     "output_type": "stream",
     "text": [
      "(1, 2, 3, 4, 5, 6, 7, 8, 9, 10)\n",
      "<class 'tuple'>\n"
     ]
    }
   ],
   "source": [
    "sayılarım = tuple(range(1,11))\n",
    "print(sayılarım, type(sayılarım), sep=\"\\n\")"
   ]
  },
  {
   "cell_type": "code",
   "execution_count": 2,
   "id": "b4aaa748-2190-4a6f-9958-b19c0952f4de",
   "metadata": {},
   "outputs": [
    {
     "data": {
      "text/plain": [
       "range(1, 11)"
      ]
     },
     "execution_count": 2,
     "metadata": {},
     "output_type": "execute_result"
    }
   ],
   "source": [
    "sayılar = range(1, 11)\n",
    "sayılar"
   ]
  },
  {
   "cell_type": "code",
   "execution_count": 3,
   "id": "49c4cfb3-0fa3-4d49-9d55-88cc9182977a",
   "metadata": {},
   "outputs": [
    {
     "data": {
      "text/plain": [
       "(1, 2, 3, 4, 5, 6, 7, 8, 9, 10)"
      ]
     },
     "execution_count": 3,
     "metadata": {},
     "output_type": "execute_result"
    }
   ],
   "source": [
    "tuple(sayılar)"
   ]
  },
  {
   "cell_type": "code",
   "execution_count": 4,
   "id": "24ee0d25-a6e1-4b9a-b968-2814d7c5e034",
   "metadata": {},
   "outputs": [
    {
     "name": "stdout",
     "output_type": "stream",
     "text": [
      "six\n"
     ]
    }
   ],
   "source": [
    "mix_tuple = ('11', 11, [2, 'two', ('six', 6)], (5, 'fair'))\n",
    "print(mix_tuple[2][2][0])"
   ]
  },
  {
   "cell_type": "code",
   "execution_count": 5,
   "id": "2bf68156-35fb-4881-bedb-200371beba49",
   "metadata": {},
   "outputs": [
    {
     "data": {
      "text/plain": [
       "('11', 11, [2, 'two', ('six', 6), False], (5, 'fair'))"
      ]
     },
     "execution_count": 5,
     "metadata": {},
     "output_type": "execute_result"
    }
   ],
   "source": [
    "mix_tuple[2].append(False)\n",
    "mix_tuple"
   ]
  },
  {
   "cell_type": "code",
   "execution_count": 6,
   "id": "747e39dd-7a53-4ffa-b3ac-4040e314ed23",
   "metadata": {},
   "outputs": [
    {
     "name": "stdout",
     "output_type": "stream",
     "text": [
      "['two', ('six', 6)]\n",
      "<class 'list'>\n"
     ]
    }
   ],
   "source": [
    "mix_tuple = ('11', 11, [2, 'two', ('six', 6)], (5, 'fair'))\n",
    "str_six = mix_tuple[2][1:3]\n",
    "print(str_six, type(str_six), sep=\"\\n\")"
   ]
  },
  {
   "cell_type": "code",
   "execution_count": 7,
   "id": "cd2d78d6-aa82-4097-91c7-b2a31e6d67db",
   "metadata": {},
   "outputs": [
    {
     "name": "stdout",
     "output_type": "stream",
     "text": [
      "fair\n",
      "fair\n"
     ]
    }
   ],
   "source": [
    "mix_tuple = ('11', 11, [2, 'two', ('six', 6)], (5, 'fair'))\n",
    "print(mix_tuple[-1][-1])\n",
    "print(mix_tuple[3][1])"
   ]
  },
  {
   "cell_type": "code",
   "execution_count": 8,
   "id": "5a0e566b-b16d-49ef-aa1f-a0cef1ed9439",
   "metadata": {},
   "outputs": [
    {
     "data": {
      "text/plain": [
       "{1: 'one', 'two': 2, False: [1, 2, 3], 1.5: ('one', 'two'), (1, 2): 'clrsy'}"
      ]
     },
     "execution_count": 8,
     "metadata": {},
     "output_type": "execute_result"
    }
   ],
   "source": [
    "first_dict = {1:\"one\", \"two\":2, False:[1,2,3],1.5:(\"one\",\"two\"), (1,2):\"clrsy\"}\n",
    "first_dict"
   ]
  },
  {
   "cell_type": "code",
   "execution_count": 41,
   "id": "391d3f6a-5475-4f3f-9b27-dd0372feee5d",
   "metadata": {},
   "outputs": [
    {
     "ename": "TypeError",
     "evalue": "unhashable type: 'list'",
     "output_type": "error",
     "traceback": [
      "\u001b[1;31m---------------------------------------------------------------------------\u001b[0m",
      "\u001b[1;31mTypeError\u001b[0m                                 Traceback (most recent call last)",
      "\u001b[1;32m~\\AppData\\Local\\Temp/ipykernel_9984/1965175792.py\u001b[0m in \u001b[0;36m<module>\u001b[1;34m\u001b[0m\n\u001b[1;32m----> 1\u001b[1;33m \u001b[0msecond_dict\u001b[0m \u001b[1;33m=\u001b[0m \u001b[1;33m{\u001b[0m\u001b[1;33m[\u001b[0m\u001b[1;36m1\u001b[0m\u001b[1;33m,\u001b[0m\u001b[1;36m2\u001b[0m\u001b[1;33m]\u001b[0m\u001b[1;33m:\u001b[0m \u001b[1;34m\"one\"\u001b[0m\u001b[1;33m,\u001b[0m \u001b[1;34m\"two\"\u001b[0m\u001b[1;33m:\u001b[0m\u001b[1;36m2\u001b[0m\u001b[1;33m,\u001b[0m \u001b[1;32mFalse\u001b[0m\u001b[1;33m:\u001b[0m\u001b[1;33m[\u001b[0m\u001b[1;36m1\u001b[0m\u001b[1;33m,\u001b[0m\u001b[1;36m2\u001b[0m\u001b[1;33m,\u001b[0m\u001b[1;36m3\u001b[0m\u001b[1;33m]\u001b[0m\u001b[1;33m,\u001b[0m\u001b[1;36m1.5\u001b[0m\u001b[1;33m:\u001b[0m\u001b[1;33m(\u001b[0m\u001b[1;34m\"one\"\u001b[0m\u001b[1;33m,\u001b[0m\u001b[1;34m\"two\"\u001b[0m\u001b[1;33m)\u001b[0m\u001b[1;33m,\u001b[0m \u001b[1;33m(\u001b[0m\u001b[1;36m1\u001b[0m\u001b[1;33m,\u001b[0m\u001b[1;36m2\u001b[0m\u001b[1;33m)\u001b[0m\u001b[1;33m:\u001b[0m\u001b[1;34m\"clrsy\"\u001b[0m\u001b[1;33m}\u001b[0m\u001b[1;33m\u001b[0m\u001b[1;33m\u001b[0m\u001b[0m\n\u001b[0m\u001b[0;32m      2\u001b[0m \u001b[0msecond_dict\u001b[0m\u001b[1;33m\u001b[0m\u001b[1;33m\u001b[0m\u001b[0m\n",
      "\u001b[1;31mTypeError\u001b[0m: unhashable type: 'list'"
     ]
    }
   ],
   "source": [
    "second_dict = {[1,2]: \"one\", \"two\":2, False:[1,2,3],1.5:(\"one\",\"two\"), (1,2):\"clrsy\"}\n",
    "second_dict               "
   ]
  },
  {
   "cell_type": "code",
   "execution_count": 43,
   "id": "041c4164-d24f-4c1f-a7bb-9b8503fd75bc",
   "metadata": {},
   "outputs": [
    {
     "ename": "TypeError",
     "evalue": "unhashable type: 'dict'",
     "output_type": "error",
     "traceback": [
      "\u001b[1;31m---------------------------------------------------------------------------\u001b[0m",
      "\u001b[1;31mTypeError\u001b[0m                                 Traceback (most recent call last)",
      "\u001b[1;32m~\\AppData\\Local\\Temp/ipykernel_9984/1141915301.py\u001b[0m in \u001b[0;36m<module>\u001b[1;34m\u001b[0m\n\u001b[1;32m----> 1\u001b[1;33m \u001b[0mthird_dict\u001b[0m \u001b[1;33m=\u001b[0m \u001b[1;33m{\u001b[0m\u001b[1;33m{\u001b[0m\u001b[1;36m1\u001b[0m\u001b[1;33m:\u001b[0m\u001b[1;36m2\u001b[0m\u001b[1;33m}\u001b[0m \u001b[1;33m:\u001b[0m \u001b[1;34m\"one\"\u001b[0m\u001b[1;33m,\u001b[0m \u001b[1;34m\"two\"\u001b[0m \u001b[1;33m:\u001b[0m \u001b[1;36m2\u001b[0m\u001b[1;33m,\u001b[0m \u001b[1;32mFalse\u001b[0m\u001b[1;33m:\u001b[0m\u001b[1;33m[\u001b[0m\u001b[1;36m1\u001b[0m\u001b[1;33m,\u001b[0m\u001b[1;36m2\u001b[0m\u001b[1;33m,\u001b[0m\u001b[1;36m3\u001b[0m\u001b[1;33m]\u001b[0m\u001b[1;33m,\u001b[0m \u001b[1;36m1.5\u001b[0m\u001b[1;33m:\u001b[0m\u001b[1;33m(\u001b[0m\u001b[1;34m\"one\"\u001b[0m\u001b[1;33m,\u001b[0m\u001b[1;34m\"two\"\u001b[0m\u001b[1;33m)\u001b[0m\u001b[1;33m,\u001b[0m \u001b[1;33m(\u001b[0m\u001b[1;36m1\u001b[0m\u001b[1;33m,\u001b[0m\u001b[1;36m2\u001b[0m\u001b[1;33m)\u001b[0m\u001b[1;33m:\u001b[0m \u001b[1;34m\"clrsy\"\u001b[0m\u001b[1;33m}\u001b[0m\u001b[1;33m\u001b[0m\u001b[1;33m\u001b[0m\u001b[0m\n\u001b[0m\u001b[0;32m      2\u001b[0m \u001b[0mthird_dict\u001b[0m\u001b[1;33m\u001b[0m\u001b[1;33m\u001b[0m\u001b[0m\n",
      "\u001b[1;31mTypeError\u001b[0m: unhashable type: 'dict'"
     ]
    }
   ],
   "source": [
    "third_dict = {{1:2} : \"one\", \"two\" : 2, False:[1,2,3], 1.5:(\"one\",\"two\"), (1,2): \"clrsy\"}\n",
    "third_dict"
   ]
  },
  {
   "cell_type": "code",
   "execution_count": 44,
   "id": "6e34518c-f54f-42a1-abc7-9d9c61df6b6c",
   "metadata": {},
   "outputs": [
    {
     "ename": "SyntaxError",
     "evalue": "expression cannot contain assignment, perhaps you meant \"==\"? (Temp/ipykernel_9984/2006507315.py, line 1)",
     "output_type": "error",
     "traceback": [
      "\u001b[1;36m  File \u001b[1;32m\"C:\\Users\\YFHP\\AppData\\Local\\Temp/ipykernel_9984/2006507315.py\"\u001b[1;36m, line \u001b[1;32m1\u001b[0m\n\u001b[1;33m    dict(1 = \"bir\")\u001b[0m\n\u001b[1;37m         ^\u001b[0m\n\u001b[1;31mSyntaxError\u001b[0m\u001b[1;31m:\u001b[0m expression cannot contain assignment, perhaps you meant \"==\"?\n"
     ]
    }
   ],
   "source": [
    "dict(1 = \"bir\")"
   ]
  },
  {
   "cell_type": "code",
   "execution_count": 12,
   "id": "075ae5ed-8fcd-4cbb-ad4b-eedbb90467f2",
   "metadata": {},
   "outputs": [
    {
     "data": {
      "text/plain": [
       "{1: 'bir'}"
      ]
     },
     "execution_count": 12,
     "metadata": {},
     "output_type": "execute_result"
    }
   ],
   "source": [
    "{1 : \"bir\"}"
   ]
  },
  {
   "cell_type": "code",
   "execution_count": 13,
   "id": "7f7d6829-db05-4138-991a-747bf512717b",
   "metadata": {},
   "outputs": [
    {
     "data": {
      "text/plain": [
       "{'isim': 'ali veli'}"
      ]
     },
     "execution_count": 13,
     "metadata": {},
     "output_type": "execute_result"
    }
   ],
   "source": [
    "dict(isim = \"ali veli\")"
   ]
  },
  {
   "cell_type": "code",
   "execution_count": 14,
   "id": "b8bf127d-6cf8-46b3-9cae-2e9dea4c2abe",
   "metadata": {},
   "outputs": [
    {
     "data": {
      "text/plain": [
       "{'sayılar': [1, 2, 3], 'harfler': {1: 'bir'}}"
      ]
     },
     "execution_count": 14,
     "metadata": {},
     "output_type": "execute_result"
    }
   ],
   "source": [
    "dict(sayılar = [1,2,3], harfler = {1: 'bir'})"
   ]
  },
  {
   "cell_type": "code",
   "execution_count": 15,
   "id": "c139694d-205d-4b1e-9365-aac2607eec7c",
   "metadata": {},
   "outputs": [
    {
     "name": "stdout",
     "output_type": "stream",
     "text": [
      "{'name1': 'faruk', 'name2': 'yagmur', 'name3': ' hilmi', 'name4': 'pınar', 'name5': 'naciye'}\n"
     ]
    }
   ],
   "source": [
    "famliy = {\"name1\" : \"faruk\",\n",
    "          \"name2\" : \"yagmur\",\n",
    "          \"name3\" :\" hilmi\",\n",
    "          \"name4\" : \"pınar\"}\n",
    "famliy[\"name5\"] = 'naciye'\n",
    "print(famliy)"
   ]
  },
  {
   "cell_type": "code",
   "execution_count": 16,
   "id": "6a5fa2e8-746f-41d3-b308-40c0dc1a9916",
   "metadata": {},
   "outputs": [
    {
     "name": "stdout",
     "output_type": "stream",
     "text": [
      "{'animal': 'dog', 'planet': 'neptun', 'number': 40, 'pi': 3.14, 'is_good': True}\n"
     ]
    }
   ],
   "source": [
    "dict_by_dict = dict(animal='dog', planet='neptun', number=40, pi=3.14, is_good=True)\n",
    "print(dict_by_dict)"
   ]
  },
  {
   "cell_type": "code",
   "execution_count": 17,
   "id": "36e8e02d-54d2-45f9-92c6-e3ee5c7c8916",
   "metadata": {},
   "outputs": [
    {
     "data": {
      "text/plain": [
       "{'animal': 'dog',\n",
       " 'planet': 'neptun',\n",
       " 'number': 40,\n",
       " 'pi': 3.14,\n",
       " 'is_good': True}"
      ]
     },
     "execution_count": 17,
     "metadata": {},
     "output_type": "execute_result"
    }
   ],
   "source": [
    "dict_by_dict"
   ]
  },
  {
   "cell_type": "code",
   "execution_count": 18,
   "id": "09b3e6d1-e112-480a-a08b-0d610f4e90fe",
   "metadata": {},
   "outputs": [],
   "source": [
    "bir = \"on\""
   ]
  },
  {
   "cell_type": "code",
   "execution_count": 19,
   "id": "259fc057-9a3b-43b0-a030-a917b0c6ef69",
   "metadata": {},
   "outputs": [
    {
     "data": {
      "text/plain": [
       "'on'"
      ]
     },
     "execution_count": 19,
     "metadata": {},
     "output_type": "execute_result"
    }
   ],
   "source": [
    "bir"
   ]
  },
  {
   "cell_type": "code",
   "execution_count": 45,
   "id": "dfce41d0-e70e-4f37-9e3c-e926f4a92124",
   "metadata": {},
   "outputs": [
    {
     "ename": "SyntaxError",
     "evalue": "invalid syntax (Temp/ipykernel_9984/3225015967.py, line 1)",
     "output_type": "error",
     "traceback": [
      "\u001b[1;36m  File \u001b[1;32m\"C:\\Users\\YFHP\\AppData\\Local\\Temp/ipykernel_9984/3225015967.py\"\u001b[1;36m, line \u001b[1;32m1\u001b[0m\n\u001b[1;33m    xx = dict(\"bir\" : \"one\", \"iki\" : \"two\")\u001b[0m\n\u001b[1;37m                    ^\u001b[0m\n\u001b[1;31mSyntaxError\u001b[0m\u001b[1;31m:\u001b[0m invalid syntax\n"
     ]
    }
   ],
   "source": [
    "xx = dict(\"bir\" : \"one\", \"iki\" : \"two\")"
   ]
  },
  {
   "cell_type": "code",
   "execution_count": 21,
   "id": "4cde7eab-dce5-48d3-a61d-9f95bb7cd7f0",
   "metadata": {},
   "outputs": [],
   "source": [
    "sehir = \"istanbul\"\n",
    "isim = \"yasemin\"\n",
    "nüfus = 1000\n",
    "yagmurlumu = False"
   ]
  },
  {
   "cell_type": "code",
   "execution_count": 22,
   "id": "5231d1bc-72c8-43c3-9b66-2549c7504ec7",
   "metadata": {},
   "outputs": [
    {
     "data": {
      "text/plain": [
       "{1: 'istanbul', 'yasemin': 'bayan', 'nüfusum': 1000, 'hava_yağmurlu_mu': False}"
      ]
     },
     "execution_count": 22,
     "metadata": {},
     "output_type": "execute_result"
    }
   ],
   "source": [
    "benim = {1 : sehir, isim : \"bayan\", \"nüfusum\" : nüfus, \"hava_yağmurlu_mu\" : yagmurlumu}\n",
    "benim"
   ]
  },
  {
   "cell_type": "code",
   "execution_count": 23,
   "id": "725cb6c6-ba3b-491f-a2bc-b3bb43bbbd65",
   "metadata": {},
   "outputs": [
    {
     "data": {
      "text/plain": [
       "'istanbul'"
      ]
     },
     "execution_count": 23,
     "metadata": {},
     "output_type": "execute_result"
    }
   ],
   "source": [
    "benim[1]"
   ]
  },
  {
   "cell_type": "code",
   "execution_count": 24,
   "id": "ecc246a4-de2b-4549-aafe-e36538c9b283",
   "metadata": {},
   "outputs": [
    {
     "data": {
      "text/plain": [
       "'bayan'"
      ]
     },
     "execution_count": 24,
     "metadata": {},
     "output_type": "execute_result"
    }
   ],
   "source": [
    "benim[\"yasemin\"]"
   ]
  },
  {
   "cell_type": "code",
   "execution_count": 25,
   "id": "3f693d71-02b8-4cc7-8ac2-3cb8693ad906",
   "metadata": {},
   "outputs": [
    {
     "data": {
      "text/plain": [
       "1000"
      ]
     },
     "execution_count": 25,
     "metadata": {},
     "output_type": "execute_result"
    }
   ],
   "source": [
    "benim[\"nüfusum\"]"
   ]
  },
  {
   "cell_type": "code",
   "execution_count": 26,
   "id": "8f11f8bc-cddc-4d81-bde8-0e59760cbfb8",
   "metadata": {},
   "outputs": [
    {
     "data": {
      "text/plain": [
       "{'name1': 'faruk', 'name2': 'yagmur', 'name3': 'hilmi', 'name4': 'pınar'}"
      ]
     },
     "execution_count": 26,
     "metadata": {},
     "output_type": "execute_result"
    }
   ],
   "source": [
    "famliy1 = dict(name1 = \"faruk\", name2 = \"yagmur\", name3 = \"hilmi\", name4 = \"pınar\")\n",
    "famliy1"
   ]
  },
  {
   "cell_type": "code",
   "execution_count": 27,
   "id": "772a0d52-31c3-4f21-ab84-89f1736c21fd",
   "metadata": {},
   "outputs": [
    {
     "data": {
      "text/plain": [
       "{1: 'istanbul',\n",
       " 'yasemin': 'bayan',\n",
       " 'nüfusum': 1000,\n",
       " 'hava_yağmurlu_mu': False,\n",
       " 'a': 1,\n",
       " 'b': 2}"
      ]
     },
     "execution_count": 27,
     "metadata": {},
     "output_type": "execute_result"
    }
   ],
   "source": [
    "benim.update({\"a\" : 1, \"b\" : 2})\n",
    "benim"
   ]
  },
  {
   "cell_type": "code",
   "execution_count": 28,
   "id": "7bf68c33-f269-427f-8909-916398664a97",
   "metadata": {},
   "outputs": [
    {
     "data": {
      "text/plain": [
       "16"
      ]
     },
     "execution_count": 28,
     "metadata": {},
     "output_type": "execute_result"
    }
   ],
   "source": [
    "numbers = [-1, 3,7, 4, 3, 0, 16, 3, 7, 0, 3, 0, 1]\n",
    "max(numbers)"
   ]
  },
  {
   "cell_type": "code",
   "execution_count": 29,
   "id": "acb162a4-b65b-4dd7-af33-1a5e74e32ee1",
   "metadata": {},
   "outputs": [
    {
     "data": {
      "text/plain": [
       "5"
      ]
     },
     "execution_count": 29,
     "metadata": {},
     "output_type": "execute_result"
    }
   ],
   "source": [
    "max(2, 3, 5)"
   ]
  },
  {
   "cell_type": "code",
   "execution_count": 30,
   "id": "e6ffe76c-ef54-4b30-bd86-fae3f8195713",
   "metadata": {},
   "outputs": [
    {
     "data": {
      "text/plain": [
       "'Boş'"
      ]
     },
     "execution_count": 30,
     "metadata": {},
     "output_type": "execute_result"
    }
   ],
   "source": [
    "empty = []\n",
    "max(empty, default=\"Boş\") # boş olursa default da ne yazarsan onu yazdırır."
   ]
  },
  {
   "cell_type": "code",
   "execution_count": 31,
   "id": "75c11fed-2d11-4c4a-a8f5-6e5403357599",
   "metadata": {},
   "outputs": [
    {
     "data": {
      "text/plain": [
       "'112'"
      ]
     },
     "execution_count": 31,
     "metadata": {},
     "output_type": "execute_result"
    }
   ],
   "source": [
    "empty = []\n",
    "max(empty, default=\"112\")"
   ]
  },
  {
   "cell_type": "code",
   "execution_count": 32,
   "id": "8c33583b-f624-4309-8789-bb871c050b18",
   "metadata": {},
   "outputs": [
    {
     "data": {
      "text/plain": [
       "'u'"
      ]
     },
     "execution_count": 32,
     "metadata": {},
     "output_type": "execute_result"
    }
   ],
   "source": [
    "max(\"faruk\")"
   ]
  },
  {
   "cell_type": "code",
   "execution_count": 33,
   "id": "9cf9e3fe-4ea6-499b-8c28-1a2762f027a2",
   "metadata": {},
   "outputs": [
    {
     "data": {
      "text/plain": [
       "4"
      ]
     },
     "execution_count": 33,
     "metadata": {},
     "output_type": "execute_result"
    }
   ],
   "source": [
    "sequence = [1, 1, 1, 1, 2, 2, 2, 3, 3, 4]\n",
    "max(sequence)"
   ]
  },
  {
   "cell_type": "code",
   "execution_count": 34,
   "id": "887e3314-c004-47f6-a8d1-38aeca6afe6b",
   "metadata": {},
   "outputs": [
    {
     "data": {
      "text/plain": [
       "1"
      ]
     },
     "execution_count": 34,
     "metadata": {},
     "output_type": "execute_result"
    }
   ],
   "source": [
    "sequence.count(4)"
   ]
  },
  {
   "cell_type": "code",
   "execution_count": 35,
   "id": "e8831b34-82ac-4111-8474-ce064a7d3e57",
   "metadata": {},
   "outputs": [
    {
     "data": {
      "text/plain": [
       "2"
      ]
     },
     "execution_count": 35,
     "metadata": {},
     "output_type": "execute_result"
    }
   ],
   "source": [
    "sequence.count(3)"
   ]
  },
  {
   "cell_type": "code",
   "execution_count": 36,
   "id": "2e7ac8f4-36d0-4917-952c-1c88a41e0c3d",
   "metadata": {},
   "outputs": [
    {
     "data": {
      "text/plain": [
       "4"
      ]
     },
     "execution_count": 36,
     "metadata": {},
     "output_type": "execute_result"
    }
   ],
   "source": [
    "sequence.count(1)"
   ]
  },
  {
   "cell_type": "code",
   "execution_count": 37,
   "id": "4d17a723-7572-42ef-9c89-73f7cd8aeb7f",
   "metadata": {},
   "outputs": [
    {
     "data": {
      "text/plain": [
       "3"
      ]
     },
     "execution_count": 37,
     "metadata": {},
     "output_type": "execute_result"
    }
   ],
   "source": [
    "max(numbers, key = numbers.count)"
   ]
  },
  {
   "cell_type": "code",
   "execution_count": 38,
   "id": "66eab127-a753-46be-854f-4cb141eeead9",
   "metadata": {},
   "outputs": [
    {
     "data": {
      "text/plain": [
       "4"
      ]
     },
     "execution_count": 38,
     "metadata": {},
     "output_type": "execute_result"
    }
   ],
   "source": [
    "the_most = max(numbers, key = numbers.count)\n",
    "numbers.count(the_most)"
   ]
  },
  {
   "cell_type": "code",
   "execution_count": 39,
   "id": "5cb39fa0-fd63-4919-9856-89498eca6d3e",
   "metadata": {},
   "outputs": [
    {
     "data": {
      "text/plain": [
       "['van', 'ağrı', 'ankara', 'istanbul']"
      ]
     },
     "execution_count": 39,
     "metadata": {},
     "output_type": "execute_result"
    }
   ],
   "source": [
    "sehirler = [\"istanbul\", \"ağrı\", \"ankara\", \"van\"]\n",
    "sorted(sehirler, key = len)"
   ]
  },
  {
   "cell_type": "code",
   "execution_count": 40,
   "id": "84523378-e2ca-4d87-a6b7-406b569782b9",
   "metadata": {},
   "outputs": [
    {
     "data": {
      "text/plain": [
       "['istanbul', 'ankara', 'ağrı', 'van']"
      ]
     },
     "execution_count": 40,
     "metadata": {},
     "output_type": "execute_result"
    }
   ],
   "source": [
    "sorted(sehirler, key = len, reverse = True) # sorted in tersten sıralanışı"
   ]
  },
  {
   "cell_type": "code",
   "execution_count": null,
   "id": "82499742-fdc5-4ea1-9ac4-8db2f5b6f75e",
   "metadata": {},
   "outputs": [],
   "source": []
  },
  {
   "cell_type": "code",
   "execution_count": null,
   "id": "91e3b050-816d-46d3-9a4e-d8fc6824b118",
   "metadata": {},
   "outputs": [],
   "source": []
  },
  {
   "cell_type": "code",
   "execution_count": null,
   "id": "e992272e-a6be-4600-8365-fd52549b8373",
   "metadata": {},
   "outputs": [],
   "source": []
  },
  {
   "cell_type": "code",
   "execution_count": null,
   "id": "fd208962-181a-4bf3-a2d0-8c8d458059b3",
   "metadata": {},
   "outputs": [],
   "source": []
  }
 ],
 "metadata": {
  "kernelspec": {
   "display_name": "Python 3 (ipykernel)",
   "language": "python",
   "name": "python3"
  },
  "language_info": {
   "codemirror_mode": {
    "name": "ipython",
    "version": 3
   },
   "file_extension": ".py",
   "mimetype": "text/x-python",
   "name": "python",
   "nbconvert_exporter": "python",
   "pygments_lexer": "ipython3",
   "version": "3.9.7"
  }
 },
 "nbformat": 4,
 "nbformat_minor": 5
}
