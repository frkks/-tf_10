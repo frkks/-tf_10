{
 "cells": [
  {
   "cell_type": "code",
   "execution_count": 2,
   "id": "e9c6ec19-3663-43c6-8152-e9c24850b744",
   "metadata": {},
   "outputs": [
    {
     "data": {
      "text/plain": [
       "'121121'"
      ]
     },
     "execution_count": 2,
     "metadata": {},
     "output_type": "execute_result"
    }
   ],
   "source": [
    "sonuc = str((5 + 6) ** 2) + '121'\n",
    "sonuc"
   ]
  },
  {
   "cell_type": "code",
   "execution_count": 3,
   "id": "219e7f15-b9ac-4bb8-b4e2-e378d0123098",
   "metadata": {},
   "outputs": [
    {
     "data": {
      "text/plain": [
       "'121121121121121121121121'"
      ]
     },
     "execution_count": 3,
     "metadata": {},
     "output_type": "execute_result"
    }
   ],
   "source": [
    "sonuc = (sonu + sonuc) * 2\n",
    "sonuc"
   ]
  },
  {
   "cell_type": "code",
   "execution_count": 7,
   "id": "cff8cb0d-3c57-4c23-8625-8eac5178ce67",
   "metadata": {},
   "outputs": [
    {
     "data": {
      "text/plain": [
       "'claruswayclaruswayclarusway'"
      ]
     },
     "execution_count": 7,
     "metadata": {},
     "output_type": "execute_result"
    }
   ],
   "source": [
    "'clarusway' * 3"
   ]
  },
  {
   "cell_type": "code",
   "execution_count": 5,
   "id": "9bef4f7e-92da-4767-b974-e9a733cfe00b",
   "metadata": {},
   "outputs": [
    {
     "data": {
      "text/plain": [
       "'ali veli deliali veli deliali veli deli'"
      ]
     },
     "execution_count": 5,
     "metadata": {},
     "output_type": "execute_result"
    }
   ],
   "source": [
    "'ali veli deli' * 3"
   ]
  },
  {
   "cell_type": "code",
   "execution_count": 7,
   "id": "89928ca0-1f5e-43d8-a1c4-898e94b61c7a",
   "metadata": {},
   "outputs": [
    {
     "name": "stdout",
     "output_type": "stream",
     "text": [
      "c l a r u s w a y\n"
     ]
    }
   ],
   "source": [
    "print(* 'clarusway') # tüm iterıbillar(değişkenler) için geçerlidir."
   ]
  },
  {
   "cell_type": "code",
   "execution_count": null,
   "id": "68d7789a-6be3-49d6-ae26-ec50d8b36409",
   "metadata": {},
   "outputs": [],
   "source": [
    "1 + '1' #toplama olmaz"
   ]
  },
  {
   "cell_type": "code",
   "execution_count": 8,
   "id": "0e04174d-f473-4797-b84d-50e6715b0484",
   "metadata": {},
   "outputs": [],
   "source": [
    "saat = '05:00'\n",
    "yer = 'okul'\n",
    "miktar = 2"
   ]
  },
  {
   "cell_type": "code",
   "execution_count": 10,
   "id": "7cb95a80-ca23-4261-afed-292cb90b1ab5",
   "metadata": {},
   "outputs": [
    {
     "data": {
      "text/plain": [
       "'ben sbah 05:00 de uyandım okul a gittim. Gelirken de 2 kg elma aldım.'"
      ]
     },
     "execution_count": 10,
     "metadata": {},
     "output_type": "execute_result"
    }
   ],
   "source": [
    "'ben sabah {} de uyandım {} a gittim. Gelirken de {} kg elma aldım.'.format(saat, yer, miktar)"
   ]
  },
  {
   "cell_type": "code",
   "execution_count": 11,
   "id": "57a0a87c-0714-49b3-915a-69347a5d5c8b",
   "metadata": {},
   "outputs": [
    {
     "data": {
      "text/plain": [
       "'ben sbah 05:00 de uyandım okul a gittim. Gelirken de 2 kg elma aldım.'"
      ]
     },
     "execution_count": 11,
     "metadata": {},
     "output_type": "execute_result"
    }
   ],
   "source": [
    "'ben sabah {} de uyandım {} a gittim. Gelirken de {} kg elma aldım.'.format('05:00', 'okul', 2)"
   ]
  },
  {
   "cell_type": "code",
   "execution_count": 1,
   "id": "e137b284-3f76-4e68-b755-04dc53219aa1",
   "metadata": {},
   "outputs": [
    {
     "data": {
      "text/plain": [
       "'ben sabah 05:00 de uyandım okul a gittim. Gelirken de 2 kg elma aldım.'"
      ]
     },
     "execution_count": 1,
     "metadata": {},
     "output_type": "execute_result"
    }
   ],
   "source": [
    "'ben sabah {saat} de uyandım {yer} a gittim. Gelirken de {miktar} kg elma aldım.'.format(saat = '05:00', yer = 'okul', miktar = 2)"
   ]
  },
  {
   "cell_type": "code",
   "execution_count": 14,
   "id": "a1759b50-7fd0-4af5-bb57-34ed444e69ab",
   "metadata": {},
   "outputs": [
    {
     "data": {
      "text/plain": [
       "'ben sabah 05:00 de uyandım okul a gittim. Gelirken de 2 kg elma aldım.'"
      ]
     },
     "execution_count": 14,
     "metadata": {},
     "output_type": "execute_result"
    }
   ],
   "source": [
    "'ben sabah {1} de uyandım {0} a gittim. Gelirken de {2} kg elma aldım.'.format('okul', '05:00', 2)"
   ]
  },
  {
   "cell_type": "code",
   "execution_count": 15,
   "id": "7158f83c-62eb-4dbd-9678-ed039a43de8c",
   "metadata": {},
   "outputs": [
    {
     "name": "stdout",
     "output_type": "stream",
     "text": [
      "12-Feb-Feb\n",
      "12-Feb-Feb\n"
     ]
    }
   ],
   "source": [
    "print(\"{}-{}-{}\".format(\"12\", \"Feb\", \"Feb\")),\n",
    "print(\"{no}-{month}-{month}\".format(no=\"12\", month=\"Feb\"))"
   ]
  },
  {
   "cell_type": "code",
   "execution_count": 18,
   "id": "c3e35ad9-740c-4d7d-b669-3f8ad0269806",
   "metadata": {},
   "outputs": [
    {
     "name": "stdout",
     "output_type": "stream",
     "text": [
      "1111\n"
     ]
    }
   ],
   "source": [
    "text = f\"{str(11) + '11'}\"\n",
    "print(text)"
   ]
  },
  {
   "cell_type": "code",
   "execution_count": 21,
   "id": "ad52511d-f49d-4e25-84f0-3a614d2497f0",
   "metadata": {},
   "outputs": [
    {
     "name": "stdout",
     "output_type": "stream",
     "text": [
      "ali veli deli\n"
     ]
    }
   ],
   "source": [
    "text = f\"ali veli {'seli' .replace('s', 'd')}\"\n",
    "print(text)"
   ]
  },
  {
   "cell_type": "code",
   "execution_count": 27,
   "id": "6122b3e7-f229-4962-92ff-6e6ae8153f9e",
   "metadata": {},
   "outputs": [
    {
     "name": "stdout",
     "output_type": "stream",
     "text": [
      "My name is Mari̇am\n"
     ]
    }
   ],
   "source": [
    "a = 'MARİAM'\n",
    "ab = f\"My name is {a.capitalize()}\"\n",
    "print(ab)"
   ]
  },
  {
   "cell_type": "code",
   "execution_count": 29,
   "id": "1b2d9e83-0980-4e29-b4ff-6317df0fc4e3",
   "metadata": {},
   "outputs": [
    {
     "data": {
      "text/plain": [
       "'ben sabah 05:00 de uyandım okul a gittim. Gelirken de 2 kg elma aldım.'"
      ]
     },
     "execution_count": 29,
     "metadata": {},
     "output_type": "execute_result"
    }
   ],
   "source": [
    "'ben sabah {1} de uyandım {0} a gittim. Gelirken \\\n",
    "de {2} kg elma aldım.'.format(\\\n",
    "'okul', '05:00', 2)"
   ]
  },
  {
   "cell_type": "code",
   "execution_count": 13,
   "id": "e8b5d8f4-07e9-4bfb-b9f7-5048b9f5115c",
   "metadata": {},
   "outputs": [
    {
     "name": "stdout",
     "output_type": "stream",
     "text": [
      "susan is a young lady and she is a studentat the CLRWY İT university\n"
     ]
    }
   ],
   "source": [
    "name = \"susan\"\n",
    "age = \"young\"\n",
    "gender = \"lady\"\n",
    "school = \"CLRWY İT university\"\n",
    "\n",
    "task =(\n",
    "    f\"{name} is a {age} \"\n",
    "    f\"{gender} and she is a student\"\n",
    "    f\"at the {school}\"\n",
    ") \n",
    "print(task)"
   ]
  },
  {
   "cell_type": "code",
   "execution_count": 9,
   "id": "e7a807c5-85f6-4fb1-88b3-f3d95f47dc38",
   "metadata": {},
   "outputs": [
    {
     "data": {
      "text/plain": [
       "1605.7814764784307"
      ]
     },
     "execution_count": 9,
     "metadata": {},
     "output_type": "execute_result"
    }
   ],
   "source": [
    "para = 1000\n",
    "para = para * 1.07 ** 7\n",
    "para"
   ]
  },
  {
   "cell_type": "code",
   "execution_count": 11,
   "id": "9e7ba73b-e8b6-46e4-a843-b3b28a9f6471",
   "metadata": {},
   "outputs": [
    {
     "name": "stdout",
     "output_type": "stream",
     "text": [
      "clausway\n"
     ]
    }
   ],
   "source": [
    "word = 'clarusway'\n",
    "n = 3\n",
    "front = word[:3]\n",
    "back = word[4:]\n",
    "print(front + back)"
   ]
  },
  {
   "cell_type": "code",
   "execution_count": 38,
   "id": "ed1db5d9-3c2e-44ed-a359-a33faaf6c368",
   "metadata": {},
   "outputs": [
    {
     "name": "stdout",
     "output_type": "stream",
     "text": [
      "Hello i am a new programmer and i love Clarusway.\n"
     ]
    }
   ],
   "source": [
    "text = \"{}! I am a {} programmer and I {} Clarusway.\".format(\"Hello\", \"new\", \"love\")\n",
    "print(text)\n"
   ]
  },
  {
   "cell_type": "code",
   "execution_count": 49,
   "id": "440fab08-edd7-4dda-a546-7a5186fff688",
   "metadata": {},
   "outputs": [
    {
     "name": "stdout",
     "output_type": "stream",
     "text": [
      "I live in Sarajevo.\n"
     ]
    }
   ],
   "source": [
    "city = \"SARAJEVO\"\n",
    "text = f'I live in {city.capitalize()}.'\n",
    "print(text)"
   ]
  },
  {
   "cell_type": "code",
   "execution_count": 4,
   "id": "dd6f6e9e-bcda-4cd7-b520-99c2774e47d3",
   "metadata": {},
   "outputs": [
    {
     "data": {
      "text/plain": [
       "-4"
      ]
     },
     "execution_count": 4,
     "metadata": {},
     "output_type": "execute_result"
    }
   ],
   "source": [
    "A = (-10//3)\n",
    "A"
   ]
  },
  {
   "cell_type": "code",
   "execution_count": 12,
   "id": "c0fd8084-c468-4045-8ffe-83c54548f56c",
   "metadata": {},
   "outputs": [
    {
     "name": "stdin",
     "output_type": "stream",
     "text": [
      "neden sevinçlisin: telefonumu buldum\n",
      "çok sevindim sagol\n"
     ]
    },
    {
     "name": "stdout",
     "output_type": "stream",
     "text": [
      "Git telefonunu al\n"
     ]
    }
   ],
   "source": [
    "hilmi = input(\"neden sevinçlisin:\")\n",
    "hilmi1 = input(\"çok sevindim\")\n",
    "print(\"Git telefonunu al\")\n",
    "              "
   ]
  },
  {
   "cell_type": "code",
   "execution_count": null,
   "id": "1252c618-451b-4ea8-9dee-2a2705ce4750",
   "metadata": {},
   "outputs": [],
   "source": []
  }
 ],
 "metadata": {
  "kernelspec": {
   "display_name": "Python 3 (ipykernel)",
   "language": "python",
   "name": "python3"
  },
  "language_info": {
   "codemirror_mode": {
    "name": "ipython",
    "version": 3
   },
   "file_extension": ".py",
   "mimetype": "text/x-python",
   "name": "python",
   "nbconvert_exporter": "python",
   "pygments_lexer": "ipython3",
   "version": "3.9.7"
  }
 },
 "nbformat": 4,
 "nbformat_minor": 5
}
