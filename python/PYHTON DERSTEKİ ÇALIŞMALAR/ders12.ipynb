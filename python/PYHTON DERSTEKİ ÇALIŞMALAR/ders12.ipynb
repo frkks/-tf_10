{
 "cells": [
  {
   "cell_type": "code",
   "execution_count": 2,
   "id": "3423b982-6ff3-4c7c-9639-60fb40e9e25e",
   "metadata": {},
   "outputs": [],
   "source": [
    "bool_value = False"
   ]
  },
  {
   "cell_type": "code",
   "execution_count": 3,
   "id": "d4f961d8-eff7-467a-8817-0a5c541de3fa",
   "metadata": {},
   "outputs": [
    {
     "name": "stdout",
     "output_type": "stream",
     "text": [
      "No\n"
     ]
    }
   ],
   "source": [
    "if bool_value :\n",
    "    print(\"Yes\")\n",
    "else :\n",
    "    print(\"No\")"
   ]
  },
  {
   "cell_type": "code",
   "execution_count": 5,
   "id": "cbb13e27-4e0c-41c0-9bb6-e797d2e78c19",
   "metadata": {},
   "outputs": [
    {
     "name": "stdout",
     "output_type": "stream",
     "text": [
      "if bloku çalıştı\n",
      "ilk elif bloku çalıştı\n"
     ]
    }
   ],
   "source": [
    "if True :\n",
    "    print(\"if bloku çalıştı\")\n",
    "if True :\n",
    "    print(\"ilk elif bloku çalıştı\")"
   ]
  },
  {
   "cell_type": "code",
   "execution_count": 6,
   "id": "f869cf0e-2e31-43d4-aaf4-6be61f3ec164",
   "metadata": {},
   "outputs": [
    {
     "name": "stdin",
     "output_type": "stream",
     "text": [
      "Enter first number : 7\n",
      "Enter second number : 5\n",
      "Enter third number : 3\n"
     ]
    },
    {
     "name": "stdout",
     "output_type": "stream",
     "text": [
      "the largest İs :  7.0\n"
     ]
    }
   ],
   "source": [
    "num1 = float(input(\"Enter first number :\"))\n",
    "num2 = float(input(\"Enter second number :\"))\n",
    "num3 = float(input(\"Enter third number :\"))\n",
    "if (num1 > num2) and (num1 > num3):\n",
    "    largest = num1\n",
    "elif (num2 > num1) and (num2 > num3):\n",
    "    largest = num2\n",
    "else :\n",
    "    largest = num3\n",
    "print(\"the largest İs : \", largest)"
   ]
  },
  {
   "cell_type": "code",
   "execution_count": 7,
   "id": "2a639f9c-636d-4872-9960-1136a632c048",
   "metadata": {},
   "outputs": [
    {
     "name": "stdin",
     "output_type": "stream",
     "text": [
      "Enter positive or negative number: -8\n"
     ]
    },
    {
     "name": "stdout",
     "output_type": "stream",
     "text": [
      "-8.0 You entered negative number\n"
     ]
    }
   ],
   "source": [
    "number = float(input(\"Enter positive or negative number:\"))\n",
    "if number > 0 :\n",
    "    print(number, \"You entered positive number\")\n",
    "elif number == 0:\n",
    "    print(\"You entered Zero\")\n",
    "else:\n",
    "    print(number, \"You entered negative number\")"
   ]
  },
  {
   "cell_type": "code",
   "execution_count": 8,
   "id": "1958e2c4-110c-49c3-baff-91602e9636f2",
   "metadata": {},
   "outputs": [
    {
     "name": "stdin",
     "output_type": "stream",
     "text": [
      "Enter positive or negative number: 0\n"
     ]
    },
    {
     "name": "stdout",
     "output_type": "stream",
     "text": [
      "You entered Zero\n"
     ]
    }
   ],
   "source": [
    "number = float(input(\"Enter positive or negative number:\"))\n",
    "if number > 0 :\n",
    "    print(number, \"You entered positive number\")\n",
    "elif number == 0:\n",
    "    print(\"You entered Zero\")\n",
    "else:\n",
    "    print(number, \"You entered negative number\")"
   ]
  },
  {
   "cell_type": "code",
   "execution_count": 8,
   "id": "17acd1c8-d1a8-4916-8226-32c66c9762b4",
   "metadata": {},
   "outputs": [
    {
     "name": "stdin",
     "output_type": "stream",
     "text": [
      "Enter your scour: 25\n"
     ]
    },
    {
     "name": "stdout",
     "output_type": "stream",
     "text": [
      "your degree is B-\n"
     ]
    }
   ],
   "source": [
    "score = int(input(\"Enter your scour:\"))\n",
    "if score >= 90 :\n",
    "    if score >= 95 :\n",
    "        print(\"your degree is A+\")\n",
    "    elif score :\n",
    "         print(\"your degree is A\")\n",
    "elif score >= 80 :\n",
    "    if score >= 85 :\n",
    "        print(\"your degree is B+\")\n",
    "    elif score :\n",
    "         print(\"your degree is B\")\n",
    "else :\n",
    "    print(\"your degree is B-\")"
   ]
  },
  {
   "cell_type": "code",
   "execution_count": 15,
   "id": "ed490a70-5c55-4b0e-8b0b-4d62357fa87e",
   "metadata": {},
   "outputs": [
    {
     "name": "stdin",
     "output_type": "stream",
     "text": [
      "Enter your scour: 88\n"
     ]
    },
    {
     "name": "stdout",
     "output_type": "stream",
     "text": [
      "your degree is : B+\n"
     ]
    }
   ],
   "source": [
    "score = int(input(\"Enter your scour:\"))\n",
    "if score >= 90 :\n",
    "    if score >= 95 :\n",
    "        score_letter = \"A+\"\n",
    "    elif score :\n",
    "         score_letter = \"A\"\n",
    "elif score >= 80 :\n",
    "    if score >= 85 :\n",
    "        score_letter = \"B+\"\n",
    "    elif score :\n",
    "         score_letter = \"B\"\n",
    "else :\n",
    "    score_letter = \"B-\"\n",
    "print(\"your degree is :\", score_letter)"
   ]
  },
  {
   "cell_type": "code",
   "execution_count": 1,
   "id": "505c090f-f830-47dc-84bb-65659975670a",
   "metadata": {},
   "outputs": [],
   "source": [
    "while 0 : # False olduğu için\n",
    "    print(\"one\")"
   ]
  },
  {
   "cell_type": "code",
   "execution_count": 5,
   "id": "95f4188b-837b-421e-8159-2dc614f61894",
   "metadata": {},
   "outputs": [
    {
     "name": "stdout",
     "output_type": "stream",
     "text": [
      "4\n",
      "3\n",
      "2\n",
      "1\n",
      "0\n"
     ]
    }
   ],
   "source": [
    "condition = 5\n",
    "\n",
    "while condition : \n",
    "    condition -= 1\n",
    "    print(condition) # kod bloku 0 da duruyor 0 false dur."
   ]
  },
  {
   "cell_type": "code",
   "execution_count": 10,
   "id": "1452737c-3d32-4a28-831a-4f5f4888c15f",
   "metadata": {},
   "outputs": [],
   "source": [
    "condition = 5\n",
    "while condition <= -10 : \n",
    "     print(condition)\n",
    "condition -= 1\n",
    " "
   ]
  },
  {
   "cell_type": "code",
   "execution_count": 8,
   "id": "175f0223-a94e-4c7b-be96-2dc2960b1270",
   "metadata": {},
   "outputs": [
    {
     "name": "stdout",
     "output_type": "stream",
     "text": [
      "0\n",
      "1\n",
      "2\n",
      "3\n",
      "4\n",
      "5\n",
      "now , number is bigger or equel to 6\n"
     ]
    }
   ],
   "source": [
    "number = 0\n",
    "while number < 6 :\n",
    "    print(number)\n",
    "    number += 1\n",
    "print(\"now , number is bigger or equel to 6\")"
   ]
  },
  {
   "cell_type": "code",
   "execution_count": 4,
   "id": "47536b7f-13e6-426e-a43c-9bce0ad914f5",
   "metadata": {},
   "outputs": [
    {
     "name": "stdout",
     "output_type": "stream",
     "text": [
      "4\n",
      "3\n",
      "2\n",
      "1\n",
      "0\n"
     ]
    }
   ],
   "source": [
    "condition = 5\n",
    "while True : \n",
    "    condition -= 1\n",
    "    print(condition)\n",
    "    if condition == 0 :\n",
    "        break # bu kelime ile döngüden çıkılıyor"
   ]
  },
  {
   "cell_type": "code",
   "execution_count": 11,
   "id": "926fc515-cc05-4e05-8c45-6b863413340f",
   "metadata": {},
   "outputs": [
    {
     "ename": "SyntaxError",
     "evalue": "invalid syntax (Temp/ipykernel_2936/2005746709.py, line 4)",
     "output_type": "error",
     "traceback": [
      "\u001b[1;36m  File \u001b[1;32m\"C:\\Users\\YFHP\\AppData\\Local\\Temp/ipykernel_2936/2005746709.py\"\u001b[1;36m, line \u001b[1;32m4\u001b[0m\n\u001b[1;33m    print(\u001b[0m\n\u001b[1;37m    ^\u001b[0m\n\u001b[1;31mSyntaxError\u001b[0m\u001b[1;31m:\u001b[0m invalid syntax\n"
     ]
    }
   ],
   "source": [
    "my_list=[]\n",
    "a = 0\n",
    "while a < len(my\n",
    "        print("
   ]
  },
  {
   "cell_type": "code",
   "execution_count": null,
   "id": "f6da9b2e-260d-4de6-b677-3cb49e77e059",
   "metadata": {},
   "outputs": [
    {
     "name": "stdin",
     "output_type": "stream",
     "text": [
      "Enter your age please : 44.4\n"
     ]
    },
    {
     "name": "stdout",
     "output_type": "stream",
     "text": [
      "You entered incorrect.\n"
     ]
    },
    {
     "name": "stdin",
     "output_type": "stream",
     "text": [
      "Enter your age again : 44.2\n"
     ]
    },
    {
     "name": "stdout",
     "output_type": "stream",
     "text": [
      "You entered incorrect.\n"
     ]
    },
    {
     "name": "stdin",
     "output_type": "stream",
     "text": [
      "Enter your age again : 40\n"
     ]
    }
   ],
   "source": [
    "age = input(\"Enter your age please :\")\n",
    "while not age.isdigit() :\n",
    "    print(\"You entered incorrect.\")\n",
    "    age = input(\"Enter your age again :\")\n",
    "print(\"Great! you enter valid input :\", age)"
   ]
  },
  {
   "cell_type": "code",
   "execution_count": 1,
   "id": "04642fc3-ee8e-4ae4-b8ad-787988b68eb3",
   "metadata": {},
   "outputs": [
    {
     "data": {
      "text/plain": [
       "False"
      ]
     },
     "execution_count": 1,
     "metadata": {},
     "output_type": "execute_result"
    }
   ],
   "source": [
    "\"onaltı\".isdigit()"
   ]
  },
  {
   "cell_type": "code",
   "execution_count": 2,
   "id": "f41c9381-1a43-4365-a40f-4d1920777a35",
   "metadata": {},
   "outputs": [
    {
     "data": {
      "text/plain": [
       "False"
      ]
     },
     "execution_count": 2,
     "metadata": {},
     "output_type": "execute_result"
    }
   ],
   "source": [
    "\"44.0\".isdigit()"
   ]
  },
  {
   "cell_type": "code",
   "execution_count": 3,
   "id": "04b599ec-6633-4bb5-9c0d-40472566b60c",
   "metadata": {},
   "outputs": [
    {
     "data": {
      "text/plain": [
       "True"
      ]
     },
     "execution_count": 3,
     "metadata": {},
     "output_type": "execute_result"
    }
   ],
   "source": [
    "\"42\".isdigit()"
   ]
  },
  {
   "cell_type": "code",
   "execution_count": 3,
   "id": "cb18c1a6-c99a-4893-9fbb-dae847ad5fd9",
   "metadata": {},
   "outputs": [
    {
     "name": "stdout",
     "output_type": "stream",
     "text": [
      "lets play the quessing game\n"
     ]
    },
    {
     "name": "stdin",
     "output_type": "stream",
     "text": [
      "What a two-digit number i thinking of? 22\n"
     ]
    },
    {
     "name": "stdout",
     "output_type": "stream",
     "text": [
      "Are you a MINDREADER!!\n"
     ]
    }
   ],
   "source": [
    "answer1 = 22\n",
    "print(\"lets play the quessing game\")\n",
    "while True :\n",
    "    quess = int(input(\"What a two-digit number i thinking of?\"))\n",
    "    if quess < answer1 :\n",
    "                print(\"Little higher..\")\n",
    "    elif quess > answer1 :\n",
    "               print(\"Little lower..\")\n",
    "    else :\n",
    "                print(\"Are you a MINDREADER!!\")\n",
    "                break"
   ]
  },
  {
   "cell_type": "code",
   "execution_count": 8,
   "id": "77e52f66-0963-4158-aabf-838b30de7f0d",
   "metadata": {},
   "outputs": [
    {
     "name": "stdin",
     "output_type": "stream",
     "text": [
      "['Please', 'enter', 'a', 'sentence', ':'] The best is Clarusway\n"
     ]
    },
    {
     "name": "stdout",
     "output_type": "stream",
     "text": [
      "the leght the longest word is  0\n"
     ]
    }
   ],
   "source": [
    "task = input((\"Please enter a sentence : \").split())\n",
    "word = 0 \n",
    "longest = 0\n",
    "\n",
    "while i < len(task) :\n",
    "    if len(task[i]) > longest :\n",
    "        longest = len(task[i])\n",
    "    i += 1\n",
    "\n",
    "print(\"the leght the longest word is \", longest )"
   ]
  },
  {
   "cell_type": "code",
   "execution_count": 4,
   "id": "5043c7a4-08d8-43ec-98f6-6d51d6ace4fb",
   "metadata": {},
   "outputs": [
    {
     "data": {
      "text/plain": [
       "['The', 'best', 'is', 'Clarusway', 'always.']"
      ]
     },
     "execution_count": 4,
     "metadata": {},
     "output_type": "execute_result"
    }
   ],
   "source": [
    "\"The best is Clarusway always.\".split()"
   ]
  },
  {
   "cell_type": "code",
   "execution_count": 1,
   "id": "1f936772-db96-4b4d-9274-4dfa9fa43ca6",
   "metadata": {},
   "outputs": [
    {
     "name": "stdin",
     "output_type": "stream",
     "text": [
      "Give me a sentence. The best is Clarusway\n"
     ]
    },
    {
     "name": "stdout",
     "output_type": "stream",
     "text": [
      "the length of the longest word : 9\n"
     ]
    }
   ],
   "source": [
    "sentence = input(\"Give me a sentence.\")\n",
    "word_list = sentence.split()\n",
    "i = 0\n",
    "longest = 0\n",
    "while i < len(word_list) :\n",
    "    if len(word_list[i]) > longest :\n",
    "    \n",
    "        longest = len(word_list[i])\n",
    "    i += 1\n",
    "print(\"the length of the longest word :\", longest)"
   ]
  },
  {
   "cell_type": "code",
   "execution_count": null,
   "id": "32ce6879-e13e-45a3-afac-30f5e87fcb77",
   "metadata": {},
   "outputs": [],
   "source": []
  },
  {
   "cell_type": "code",
   "execution_count": null,
   "id": "a1473ee7-e494-4754-9218-e2d2d9b97a01",
   "metadata": {},
   "outputs": [],
   "source": []
  },
  {
   "cell_type": "code",
   "execution_count": null,
   "id": "e427da00-3e2a-4868-b8fa-27304aaa9a44",
   "metadata": {},
   "outputs": [],
   "source": []
  }
 ],
 "metadata": {
  "kernelspec": {
   "display_name": "Python 3 (ipykernel)",
   "language": "python",
   "name": "python3"
  },
  "language_info": {
   "codemirror_mode": {
    "name": "ipython",
    "version": 3
   },
   "file_extension": ".py",
   "mimetype": "text/x-python",
   "name": "python",
   "nbconvert_exporter": "python",
   "pygments_lexer": "ipython3",
   "version": "3.9.7"
  }
 },
 "nbformat": 4,
 "nbformat_minor": 5
}
