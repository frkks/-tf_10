{
 "cells": [
  {
   "cell_type": "code",
   "execution_count": 1,
   "id": "1a608fde-843d-440f-b50d-e5a41981fee3",
   "metadata": {},
   "outputs": [
    {
     "name": "stdin",
     "output_type": "stream",
     "text": [
      "write a word:  faruk\n"
     ]
    },
    {
     "data": {
      "text/plain": [
       "'True (uses both hand fingers)'"
      ]
     },
     "execution_count": 1,
     "metadata": {},
     "output_type": "execute_result"
    }
   ],
   "source": [
    "Left = {'q', 'w', 'e', 'r', 't', 'a', 's', 'd', 'f', 'g', 'z', 'x', 'c', 'v', 'b'}\n",
    "Right = {'y', 'u', 'i', 'o','p', 'h', 'j', 'k', 'l', 'n', 'm'}\n",
    "\n",
    "word = set(input(\"write a word: \").lower().strip())\n",
    "\n",
    "\n",
    "left = bool(word.intersection(Left))* \"False (uses only left-hand fingers)\"\n",
    "right = bool(word.intersection(Right))* \"False (uses only right-hand fingers)\"\n",
    "both = bool(left and right)* \"True (uses both hand fingers)\"\n",
    "\n",
    "\n",
    "both or right or left"
   ]
  },
  {
   "cell_type": "code",
   "execution_count": null,
   "id": "f4f03a3e-fc3e-4bcd-ae7e-2707548f99f2",
   "metadata": {},
   "outputs": [],
   "source": []
  }
 ],
 "metadata": {
  "kernelspec": {
   "display_name": "Python 3 (ipykernel)",
   "language": "python",
   "name": "python3"
  },
  "language_info": {
   "codemirror_mode": {
    "name": "ipython",
    "version": 3
   },
   "file_extension": ".py",
   "mimetype": "text/x-python",
   "name": "python",
   "nbconvert_exporter": "python",
   "pygments_lexer": "ipython3",
   "version": "3.9.7"
  }
 },
 "nbformat": 4,
 "nbformat_minor": 5
}
