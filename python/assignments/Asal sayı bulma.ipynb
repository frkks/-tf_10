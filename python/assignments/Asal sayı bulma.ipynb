{
 "cells": [
  {
   "cell_type": "code",
   "execution_count": 14,
   "id": "2e13e145-f47f-462a-bfce-bdef8d4eee92",
   "metadata": {},
   "outputs": [
    {
     "name": "stdin",
     "output_type": "stream",
     "text": [
      "Bir sayı giriniz: 99\n"
     ]
    },
    {
     "name": "stdout",
     "output_type": "stream",
     "text": [
      "99 Asal Sayı Deyildir\n"
     ]
    }
   ],
   "source": [
    "asal = int(input(\"Enter a number:\"))\n",
    "if ((asal == 3) or (asal == 5) or (asal == 7)) :\n",
    "    print(asal, \"is a prime number\")\n",
    "           \n",
    "elif (((asal % 2) == 0) or (asal % 3 == 0) or (asal % 4 == 0) or (asal % 5 == 0) or (asal % 6 == 0) or (asal % 7 == 0) or (asal % 8 == 0) or (asal % 9 == 0)) :\n",
    "    print(asal, \"is not a prime number\")\n",
    "           \n",
    "else :\n",
    "    print(asal, \"is not a prime number\")\n",
    "                        "
   ]
  },
  {
   "cell_type": "code",
   "execution_count": 1,
   "id": "88cf7d96-c5c2-4051-a6fb-8918a924d021",
   "metadata": {},
   "outputs": [
    {
     "name": "stdin",
     "output_type": "stream",
     "text": [
      "Enter a number: 19\n"
     ]
    },
    {
     "name": "stdout",
     "output_type": "stream",
     "text": [
      "19 is a prime number\n"
     ]
    }
   ],
   "source": [
    "asal = int(input(\"Enter a number:\"))\n",
    "blm = range(2,asal)\n",
    "if asal > 1 :\n",
    "    for i in blm :\n",
    "        if ((asal % i) == 0):\n",
    "            print(asal, \"is not a prime number\")\n",
    "        else :\n",
    "            print(asal, \"is a prime number\")\n",
    "        break\n",
    "else :\n",
    "    print(asal, \"is not a prime number\")"
   ]
  },
  {
   "cell_type": "code",
   "execution_count": null,
   "id": "5daafc42-0a13-4d27-bf85-1bf217f9dd38",
   "metadata": {},
   "outputs": [],
   "source": []
  },
  {
   "cell_type": "code",
   "execution_count": null,
   "id": "689ac74f-834a-4ff2-95b8-b7f5ed309ff5",
   "metadata": {},
   "outputs": [],
   "source": []
  }
 ],
 "metadata": {
  "kernelspec": {
   "display_name": "Python 3 (ipykernel)",
   "language": "python",
   "name": "python3"
  },
  "language_info": {
   "codemirror_mode": {
    "name": "ipython",
    "version": 3
   },
   "file_extension": ".py",
   "mimetype": "text/x-python",
   "name": "python",
   "nbconvert_exporter": "python",
   "pygments_lexer": "ipython3",
   "version": "3.9.7"
  }
 },
 "nbformat": 4,
 "nbformat_minor": 5
}
