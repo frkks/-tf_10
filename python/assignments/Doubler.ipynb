{
 "cells": [
  {
   "cell_type": "code",
   "execution_count": 1,
   "id": "d2ea063e-93c8-42dc-993d-ce3c57f831ba",
   "metadata": {},
   "outputs": [],
   "source": [
    "def sum_double(x, y):\n",
    "    if x == y:\n",
    "        return (x + y)*2\n",
    "    else:\n",
    "        return x + y"
   ]
  },
  {
   "cell_type": "code",
   "execution_count": 4,
   "id": "7f3bf8b4-e068-4c69-91ba-5ba22e4f3914",
   "metadata": {},
   "outputs": [
    {
     "data": {
      "text/plain": [
       "16"
      ]
     },
     "execution_count": 4,
     "metadata": {},
     "output_type": "execute_result"
    }
   ],
   "source": [
    "sum_double(4,4)"
   ]
  },
  {
   "cell_type": "code",
   "execution_count": null,
   "id": "6aa30939-bc21-4712-a705-24a298fbb3dc",
   "metadata": {},
   "outputs": [],
   "source": []
  }
 ],
 "metadata": {
  "kernelspec": {
   "display_name": "Python 3 (ipykernel)",
   "language": "python",
   "name": "python3"
  },
  "language_info": {
   "codemirror_mode": {
    "name": "ipython",
    "version": 3
   },
   "file_extension": ".py",
   "mimetype": "text/x-python",
   "name": "python",
   "nbconvert_exporter": "python",
   "pygments_lexer": "ipython3",
   "version": "3.9.7"
  }
 },
 "nbformat": 4,
 "nbformat_minor": 5
}
