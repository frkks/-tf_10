{
 "cells": [
  {
   "cell_type": "code",
   "execution_count": null,
   "id": "2f5102c5-96e7-4e6e-9020-40cd96ae7a69",
   "metadata": {},
   "outputs": [],
   "source": [
    "def compInt():\n",
    "    p=float(input(\"Anapara tutarını giriniz : \"))\n",
    "    t=float(input(\"Birim sürenizi giriniz giriniz : \"))\n",
    "    r=float(input(\"Faiz oranını giriniz : \"))\n",
    "    return p*(1+r/100)**t\n",
    "compInt()"
   ]
  },
  {
   "cell_type": "code",
   "execution_count": null,
   "id": "1630dbfb-c007-4296-9ca6-847261b29946",
   "metadata": {},
   "outputs": [],
   "source": []
  },
  {
   "cell_type": "code",
   "execution_count": null,
   "id": "18ec60a5-1ced-4266-a425-0762d89b2b43",
   "metadata": {},
   "outputs": [],
   "source": []
  },
  {
   "cell_type": "code",
   "execution_count": null,
   "id": "7706db82-9633-410c-aa3f-6733f94fabb6",
   "metadata": {},
   "outputs": [],
   "source": []
  },
  {
   "cell_type": "code",
   "execution_count": null,
   "id": "e5bd346d-2f14-4f74-95a1-298219a84868",
   "metadata": {},
   "outputs": [],
   "source": []
  },
  {
   "cell_type": "code",
   "execution_count": null,
   "id": "ac177d53-1e50-4c35-bebe-d5621f762507",
   "metadata": {},
   "outputs": [],
   "source": []
  },
  {
   "cell_type": "code",
   "execution_count": null,
   "id": "08780270-c5b1-4d7f-ac21-90ab0a95dbd3",
   "metadata": {},
   "outputs": [],
   "source": []
  },
  {
   "cell_type": "code",
   "execution_count": null,
   "id": "324a5f30-0560-440a-a1ad-c6a5920ebc96",
   "metadata": {},
   "outputs": [],
   "source": []
  }
 ],
 "metadata": {
  "kernelspec": {
   "display_name": "Python 3 (ipykernel)",
   "language": "python",
   "name": "python3"
  },
  "language_info": {
   "codemirror_mode": {
    "name": "ipython",
    "version": 3
   },
   "file_extension": ".py",
   "mimetype": "text/x-python",
   "name": "python",
   "nbconvert_exporter": "python",
   "pygments_lexer": "ipython3",
   "version": "3.9.7"
  }
 },
 "nbformat": 4,
 "nbformat_minor": 5
}
