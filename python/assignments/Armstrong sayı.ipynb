{
 "cells": [
  {
   "cell_type": "code",
   "execution_count": 4,
   "id": "19d2f707-c5c7-4bad-8c35-f65a3536965f",
   "metadata": {},
   "outputs": [
    {
     "name": "stdout",
     "output_type": "stream",
     "text": [
      "Please enter a positive integer number.  5\n"
     ]
    },
    {
     "name": "stdout",
     "output_type": "stream",
     "text": [
      "5 is an Armstrong number.\n"
     ]
    }
   ],
   "source": [
    "while True:\n",
    "    number = input(\"Please enter a positive integer number. \")\n",
    "    if number.isdigit():\n",
    "        number1 = int(number)\n",
    "        num = str(number1)\n",
    "        counter = 0\n",
    "        for i in num:\n",
    "            num1 = (int(i) ** len(num))\n",
    "            counter += num1\n",
    "        if(number1 == counter) :\n",
    "            print(number1, \"is an Armstrong number.\")\n",
    "            break\n",
    "        else :\n",
    "            print(number1, \"is not an Armstrong number\")\n",
    "            break\n",
    "    else:\n",
    "        print(\"It is an invalid entry. Don't use non-numeric, float, or negative values!\")\n",
    "    pass"
   ]
  },
  {
   "cell_type": "code",
   "execution_count": null,
   "id": "14680079-858a-423e-9551-129f52c53624",
   "metadata": {},
   "outputs": [],
   "source": []
  }
 ],
 "metadata": {
  "kernelspec": {
   "display_name": "Python 3 (ipykernel)",
   "language": "python",
   "name": "python3"
  },
  "language_info": {
   "codemirror_mode": {
    "name": "ipython",
    "version": 3
   },
   "file_extension": ".py",
   "mimetype": "text/x-python",
   "name": "python",
   "nbconvert_exporter": "python",
   "pygments_lexer": "ipython3",
   "version": "3.9.7"
  }
 },
 "nbformat": 4,
 "nbformat_minor": 5
}
