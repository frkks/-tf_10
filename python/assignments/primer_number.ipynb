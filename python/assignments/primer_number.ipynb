{
 "cells": [
  {
   "cell_type": "markdown",
   "id": "bb521968-8b06-474a-87b0-8d93dd884ee0",
   "metadata": {},
   "source": [
    "# Prime Number"
   ]
  },
  {
   "cell_type": "code",
   "execution_count": 41,
   "id": "74a93354-46d1-4371-b586-88e1ff203f64",
   "metadata": {},
   "outputs": [
    {
     "name": "stdout",
     "output_type": "stream",
     "text": [
      "[2, 3, 5, 7, 11, 13, 17, 19, 23, 29, 31, 37, 41, 43, 47, 53, 59, 61, 67, 71, 73, 79, 83, 89, 97] 25\n"
     ]
    }
   ],
   "source": [
    "Primer_numbers = []\n",
    "for number in range(1,100):\n",
    "    if number > 1:\n",
    "        for x in range(2,number):\n",
    "            if (number % x) == 0:\n",
    "                break\n",
    "        else:\n",
    "            Primer_numbers.append(number)\n",
    "print(Primer_numbers, len(Primer_numbers))          \n",
    "        "
   ]
  },
  {
   "cell_type": "code",
   "execution_count": null,
   "id": "0c8f7692-47d1-4c03-9af9-02e1a53e6c07",
   "metadata": {},
   "outputs": [],
   "source": []
  },
  {
   "cell_type": "code",
   "execution_count": null,
   "id": "2548158f-9eaf-479b-bbb4-47ad0f29097a",
   "metadata": {},
   "outputs": [],
   "source": []
  }
 ],
 "metadata": {
  "kernelspec": {
   "display_name": "Python 3 (ipykernel)",
   "language": "python",
   "name": "python3"
  },
  "language_info": {
   "codemirror_mode": {
    "name": "ipython",
    "version": 3
   },
   "file_extension": ".py",
   "mimetype": "text/x-python",
   "name": "python",
   "nbconvert_exporter": "python",
   "pygments_lexer": "ipython3",
   "version": "3.9.7"
  }
 },
 "nbformat": 4,
 "nbformat_minor": 5
}
