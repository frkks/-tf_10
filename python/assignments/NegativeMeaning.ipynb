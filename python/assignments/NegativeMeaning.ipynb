{
 "cells": [
  {
   "cell_type": "code",
   "execution_count": 105,
   "id": "c10d8258-b90c-4647-9196-6ff42d6949db",
   "metadata": {},
   "outputs": [],
   "source": [
    "def not_string(word) :\n",
    "    if \"not\" in word :\n",
    "        return(word)\n",
    "    else :\n",
    "        return(\"not \" + word)   "
   ]
  },
  {
   "cell_type": "code",
   "execution_count": 106,
   "id": "438021e3-464d-4271-81ea-142445cb6808",
   "metadata": {},
   "outputs": [
    {
     "name": "stdout",
     "output_type": "stream",
     "text": [
      "not sugar\n"
     ]
    }
   ],
   "source": [
    "print(not_string('sugar'))"
   ]
  },
  {
   "cell_type": "code",
   "execution_count": 108,
   "id": "9cf62c31-a190-40f9-a5ab-7bd0892bab7b",
   "metadata": {},
   "outputs": [
    {
     "name": "stdout",
     "output_type": "stream",
     "text": [
      "not x\n"
     ]
    }
   ],
   "source": [
    "print(not_string('x'))"
   ]
  },
  {
   "cell_type": "code",
   "execution_count": 109,
   "id": "63b650bf-9f66-40e1-95de-c9fa16d4ddba",
   "metadata": {},
   "outputs": [
    {
     "name": "stdout",
     "output_type": "stream",
     "text": [
      "not bad\n"
     ]
    }
   ],
   "source": [
    "print(not_string('not bad'))"
   ]
  },
  {
   "cell_type": "code",
   "execution_count": null,
   "id": "e02d4648-df4e-4455-a5a2-6a03d4322990",
   "metadata": {},
   "outputs": [],
   "source": []
  }
 ],
 "metadata": {
  "kernelspec": {
   "display_name": "Python 3 (ipykernel)",
   "language": "python",
   "name": "python3"
  },
  "language_info": {
   "codemirror_mode": {
    "name": "ipython",
    "version": 3
   },
   "file_extension": ".py",
   "mimetype": "text/x-python",
   "name": "python",
   "nbconvert_exporter": "python",
   "pygments_lexer": "ipython3",
   "version": "3.9.7"
  }
 },
 "nbformat": 4,
 "nbformat_minor": 5
}
