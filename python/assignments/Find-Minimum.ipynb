{
 "cells": [
  {
   "cell_type": "code",
   "execution_count": 5,
   "id": "c372747b-aa90-4a31-b9a8-09d8b6cfbd23",
   "metadata": {},
   "outputs": [],
   "source": [
    "def my_min(*n) :\n",
    "    minimum = min(n)\n",
    "    return minimum"
   ]
  },
  {
   "cell_type": "code",
   "execution_count": 6,
   "id": "256ffa70-42df-4dbf-a127-c5c515c14697",
   "metadata": {},
   "outputs": [
    {
     "name": "stdout",
     "output_type": "stream",
     "text": [
      "-9\n"
     ]
    }
   ],
   "source": [
    "print(my_min(3,8,-9,0,12,1.2))"
   ]
  },
  {
   "cell_type": "code",
   "execution_count": null,
   "id": "0be27c9a-5036-4f31-8f5b-86fc71987029",
   "metadata": {},
   "outputs": [],
   "source": []
  }
 ],
 "metadata": {
  "kernelspec": {
   "display_name": "Python 3 (ipykernel)",
   "language": "python",
   "name": "python3"
  },
  "language_info": {
   "codemirror_mode": {
    "name": "ipython",
    "version": 3
   },
   "file_extension": ".py",
   "mimetype": "text/x-python",
   "name": "python",
   "nbconvert_exporter": "python",
   "pygments_lexer": "ipython3",
   "version": "3.9.7"
  }
 },
 "nbformat": 4,
 "nbformat_minor": 5
}
