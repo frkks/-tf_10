{
 "cells": [
  {
   "cell_type": "code",
   "execution_count": 2,
   "id": "588c6cbc-2771-408d-b0d9-5bfbe79412df",
   "metadata": {},
   "outputs": [
    {
     "name": "stdin",
     "output_type": "stream",
     "text": [
      "what is your name? : Joseph\n"
     ]
    },
    {
     "name": "stdout",
     "output_type": "stream",
     "text": [
      "Hello Joseph ! The password is : W@12\n"
     ]
    }
   ],
   "source": [
    "name = \"Joseph\"\n",
    "last_name = \"blue\"\n",
    "password = \"W@12\"\n",
    "question = str(input(\"what is your name? :\").capitalize())\n",
    "if name == question:\n",
    "    print(\"Hello\", name, \"!\", \"The password is :\", password)\n",
    "else :\n",
    "    print(\"Hello\", question, \"!\", \"See you later.\")"
   ]
  },
  {
   "cell_type": "code",
   "execution_count": null,
   "id": "2a7aed2c-4258-4eb5-b7fb-f016ea6e04b2",
   "metadata": {},
   "outputs": [],
   "source": []
  },
  {
   "cell_type": "code",
   "execution_count": null,
   "id": "c858508f-96c4-4021-a400-a3cd7b77107f",
   "metadata": {},
   "outputs": [],
   "source": []
  }
 ],
 "metadata": {
  "kernelspec": {
   "display_name": "Python 3 (ipykernel)",
   "language": "python",
   "name": "python3"
  },
  "language_info": {
   "codemirror_mode": {
    "name": "ipython",
    "version": 3
   },
   "file_extension": ".py",
   "mimetype": "text/x-python",
   "name": "python",
   "nbconvert_exporter": "python",
   "pygments_lexer": "ipython3",
   "version": "3.9.7"
  }
 },
 "nbformat": 4,
 "nbformat_minor": 5
}
