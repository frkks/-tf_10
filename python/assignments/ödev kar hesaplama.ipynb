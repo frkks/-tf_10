{
 "cells": [
  {
   "cell_type": "code",
   "execution_count": 4,
   "id": "3ed39c9f-2665-4acf-a9ad-06f53793110c",
   "metadata": {},
   "outputs": [
    {
     "name": "stdout",
     "output_type": "stream",
     "text": [
      "1.3424657534246576\n"
     ]
    }
   ],
   "source": [
    "günlük_kar=(((1000*7)*7))/36500\n",
    "print(günlük_kar)"
   ]
  },
  {
   "cell_type": "code",
   "execution_count": 4,
   "id": "fc2f0f9f-0c17-4f26-8fde-1150eb00ea59",
   "metadata": {},
   "outputs": [
    {
     "name": "stdout",
     "output_type": "stream",
     "text": [
      "1342.4657534246576\n"
     ]
    }
   ],
   "source": [
    "ana_para = (1000)\n",
    "günlük_kar = (7)\n",
    "kaç_gün = (7)\n",
    "formul_oranı = (36500)\n",
    "print(((((ana_para*günlük_kar)*kaç_gün))/36500)*ana_para)"
   ]
  },
  {
   "cell_type": "code",
   "execution_count": null,
   "id": "6836beb2-6321-424b-b61e-5a4abc5520e2",
   "metadata": {},
   "outputs": [],
   "source": []
  }
 ],
 "metadata": {
  "kernelspec": {
   "display_name": "Python 3 (ipykernel)",
   "language": "python",
   "name": "python3"
  },
  "language_info": {
   "codemirror_mode": {
    "name": "ipython",
    "version": 3
   },
   "file_extension": ".py",
   "mimetype": "text/x-python",
   "name": "python",
   "nbconvert_exporter": "python",
   "pygments_lexer": "ipython3",
   "version": "3.9.7"
  }
 },
 "nbformat": 4,
 "nbformat_minor": 5
}
