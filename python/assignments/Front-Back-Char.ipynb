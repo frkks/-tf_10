{
 "cells": [
  {
   "cell_type": "code",
   "execution_count": 59,
   "id": "fe471ebe-3fd3-4327-a931-e157799dc4fe",
   "metadata": {},
   "outputs": [],
   "source": [
    "def front_back(word):\n",
    "    word1 = word.replace(word[0], word[-1])\n",
    "    return word1[0:-1] + word[0]"
   ]
  },
  {
   "cell_type": "code",
   "execution_count": 60,
   "id": "8409edff-4dea-4809-83cf-6c70f71bf46f",
   "metadata": {},
   "outputs": [
    {
     "name": "stdout",
     "output_type": "stream",
     "text": [
      "ylaruswac\n"
     ]
    }
   ],
   "source": [
    "print(front_back('clarusway'))"
   ]
  },
  {
   "cell_type": "code",
   "execution_count": null,
   "id": "45981693-e74d-44f8-af81-7c3d346b1583",
   "metadata": {},
   "outputs": [],
   "source": []
  },
  {
   "cell_type": "code",
   "execution_count": 42,
   "id": "1e3d3526-46c3-4651-ab0e-d7cbbce39417",
   "metadata": {},
   "outputs": [],
   "source": []
  },
  {
   "cell_type": "code",
   "execution_count": null,
   "id": "54ffa416-df94-487b-9506-34b28c2b7153",
   "metadata": {},
   "outputs": [],
   "source": []
  }
 ],
 "metadata": {
  "kernelspec": {
   "display_name": "Python 3 (ipykernel)",
   "language": "python",
   "name": "python3"
  },
  "language_info": {
   "codemirror_mode": {
    "name": "ipython",
    "version": 3
   },
   "file_extension": ".py",
   "mimetype": "text/x-python",
   "name": "python",
   "nbconvert_exporter": "python",
   "pygments_lexer": "ipython3",
   "version": "3.9.7"
  }
 },
 "nbformat": 4,
 "nbformat_minor": 5
}
