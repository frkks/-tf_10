{
 "cells": [
  {
   "cell_type": "code",
   "execution_count": 1,
   "id": "45b77523-4953-4715-b314-60771ae3171b",
   "metadata": {},
   "outputs": [
    {
     "name": "stdin",
     "output_type": "stream",
     "text": [
      "Lütfen bir metin giriniz:  Bu proje kapsamında girilen cümlelerdeki harf veya karakter sayısını hesaplamanız istenmektedir. Bir Python programı yazın;\n"
     ]
    },
    {
     "name": "stdout",
     "output_type": "stream",
     "text": [
      "{'B': 2, 'u': 1, ' ': 14, 'p': 4, 'r': 10, 'o': 3, 'j': 1, 'e': 11, 'k': 5, 'a': 13, 's': 5, 'm': 5, 'ı': 7, 'n': 7, 'd': 3, 'g': 2, 'i': 6, 'l': 4, 'c': 1, 'ü': 1, 'h': 3, 'f': 1, 'v': 1, 'y': 4, 't': 4, 'z': 2, '.': 1, 'P': 1, ';': 1}\n"
     ]
    }
   ],
   "source": [
    "metin= input(\"Bir metin giriniz: \")\n",
    "harf=[]\n",
    "sayi=[]\n",
    "for i in metin :\n",
    "    if not (i in harf):\n",
    "        harf.append(i)\n",
    "        sayi.append(1)\n",
    "    else:\n",
    "        sayi[harf.index(i)]=sayi[harf.index(i)]+1\n",
    "cıktı = (zip(harf, sayi))\n",
    "print(dict(cıktı))"
   ]
  },
  {
   "cell_type": "code",
   "execution_count": 2,
   "id": "29a9b3a5-7658-4802-a5ff-ac2c971784ea",
   "metadata": {},
   "outputs": [
    {
     "name": "stdin",
     "output_type": "stream",
     "text": [
      "Lütfen bir metin giriniz:  Bir Python programı yazın;\n"
     ]
    },
    {
     "name": "stdout",
     "output_type": "stream",
     "text": [
      "{'B': 1, 'i': 1, 'r': 3, ' ': 3, 'P': 1, 'y': 2, 't': 1, 'h': 1, 'o': 2, 'n': 2, 'p': 1, 'g': 1, 'a': 2, 'm': 1, 'ı': 2, 'z': 1, ';': 1}\n"
     ]
    }
   ],
   "source": [
    "metin= input(\"Lütfen bir metin giriniz: \")\n",
    "harf=[]\n",
    "sayi=[]\n",
    "for i in metin :\n",
    "    sayi.append(len(i))\n",
    "    if not (i in harf):\n",
    "        harf.append(i)\n",
    "    else:\n",
    "        sayi[harf.index(i)]=sayi[harf.index(i)]+1\n",
    "cıktı = (zip(harf, sayi))\n",
    "print(dict(cıktı))"
   ]
  },
  {
   "cell_type": "code",
   "execution_count": null,
   "id": "17248f09-1db5-41dc-bb51-618715e8245a",
   "metadata": {},
   "outputs": [],
   "source": [
    "   "
   ]
  },
  {
   "cell_type": "code",
   "execution_count": null,
   "id": "f1a0e791-fd19-451f-8816-ff738810bf64",
   "metadata": {},
   "outputs": [],
   "source": []
  }
 ],
 "metadata": {
  "kernelspec": {
   "display_name": "Python 3 (ipykernel)",
   "language": "python",
   "name": "python3"
  },
  "language_info": {
   "codemirror_mode": {
    "name": "ipython",
    "version": 3
   },
   "file_extension": ".py",
   "mimetype": "text/x-python",
   "name": "python",
   "nbconvert_exporter": "python",
   "pygments_lexer": "ipython3",
   "version": "3.9.7"
  }
 },
 "nbformat": 4,
 "nbformat_minor": 5
}
