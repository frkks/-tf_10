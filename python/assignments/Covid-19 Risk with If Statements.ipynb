{
 "cells": [
  {
   "cell_type": "code",
   "execution_count": 17,
   "id": "81a76f62-7e03-471e-9e92-75d0acc9eba7",
   "metadata": {},
   "outputs": [
    {
     "name": "stdin",
     "output_type": "stream",
     "text": [
      "Are you a cigarette addict older than 75 years old? YES/NO NO\n",
      "Do you have a severe chronic disease? YES/NO NO\n",
      "Is your immune system too weak? YES/NO NO\n"
     ]
    },
    {
     "name": "stdout",
     "output_type": "stream",
     "text": [
      "You are not in risky group\n"
     ]
    }
   ],
   "source": [
    "No = \"No\"\n",
    "Yes = \"Yes\"\n",
    "age = str(input(\"Are you a cigarette addict older than 75 years old? YES/NO\").title())\n",
    "chronic = str(input(\"Do you have a severe chronic disease? YES/NO\").title())\n",
    "immune = str(input(\"Is your immune system too weak? YES/NO\").title())\n",
    "age1 = (age == Yes)\n",
    "chronic1 = (chronic == Yes)\n",
    "immune1 = (immune == Yes)\n",
    "if ((age1 or chronic1) or immune1) == True :\n",
    "    print(\"You are in risky group\")\n",
    "else:\n",
    "    print(\"You are not in risky group\")"
   ]
  },
  {
   "cell_type": "code",
   "execution_count": 16,
   "id": "7e1fe040-53d7-4087-ab86-4819bf7b472c",
   "metadata": {},
   "outputs": [
    {
     "name": "stdin",
     "output_type": "stream",
     "text": [
      "Are you a cigarette addict older than 75 years old? YES/NO YES\n",
      "Do you have a severe chronic disease? YES/NO YES\n",
      "Is your immune system too weak? YES/NO NO\n"
     ]
    },
    {
     "name": "stdout",
     "output_type": "stream",
     "text": [
      "You are in risky group\n"
     ]
    }
   ],
   "source": [
    "age = input(\"Are you a cigarette addict older than 75 years old? YES/NO\").title() == \"Yes\"\n",
    "chronic = input(\"Do you have a severe chronic disease? YES/NO\").title() == \"Yes\"\n",
    "immune =  input (\"Is your immune system too weak? YES/NO\").title() == \"Yes\"\n",
    "\n",
    "if (age or chronic or immune) == True :\n",
    "    print(\"You are in risky group\")\n",
    "else :\n",
    "    print(\"You are not in risky group\")"
   ]
  },
  {
   "cell_type": "code",
   "execution_count": null,
   "id": "50550721-fa6e-44ac-8fd7-291712571195",
   "metadata": {},
   "outputs": [],
   "source": []
  }
 ],
 "metadata": {
  "kernelspec": {
   "display_name": "Python 3 (ipykernel)",
   "language": "python",
   "name": "python3"
  },
  "language_info": {
   "codemirror_mode": {
    "name": "ipython",
    "version": 3
   },
   "file_extension": ".py",
   "mimetype": "text/x-python",
   "name": "python",
   "nbconvert_exporter": "python",
   "pygments_lexer": "ipython3",
   "version": "3.9.7"
  }
 },
 "nbformat": 4,
 "nbformat_minor": 5
}
