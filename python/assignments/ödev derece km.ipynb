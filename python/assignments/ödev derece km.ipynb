{
 "cells": [
  {
   "cell_type": "code",
   "execution_count": null,
   "id": "68d331e4-00e9-44a8-96a4-29088c5da5a5",
   "metadata": {},
   "outputs": [],
   "source": [
    "celcius = float(input(\"Enter your Degree (example: 35 c):\"))\n",
    "fahranheit = 32\n",
    "print(\"fahranheit:\",(celcius*9)/5 + fahranheit)"
   ]
  },
  {
   "cell_type": "code",
   "execution_count": null,
   "id": "91c06a5f-01af-46a9-8732-9cb4db7f85d9",
   "metadata": {},
   "outputs": [],
   "source": [
    "kilometre = float(input(\"Enter your KM enter (example: 35 km):\"))\n",
    "kmtomil = 0.6213732\n",
    "print('mil:',kilometre * kmtomil)"
   ]
  },
  {
   "cell_type": "code",
   "execution_count": null,
   "id": "f3eb69c0-6e24-4631-9bf9-9a5da6d4c83e",
   "metadata": {},
   "outputs": [],
   "source": []
  }
 ],
 "metadata": {
  "kernelspec": {
   "display_name": "Python 3 (ipykernel)",
   "language": "python",
   "name": "python3"
  },
  "language_info": {
   "codemirror_mode": {
    "name": "ipython",
    "version": 3
   },
   "file_extension": ".py",
   "mimetype": "text/x-python",
   "name": "python",
   "nbconvert_exporter": "python",
   "pygments_lexer": "ipython3",
   "version": "3.9.7"
  }
 },
 "nbformat": 4,
 "nbformat_minor": 5
}
