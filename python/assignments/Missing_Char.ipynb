{
 "cells": [
  {
   "cell_type": "code",
   "execution_count": 14,
   "id": "e7bf1583-5a38-4341-94d7-76054e49302f",
   "metadata": {},
   "outputs": [],
   "source": [
    "def missing_char(word, n):\n",
    "    if n in range(len(word)-1):\n",
    "        word1 = word.replace(word[n],\"\")\n",
    "        return word1"
   ]
  },
  {
   "cell_type": "code",
   "execution_count": 15,
   "id": "ec6b4682-6983-422e-8b98-591d8e2611da",
   "metadata": {},
   "outputs": [
    {
     "name": "stdout",
     "output_type": "stream",
     "text": [
      "ktchen\n"
     ]
    }
   ],
   "source": [
    "print(missing_char('kitchen', 1))"
   ]
  },
  {
   "cell_type": "code",
   "execution_count": 16,
   "id": "b38b4156-005f-43d3-806c-9608d73b6296",
   "metadata": {},
   "outputs": [
    {
     "name": "stdout",
     "output_type": "stream",
     "text": [
      "itchen\n"
     ]
    }
   ],
   "source": [
    "print(missing_char('kitchen', 0)) "
   ]
  },
  {
   "cell_type": "code",
   "execution_count": 17,
   "id": "fe179c87-3d75-4ca4-a692-dba60fa319cb",
   "metadata": {},
   "outputs": [
    {
     "name": "stdout",
     "output_type": "stream",
     "text": [
      "None\n"
     ]
    }
   ],
   "source": [
    "print(missing_char('kitchen', 11))  "
   ]
  },
  {
   "cell_type": "code",
   "execution_count": null,
   "id": "60ea7f79-bdf4-4b57-8bb6-9b1c64483461",
   "metadata": {},
   "outputs": [],
   "source": []
  }
 ],
 "metadata": {
  "kernelspec": {
   "display_name": "Python 3 (ipykernel)",
   "language": "python",
   "name": "python3"
  },
  "language_info": {
   "codemirror_mode": {
    "name": "ipython",
    "version": 3
   },
   "file_extension": ".py",
   "mimetype": "text/x-python",
   "name": "python",
   "nbconvert_exporter": "python",
   "pygments_lexer": "ipython3",
   "version": "3.9.7"
  }
 },
 "nbformat": 4,
 "nbformat_minor": 5
}
