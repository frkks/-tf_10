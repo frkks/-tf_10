{
 "cells": [
  {
   "cell_type": "code",
   "execution_count": null,
   "id": "830e01e4-b675-43fa-af13-aad0e49785da",
   "metadata": {},
   "outputs": [],
   "source": []
  },
  {
   "cell_type": "markdown",
   "id": "0d4e4637-01c0-4e82-8f3b-ddb02d29d0a8",
   "metadata": {},
   "source": [
    "# Fibonaci Number"
   ]
  },
  {
   "cell_type": "code",
   "execution_count": 40,
   "id": "ada7968c-b45e-4166-beea-5ba996f79122",
   "metadata": {},
   "outputs": [
    {
     "name": "stdout",
     "output_type": "stream",
     "text": [
      "Fibonacci Number : [1, 1, 2, 3, 5, 8, 13, 21, 34, 55]\n"
     ]
    }
   ],
   "source": [
    "a,b = 1,1\n",
    "fibonacci_Number = []\n",
    "while a < 56:\n",
    "    fibonacci_Number.append(a)\n",
    "    a,b = b,a+b\n",
    "    \n",
    "print(\"Fibonacci Number :\", fibonacci_Number)"
   ]
  },
  {
   "cell_type": "code",
   "execution_count": null,
   "id": "c0c655cc-1e37-4d6b-88b1-cf24a232178e",
   "metadata": {},
   "outputs": [],
   "source": []
  },
  {
   "cell_type": "code",
   "execution_count": null,
   "id": "baa5fa87-fa4a-49d9-805a-55822625bb7e",
   "metadata": {},
   "outputs": [],
   "source": []
  }
 ],
 "metadata": {
  "kernelspec": {
   "display_name": "Python 3 (ipykernel)",
   "language": "python",
   "name": "python3"
  },
  "language_info": {
   "codemirror_mode": {
    "name": "ipython",
    "version": 3
   },
   "file_extension": ".py",
   "mimetype": "text/x-python",
   "name": "python",
   "nbconvert_exporter": "python",
   "pygments_lexer": "ipython3",
   "version": "3.9.7"
  }
 },
 "nbformat": 4,
 "nbformat_minor": 5
}
