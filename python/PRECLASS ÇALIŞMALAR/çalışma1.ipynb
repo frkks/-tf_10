{
 "cells": [
  {
   "cell_type": "code",
   "execution_count": 3,
   "id": "c5b91fa8-ca6f-463e-acad-adda297554c4",
   "metadata": {},
   "outputs": [
    {
     "name": "stdout",
     "output_type": "stream",
     "text": [
      "there is still seat to sit\n"
     ]
    }
   ],
   "source": [
    "empty_seat = 14\n",
    "\n",
    "if empty_seat > 3:  # in this case, 14>3=True, so the body will execute\n",
    "    print('there is still seat to sit')"
   ]
  },
  {
   "cell_type": "code",
   "execution_count": 4,
   "id": "03dedcd3-47c3-4a09-a1bb-7c78ace8840a",
   "metadata": {},
   "outputs": [
    {
     "name": "stdout",
     "output_type": "stream",
     "text": [
      "x, y'ye eşit mi? : False\n",
      "x, y'ye eşit değil mi? : True\n",
      "x, y'den küçük mü? : True\n",
      "x, y'den büyük mü? : False\n",
      "x, y'den küçük mü yoksa y'ye eşit mi? : True\n",
      "x, y'den büyük mü yoksa y'ye eşit mi? : False\n"
     ]
    }
   ],
   "source": [
    "x = 6\n",
    "y = 9\n",
    "print (\"x, y'ye eşit mi? :\" , x == y)\n",
    "print (\"x, y'ye eşit değil mi? :\" , x != y)\n",
    "print (\"x, y'den küçük mü? :\" , x < y)\n",
    "print (\"x, y'den büyük mü? :\" , x > y)\n",
    "print (\"x, y'den küçük mü yoksa y'ye eşit mi? :\" , x <= y)\n",
    "print (\"x, y'den büyük mü yoksa y'ye eşit mi? :\" , x >= y)"
   ]
  },
  {
   "cell_type": "code",
   "execution_count": 5,
   "id": "1ded055c-980c-40ae-859d-0b8645fc79cd",
   "metadata": {},
   "outputs": [
    {
     "name": "stdout",
     "output_type": "stream",
     "text": [
      "you guaranteed the job\n"
     ]
    }
   ],
   "source": [
    "course = 'clarusway'\n",
    "\n",
    "if course == \"clarusway\":\n",
    "    print(\"you guaranteed the job\")\n",
    "else:\n",
    "    print(\"think about it again\")"
   ]
  },
  {
   "cell_type": "code",
   "execution_count": 6,
   "id": "8309b7ef-56fc-4ef3-b458-bd9a9121e22a",
   "metadata": {},
   "outputs": [
    {
     "name": "stdout",
     "output_type": "stream",
     "text": [
      "Number is bigger than 3\n"
     ]
    }
   ],
   "source": [
    "number = 5\n",
    "if number <= 3:    \n",
    "    print(\"Number is smaller than or equal to 3\") \n",
    "else:  # Optional clause (you can only have one else)\n",
    "    print(\"Number is bigger than 3\")"
   ]
  },
  {
   "cell_type": "code",
   "execution_count": 7,
   "id": "6cdd1825-4b0d-4380-aba4-ec1dc39a0fc6",
   "metadata": {},
   "outputs": [
    {
     "name": "stdout",
     "output_type": "stream",
     "text": [
      "I can lift that!\n"
     ]
    }
   ],
   "source": [
    "weight = 80\n",
    "\n",
    "if weight > 100:\n",
    "    print(\"That's too heavy!\")\n",
    "elif weight > 75:\n",
    "    print(\"I can lift that!\")\n",
    "else:\n",
    "    print(\"That's too light!\")"
   ]
  },
  {
   "cell_type": "code",
   "execution_count": 8,
   "id": "20ade6ad-56b5-4c42-a2cd-0560851b62b5",
   "metadata": {},
   "outputs": [
    {
     "name": "stdout",
     "output_type": "stream",
     "text": [
      "No such audience, stay at your home!\n"
     ]
    }
   ],
   "source": [
    "audience = \"baby\"\n",
    "\n",
    "if audience == \"kid\":\n",
    "    print(\"it is free to go to cinema\")\n",
    "elif audience == \"teen\":\n",
    "    print(\"discounted price!\")\n",
    "elif audience == \"adult\":\n",
    "    print(\"normal price\")\n",
    "else:\n",
    "    print(\"No such audience, stay at your home!\")"
   ]
  },
  {
   "cell_type": "code",
   "execution_count": 12,
   "id": "527331bf-cd5b-4ff7-aad0-d1acff0f3f44",
   "metadata": {},
   "outputs": [
    {
     "name": "stdout",
     "output_type": "stream",
     "text": [
      "The number is less than 10\n"
     ]
    }
   ],
   "source": [
    "number = 23\n",
    "if number >= 25: \n",
    "    print('The number is equal or greater than 10')\n",
    "else:\n",
    "    print(\"The number is less than 10\")"
   ]
  },
  {
   "cell_type": "code",
   "execution_count": 13,
   "id": "4550c54d-c9ed-4802-9f14-7da70c850a46",
   "metadata": {},
   "outputs": [
    {
     "name": "stdout",
     "output_type": "stream",
     "text": [
      "discounted price!\n"
     ]
    }
   ],
   "source": [
    "audience_group = 'kid', 'teen', 'adult'\n",
    "\n",
    "audience = \"teen\"\n",
    "\n",
    "if audience in audience_group:\n",
    "    if audience == \"kid\":\n",
    "        print(\"it is free to go to cinema\")\n",
    "    elif audience == \"teen\":\n",
    "        print(\"discounted price!\")\n",
    "    else: # audience == \"adult\":\n",
    "        print(\"normal price\")\n",
    "else:\n",
    "    print(\"No such audience, stay at your home!\")"
   ]
  },
  {
   "cell_type": "code",
   "execution_count": 14,
   "id": "4a10b854-783c-4c7e-9687-d2aa6c5eb51e",
   "metadata": {},
   "outputs": [
    {
     "name": "stdin",
     "output_type": "stream",
     "text": [
      "Enter your score : 95\n"
     ]
    },
    {
     "name": "stdout",
     "output_type": "stream",
     "text": [
      "Your degree: A+\n"
     ]
    }
   ],
   "source": [
    "score = int (input(\"Enter your score :\"))\n",
    "\n",
    "if score >= 90:\n",
    "    if score >= 95:\n",
    "        Score_letter=\"A+\"\n",
    "    else:\n",
    "        Score_letter=\"A\"\n",
    "elif score >= 80:\n",
    "    if score >= 85:\n",
    "        Score_letter=\"B+\"\n",
    "    else:\n",
    "        Score_letter=\"B\"\n",
    "else:\n",
    "    Score_letter=\"below B\"\n",
    "\n",
    "print (\"Your degree: %s\" % Score_letter)"
   ]
  },
  {
   "cell_type": "code",
   "execution_count": null,
   "id": "a2c57c8e-b154-42ec-b21d-d9e0d3a5e47f",
   "metadata": {},
   "outputs": [],
   "source": []
  }
 ],
 "metadata": {
  "kernelspec": {
   "display_name": "Python 3 (ipykernel)",
   "language": "python",
   "name": "python3"
  },
  "language_info": {
   "codemirror_mode": {
    "name": "ipython",
    "version": 3
   },
   "file_extension": ".py",
   "mimetype": "text/x-python",
   "name": "python",
   "nbconvert_exporter": "python",
   "pygments_lexer": "ipython3",
   "version": "3.9.7"
  }
 },
 "nbformat": 4,
 "nbformat_minor": 5
}
