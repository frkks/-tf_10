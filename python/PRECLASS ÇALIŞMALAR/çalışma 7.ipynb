{
 "cells": [
  {
   "cell_type": "code",
   "execution_count": 1,
   "id": "6fef49c4-4a6b-4422-a616-7d87492e6d3a",
   "metadata": {},
   "outputs": [
    {
     "name": "stdout",
     "output_type": "stream",
     "text": [
      "['__doc__', '__loader__', '__name__', '__package__', '__spec__', 'acos', 'acosh', 'asin', 'asinh', 'atan', 'atan2', 'atanh', 'ceil', 'comb', 'copysign', 'cos', 'cosh', 'degrees', 'dist', 'e', 'erf', 'erfc', 'exp', 'expm1', 'fabs', 'factorial', 'floor', 'fmod', 'frexp', 'fsum', 'gamma', 'gcd', 'hypot', 'inf', 'isclose', 'isfinite', 'isinf', 'isnan', 'isqrt', 'lcm', 'ldexp', 'lgamma', 'log', 'log10', 'log1p', 'log2', 'modf', 'nan', 'nextafter', 'perm', 'pi', 'pow', 'prod', 'radians', 'remainder', 'sin', 'sinh', 'sqrt', 'tan', 'tanh', 'tau', 'trunc', 'ulp']\n"
     ]
    }
   ],
   "source": [
    "import math\n",
    "\n",
    "print(dir(math))  # you can find out all names defined in this module"
   ]
  },
  {
   "cell_type": "code",
   "execution_count": 2,
   "id": "0d058255-44b5-4806-ac14-6741078c838c",
   "metadata": {},
   "outputs": [
    {
     "name": "stdout",
     "output_type": "stream",
     "text": [
      "3.141592653589793\n",
      "24\n",
      "3.0\n"
     ]
    }
   ],
   "source": [
    "from math import pi, factorial, log10  # we'll use the functions directly\n",
    "\n",
    "print(pi)  # ayrıca birkaç aritmetik sabit içerir \n",
    "print(factorial(4))  # 4! değerini verir \n",
    "print(log10(1000))  # 1000'in ortak logaritmasını yazdırır"
   ]
  },
  {
   "cell_type": "code",
   "execution_count": 4,
   "id": "6956f2b0-e16d-4757-ac2f-8d42a0410345",
   "metadata": {},
   "outputs": [],
   "source": [
    "def factor(x):\n",
    "\n",
    "    result = 1\n",
    "    for i in range(x):\n",
    "        result *= (i+1)\n",
    "    return print(result)"
   ]
  },
  {
   "cell_type": "code",
   "execution_count": 5,
   "id": "cd24d093-ac95-4366-a60f-273614b7ee37",
   "metadata": {},
   "outputs": [
    {
     "name": "stdout",
     "output_type": "stream",
     "text": [
      "!\"#$%&'()*+,-./:;<=>?@[\\]^_`{|}~\n",
      "0123456789\n"
     ]
    }
   ],
   "source": [
    "import string as stg  # 'string' modülü için takma ad kullandık\n",
    "\n",
    "print(stg.punctuation)  # mevcut tüm noktalama işaretlerini yazdırır\n",
    "print(stg.digits)  # tüm rakamları yazdırır"
   ]
  },
  {
   "cell_type": "code",
   "execution_count": 10,
   "id": "6001de2c-e3d8-46ef-97a2-0f5c41a82df9",
   "metadata": {},
   "outputs": [
    {
     "name": "stdout",
     "output_type": "stream",
     "text": [
      "2021-11-29\n",
      "2021-11-29 11:41:41.926234\n"
     ]
    }
   ],
   "source": [
    "import datetime\n",
    "\n",
    "print(datetime.date.today())  # bugünün tarihini yazdırır (yyyy-aa-gg)\n",
    "print(datetime.datetime.now())  # geçerli saati mikrosaniye cinsinden yazdırır"
   ]
  },
  {
   "cell_type": "code",
   "execution_count": 12,
   "id": "e5ca3f42-87de-4c8d-839e-f0e060950ae7",
   "metadata": {},
   "outputs": [
    {
     "name": "stdout",
     "output_type": "stream",
     "text": [
      "Istanbul\n"
     ]
    }
   ],
   "source": [
    "from random import choice\n",
    "\n",
    "city = ['Stockholm', 'Istanbul', 'Seul', 'Cape Town']\n",
    "print(choice(city)) "
   ]
  },
  {
   "cell_type": "code",
   "execution_count": 19,
   "id": "edb4b00a-4f75-4b5d-9157-8c0ac0b97c03",
   "metadata": {},
   "outputs": [
    {
     "name": "stdout",
     "output_type": "stream",
     "text": [
      "0.2777547800170538\n"
     ]
    }
   ],
   "source": [
    "import random\n",
    "print(random.random())"
   ]
  },
  {
   "cell_type": "code",
   "execution_count": 20,
   "id": "f426f7eb-0096-48e5-ba9d-3c37661db3a5",
   "metadata": {},
   "outputs": [
    {
     "name": "stdout",
     "output_type": "stream",
     "text": [
      "pip 21.2.3 from C:\\Users\\YFHP\\AppData\\Local\\Programs\\Python\\Python39\\lib\\site-packages\\pip (python 3.9)\n",
      "\n",
      "Note: you may need to restart the kernel to use updated packages.\n"
     ]
    }
   ],
   "source": [
    "pip --version"
   ]
  },
  {
   "cell_type": "code",
   "execution_count": 1,
   "id": "e02c1051-9a11-4b81-bf19-04403522d772",
   "metadata": {},
   "outputs": [
    {
     "name": "stdout",
     "output_type": "stream",
     "text": [
      "Package             VersionNote: you may need to restart the kernel to use updated packages.\n"
     ]
    },
    {
     "name": "stderr",
     "output_type": "stream",
     "text": [
      "WARNING: You are using pip version 21.2.3; however, version 21.3.1 is available.\n",
      "You should consider upgrading via the 'C:\\Users\\YFHP\\AppData\\Local\\Programs\\Python\\Python39\\python.exe -m pip install --upgrade pip' command.\n"
     ]
    },
    {
     "name": "stdout",
     "output_type": "stream",
     "text": [
      "\n",
      "------------------- ---------\n",
      "anyio               3.3.2\n",
      "argon2-cffi         21.1.0\n",
      "attrs               21.2.0\n",
      "Babel               2.9.1\n",
      "backcall            0.2.0\n",
      "bleach              4.1.0\n",
      "certifi             2021.5.30\n",
      "cffi                1.14.6\n",
      "charset-normalizer  2.0.6\n",
      "colorama            0.4.4\n",
      "debugpy             1.4.3\n",
      "decorator           5.1.0\n",
      "defusedxml          0.7.1\n",
      "entrypoints         0.3\n",
      "idna                3.2\n",
      "ipykernel           6.4.1\n",
      "ipython             7.28.0\n",
      "ipython-genutils    0.2.0\n",
      "jedi                0.18.0\n",
      "Jinja2              3.0.1\n",
      "json5               0.9.6\n",
      "jsonschema          3.2.0\n",
      "jupyter-client      7.0.4\n",
      "jupyter-core        4.8.1\n",
      "jupyter-server      1.11.0\n",
      "jupyterlab          3.1.14\n",
      "jupyterlab-pygments 0.1.2\n",
      "jupyterlab-server   2.8.2\n",
      "MarkupSafe          2.0.1\n",
      "matplotlib-inline   0.1.3\n",
      "mistune             0.8.4\n",
      "nbclassic           0.3.2\n",
      "nbclient            0.5.4\n",
      "nbconvert           6.2.0\n",
      "nbformat            5.1.3\n",
      "nest-asyncio        1.5.1\n",
      "notebook            6.4.4\n",
      "packaging           21.0\n",
      "pandocfilters       1.5.0\n",
      "parso               0.8.2\n",
      "pickleshare         0.7.5\n",
      "pip                 21.2.3\n",
      "prometheus-client   0.11.0\n",
      "prompt-toolkit      3.0.20\n",
      "pycparser           2.20\n",
      "Pygments            2.10.0\n",
      "pyparsing           2.4.7\n",
      "pyrsistent          0.18.0\n",
      "python-dateutil     2.8.2\n",
      "pytz                2021.1\n",
      "pywin32             301\n",
      "pywinpty            1.1.4\n",
      "pyzmq               22.3.0\n",
      "requests            2.26.0\n",
      "requests-unixsocket 0.2.0\n",
      "Send2Trash          1.8.0\n",
      "setuptools          57.4.0\n",
      "six                 1.16.0\n",
      "sniffio             1.2.0\n",
      "terminado           0.12.1\n",
      "testpath            0.5.0\n",
      "tornado             6.1\n",
      "traitlets           5.1.0\n",
      "urllib3             1.26.7\n",
      "wcwidth             0.2.5\n",
      "webencodings        0.5.1\n",
      "websocket-client    1.2.1\n"
     ]
    }
   ],
   "source": [
    "pip list"
   ]
  },
  {
   "cell_type": "code",
   "execution_count": null,
   "id": "d7adaf04-53f0-4122-9172-c7f05c89b2ba",
   "metadata": {},
   "outputs": [],
   "source": []
  }
 ],
 "metadata": {
  "kernelspec": {
   "display_name": "Python 3 (ipykernel)",
   "language": "python",
   "name": "python3"
  },
  "language_info": {
   "codemirror_mode": {
    "name": "ipython",
    "version": 3
   },
   "file_extension": ".py",
   "mimetype": "text/x-python",
   "name": "python",
   "nbconvert_exporter": "python",
   "pygments_lexer": "ipython3",
   "version": "3.9.7"
  }
 },
 "nbformat": 4,
 "nbformat_minor": 5
}
