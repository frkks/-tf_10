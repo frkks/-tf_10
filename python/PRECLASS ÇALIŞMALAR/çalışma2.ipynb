{
 "cells": [
  {
   "cell_type": "code",
   "execution_count": 1,
   "id": "3253d5af-1484-477e-bc24-7bc91cfb2d48",
   "metadata": {},
   "outputs": [
    {
     "name": "stdout",
     "output_type": "stream",
     "text": [
      "0\n",
      "1\n",
      "2\n",
      "3\n",
      "4\n",
      "5\n",
      "now, number is bigger or equal to 6\n"
     ]
    }
   ],
   "source": [
    "number = 0\n",
    "while number < 6:\n",
    "    print(number)\n",
    "    number += 1\n",
    "print('now, number is bigger or equal to 6')"
   ]
  },
  {
   "cell_type": "code",
   "execution_count": 2,
   "id": "368acd3b-ed94-483c-9087-9f34d5fe2683",
   "metadata": {},
   "outputs": [
    {
     "name": "stdout",
     "output_type": "stream",
     "text": [
      "square of 0 şudur: 0\n",
      "square of 1 şudur: 1\n",
      "square of 2 şudur: 4\n",
      "square of 3 şudur: 9\n",
      "square of 4 şudur: 16\n"
     ]
    }
   ],
   "source": [
    "my_list=[\"a\", \"b\", \"c\", \"d\", \"e\"] \n",
    "\n",
    "a = 0 \n",
    "\n",
    "while a < len(my_list): \n",
    "    print('square of {} şudur: {}'.format(a , a**2)) \n",
    "    a+=1"
   ]
  },
  {
   "cell_type": "code",
   "execution_count": 4,
   "id": "65ff5a5f-6e06-4f66-9c20-af57d5fed3bf",
   "metadata": {},
   "outputs": [
    {
     "name": "stdout",
     "output_type": "stream",
     "text": [
      "Let's play the guessing game!\n"
     ]
    },
    {
     "name": "stdin",
     "output_type": "stream",
     "text": [
      "What number am I thinking of?   40\n"
     ]
    },
    {
     "name": "stdout",
     "output_type": "stream",
     "text": [
      "Little higher\n"
     ]
    },
    {
     "name": "stdin",
     "output_type": "stream",
     "text": [
      "What number am I thinking of?   42\n"
     ]
    },
    {
     "name": "stdout",
     "output_type": "stream",
     "text": [
      "Little higher\n"
     ]
    },
    {
     "name": "stdin",
     "output_type": "stream",
     "text": [
      "What number am I thinking of?   46\n"
     ]
    },
    {
     "name": "stdout",
     "output_type": "stream",
     "text": [
      "Little lower\n"
     ]
    },
    {
     "name": "stdin",
     "output_type": "stream",
     "text": [
      "What number am I thinking of?   44\n"
     ]
    },
    {
     "name": "stdout",
     "output_type": "stream",
     "text": [
      "Are you a MINDREADER!!!\n"
     ]
    }
   ],
   "source": [
    "answer = 44\n",
    "\n",
    "question = 'What number am I thinking of?  '\n",
    "print (\"Let's play the guessing game!\")\n",
    "\n",
    "while True:\n",
    "    guess = int(input(question))\n",
    "\n",
    "    if guess < answer:\n",
    "        print('Little higher')\n",
    "    elif guess > answer:\n",
    "        print('Little lower')\n",
    "    else:  # guess == answer\n",
    "        print('Are you a MINDREADER!!!')\n",
    "        break"
   ]
  },
  {
   "cell_type": "code",
   "execution_count": 17,
   "id": "8467c843-fe52-4df1-ba89-78c2d62020c9",
   "metadata": {},
   "outputs": [
    {
     "ename": "SyntaxError",
     "evalue": "invalid syntax (Temp/ipykernel_18112/520674880.py, line 6)",
     "output_type": "error",
     "traceback": [
      "\u001b[1;36m  File \u001b[1;32m\"C:\\Users\\YFHP\\AppData\\Local\\Temp/ipykernel_18112/520674880.py\"\u001b[1;36m, line \u001b[1;32m6\u001b[0m\n\u001b[1;33m    print(flowers [:]/)\u001b[0m\n\u001b[1;37m                      ^\u001b[0m\n\u001b[1;31mSyntaxError\u001b[0m\u001b[1;31m:\u001b[0m invalid syntax\n"
     ]
    }
   ],
   "source": [
    "flowers = ['Rose', 'Orchid', 'Tulip']\n",
    "count1 = len(flowers)\n",
    "count2 = flowers\n",
    "\n",
    "while count1 > 0 :\n",
    "    print(flowers [:])\n",
    "    count -= flowers\n",
    "    count += flowers"
   ]
  },
  {
   "cell_type": "code",
   "execution_count": 24,
   "id": "5374d262-2421-4f13-bae3-f27ac178329b",
   "metadata": {},
   "outputs": [
    {
     "name": "stdout",
     "output_type": "stream",
     "text": [
      "Rose\n",
      "Orchid\n",
      "Tulip\n"
     ]
    }
   ],
   "source": [
    "flowers = ['Rose', 'Orchid', 'Tulip']\n",
    "count1 = len(flowers)\n",
    "count2 = flowers\n",
    "for i in flowers :\n",
    "    print(i)"
   ]
  },
  {
   "cell_type": "code",
   "execution_count": 18,
   "id": "a2d61f01-2ebc-4299-bc02-5463172c4fe6",
   "metadata": {},
   "outputs": [
    {
     "name": "stdout",
     "output_type": "stream",
     "text": [
      "1\n",
      "2\n",
      "3\n",
      "4\n",
      "5\n"
     ]
    }
   ],
   "source": [
    "for i in [1, 2, 3, 4, 5] :\n",
    "    print(i)"
   ]
  },
  {
   "cell_type": "code",
   "execution_count": 19,
   "id": "e7dcab6a-d6a6-43c8-9422-64a2611b2eb0",
   "metadata": {},
   "outputs": [
    {
     "name": "stdout",
     "output_type": "stream",
     "text": [
      "spring\n",
      "summer\n",
      "autumn\n",
      "winter\n"
     ]
    }
   ],
   "source": [
    "seasons = ['spring', 'summer', 'autumn', 'winter']\n",
    "\n",
    "for season in seasons :\n",
    "    print(season)"
   ]
  },
  {
   "cell_type": "code",
   "execution_count": 20,
   "id": "211063ad-fcc3-48f0-a839-1e472347a82f",
   "metadata": {},
   "outputs": [
    {
     "name": "stdout",
     "output_type": "stream",
     "text": [
      "n1\n",
      "n2\n"
     ]
    }
   ],
   "source": [
    "for i in {'n1' : 'one', 'n2' : 'two'} : print(i) "
   ]
  },
  {
   "cell_type": "code",
   "execution_count": 22,
   "id": "e07ab1bc-359a-47f1-b465-cd96220f0e33",
   "metadata": {},
   "outputs": [
    {
     "name": "stdout",
     "output_type": "stream",
     "text": [
      "1\n",
      "4\n",
      "9\n",
      "16\n"
     ]
    }
   ],
   "source": [
    "iterable = [1, 2, 3, 4]\n",
    "\n",
    "for i in iterable :\n",
    "    print(i**2)"
   ]
  },
  {
   "cell_type": "code",
   "execution_count": 23,
   "id": "17c6c200-4ca3-420b-abb4-4e983bd08bf9",
   "metadata": {},
   "outputs": [
    {
     "name": "stdout",
     "output_type": "stream",
     "text": [
      "c\n",
      "l\n",
      "a\n",
      "r\n",
      "u\n",
      "s\n",
      "w\n",
      "a\n",
      "y\n"
     ]
    }
   ],
   "source": [
    "course = 'clarusway'\n",
    "\n",
    "for i in course :\n",
    "    print(i)"
   ]
  },
  {
   "cell_type": "code",
   "execution_count": 25,
   "id": "d8b827be-60fb-4ba2-a793-d69788b06874",
   "metadata": {},
   "outputs": [
    {
     "name": "stdin",
     "output_type": "stream",
     "text": [
      "How many times should I say 'I love you' 5\n"
     ]
    },
    {
     "name": "stdout",
     "output_type": "stream",
     "text": [
      "I love you\n",
      "I love you\n",
      "I love you\n",
      "I love you\n",
      "I love you\n"
     ]
    }
   ],
   "source": [
    "times = int(input(\"How many times should I say 'I love you'\"))\n",
    "\n",
    "for i in range(times):\n",
    "    print('I love you')"
   ]
  },
  {
   "cell_type": "code",
   "execution_count": 26,
   "id": "34286801-79d3-45b6-aa70-fd5f7687fbfa",
   "metadata": {},
   "outputs": [
    {
     "name": "stdin",
     "output_type": "stream",
     "text": [
      "enter a number between 1-10 5\n"
     ]
    },
    {
     "name": "stdout",
     "output_type": "stream",
     "text": [
      "5x0 =  0\n",
      "5x1 =  5\n",
      "5x2 =  10\n",
      "5x3 =  15\n",
      "5x4 =  20\n",
      "5x5 =  25\n",
      "5x6 =  30\n",
      "5x7 =  35\n",
      "5x8 =  40\n",
      "5x9 =  45\n",
      "5x10 =  50\n"
     ]
    }
   ],
   "source": [
    "n = int(input('enter a number between 1-10'))\n",
    "\n",
    "for i in range(11):\n",
    "    print('{}x{} = '.format(n, i), n*i)"
   ]
  },
  {
   "cell_type": "code",
   "execution_count": 29,
   "id": "c8ad6a55-ea35-4949-8811-0da9c4b89d50",
   "metadata": {},
   "outputs": [
    {
     "name": "stdout",
     "output_type": "stream",
     "text": [
      "[0, 1, 2, 3, 4, 5, 6, 7, 8, 9, 10]\n"
     ]
    }
   ],
   "source": [
    "b = list(range(11))\n",
    "\n",
    "print(b)"
   ]
  },
  {
   "cell_type": "code",
   "execution_count": 30,
   "id": "8c3e2981-bc40-4089-a087-c31074cda3ba",
   "metadata": {},
   "outputs": [
    {
     "name": "stdout",
     "output_type": "stream",
     "text": [
      "{0, 1, 2, 3, 4, 5, 6, 7, 8, 9}\n"
     ]
    }
   ],
   "source": [
    "a = set(range(0,10))\n",
    "\n",
    "print(a)"
   ]
  },
  {
   "cell_type": "code",
   "execution_count": 31,
   "id": "45dddef1-6d31-4dec-9f9f-f501c44f8e6b",
   "metadata": {},
   "outputs": [
    {
     "name": "stdout",
     "output_type": "stream",
     "text": [
      "(0, 1, 2, 3, 4, 5, 6, 7, 8, 9, 10)\n"
     ]
    }
   ],
   "source": [
    "c = tuple(range(11))\n",
    "\n",
    "print(c)"
   ]
  },
  {
   "cell_type": "code",
   "execution_count": 32,
   "id": "a91159e7-7c12-4264-8ad8-038ea0711778",
   "metadata": {},
   "outputs": [
    {
     "name": "stdout",
     "output_type": "stream",
     "text": [
      "range(0, 5)\n",
      "0 1 2 3 4\n"
     ]
    }
   ],
   "source": [
    "print(range(5))  # it will not print the numbers in sequence\n",
    "\n",
    "print(*range(5))  # '*' separates its elements"
   ]
  },
  {
   "cell_type": "code",
   "execution_count": 33,
   "id": "2141fae5-daef-47e6-b965-2f62f629af3b",
   "metadata": {},
   "outputs": [
    {
     "name": "stdout",
     "output_type": "stream",
     "text": [
      "5 7 9 11 13 15 17 19 21 23\n"
     ]
    }
   ],
   "source": [
    "print(*range(5,25,2)) # 5 ile başla 25 kadar yaz 2 atla"
   ]
  },
  {
   "cell_type": "code",
   "execution_count": 34,
   "id": "0cbc74c1-7a9d-4421-bd88-a0234f31f9da",
   "metadata": {},
   "outputs": [
    {
     "name": "stdout",
     "output_type": "stream",
     "text": [
      "s e p a r a t e\n"
     ]
    }
   ],
   "source": [
    "print(*('separate')) # * str ayırır"
   ]
  },
  {
   "cell_type": "code",
   "execution_count": 36,
   "id": "f13cb9e2-be55-44bf-9319-0d97804f4798",
   "metadata": {},
   "outputs": [
    {
     "name": "stdout",
     "output_type": "stream",
     "text": [
      "10 8 6 4 2\n"
     ]
    }
   ],
   "source": [
    "print(*range(10,0,-2)) #Negatif kullanarak ters sıra numaraları oluşturabilirsiniz step"
   ]
  },
  {
   "cell_type": "code",
   "execution_count": 40,
   "id": "5ebfe0cc-0f1b-4ffb-ae44-e2b099ebd567",
   "metadata": {},
   "outputs": [
    {
     "name": "stdout",
     "output_type": "stream",
     "text": [
      "one : 1\n",
      "two : 2\n",
      "three : 3\n",
      "four : 4\n",
      "five : 5\n"
     ]
    }
   ],
   "source": [
    "text = ['one','two','three','four','five']\n",
    "numbers = [1, 2, 3, 4, 5]\n",
    "for x, y in zip(text, numbers): #zip() işlevi, yinelenebilirlerin her birinden öğeleri toplayan bir yineleyici yapar.\n",
    "    print(x, ':', y)"
   ]
  },
  {
   "cell_type": "code",
   "execution_count": 41,
   "id": "9663a2b7-87e8-4fff-99ff-ed6512f57503",
   "metadata": {},
   "outputs": [
    {
     "name": "stdout",
     "output_type": "stream",
     "text": [
      "I am happy\n",
      "I am confident\n",
      "You are happy\n",
      "You are confident\n"
     ]
    }
   ],
   "source": [
    "who = ['I am ', 'You are ']\n",
    "mood = ['happy', 'confident']\n",
    "for i in who:\n",
    "    for ii in mood:\n",
    "        print(i + ii)"
   ]
  },
  {
   "cell_type": "code",
   "execution_count": 48,
   "id": "be20dcfc-ec7d-4feb-bc57-82b99a4af32c",
   "metadata": {},
   "outputs": [
    {
     "name": "stdout",
     "output_type": "stream",
     "text": [
      "faruk\n",
      "kose\n",
      "faruk\n",
      "kose\n"
     ]
    }
   ],
   "source": [
    "people = [\"faruk\", \"kose\"]\n",
    "for indexx in people :\n",
    "    print(indexx)\n",
    "\n",
    "index = 0\n",
    "while index < len(people) :\n",
    "    print(people[index])\n",
    "    index = index + 1"
   ]
  },
  {
   "cell_type": "code",
   "execution_count": 1,
   "id": "b49655ea-9b28-4f0a-958b-d2691939a23b",
   "metadata": {},
   "outputs": [
    {
     "name": "stdout",
     "output_type": "stream",
     "text": [
      "I will stop smoking\n",
      "I will stop smoking\n",
      "I will stop smoking\n",
      "I will stop smoking\n",
      "I will stop smoking\n"
     ]
    }
   ],
   "source": [
    "a = 3\n",
    "while a**2 < 299:\n",
    "    print('I will stop smoking')\n",
    "    a += 3"
   ]
  },
  {
   "cell_type": "code",
   "execution_count": 2,
   "id": "eab5cb7e-1f32-4820-968b-70399254d1ad",
   "metadata": {},
   "outputs": [
    {
     "name": "stdout",
     "output_type": "stream",
     "text": [
      "Shipping Costs €10\n"
     ]
    }
   ],
   "source": [
    "total = 149\n",
    "country = \"FR\"\n",
    "\n",
    "if country == \"FR\":\n",
    "    if total <= 50:\n",
    "        print(\"Shipping Cost is  €30\")\n",
    "    elif total <= 100:\n",
    "        print(\"Shipping Cost is €15\")\n",
    "    elif total <= 150:\n",
    "        print(\"Shipping Costs €10\")\n",
    "    else:\n",
    "        print(\"Free Shipping\")\n",
    "if country == \"DE\": \n",
    "    if total <= 50:\n",
    "        print(\"Shipping Cost is  €25\")\n",
    "    else:\n",
    "        print(\"Free Shipping\")"
   ]
  },
  {
   "cell_type": "code",
   "execution_count": 13,
   "id": "98c04f0e-d0da-44f9-8ad3-eba77cbcb357",
   "metadata": {},
   "outputs": [
    {
     "name": "stdin",
     "output_type": "stream",
     "text": [
      "Please enter your saved amount:  99\n"
     ]
    },
    {
     "name": "stdout",
     "output_type": "stream",
     "text": [
      "You must save more, keep saving!\n"
     ]
    }
   ],
   "source": [
    "saved_amount = int(input('Please enter your saved amount: '))\n",
    "if 150 >= saved_amount :\n",
    "    print(\"You must save more, keep saving!\")\n",
    "elif 150 < saved_amount :\n",
    "    print(\"ou saved more than half, keep saving!\")\n",
    "else :\n",
    "    print(\"Yippee! You can buy your PS4\")"
   ]
  },
  {
   "cell_type": "code",
   "execution_count": 1,
   "id": "f687ab56-43da-4eea-bf32-ed09d6f79ae5",
   "metadata": {},
   "outputs": [
    {
     "name": "stdin",
     "output_type": "stream",
     "text": [
      "Please enter the mark:  44\n"
     ]
    },
    {
     "name": "stdout",
     "output_type": "stream",
     "text": [
      "F (Failed)\n"
     ]
    }
   ],
   "source": [
    "math_mark = int(input('Please enter the mark: '))\n",
    "if 85 <= math_mark:\n",
    "    print(\"A (Excellent)\")\n",
    "if 74 <= math_mark :\n",
    "    print(\" B (Good)\")\n",
    "if 60 <= math_mark :\n",
    "    print(\"C (Medium)\")\n",
    "elif 45 <= math_mark :\n",
    "    print(\"D (Not Bad)\")\n",
    "else :\n",
    "    44 <= math_mark\n",
    "    print(\"F (Failed)\")"
   ]
  },
  {
   "cell_type": "code",
   "execution_count": null,
   "id": "4827a5d7-4a8a-4729-8c6b-a53438d5f0ff",
   "metadata": {},
   "outputs": [],
   "source": []
  }
 ],
 "metadata": {
  "kernelspec": {
   "display_name": "Python 3 (ipykernel)",
   "language": "python",
   "name": "python3"
  },
  "language_info": {
   "codemirror_mode": {
    "name": "ipython",
    "version": 3
   },
   "file_extension": ".py",
   "mimetype": "text/x-python",
   "name": "python",
   "nbconvert_exporter": "python",
   "pygments_lexer": "ipython3",
   "version": "3.9.7"
  }
 },
 "nbformat": 4,
 "nbformat_minor": 5
}
